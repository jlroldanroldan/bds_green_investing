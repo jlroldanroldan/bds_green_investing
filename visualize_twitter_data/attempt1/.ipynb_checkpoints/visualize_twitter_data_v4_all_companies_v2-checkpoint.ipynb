{
 "cells": [
  {
   "cell_type": "code",
   "execution_count": 1,
   "metadata": {},
   "outputs": [],
   "source": [
    "# Import libraries\n",
    "import pandas as pd\n",
    "import numpy as np\n",
    "import seaborn as sns\n",
    "import matplotlib.pyplot as plt\n",
    "from sklearn.feature_extraction.text import CountVectorizer\n",
    "import nltk \n",
    "import string\n",
    "import re\n",
    "import dateutil.parser\n",
    "%matplotlib inline\n",
    "pd.set_option('display.max_colwidth', 100)"
   ]
  },
  {
   "cell_type": "markdown",
   "metadata": {},
   "source": [
    "## Load data"
   ]
  },
  {
   "cell_type": "code",
   "execution_count": 2,
   "metadata": {},
   "outputs": [],
   "source": [
    "# Load dataset\n",
    "twitter_data_all = pd.read_csv('../../data/data_collected_ref_cleaned/2_first_solar_tweets_cleaned_v2.csv')"
   ]
  },
  {
   "cell_type": "code",
   "execution_count": 3,
   "metadata": {},
   "outputs": [],
   "source": [
    "# twitter_data_all.head()"
   ]
  },
  {
   "cell_type": "code",
   "execution_count": 4,
   "metadata": {},
   "outputs": [],
   "source": [
    "# twitter_data_all.info()"
   ]
  },
  {
   "cell_type": "code",
   "execution_count": 5,
   "metadata": {},
   "outputs": [],
   "source": [
    "# datetime = pd.to_datetime(twitter_data['CreatedAt'])"
   ]
  },
  {
   "cell_type": "markdown",
   "metadata": {},
   "source": [
    "## Delete header rows"
   ]
  },
  {
   "cell_type": "code",
   "execution_count": 6,
   "metadata": {},
   "outputs": [
    {
     "data": {
      "text/plain": [
       "Int64Index([   492,    989,   1208,   1704,   2196,   2665,   3163,   3664,\n",
       "              4163,   4540,\n",
       "            ...\n",
       "            152624, 153118, 153617, 154117, 154615, 155113, 155609, 156105,\n",
       "            156600, 157096],\n",
       "           dtype='int64', length=352)"
      ]
     },
     "execution_count": 6,
     "metadata": {},
     "output_type": "execute_result"
    }
   ],
   "source": [
    "index_names = twitter_data_all[ twitter_data_all['CreatedAt'] == 'CreatedAt' ].index\n",
    "index_names"
   ]
  },
  {
   "cell_type": "code",
   "execution_count": 7,
   "metadata": {},
   "outputs": [],
   "source": [
    "twitter_data_all.drop(index_names, inplace = True)"
   ]
  },
  {
   "cell_type": "code",
   "execution_count": 8,
   "metadata": {},
   "outputs": [
    {
     "name": "stdout",
     "output_type": "stream",
     "text": [
      "<class 'pandas.core.frame.DataFrame'>\n",
      "Int64Index: 156812 entries, 0 to 157163\n",
      "Data columns (total 9 columns):\n",
      " #   Column            Non-Null Count   Dtype \n",
      "---  ------            --------------   ----- \n",
      " 0   CreatedAt         156812 non-null  object\n",
      " 1   TweetId           156812 non-null  object\n",
      " 2   AuthorId          156812 non-null  object\n",
      " 3   TweetText         156812 non-null  object\n",
      " 4   Tweet_punct       156812 non-null  object\n",
      " 5   Tweet_tokenized   156812 non-null  object\n",
      " 6   Tweet_nonstop     156812 non-null  object\n",
      " 7   Tweet_stemmed     156812 non-null  object\n",
      " 8   Tweet_lemmatized  156812 non-null  object\n",
      "dtypes: object(9)\n",
      "memory usage: 12.0+ MB\n"
     ]
    }
   ],
   "source": [
    "twitter_data_all.info()"
   ]
  },
  {
   "cell_type": "markdown",
   "metadata": {},
   "source": [
    "## Select Columns "
   ]
  },
  {
   "cell_type": "code",
   "execution_count": 9,
   "metadata": {},
   "outputs": [
    {
     "data": {
      "text/html": [
       "<div>\n",
       "<style scoped>\n",
       "    .dataframe tbody tr th:only-of-type {\n",
       "        vertical-align: middle;\n",
       "    }\n",
       "\n",
       "    .dataframe tbody tr th {\n",
       "        vertical-align: top;\n",
       "    }\n",
       "\n",
       "    .dataframe thead th {\n",
       "        text-align: right;\n",
       "    }\n",
       "</style>\n",
       "<table border=\"1\" class=\"dataframe\">\n",
       "  <thead>\n",
       "    <tr style=\"text-align: right;\">\n",
       "      <th></th>\n",
       "      <th>CreatedAt</th>\n",
       "      <th>TweetId</th>\n",
       "      <th>AuthorId</th>\n",
       "      <th>TweetText</th>\n",
       "      <th>Tweet_stemmed</th>\n",
       "    </tr>\n",
       "  </thead>\n",
       "  <tbody>\n",
       "    <tr>\n",
       "      <th>0</th>\n",
       "      <td>2021-04-01T00:50:05.000Z</td>\n",
       "      <td>1377422984751775755</td>\n",
       "      <td>1134049078424162304</td>\n",
       "      <td>First Solar Completes Sale of North American O&amp;amp;M Business to NovaSource $FSLR https://t.co/j...</td>\n",
       "      <td>['first', 'solar', 'complet', 'sale', 'north', 'american', 'oampm', 'busi', 'novasourc', 'fslr',...</td>\n",
       "    </tr>\n",
       "    <tr>\n",
       "      <th>1</th>\n",
       "      <td>2021-03-31T23:54:00.000Z</td>\n",
       "      <td>1377408871212351489</td>\n",
       "      <td>586116334</td>\n",
       "      <td>$ALYI To Reveal New Significant Investment In Company From Leading Texas Based Private Equity Fu...</td>\n",
       "      <td>['alyi', 'reveal', 'new', 'signific', 'invest', 'compani', 'lead', 'texa', 'base', 'privat', 'eq...</td>\n",
       "    </tr>\n",
       "    <tr>\n",
       "      <th>2</th>\n",
       "      <td>2021-03-31T23:47:40.000Z</td>\n",
       "      <td>1377407278056230912</td>\n",
       "      <td>1313171678625701889</td>\n",
       "      <td>@SolarPowerEU @renewableH2EU @EU_Commission @Akuo_Energy @enelgreenpower @EdpRenewables @Enapter...</td>\n",
       "      <td>['solarpowereu', 'renewableheu', 'eucommiss', 'akuoenergi', 'enelgreenpow', 'edprenew', 'enapt',...</td>\n",
       "    </tr>\n",
       "    <tr>\n",
       "      <th>3</th>\n",
       "      <td>2021-03-31T23:31:00.000Z</td>\n",
       "      <td>1377403081005150211</td>\n",
       "      <td>831801503694336000</td>\n",
       "      <td>$FSLR sector move confirmed https://t.co/h08Dwn5CIF</td>\n",
       "      <td>['fslr', 'sector', 'move', 'confirm', 'httpstcohdwncif']</td>\n",
       "    </tr>\n",
       "    <tr>\n",
       "      <th>4</th>\n",
       "      <td>2021-03-31T23:29:07.000Z</td>\n",
       "      <td>1377402607010902019</td>\n",
       "      <td>1355194932445786112</td>\n",
       "      <td>$FSLR NovaSource Power Services is World's Largest Solar O&amp;amp;M Provider with Acquisition of Fi...</td>\n",
       "      <td>['fslr', 'novasourc', 'power', 'servic', 'world', 'largest', 'solar', 'oampm', 'provid', 'acquis...</td>\n",
       "    </tr>\n",
       "  </tbody>\n",
       "</table>\n",
       "</div>"
      ],
      "text/plain": [
       "                  CreatedAt              TweetId             AuthorId  \\\n",
       "0  2021-04-01T00:50:05.000Z  1377422984751775755  1134049078424162304   \n",
       "1  2021-03-31T23:54:00.000Z  1377408871212351489            586116334   \n",
       "2  2021-03-31T23:47:40.000Z  1377407278056230912  1313171678625701889   \n",
       "3  2021-03-31T23:31:00.000Z  1377403081005150211   831801503694336000   \n",
       "4  2021-03-31T23:29:07.000Z  1377402607010902019  1355194932445786112   \n",
       "\n",
       "                                                                                             TweetText  \\\n",
       "0  First Solar Completes Sale of North American O&amp;M Business to NovaSource $FSLR https://t.co/j...   \n",
       "1  $ALYI To Reveal New Significant Investment In Company From Leading Texas Based Private Equity Fu...   \n",
       "2  @SolarPowerEU @renewableH2EU @EU_Commission @Akuo_Energy @enelgreenpower @EdpRenewables @Enapter...   \n",
       "3                                                  $FSLR sector move confirmed https://t.co/h08Dwn5CIF   \n",
       "4  $FSLR NovaSource Power Services is World's Largest Solar O&amp;M Provider with Acquisition of Fi...   \n",
       "\n",
       "                                                                                         Tweet_stemmed  \n",
       "0  ['first', 'solar', 'complet', 'sale', 'north', 'american', 'oampm', 'busi', 'novasourc', 'fslr',...  \n",
       "1  ['alyi', 'reveal', 'new', 'signific', 'invest', 'compani', 'lead', 'texa', 'base', 'privat', 'eq...  \n",
       "2  ['solarpowereu', 'renewableheu', 'eucommiss', 'akuoenergi', 'enelgreenpow', 'edprenew', 'enapt',...  \n",
       "3                                             ['fslr', 'sector', 'move', 'confirm', 'httpstcohdwncif']  \n",
       "4  ['fslr', 'novasourc', 'power', 'servic', 'world', 'largest', 'solar', 'oampm', 'provid', 'acquis...  "
      ]
     },
     "execution_count": 9,
     "metadata": {},
     "output_type": "execute_result"
    }
   ],
   "source": [
    "columns = ['CreatedAt',  'TweetId', 'AuthorId', 'TweetText', 'Tweet_stemmed']\n",
    "twitter_data = twitter_data_all[columns]\n",
    "twitter_data.head()"
   ]
  },
  {
   "cell_type": "code",
   "execution_count": 10,
   "metadata": {},
   "outputs": [
    {
     "name": "stdout",
     "output_type": "stream",
     "text": [
      "2008-09-03 20:56:35.450686+00:00\n"
     ]
    }
   ],
   "source": [
    "print(dateutil.parser.isoparse('2008-09-03T20:56:35.450686Z'))"
   ]
  },
  {
   "cell_type": "code",
   "execution_count": 11,
   "metadata": {},
   "outputs": [],
   "source": [
    "# twitter_data.head()\n",
    "def change_time_type(createdAtAtribute):\n",
    "    changed_time = dateutil.parser.isoparse(createdAtAtribute)\n",
    "    return changed_time"
   ]
  },
  {
   "cell_type": "code",
   "execution_count": 12,
   "metadata": {},
   "outputs": [],
   "source": [
    "# twitter_data['datetest'] = dateutil.parser.isoparse((twitter_data['CreatedAt']))\n",
    "# twitter_data_date_test = twitter_data['CreatedAt'][0]\n",
    "# twitter_data_date_test\n",
    "# print(dateutil.parser.isoparse(twitter_data_date_test))\n",
    "# # testing = change_time_type(twitter_data['CreatedAt'][0])\n",
    "# print(twitter_data['CreatedAt'])\n",
    "# print(change_time_type(twitter_data['CreatedAt'][0]))"
   ]
  },
  {
   "cell_type": "code",
   "execution_count": 13,
   "metadata": {},
   "outputs": [
    {
     "name": "stdout",
     "output_type": "stream",
     "text": [
      "<class 'str'>\n"
     ]
    },
    {
     "name": "stderr",
     "output_type": "stream",
     "text": [
      "<ipython-input-13-7a8640f1f01b>:1: SettingWithCopyWarning: \n",
      "A value is trying to be set on a copy of a slice from a DataFrame.\n",
      "Try using .loc[row_indexer,col_indexer] = value instead\n",
      "\n",
      "See the caveats in the documentation: https://pandas.pydata.org/pandas-docs/stable/user_guide/indexing.html#returning-a-view-versus-a-copy\n",
      "  twitter_data['created_datetime'] = twitter_data['CreatedAt'].apply(lambda x: change_time_type(x))\n"
     ]
    }
   ],
   "source": [
    "twitter_data['created_datetime'] = twitter_data['CreatedAt'].apply(lambda x: change_time_type(x))\n",
    "print(type(twitter_data['CreatedAt'][0]))"
   ]
  },
  {
   "cell_type": "code",
   "execution_count": 14,
   "metadata": {},
   "outputs": [
    {
     "data": {
      "text/html": [
       "<div>\n",
       "<style scoped>\n",
       "    .dataframe tbody tr th:only-of-type {\n",
       "        vertical-align: middle;\n",
       "    }\n",
       "\n",
       "    .dataframe tbody tr th {\n",
       "        vertical-align: top;\n",
       "    }\n",
       "\n",
       "    .dataframe thead th {\n",
       "        text-align: right;\n",
       "    }\n",
       "</style>\n",
       "<table border=\"1\" class=\"dataframe\">\n",
       "  <thead>\n",
       "    <tr style=\"text-align: right;\">\n",
       "      <th></th>\n",
       "      <th>CreatedAt</th>\n",
       "      <th>TweetId</th>\n",
       "      <th>AuthorId</th>\n",
       "      <th>TweetText</th>\n",
       "      <th>Tweet_stemmed</th>\n",
       "      <th>created_datetime</th>\n",
       "    </tr>\n",
       "  </thead>\n",
       "  <tbody>\n",
       "    <tr>\n",
       "      <th>0</th>\n",
       "      <td>2021-04-01T00:50:05.000Z</td>\n",
       "      <td>1377422984751775755</td>\n",
       "      <td>1134049078424162304</td>\n",
       "      <td>First Solar Completes Sale of North American O&amp;amp;M Business to NovaSource $FSLR https://t.co/j...</td>\n",
       "      <td>['first', 'solar', 'complet', 'sale', 'north', 'american', 'oampm', 'busi', 'novasourc', 'fslr',...</td>\n",
       "      <td>2021-04-01 00:50:05+00:00</td>\n",
       "    </tr>\n",
       "    <tr>\n",
       "      <th>1</th>\n",
       "      <td>2021-03-31T23:54:00.000Z</td>\n",
       "      <td>1377408871212351489</td>\n",
       "      <td>586116334</td>\n",
       "      <td>$ALYI To Reveal New Significant Investment In Company From Leading Texas Based Private Equity Fu...</td>\n",
       "      <td>['alyi', 'reveal', 'new', 'signific', 'invest', 'compani', 'lead', 'texa', 'base', 'privat', 'eq...</td>\n",
       "      <td>2021-03-31 23:54:00+00:00</td>\n",
       "    </tr>\n",
       "    <tr>\n",
       "      <th>2</th>\n",
       "      <td>2021-03-31T23:47:40.000Z</td>\n",
       "      <td>1377407278056230912</td>\n",
       "      <td>1313171678625701889</td>\n",
       "      <td>@SolarPowerEU @renewableH2EU @EU_Commission @Akuo_Energy @enelgreenpower @EdpRenewables @Enapter...</td>\n",
       "      <td>['solarpowereu', 'renewableheu', 'eucommiss', 'akuoenergi', 'enelgreenpow', 'edprenew', 'enapt',...</td>\n",
       "      <td>2021-03-31 23:47:40+00:00</td>\n",
       "    </tr>\n",
       "    <tr>\n",
       "      <th>3</th>\n",
       "      <td>2021-03-31T23:31:00.000Z</td>\n",
       "      <td>1377403081005150211</td>\n",
       "      <td>831801503694336000</td>\n",
       "      <td>$FSLR sector move confirmed https://t.co/h08Dwn5CIF</td>\n",
       "      <td>['fslr', 'sector', 'move', 'confirm', 'httpstcohdwncif']</td>\n",
       "      <td>2021-03-31 23:31:00+00:00</td>\n",
       "    </tr>\n",
       "    <tr>\n",
       "      <th>4</th>\n",
       "      <td>2021-03-31T23:29:07.000Z</td>\n",
       "      <td>1377402607010902019</td>\n",
       "      <td>1355194932445786112</td>\n",
       "      <td>$FSLR NovaSource Power Services is World's Largest Solar O&amp;amp;M Provider with Acquisition of Fi...</td>\n",
       "      <td>['fslr', 'novasourc', 'power', 'servic', 'world', 'largest', 'solar', 'oampm', 'provid', 'acquis...</td>\n",
       "      <td>2021-03-31 23:29:07+00:00</td>\n",
       "    </tr>\n",
       "  </tbody>\n",
       "</table>\n",
       "</div>"
      ],
      "text/plain": [
       "                  CreatedAt              TweetId             AuthorId  \\\n",
       "0  2021-04-01T00:50:05.000Z  1377422984751775755  1134049078424162304   \n",
       "1  2021-03-31T23:54:00.000Z  1377408871212351489            586116334   \n",
       "2  2021-03-31T23:47:40.000Z  1377407278056230912  1313171678625701889   \n",
       "3  2021-03-31T23:31:00.000Z  1377403081005150211   831801503694336000   \n",
       "4  2021-03-31T23:29:07.000Z  1377402607010902019  1355194932445786112   \n",
       "\n",
       "                                                                                             TweetText  \\\n",
       "0  First Solar Completes Sale of North American O&amp;M Business to NovaSource $FSLR https://t.co/j...   \n",
       "1  $ALYI To Reveal New Significant Investment In Company From Leading Texas Based Private Equity Fu...   \n",
       "2  @SolarPowerEU @renewableH2EU @EU_Commission @Akuo_Energy @enelgreenpower @EdpRenewables @Enapter...   \n",
       "3                                                  $FSLR sector move confirmed https://t.co/h08Dwn5CIF   \n",
       "4  $FSLR NovaSource Power Services is World's Largest Solar O&amp;M Provider with Acquisition of Fi...   \n",
       "\n",
       "                                                                                         Tweet_stemmed  \\\n",
       "0  ['first', 'solar', 'complet', 'sale', 'north', 'american', 'oampm', 'busi', 'novasourc', 'fslr',...   \n",
       "1  ['alyi', 'reveal', 'new', 'signific', 'invest', 'compani', 'lead', 'texa', 'base', 'privat', 'eq...   \n",
       "2  ['solarpowereu', 'renewableheu', 'eucommiss', 'akuoenergi', 'enelgreenpow', 'edprenew', 'enapt',...   \n",
       "3                                             ['fslr', 'sector', 'move', 'confirm', 'httpstcohdwncif']   \n",
       "4  ['fslr', 'novasourc', 'power', 'servic', 'world', 'largest', 'solar', 'oampm', 'provid', 'acquis...   \n",
       "\n",
       "           created_datetime  \n",
       "0 2021-04-01 00:50:05+00:00  \n",
       "1 2021-03-31 23:54:00+00:00  \n",
       "2 2021-03-31 23:47:40+00:00  \n",
       "3 2021-03-31 23:31:00+00:00  \n",
       "4 2021-03-31 23:29:07+00:00  "
      ]
     },
     "execution_count": 14,
     "metadata": {},
     "output_type": "execute_result"
    }
   ],
   "source": [
    "twitter_data.head()"
   ]
  },
  {
   "cell_type": "code",
   "execution_count": 15,
   "metadata": {},
   "outputs": [
    {
     "name": "stderr",
     "output_type": "stream",
     "text": [
      "<ipython-input-15-cac6ce402a0b>:1: SettingWithCopyWarning: \n",
      "A value is trying to be set on a copy of a slice from a DataFrame.\n",
      "Try using .loc[row_indexer,col_indexer] = value instead\n",
      "\n",
      "See the caveats in the documentation: https://pandas.pydata.org/pandas-docs/stable/user_guide/indexing.html#returning-a-view-versus-a-copy\n",
      "  twitter_data['day'] = twitter_data['created_datetime'].apply(lambda x: \"%d/%d/%d\" % (x.month, x.day , x.year))\n"
     ]
    }
   ],
   "source": [
    "twitter_data['day'] = twitter_data['created_datetime'].apply(lambda x: \"%d/%d/%d\" % (x.month, x.day , x.year))"
   ]
  },
  {
   "cell_type": "code",
   "execution_count": 16,
   "metadata": {},
   "outputs": [
    {
     "data": {
      "text/html": [
       "<div>\n",
       "<style scoped>\n",
       "    .dataframe tbody tr th:only-of-type {\n",
       "        vertical-align: middle;\n",
       "    }\n",
       "\n",
       "    .dataframe tbody tr th {\n",
       "        vertical-align: top;\n",
       "    }\n",
       "\n",
       "    .dataframe thead th {\n",
       "        text-align: right;\n",
       "    }\n",
       "</style>\n",
       "<table border=\"1\" class=\"dataframe\">\n",
       "  <thead>\n",
       "    <tr style=\"text-align: right;\">\n",
       "      <th></th>\n",
       "      <th>CreatedAt</th>\n",
       "      <th>TweetId</th>\n",
       "      <th>AuthorId</th>\n",
       "      <th>TweetText</th>\n",
       "      <th>Tweet_stemmed</th>\n",
       "      <th>created_datetime</th>\n",
       "      <th>day</th>\n",
       "    </tr>\n",
       "  </thead>\n",
       "  <tbody>\n",
       "    <tr>\n",
       "      <th>0</th>\n",
       "      <td>2021-04-01T00:50:05.000Z</td>\n",
       "      <td>1377422984751775755</td>\n",
       "      <td>1134049078424162304</td>\n",
       "      <td>First Solar Completes Sale of North American O&amp;amp;M Business to NovaSource $FSLR https://t.co/j...</td>\n",
       "      <td>['first', 'solar', 'complet', 'sale', 'north', 'american', 'oampm', 'busi', 'novasourc', 'fslr',...</td>\n",
       "      <td>2021-04-01 00:50:05+00:00</td>\n",
       "      <td>4/1/2021</td>\n",
       "    </tr>\n",
       "    <tr>\n",
       "      <th>1</th>\n",
       "      <td>2021-03-31T23:54:00.000Z</td>\n",
       "      <td>1377408871212351489</td>\n",
       "      <td>586116334</td>\n",
       "      <td>$ALYI To Reveal New Significant Investment In Company From Leading Texas Based Private Equity Fu...</td>\n",
       "      <td>['alyi', 'reveal', 'new', 'signific', 'invest', 'compani', 'lead', 'texa', 'base', 'privat', 'eq...</td>\n",
       "      <td>2021-03-31 23:54:00+00:00</td>\n",
       "      <td>3/31/2021</td>\n",
       "    </tr>\n",
       "    <tr>\n",
       "      <th>2</th>\n",
       "      <td>2021-03-31T23:47:40.000Z</td>\n",
       "      <td>1377407278056230912</td>\n",
       "      <td>1313171678625701889</td>\n",
       "      <td>@SolarPowerEU @renewableH2EU @EU_Commission @Akuo_Energy @enelgreenpower @EdpRenewables @Enapter...</td>\n",
       "      <td>['solarpowereu', 'renewableheu', 'eucommiss', 'akuoenergi', 'enelgreenpow', 'edprenew', 'enapt',...</td>\n",
       "      <td>2021-03-31 23:47:40+00:00</td>\n",
       "      <td>3/31/2021</td>\n",
       "    </tr>\n",
       "    <tr>\n",
       "      <th>3</th>\n",
       "      <td>2021-03-31T23:31:00.000Z</td>\n",
       "      <td>1377403081005150211</td>\n",
       "      <td>831801503694336000</td>\n",
       "      <td>$FSLR sector move confirmed https://t.co/h08Dwn5CIF</td>\n",
       "      <td>['fslr', 'sector', 'move', 'confirm', 'httpstcohdwncif']</td>\n",
       "      <td>2021-03-31 23:31:00+00:00</td>\n",
       "      <td>3/31/2021</td>\n",
       "    </tr>\n",
       "    <tr>\n",
       "      <th>4</th>\n",
       "      <td>2021-03-31T23:29:07.000Z</td>\n",
       "      <td>1377402607010902019</td>\n",
       "      <td>1355194932445786112</td>\n",
       "      <td>$FSLR NovaSource Power Services is World's Largest Solar O&amp;amp;M Provider with Acquisition of Fi...</td>\n",
       "      <td>['fslr', 'novasourc', 'power', 'servic', 'world', 'largest', 'solar', 'oampm', 'provid', 'acquis...</td>\n",
       "      <td>2021-03-31 23:29:07+00:00</td>\n",
       "      <td>3/31/2021</td>\n",
       "    </tr>\n",
       "  </tbody>\n",
       "</table>\n",
       "</div>"
      ],
      "text/plain": [
       "                  CreatedAt              TweetId             AuthorId  \\\n",
       "0  2021-04-01T00:50:05.000Z  1377422984751775755  1134049078424162304   \n",
       "1  2021-03-31T23:54:00.000Z  1377408871212351489            586116334   \n",
       "2  2021-03-31T23:47:40.000Z  1377407278056230912  1313171678625701889   \n",
       "3  2021-03-31T23:31:00.000Z  1377403081005150211   831801503694336000   \n",
       "4  2021-03-31T23:29:07.000Z  1377402607010902019  1355194932445786112   \n",
       "\n",
       "                                                                                             TweetText  \\\n",
       "0  First Solar Completes Sale of North American O&amp;M Business to NovaSource $FSLR https://t.co/j...   \n",
       "1  $ALYI To Reveal New Significant Investment In Company From Leading Texas Based Private Equity Fu...   \n",
       "2  @SolarPowerEU @renewableH2EU @EU_Commission @Akuo_Energy @enelgreenpower @EdpRenewables @Enapter...   \n",
       "3                                                  $FSLR sector move confirmed https://t.co/h08Dwn5CIF   \n",
       "4  $FSLR NovaSource Power Services is World's Largest Solar O&amp;M Provider with Acquisition of Fi...   \n",
       "\n",
       "                                                                                         Tweet_stemmed  \\\n",
       "0  ['first', 'solar', 'complet', 'sale', 'north', 'american', 'oampm', 'busi', 'novasourc', 'fslr',...   \n",
       "1  ['alyi', 'reveal', 'new', 'signific', 'invest', 'compani', 'lead', 'texa', 'base', 'privat', 'eq...   \n",
       "2  ['solarpowereu', 'renewableheu', 'eucommiss', 'akuoenergi', 'enelgreenpow', 'edprenew', 'enapt',...   \n",
       "3                                             ['fslr', 'sector', 'move', 'confirm', 'httpstcohdwncif']   \n",
       "4  ['fslr', 'novasourc', 'power', 'servic', 'world', 'largest', 'solar', 'oampm', 'provid', 'acquis...   \n",
       "\n",
       "           created_datetime        day  \n",
       "0 2021-04-01 00:50:05+00:00   4/1/2021  \n",
       "1 2021-03-31 23:54:00+00:00  3/31/2021  \n",
       "2 2021-03-31 23:47:40+00:00  3/31/2021  \n",
       "3 2021-03-31 23:31:00+00:00  3/31/2021  \n",
       "4 2021-03-31 23:29:07+00:00  3/31/2021  "
      ]
     },
     "execution_count": 16,
     "metadata": {},
     "output_type": "execute_result"
    }
   ],
   "source": [
    "twitter_data.head()"
   ]
  },
  {
   "cell_type": "markdown",
   "metadata": {},
   "source": [
    "# Group By Date"
   ]
  },
  {
   "cell_type": "markdown",
   "metadata": {},
   "source": [
    "https://stackoverflow.com/questions/45281297/group-by-week-in-pandas/45281418"
   ]
  },
  {
   "cell_type": "code",
   "execution_count": 34,
   "metadata": {},
   "outputs": [],
   "source": [
    "# df.groupby('Name').resample('W-Mon', on='Date').sum().reset_index().sort_values(by='Date')"
   ]
  },
  {
   "cell_type": "code",
   "execution_count": 35,
   "metadata": {},
   "outputs": [],
   "source": [
    "# twitter_data_grouped = twitter_data.resample('W-Mon', on='created_datetime').sum().reset_index().sort_values(by='created_datetime')"
   ]
  },
  {
   "cell_type": "code",
   "execution_count": 57,
   "metadata": {},
   "outputs": [],
   "source": [
    "twitter_data_grouped = twitter_data.resample('W-Mon', on='created_datetime').sum().reset_index()"
   ]
  },
  {
   "cell_type": "code",
   "execution_count": 67,
   "metadata": {},
   "outputs": [
    {
     "data": {
      "text/plain": [
       "'2011-01-01T05:30:11.000Z2011-01-02T00:16:28.000Z2011-01-02T06:33:22.000Z2011-01-02T16:06:34.000Z2011-01-02T23:43:44.000Z2011-01-03T03:18:21.000Z2011-01-03T13:49:27.000Z2011-01-03T18:24:31.000Z2011-01-03T19:01:02.000Z2011-01-03T19:08:52.000Z2011-01-03T20:24:53.000Z2011-01-03T20:26:42.000Z2011-01-03T21:14:20.000Z'"
      ]
     },
     "execution_count": 67,
     "metadata": {},
     "output_type": "execute_result"
    }
   ],
   "source": []
  },
  {
   "cell_type": "code",
   "execution_count": 54,
   "metadata": {},
   "outputs": [
    {
     "name": "stdout",
     "output_type": "stream",
     "text": [
      "<class 'pandas.core.frame.DataFrame'>\n",
      "RangeIndex: 536 entries, 0 to 535\n",
      "Data columns (total 7 columns):\n",
      " #   Column            Non-Null Count  Dtype                  \n",
      "---  ------            --------------  -----                  \n",
      " 0   created_datetime  536 non-null    datetime64[ns, tzutc()]\n",
      " 1   CreatedAt         536 non-null    object                 \n",
      " 2   TweetId           536 non-null    object                 \n",
      " 3   AuthorId          536 non-null    object                 \n",
      " 4   TweetText         536 non-null    object                 \n",
      " 5   Tweet_stemmed     536 non-null    object                 \n",
      " 6   day               536 non-null    object                 \n",
      "dtypes: datetime64[ns, tzutc()](1), object(6)\n",
      "memory usage: 29.4+ KB\n"
     ]
    }
   ],
   "source": [
    "twitter_data_grouped.info()"
   ]
  },
  {
   "cell_type": "code",
   "execution_count": 55,
   "metadata": {},
   "outputs": [
    {
     "name": "stderr",
     "output_type": "stream",
     "text": [
      "<ipython-input-55-4a0d7312b904>:1: FutureWarning: Treating datetime data as categorical rather than numeric in `.describe` is deprecated and will be removed in a future version of pandas. Specify `datetime_is_numeric=True` to silence this warning and adopt the future behavior now.\n",
      "  twitter_data_grouped.describe()\n"
     ]
    },
    {
     "data": {
      "text/html": [
       "<div>\n",
       "<style scoped>\n",
       "    .dataframe tbody tr th:only-of-type {\n",
       "        vertical-align: middle;\n",
       "    }\n",
       "\n",
       "    .dataframe tbody tr th {\n",
       "        vertical-align: top;\n",
       "    }\n",
       "\n",
       "    .dataframe thead th {\n",
       "        text-align: right;\n",
       "    }\n",
       "</style>\n",
       "<table border=\"1\" class=\"dataframe\">\n",
       "  <thead>\n",
       "    <tr style=\"text-align: right;\">\n",
       "      <th></th>\n",
       "      <th>created_datetime</th>\n",
       "      <th>CreatedAt</th>\n",
       "      <th>TweetId</th>\n",
       "      <th>AuthorId</th>\n",
       "      <th>TweetText</th>\n",
       "      <th>Tweet_stemmed</th>\n",
       "      <th>day</th>\n",
       "    </tr>\n",
       "  </thead>\n",
       "  <tbody>\n",
       "    <tr>\n",
       "      <th>count</th>\n",
       "      <td>536</td>\n",
       "      <td>536.0</td>\n",
       "      <td>536.0</td>\n",
       "      <td>536.0</td>\n",
       "      <td>536.0</td>\n",
       "      <td>536.0</td>\n",
       "      <td>536.0</td>\n",
       "    </tr>\n",
       "    <tr>\n",
       "      <th>unique</th>\n",
       "      <td>536</td>\n",
       "      <td>532.0</td>\n",
       "      <td>532.0</td>\n",
       "      <td>532.0</td>\n",
       "      <td>532.0</td>\n",
       "      <td>532.0</td>\n",
       "      <td>532.0</td>\n",
       "    </tr>\n",
       "    <tr>\n",
       "      <th>top</th>\n",
       "      <td>2017-10-30 00:00:00+00:00</td>\n",
       "      <td>0.0</td>\n",
       "      <td>0.0</td>\n",
       "      <td>0.0</td>\n",
       "      <td>0.0</td>\n",
       "      <td>0.0</td>\n",
       "      <td>0.0</td>\n",
       "    </tr>\n",
       "    <tr>\n",
       "      <th>freq</th>\n",
       "      <td>1</td>\n",
       "      <td>5.0</td>\n",
       "      <td>5.0</td>\n",
       "      <td>5.0</td>\n",
       "      <td>5.0</td>\n",
       "      <td>5.0</td>\n",
       "      <td>5.0</td>\n",
       "    </tr>\n",
       "    <tr>\n",
       "      <th>first</th>\n",
       "      <td>2011-01-03 00:00:00+00:00</td>\n",
       "      <td>NaN</td>\n",
       "      <td>NaN</td>\n",
       "      <td>NaN</td>\n",
       "      <td>NaN</td>\n",
       "      <td>NaN</td>\n",
       "      <td>NaN</td>\n",
       "    </tr>\n",
       "    <tr>\n",
       "      <th>last</th>\n",
       "      <td>2021-04-05 00:00:00+00:00</td>\n",
       "      <td>NaN</td>\n",
       "      <td>NaN</td>\n",
       "      <td>NaN</td>\n",
       "      <td>NaN</td>\n",
       "      <td>NaN</td>\n",
       "      <td>NaN</td>\n",
       "    </tr>\n",
       "  </tbody>\n",
       "</table>\n",
       "</div>"
      ],
      "text/plain": [
       "                 created_datetime  CreatedAt  TweetId  AuthorId  TweetText  \\\n",
       "count                         536      536.0    536.0     536.0      536.0   \n",
       "unique                        536      532.0    532.0     532.0      532.0   \n",
       "top     2017-10-30 00:00:00+00:00        0.0      0.0       0.0        0.0   \n",
       "freq                            1        5.0      5.0       5.0        5.0   \n",
       "first   2011-01-03 00:00:00+00:00        NaN      NaN       NaN        NaN   \n",
       "last    2021-04-05 00:00:00+00:00        NaN      NaN       NaN        NaN   \n",
       "\n",
       "        Tweet_stemmed    day  \n",
       "count           536.0  536.0  \n",
       "unique          532.0  532.0  \n",
       "top               0.0    0.0  \n",
       "freq              5.0    5.0  \n",
       "first             NaN    NaN  \n",
       "last              NaN    NaN  "
      ]
     },
     "execution_count": 55,
     "metadata": {},
     "output_type": "execute_result"
    }
   ],
   "source": [
    "twitter_data_grouped.describe()"
   ]
  },
  {
   "cell_type": "code",
   "execution_count": null,
   "metadata": {},
   "outputs": [],
   "source": []
  }
 ],
 "metadata": {
  "kernelspec": {
   "display_name": "Python 3",
   "language": "python",
   "name": "python3"
  },
  "language_info": {
   "codemirror_mode": {
    "name": "ipython",
    "version": 3
   },
   "file_extension": ".py",
   "mimetype": "text/x-python",
   "name": "python",
   "nbconvert_exporter": "python",
   "pygments_lexer": "ipython3",
   "version": "3.8.5"
  }
 },
 "nbformat": 4,
 "nbformat_minor": 4
}

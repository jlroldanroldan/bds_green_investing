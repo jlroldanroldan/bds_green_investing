{
 "cells": [
  {
   "cell_type": "code",
   "execution_count": 1,
   "metadata": {},
   "outputs": [],
   "source": [
    "# Import libraries\n",
    "import pandas as pd\n",
    "import numpy as np\n",
    "import seaborn as sns\n",
    "import matplotlib.pyplot as plt\n",
    "from sklearn.feature_extraction.text import CountVectorizer\n",
    "import nltk \n",
    "import string\n",
    "import re\n",
    "import dateutil.parser\n",
    "%matplotlib inline\n",
    "pd.set_option('display.max_colwidth', 100)"
   ]
  },
  {
   "cell_type": "markdown",
   "metadata": {},
   "source": [
    "# Load data"
   ]
  },
  {
   "cell_type": "code",
   "execution_count": 38,
   "metadata": {},
   "outputs": [],
   "source": [
    "# Load dataset\n",
    "# twitter_data_all = pd.read_csv('../../data/data_collected_ref_cleaned/2_first_solar_tweets_cleaned_v2.csv')\n",
    "\n"
   ]
  },
  {
   "cell_type": "markdown",
   "metadata": {},
   "source": [
    "# Generate weekly popularity time series"
   ]
  },
  {
   "cell_type": "code",
   "execution_count": 39,
   "metadata": {},
   "outputs": [],
   "source": [
    "def delete_header_rows(df):\n",
    "    index_names = df[df['CreatedAt'] == 'CreatedAt' ].index\n",
    "    df.drop(index_names, inplace = True)\n",
    "    df.info()\n",
    "    return df\n",
    "\n",
    "def select_columns(df, columns):\n",
    "    df = df[columns]\n",
    "    return df\n",
    "\n",
    "def create_date_time_index(df):\n",
    "    df.index = pd.to_datetime(df['CreatedAt'])\n",
    "    df.rename(index={'CreatedAt':'CreatedAtDateTime'})\n",
    "    df.drop('CreatedAt', axis=1, inplace=True)\n",
    "    return df\n",
    "\n",
    "def count_weekly_tweets(df):\n",
    "    weekly_tweets = pd.DataFrame(df.resample('W')['TweetText'].count())\n",
    "    weekly_tweets.rename(columns = {\"TweetText\":\"Count\"}, inplace=True)\n",
    "    weekly_tweets.reset_index(inplace=True)\n",
    "    return weekly_tweets\n",
    "\n",
    "def plot_time_series(df):\n",
    "    plt.figure(figsize=(15,6))\n",
    "    df1 = df.set_index('CreatedAt')\n",
    "    fig,ax = plt.subplots(figsize=(15,6))\n",
    "    df1.plot(kind='line',ax=ax)\n",
    "    plt.title(\"First Solar Tweet Time Series\")\n",
    "    plt.show()\n",
    "\n",
    "def add_company_name(df, company):\n",
    "    df['Company'] = company\n",
    "    return df\n",
    "\n",
    "def generate_weekly_counts(tweets_all, company):\n",
    "    # delete headers on csv\n",
    "    tweets_all = delete_header_rows(tweets_all)\n",
    "        \n",
    "    # drop unwanted columns    \n",
    "    columns_to_keep = ['CreatedAt','TweetText', 'Tweet_stemmed']\n",
    "    tweets = select_columns(tweets_all, columns_to_keep)\n",
    "    \n",
    "    # created datetime as index\n",
    "    tweets = create_date_time_index(tweets)\n",
    "    \n",
    "    # counts tweets by week and create new dataframe\n",
    "    weekly_tweets = count_weekly_tweets(tweets)\n",
    "    \n",
    "    weekly_tweets = add_company_name(weekly_tweets, company)\n",
    "    \n",
    "    \n",
    "    return weekly_tweets"
   ]
  },
  {
   "cell_type": "code",
   "execution_count": null,
   "metadata": {},
   "outputs": [],
   "source": []
  }
 ],
 "metadata": {
  "kernelspec": {
   "display_name": "Python 3",
   "language": "python",
   "name": "python3"
  },
  "language_info": {
   "codemirror_mode": {
    "name": "ipython",
    "version": 3
   },
   "file_extension": ".py",
   "mimetype": "text/x-python",
   "name": "python",
   "nbconvert_exporter": "python",
   "pygments_lexer": "ipython3",
   "version": "3.8.5"
  }
 },
 "nbformat": 4,
 "nbformat_minor": 4
}

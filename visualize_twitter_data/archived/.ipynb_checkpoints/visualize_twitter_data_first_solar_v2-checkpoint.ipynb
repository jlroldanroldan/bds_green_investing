{
 "cells": [
  {
   "cell_type": "code",
   "execution_count": 37,
   "metadata": {},
   "outputs": [],
   "source": [
    "# Import libraries\n",
    "import pandas as pd\n",
    "import numpy as np\n",
    "import seaborn as sns\n",
    "import matplotlib.pyplot as plt\n",
    "from sklearn.feature_extraction.text import CountVectorizer\n",
    "import nltk \n",
    "import string\n",
    "import re\n",
    "import dateutil.parser\n",
    "%matplotlib inline\n",
    "pd.set_option('display.max_colwidth', 100)"
   ]
  },
  {
   "cell_type": "markdown",
   "metadata": {},
   "source": [
    "## Load data"
   ]
  },
  {
   "cell_type": "code",
   "execution_count": 38,
   "metadata": {},
   "outputs": [],
   "source": [
    "# Load dataset\n",
    "twitter_data_all = pd.read_csv('../../data/data_collected_ref_cleaned/2_first_solar_tweets_cleaned_v2.csv')"
   ]
  },
  {
   "cell_type": "markdown",
   "metadata": {},
   "source": [
    "# Clean Twitter data"
   ]
  },
  {
   "cell_type": "code",
   "execution_count": 39,
   "metadata": {},
   "outputs": [],
   "source": [
    "def delete_header_rows(df):\n",
    "    index_names = df[df['CreatedAt'] == 'CreatedAt' ].index\n",
    "    df.drop(index_names, inplace = True)\n",
    "    df.info()\n",
    "    return df"
   ]
  },
  {
   "cell_type": "markdown",
   "metadata": {},
   "source": [
    "## Delete header rows"
   ]
  },
  {
   "cell_type": "code",
   "execution_count": 7,
   "metadata": {
    "scrolled": true
   },
   "outputs": [
    {
     "name": "stdout",
     "output_type": "stream",
     "text": [
      "<class 'pandas.core.frame.DataFrame'>\n",
      "Int64Index: 156812 entries, 0 to 157163\n",
      "Data columns (total 9 columns):\n",
      " #   Column            Non-Null Count   Dtype \n",
      "---  ------            --------------   ----- \n",
      " 0   CreatedAt         156812 non-null  object\n",
      " 1   TweetId           156812 non-null  object\n",
      " 2   AuthorId          156812 non-null  object\n",
      " 3   TweetText         156812 non-null  object\n",
      " 4   Tweet_punct       156812 non-null  object\n",
      " 5   Tweet_tokenized   156812 non-null  object\n",
      " 6   Tweet_nonstop     156812 non-null  object\n",
      " 7   Tweet_stemmed     156812 non-null  object\n",
      " 8   Tweet_lemmatized  156812 non-null  object\n",
      "dtypes: object(9)\n",
      "memory usage: 12.0+ MB\n"
     ]
    }
   ],
   "source": [
    "twitter_data_all = delete_header_rows(twitter_data_all)"
   ]
  },
  {
   "cell_type": "markdown",
   "metadata": {},
   "source": [
    "## Select Columns "
   ]
  },
  {
   "cell_type": "code",
   "execution_count": 8,
   "metadata": {},
   "outputs": [],
   "source": [
    "def select_columns(df, columns):\n",
    "    df = df[columns]\n",
    "    return df"
   ]
  },
  {
   "cell_type": "code",
   "execution_count": 9,
   "metadata": {},
   "outputs": [],
   "source": [
    "columns = ['CreatedAt','TweetText', 'Tweet_stemmed']\n",
    "twitter_data = select_columns(twitter_data_all, columns)"
   ]
  },
  {
   "cell_type": "markdown",
   "metadata": {},
   "source": [
    "# Created python datetime index"
   ]
  },
  {
   "cell_type": "code",
   "execution_count": 10,
   "metadata": {},
   "outputs": [],
   "source": [
    "def create_date_time_index(df):\n",
    "    df.index = pd.to_datetime(df['CreatedAt'])\n",
    "    df.rename(index={'CreatedAt':'CreatedAtDateTime'})\n",
    "    df.drop('CreatedAt', axis=1, inplace=True)\n",
    "    return df"
   ]
  },
  {
   "cell_type": "code",
   "execution_count": 24,
   "metadata": {},
   "outputs": [
    {
     "name": "stderr",
     "output_type": "stream",
     "text": [
      "/opt/anaconda3/lib/python3.8/site-packages/pandas/core/frame.py:4163: SettingWithCopyWarning: \n",
      "A value is trying to be set on a copy of a slice from a DataFrame\n",
      "\n",
      "See the caveats in the documentation: https://pandas.pydata.org/pandas-docs/stable/user_guide/indexing.html#returning-a-view-versus-a-copy\n",
      "  return super().drop(\n"
     ]
    }
   ],
   "source": [
    "twitter_data = create_date_time_index(twitter_data)"
   ]
  },
  {
   "cell_type": "code",
   "execution_count": 25,
   "metadata": {},
   "outputs": [
    {
     "data": {
      "text/html": [
       "<div>\n",
       "<style scoped>\n",
       "    .dataframe tbody tr th:only-of-type {\n",
       "        vertical-align: middle;\n",
       "    }\n",
       "\n",
       "    .dataframe tbody tr th {\n",
       "        vertical-align: top;\n",
       "    }\n",
       "\n",
       "    .dataframe thead th {\n",
       "        text-align: right;\n",
       "    }\n",
       "</style>\n",
       "<table border=\"1\" class=\"dataframe\">\n",
       "  <thead>\n",
       "    <tr style=\"text-align: right;\">\n",
       "      <th></th>\n",
       "      <th>TweetText</th>\n",
       "      <th>Tweet_stemmed</th>\n",
       "    </tr>\n",
       "    <tr>\n",
       "      <th>CreatedAt</th>\n",
       "      <th></th>\n",
       "      <th></th>\n",
       "    </tr>\n",
       "  </thead>\n",
       "  <tbody>\n",
       "    <tr>\n",
       "      <th>2021-04-01 00:50:05+00:00</th>\n",
       "      <td>First Solar Completes Sale of North American O&amp;amp;M Business to NovaSource $FSLR https://t.co/j...</td>\n",
       "      <td>['first', 'solar', 'complet', 'sale', 'north', 'american', 'oampm', 'busi', 'novasourc', 'fslr',...</td>\n",
       "    </tr>\n",
       "    <tr>\n",
       "      <th>2021-03-31 23:54:00+00:00</th>\n",
       "      <td>$ALYI To Reveal New Significant Investment In Company From Leading Texas Based Private Equity Fu...</td>\n",
       "      <td>['alyi', 'reveal', 'new', 'signific', 'invest', 'compani', 'lead', 'texa', 'base', 'privat', 'eq...</td>\n",
       "    </tr>\n",
       "    <tr>\n",
       "      <th>2021-03-31 23:47:40+00:00</th>\n",
       "      <td>@SolarPowerEU @renewableH2EU @EU_Commission @Akuo_Energy @enelgreenpower @EdpRenewables @Enapter...</td>\n",
       "      <td>['solarpowereu', 'renewableheu', 'eucommiss', 'akuoenergi', 'enelgreenpow', 'edprenew', 'enapt',...</td>\n",
       "    </tr>\n",
       "    <tr>\n",
       "      <th>2021-03-31 23:31:00+00:00</th>\n",
       "      <td>$FSLR sector move confirmed https://t.co/h08Dwn5CIF</td>\n",
       "      <td>['fslr', 'sector', 'move', 'confirm', 'httpstcohdwncif']</td>\n",
       "    </tr>\n",
       "    <tr>\n",
       "      <th>2021-03-31 23:29:07+00:00</th>\n",
       "      <td>$FSLR NovaSource Power Services is World's Largest Solar O&amp;amp;M Provider with Acquisition of Fi...</td>\n",
       "      <td>['fslr', 'novasourc', 'power', 'servic', 'world', 'largest', 'solar', 'oampm', 'provid', 'acquis...</td>\n",
       "    </tr>\n",
       "    <tr>\n",
       "      <th>...</th>\n",
       "      <td>...</td>\n",
       "      <td>...</td>\n",
       "    </tr>\n",
       "    <tr>\n",
       "      <th>2011-01-02 23:43:44+00:00</th>\n",
       "      <td>@womarmd - Just watching right now... as I am not convinced yet on solar...  $FSLR needs to hold...</td>\n",
       "      <td>['womarmd', 'watch', 'right', 'convinc', 'yet', 'solar', 'fslr', 'need', 'hold', 'jaso', 'break'...</td>\n",
       "    </tr>\n",
       "    <tr>\n",
       "      <th>2011-01-02 16:06:34+00:00</th>\n",
       "      <td>SHORT BUSt - Scope L: entries on high SS interest names $ADS  $BBBB  $CIEN  $CTCT  $FSLR  $PWER ...</td>\n",
       "      <td>['short', 'bust', 'scope', 'l', 'entri', 'high', 'ss', 'interest', 'name', 'ad', 'bbbb', 'cien',...</td>\n",
       "    </tr>\n",
       "    <tr>\n",
       "      <th>2011-01-02 06:33:22+00:00</th>\n",
       "      <td>SOLARS - Auriga USA research on sector is very good. Top FA names $SOLR  $TSL may not be top ST ...</td>\n",
       "      <td>['solar', 'auriga', 'usa', 'research', 'sector', 'good', 'top', 'fa', 'name', 'solr', 'tsl', 'ma...</td>\n",
       "    </tr>\n",
       "    <tr>\n",
       "      <th>2011-01-02 00:16:28+00:00</th>\n",
       "      <td>Stochastic Crossover: this stock may rally - $FSLR - http://www.dojispace.com/stock-picks/first-...</td>\n",
       "      <td>['stochast', 'crossov', 'stock', 'may', 'ralli', 'fslr', 'httpwwwdojispacecomstockpicksfirstsola...</td>\n",
       "    </tr>\n",
       "    <tr>\n",
       "      <th>2011-01-01 05:30:11+00:00</th>\n",
       "      <td>Someone just got a simple quote on $FSLR @simplestockqtes http://www.simplestockquotes.com/FSLR</td>\n",
       "      <td>['someon', 'got', 'simpl', 'quot', 'fslr', 'simplestockqt', 'httpwwwsimplestockquotescomfslr']</td>\n",
       "    </tr>\n",
       "  </tbody>\n",
       "</table>\n",
       "<p>156812 rows × 2 columns</p>\n",
       "</div>"
      ],
      "text/plain": [
       "                                                                                                                     TweetText  \\\n",
       "CreatedAt                                                                                                                        \n",
       "2021-04-01 00:50:05+00:00  First Solar Completes Sale of North American O&amp;M Business to NovaSource $FSLR https://t.co/j...   \n",
       "2021-03-31 23:54:00+00:00  $ALYI To Reveal New Significant Investment In Company From Leading Texas Based Private Equity Fu...   \n",
       "2021-03-31 23:47:40+00:00  @SolarPowerEU @renewableH2EU @EU_Commission @Akuo_Energy @enelgreenpower @EdpRenewables @Enapter...   \n",
       "2021-03-31 23:31:00+00:00                                                  $FSLR sector move confirmed https://t.co/h08Dwn5CIF   \n",
       "2021-03-31 23:29:07+00:00  $FSLR NovaSource Power Services is World's Largest Solar O&amp;M Provider with Acquisition of Fi...   \n",
       "...                                                                                                                        ...   \n",
       "2011-01-02 23:43:44+00:00  @womarmd - Just watching right now... as I am not convinced yet on solar...  $FSLR needs to hold...   \n",
       "2011-01-02 16:06:34+00:00  SHORT BUSt - Scope L: entries on high SS interest names $ADS  $BBBB  $CIEN  $CTCT  $FSLR  $PWER ...   \n",
       "2011-01-02 06:33:22+00:00  SOLARS - Auriga USA research on sector is very good. Top FA names $SOLR  $TSL may not be top ST ...   \n",
       "2011-01-02 00:16:28+00:00  Stochastic Crossover: this stock may rally - $FSLR - http://www.dojispace.com/stock-picks/first-...   \n",
       "2011-01-01 05:30:11+00:00      Someone just got a simple quote on $FSLR @simplestockqtes http://www.simplestockquotes.com/FSLR   \n",
       "\n",
       "                                                                                                                 Tweet_stemmed  \n",
       "CreatedAt                                                                                                                       \n",
       "2021-04-01 00:50:05+00:00  ['first', 'solar', 'complet', 'sale', 'north', 'american', 'oampm', 'busi', 'novasourc', 'fslr',...  \n",
       "2021-03-31 23:54:00+00:00  ['alyi', 'reveal', 'new', 'signific', 'invest', 'compani', 'lead', 'texa', 'base', 'privat', 'eq...  \n",
       "2021-03-31 23:47:40+00:00  ['solarpowereu', 'renewableheu', 'eucommiss', 'akuoenergi', 'enelgreenpow', 'edprenew', 'enapt',...  \n",
       "2021-03-31 23:31:00+00:00                                             ['fslr', 'sector', 'move', 'confirm', 'httpstcohdwncif']  \n",
       "2021-03-31 23:29:07+00:00  ['fslr', 'novasourc', 'power', 'servic', 'world', 'largest', 'solar', 'oampm', 'provid', 'acquis...  \n",
       "...                                                                                                                        ...  \n",
       "2011-01-02 23:43:44+00:00  ['womarmd', 'watch', 'right', 'convinc', 'yet', 'solar', 'fslr', 'need', 'hold', 'jaso', 'break'...  \n",
       "2011-01-02 16:06:34+00:00  ['short', 'bust', 'scope', 'l', 'entri', 'high', 'ss', 'interest', 'name', 'ad', 'bbbb', 'cien',...  \n",
       "2011-01-02 06:33:22+00:00  ['solar', 'auriga', 'usa', 'research', 'sector', 'good', 'top', 'fa', 'name', 'solr', 'tsl', 'ma...  \n",
       "2011-01-02 00:16:28+00:00  ['stochast', 'crossov', 'stock', 'may', 'ralli', 'fslr', 'httpwwwdojispacecomstockpicksfirstsola...  \n",
       "2011-01-01 05:30:11+00:00       ['someon', 'got', 'simpl', 'quot', 'fslr', 'simplestockqt', 'httpwwwsimplestockquotescomfslr']  \n",
       "\n",
       "[156812 rows x 2 columns]"
      ]
     },
     "execution_count": 25,
     "metadata": {},
     "output_type": "execute_result"
    }
   ],
   "source": [
    "twitter_data"
   ]
  },
  {
   "cell_type": "markdown",
   "metadata": {},
   "source": [
    "# Group by weeks and count tweets for respective week"
   ]
  },
  {
   "cell_type": "code",
   "execution_count": 27,
   "metadata": {},
   "outputs": [],
   "source": [
    "def count_weekly_tweets(df):\n",
    "    weekly_tweets = pd.DataFrame(df.resample('W')['TweetText'].count())\n",
    "    weekly_tweets.rename(columns = {\"TweetText\":\"Count\"}, inplace=True)\n",
    "    weekly_tweets.reset_index(inplace=True)\n",
    "    return weekly_tweets"
   ]
  },
  {
   "cell_type": "code",
   "execution_count": 28,
   "metadata": {},
   "outputs": [],
   "source": [
    "weekly_tweets = count_weekly_tweets(twitter_data)"
   ]
  },
  {
   "cell_type": "code",
   "execution_count": 29,
   "metadata": {},
   "outputs": [
    {
     "data": {
      "text/html": [
       "<div>\n",
       "<style scoped>\n",
       "    .dataframe tbody tr th:only-of-type {\n",
       "        vertical-align: middle;\n",
       "    }\n",
       "\n",
       "    .dataframe tbody tr th {\n",
       "        vertical-align: top;\n",
       "    }\n",
       "\n",
       "    .dataframe thead th {\n",
       "        text-align: right;\n",
       "    }\n",
       "</style>\n",
       "<table border=\"1\" class=\"dataframe\">\n",
       "  <thead>\n",
       "    <tr style=\"text-align: right;\">\n",
       "      <th></th>\n",
       "      <th>CreatedAt</th>\n",
       "      <th>Count</th>\n",
       "    </tr>\n",
       "  </thead>\n",
       "  <tbody>\n",
       "    <tr>\n",
       "      <th>0</th>\n",
       "      <td>2011-01-02 00:00:00+00:00</td>\n",
       "      <td>5</td>\n",
       "    </tr>\n",
       "    <tr>\n",
       "      <th>1</th>\n",
       "      <td>2011-01-09 00:00:00+00:00</td>\n",
       "      <td>80</td>\n",
       "    </tr>\n",
       "    <tr>\n",
       "      <th>2</th>\n",
       "      <td>2011-01-16 00:00:00+00:00</td>\n",
       "      <td>75</td>\n",
       "    </tr>\n",
       "    <tr>\n",
       "      <th>3</th>\n",
       "      <td>2011-01-23 00:00:00+00:00</td>\n",
       "      <td>93</td>\n",
       "    </tr>\n",
       "    <tr>\n",
       "      <th>4</th>\n",
       "      <td>2011-01-30 00:00:00+00:00</td>\n",
       "      <td>142</td>\n",
       "    </tr>\n",
       "    <tr>\n",
       "      <th>...</th>\n",
       "      <td>...</td>\n",
       "      <td>...</td>\n",
       "    </tr>\n",
       "    <tr>\n",
       "      <th>531</th>\n",
       "      <td>2021-03-07 00:00:00+00:00</td>\n",
       "      <td>232</td>\n",
       "    </tr>\n",
       "    <tr>\n",
       "      <th>532</th>\n",
       "      <td>2021-03-14 00:00:00+00:00</td>\n",
       "      <td>375</td>\n",
       "    </tr>\n",
       "    <tr>\n",
       "      <th>533</th>\n",
       "      <td>2021-03-21 00:00:00+00:00</td>\n",
       "      <td>169</td>\n",
       "    </tr>\n",
       "    <tr>\n",
       "      <th>534</th>\n",
       "      <td>2021-03-28 00:00:00+00:00</td>\n",
       "      <td>250</td>\n",
       "    </tr>\n",
       "    <tr>\n",
       "      <th>535</th>\n",
       "      <td>2021-04-04 00:00:00+00:00</td>\n",
       "      <td>181</td>\n",
       "    </tr>\n",
       "  </tbody>\n",
       "</table>\n",
       "<p>536 rows × 2 columns</p>\n",
       "</div>"
      ],
      "text/plain": [
       "                    CreatedAt  Count\n",
       "0   2011-01-02 00:00:00+00:00      5\n",
       "1   2011-01-09 00:00:00+00:00     80\n",
       "2   2011-01-16 00:00:00+00:00     75\n",
       "3   2011-01-23 00:00:00+00:00     93\n",
       "4   2011-01-30 00:00:00+00:00    142\n",
       "..                        ...    ...\n",
       "531 2021-03-07 00:00:00+00:00    232\n",
       "532 2021-03-14 00:00:00+00:00    375\n",
       "533 2021-03-21 00:00:00+00:00    169\n",
       "534 2021-03-28 00:00:00+00:00    250\n",
       "535 2021-04-04 00:00:00+00:00    181\n",
       "\n",
       "[536 rows x 2 columns]"
      ]
     },
     "execution_count": 29,
     "metadata": {},
     "output_type": "execute_result"
    }
   ],
   "source": [
    "weekly_tweets"
   ]
  },
  {
   "cell_type": "markdown",
   "metadata": {},
   "source": [
    "# Plot Time Series"
   ]
  },
  {
   "cell_type": "code",
   "execution_count": 32,
   "metadata": {},
   "outputs": [],
   "source": [
    "def plot_time_series(df):\n",
    "    plt.figure(figsize=(15,6))\n",
    "    df1 = df.set_index('CreatedAt')\n",
    "    fig,ax = plt.subplots(figsize=(15,6))\n",
    "    df1.plot(kind='line',ax=ax)\n",
    "    plt.title(\"First Solar Tweet Time Series\")\n",
    "    plt.show()"
   ]
  },
  {
   "cell_type": "code",
   "execution_count": 33,
   "metadata": {},
   "outputs": [
    {
     "data": {
      "text/plain": [
       "<Figure size 1080x432 with 0 Axes>"
      ]
     },
     "metadata": {},
     "output_type": "display_data"
    },
    {
     "data": {
      "image/png": "[encoded data removed]",
      "text/plain": [
       "<Figure size 1080x432 with 1 Axes>"
      ]
     },
     "metadata": {
      "needs_background": "light"
     },
     "output_type": "display_data"
    }
   ],
   "source": [
    "plot_time_series(weekly_tweets)"
   ]
  },
  {
   "cell_type": "code",
   "execution_count": 34,
   "metadata": {},
   "outputs": [],
   "source": [
    "def add_company_name(df, company):\n",
    "    df['Company'] = company\n",
    "    return df"
   ]
  },
  {
   "cell_type": "code",
   "execution_count": 35,
   "metadata": {},
   "outputs": [],
   "source": [
    "weekly_tweets = add_company_name(weekly_tweets, \"First Solar\")"
   ]
  },
  {
   "cell_type": "markdown",
   "metadata": {},
   "source": [
    "# Main function to generate weekly counts"
   ]
  },
  {
   "cell_type": "code",
   "execution_count": 45,
   "metadata": {},
   "outputs": [],
   "source": [
    "def generate_weekly_counts(tweets_all):\n",
    "    # delete headers on csv\n",
    "    tweets_all = delete_header_rows(tweets_all)\n",
    "        \n",
    "    # drop unwanted columns    \n",
    "    columns_to_keep = ['CreatedAt','TweetText', 'Tweet_stemmed']\n",
    "    tweets = select_columns(tweets_all, columns_to_keep)\n",
    "    \n",
    "    # created datetime as index\n",
    "    tweets = create_date_time_index(twitter_data)\n",
    "    \n",
    "    # counts tweets by week and create new dataframe\n",
    "    weekly_tweets = count_weekly_tweets(tweets_data)\n",
    "    \n",
    "    \n",
    "    return weekly_tweets"
   ]
  },
  {
   "cell_type": "code",
   "execution_count": 49,
   "metadata": {},
   "outputs": [],
   "source": [
    "# def generate_weekly_counts()"
   ]
  },
  {
   "cell_type": "code",
   "execution_count": 50,
   "metadata": {},
   "outputs": [],
   "source": [
    "# # Load dataset \n",
    "# tweets_siemens = pd.read_csv('../../data/data_collected_ref_cleaned/')\n",
    "# weekly_tweets_siemens = generate_weekly_counts(tweets_siemens)"
   ]
  },
  {
   "cell_type": "code",
   "execution_count": 57,
   "metadata": {},
   "outputs": [],
   "source": [
    "# Load dataset\n",
    "tweets_first_solar = pd.read_csv('../../data/data_collected_ref_cleaned/2_first_solar_tweets_cleaned_v2.csv')"
   ]
  },
  {
   "cell_type": "code",
   "execution_count": 55,
   "metadata": {},
   "outputs": [
    {
     "data": {
      "text/html": [
       "<div>\n",
       "<style scoped>\n",
       "    .dataframe tbody tr th:only-of-type {\n",
       "        vertical-align: middle;\n",
       "    }\n",
       "\n",
       "    .dataframe tbody tr th {\n",
       "        vertical-align: top;\n",
       "    }\n",
       "\n",
       "    .dataframe thead th {\n",
       "        text-align: right;\n",
       "    }\n",
       "</style>\n",
       "<table border=\"1\" class=\"dataframe\">\n",
       "  <thead>\n",
       "    <tr style=\"text-align: right;\">\n",
       "      <th></th>\n",
       "      <th>CreatedAt</th>\n",
       "      <th>TweetId</th>\n",
       "      <th>AuthorId</th>\n",
       "      <th>TweetText</th>\n",
       "      <th>Tweet_punct</th>\n",
       "      <th>Tweet_tokenized</th>\n",
       "      <th>Tweet_nonstop</th>\n",
       "      <th>Tweet_stemmed</th>\n",
       "      <th>Tweet_lemmatized</th>\n",
       "    </tr>\n",
       "  </thead>\n",
       "  <tbody>\n",
       "    <tr>\n",
       "      <th>0</th>\n",
       "      <td>2021-04-01T00:50:05.000Z</td>\n",
       "      <td>1377422984751775755</td>\n",
       "      <td>1134049078424162304</td>\n",
       "      <td>First Solar Completes Sale of North American O&amp;amp;M Business to NovaSource $FSLR https://t.co/j...</td>\n",
       "      <td>First Solar Completes Sale of North American OampM Business to NovaSource FSLR httpstcojlkOFos</td>\n",
       "      <td>['first', 'solar', 'completes', 'sale', 'of', 'north', 'american', 'oampm', 'business', 'to', 'n...</td>\n",
       "      <td>['first', 'solar', 'completes', 'sale', 'north', 'american', 'oampm', 'business', 'novasource', ...</td>\n",
       "      <td>['first', 'solar', 'complet', 'sale', 'north', 'american', 'oampm', 'busi', 'novasourc', 'fslr',...</td>\n",
       "      <td>['first', 'solar', 'completes', 'sale', 'north', 'american', 'oampm', 'business', 'novasource', ...</td>\n",
       "    </tr>\n",
       "    <tr>\n",
       "      <th>1</th>\n",
       "      <td>2021-03-31T23:54:00.000Z</td>\n",
       "      <td>1377408871212351489</td>\n",
       "      <td>586116334</td>\n",
       "      <td>$ALYI To Reveal New Significant Investment In Company From Leading Texas Based Private Equity Fu...</td>\n",
       "      <td>ALYI To Reveal New Significant Investment In Company From Leading Texas Based Private Equity Fun...</td>\n",
       "      <td>['alyi', 'to', 'reveal', 'new', 'significant', 'investment', 'in', 'company', 'from', 'leading',...</td>\n",
       "      <td>['alyi', 'reveal', 'new', 'significant', 'investment', 'company', 'leading', 'texas', 'based', '...</td>\n",
       "      <td>['alyi', 'reveal', 'new', 'signific', 'invest', 'compani', 'lead', 'texa', 'base', 'privat', 'eq...</td>\n",
       "      <td>['alyi', 'reveal', 'new', 'significant', 'investment', 'company', 'leading', 'texas', 'based', '...</td>\n",
       "    </tr>\n",
       "    <tr>\n",
       "      <th>2</th>\n",
       "      <td>2021-03-31T23:47:40.000Z</td>\n",
       "      <td>1377407278056230912</td>\n",
       "      <td>1313171678625701889</td>\n",
       "      <td>@SolarPowerEU @renewableH2EU @EU_Commission @Akuo_Energy @enelgreenpower @EdpRenewables @Enapter...</td>\n",
       "      <td>SolarPowerEU renewableHEU EUCommission AkuoEnergy enelgreenpower EdpRenewables Enapter FirstSola...</td>\n",
       "      <td>['solarpowereu', 'renewableheu', 'eucommission', 'akuoenergy', 'enelgreenpower', 'edprenewables'...</td>\n",
       "      <td>['solarpowereu', 'renewableheu', 'eucommission', 'akuoenergy', 'enelgreenpower', 'edprenewables'...</td>\n",
       "      <td>['solarpowereu', 'renewableheu', 'eucommiss', 'akuoenergi', 'enelgreenpow', 'edprenew', 'enapt',...</td>\n",
       "      <td>['solarpowereu', 'renewableheu', 'eucommission', 'akuoenergy', 'enelgreenpower', 'edprenewables'...</td>\n",
       "    </tr>\n",
       "    <tr>\n",
       "      <th>3</th>\n",
       "      <td>2021-03-31T23:31:00.000Z</td>\n",
       "      <td>1377403081005150211</td>\n",
       "      <td>831801503694336000</td>\n",
       "      <td>$FSLR sector move confirmed https://t.co/h08Dwn5CIF</td>\n",
       "      <td>FSLR sector move confirmed httpstcohDwnCIF</td>\n",
       "      <td>['fslr', 'sector', 'move', 'confirmed', 'httpstcohdwncif']</td>\n",
       "      <td>['fslr', 'sector', 'move', 'confirmed', 'httpstcohdwncif']</td>\n",
       "      <td>['fslr', 'sector', 'move', 'confirm', 'httpstcohdwncif']</td>\n",
       "      <td>['fslr', 'sector', 'move', 'confirmed', 'httpstcohdwncif']</td>\n",
       "    </tr>\n",
       "    <tr>\n",
       "      <th>4</th>\n",
       "      <td>2021-03-31T23:29:07.000Z</td>\n",
       "      <td>1377402607010902019</td>\n",
       "      <td>1355194932445786112</td>\n",
       "      <td>$FSLR NovaSource Power Services is World's Largest Solar O&amp;amp;M Provider with Acquisition of Fi...</td>\n",
       "      <td>FSLR NovaSource Power Services is Worlds Largest Solar OampM Provider with Acquisition of First ...</td>\n",
       "      <td>['fslr', 'novasource', 'power', 'services', 'is', 'worlds', 'largest', 'solar', 'oampm', 'provid...</td>\n",
       "      <td>['fslr', 'novasource', 'power', 'services', 'worlds', 'largest', 'solar', 'oampm', 'provider', '...</td>\n",
       "      <td>['fslr', 'novasourc', 'power', 'servic', 'world', 'largest', 'solar', 'oampm', 'provid', 'acquis...</td>\n",
       "      <td>['fslr', 'novasource', 'power', 'service', 'world', 'largest', 'solar', 'oampm', 'provider', 'ac...</td>\n",
       "    </tr>\n",
       "    <tr>\n",
       "      <th>...</th>\n",
       "      <td>...</td>\n",
       "      <td>...</td>\n",
       "      <td>...</td>\n",
       "      <td>...</td>\n",
       "      <td>...</td>\n",
       "      <td>...</td>\n",
       "      <td>...</td>\n",
       "      <td>...</td>\n",
       "      <td>...</td>\n",
       "    </tr>\n",
       "    <tr>\n",
       "      <th>157159</th>\n",
       "      <td>2011-01-02T23:43:44.000Z</td>\n",
       "      <td>21713283799056384</td>\n",
       "      <td>53215424</td>\n",
       "      <td>@womarmd - Just watching right now... as I am not convinced yet on solar...  $FSLR needs to hold...</td>\n",
       "      <td>womarmd  Just watching right now as I am not convinced yet on solar  FSLR needs to hold above MA...</td>\n",
       "      <td>['womarmd', 'just', 'watching', 'right', 'now', 'as', 'i', 'am', 'not', 'convinced', 'yet', 'on'...</td>\n",
       "      <td>['womarmd', 'watching', 'right', 'convinced', 'yet', 'solar', 'fslr', 'needs', 'hold', 'jaso', '...</td>\n",
       "      <td>['womarmd', 'watch', 'right', 'convinc', 'yet', 'solar', 'fslr', 'need', 'hold', 'jaso', 'break'...</td>\n",
       "      <td>['womarmd', 'watching', 'right', 'convinced', 'yet', 'solar', 'fslr', 'need', 'hold', 'jaso', 'b...</td>\n",
       "    </tr>\n",
       "    <tr>\n",
       "      <th>157160</th>\n",
       "      <td>2011-01-02T16:06:34.000Z</td>\n",
       "      <td>21598232073216001</td>\n",
       "      <td>100592354</td>\n",
       "      <td>SHORT BUSt - Scope L: entries on high SS interest names $ADS  $BBBB  $CIEN  $CTCT  $FSLR  $PWER ...</td>\n",
       "      <td>SHORT BUSt  Scope L entries on high SS interest names ADS  BBBB  CIEN  CTCT  FSLR  PWER  RBCN  T...</td>\n",
       "      <td>['short', 'bust', 'scope', 'l', 'entries', 'on', 'high', 'ss', 'interest', 'names', 'ads', 'bbbb...</td>\n",
       "      <td>['short', 'bust', 'scope', 'l', 'entries', 'high', 'ss', 'interest', 'names', 'ads', 'bbbb', 'ci...</td>\n",
       "      <td>['short', 'bust', 'scope', 'l', 'entri', 'high', 'ss', 'interest', 'name', 'ad', 'bbbb', 'cien',...</td>\n",
       "      <td>['short', 'bust', 'scope', 'l', 'entry', 'high', 's', 'interest', 'name', 'ad', 'bbbb', 'cien', ...</td>\n",
       "    </tr>\n",
       "    <tr>\n",
       "      <th>157161</th>\n",
       "      <td>2011-01-02T06:33:22.000Z</td>\n",
       "      <td>21453981167394816</td>\n",
       "      <td>100592354</td>\n",
       "      <td>SOLARS - Auriga USA research on sector is very good. Top FA names $SOLR  $TSL may not be top ST ...</td>\n",
       "      <td>SOLARS  Auriga USA research on sector is very good Top FA names SOLR  TSL may not be top ST trad...</td>\n",
       "      <td>['solars', 'auriga', 'usa', 'research', 'on', 'sector', 'is', 'very', 'good', 'top', 'fa', 'name...</td>\n",
       "      <td>['solars', 'auriga', 'usa', 'research', 'sector', 'good', 'top', 'fa', 'names', 'solr', 'tsl', '...</td>\n",
       "      <td>['solar', 'auriga', 'usa', 'research', 'sector', 'good', 'top', 'fa', 'name', 'solr', 'tsl', 'ma...</td>\n",
       "      <td>['solars', 'auriga', 'usa', 'research', 'sector', 'good', 'top', 'fa', 'name', 'solr', 'tsl', 'm...</td>\n",
       "    </tr>\n",
       "    <tr>\n",
       "      <th>157162</th>\n",
       "      <td>2011-01-02T00:16:28.000Z</td>\n",
       "      <td>21359133609431040</td>\n",
       "      <td>162521687</td>\n",
       "      <td>Stochastic Crossover: this stock may rally - $FSLR - http://www.dojispace.com/stock-picks/first-...</td>\n",
       "      <td>Stochastic Crossover this stock may rally  FSLR  httpwwwdojispacecomstockpicksfirstsolarstockpri...</td>\n",
       "      <td>['stochastic', 'crossover', 'this', 'stock', 'may', 'rally', 'fslr', 'httpwwwdojispacecomstockpi...</td>\n",
       "      <td>['stochastic', 'crossover', 'stock', 'may', 'rally', 'fslr', 'httpwwwdojispacecomstockpicksfirst...</td>\n",
       "      <td>['stochast', 'crossov', 'stock', 'may', 'ralli', 'fslr', 'httpwwwdojispacecomstockpicksfirstsola...</td>\n",
       "      <td>['stochastic', 'crossover', 'stock', 'may', 'rally', 'fslr', 'httpwwwdojispacecomstockpicksfirst...</td>\n",
       "    </tr>\n",
       "    <tr>\n",
       "      <th>157163</th>\n",
       "      <td>2011-01-01T05:30:11.000Z</td>\n",
       "      <td>21075692561113088</td>\n",
       "      <td>220900876</td>\n",
       "      <td>Someone just got a simple quote on $FSLR @simplestockqtes http://www.simplestockquotes.com/FSLR</td>\n",
       "      <td>Someone just got a simple quote on FSLR simplestockqtes httpwwwsimplestockquotescomFSLR</td>\n",
       "      <td>['someone', 'just', 'got', 'a', 'simple', 'quote', 'on', 'fslr', 'simplestockqtes', 'httpwwwsimp...</td>\n",
       "      <td>['someone', 'got', 'simple', 'quote', 'fslr', 'simplestockqtes', 'httpwwwsimplestockquotescomfslr']</td>\n",
       "      <td>['someon', 'got', 'simpl', 'quot', 'fslr', 'simplestockqt', 'httpwwwsimplestockquotescomfslr']</td>\n",
       "      <td>['someone', 'got', 'simple', 'quote', 'fslr', 'simplestockqtes', 'httpwwwsimplestockquotescomfslr']</td>\n",
       "    </tr>\n",
       "  </tbody>\n",
       "</table>\n",
       "<p>157164 rows × 9 columns</p>\n",
       "</div>"
      ],
      "text/plain": [
       "                       CreatedAt              TweetId             AuthorId  \\\n",
       "0       2021-04-01T00:50:05.000Z  1377422984751775755  1134049078424162304   \n",
       "1       2021-03-31T23:54:00.000Z  1377408871212351489            586116334   \n",
       "2       2021-03-31T23:47:40.000Z  1377407278056230912  1313171678625701889   \n",
       "3       2021-03-31T23:31:00.000Z  1377403081005150211   831801503694336000   \n",
       "4       2021-03-31T23:29:07.000Z  1377402607010902019  1355194932445786112   \n",
       "...                          ...                  ...                  ...   \n",
       "157159  2011-01-02T23:43:44.000Z    21713283799056384             53215424   \n",
       "157160  2011-01-02T16:06:34.000Z    21598232073216001            100592354   \n",
       "157161  2011-01-02T06:33:22.000Z    21453981167394816            100592354   \n",
       "157162  2011-01-02T00:16:28.000Z    21359133609431040            162521687   \n",
       "157163  2011-01-01T05:30:11.000Z    21075692561113088            220900876   \n",
       "\n",
       "                                                                                                  TweetText  \\\n",
       "0       First Solar Completes Sale of North American O&amp;M Business to NovaSource $FSLR https://t.co/j...   \n",
       "1       $ALYI To Reveal New Significant Investment In Company From Leading Texas Based Private Equity Fu...   \n",
       "2       @SolarPowerEU @renewableH2EU @EU_Commission @Akuo_Energy @enelgreenpower @EdpRenewables @Enapter...   \n",
       "3                                                       $FSLR sector move confirmed https://t.co/h08Dwn5CIF   \n",
       "4       $FSLR NovaSource Power Services is World's Largest Solar O&amp;M Provider with Acquisition of Fi...   \n",
       "...                                                                                                     ...   \n",
       "157159  @womarmd - Just watching right now... as I am not convinced yet on solar...  $FSLR needs to hold...   \n",
       "157160  SHORT BUSt - Scope L: entries on high SS interest names $ADS  $BBBB  $CIEN  $CTCT  $FSLR  $PWER ...   \n",
       "157161  SOLARS - Auriga USA research on sector is very good. Top FA names $SOLR  $TSL may not be top ST ...   \n",
       "157162  Stochastic Crossover: this stock may rally - $FSLR - http://www.dojispace.com/stock-picks/first-...   \n",
       "157163      Someone just got a simple quote on $FSLR @simplestockqtes http://www.simplestockquotes.com/FSLR   \n",
       "\n",
       "                                                                                                Tweet_punct  \\\n",
       "0            First Solar Completes Sale of North American OampM Business to NovaSource FSLR httpstcojlkOFos   \n",
       "1       ALYI To Reveal New Significant Investment In Company From Leading Texas Based Private Equity Fun...   \n",
       "2       SolarPowerEU renewableHEU EUCommission AkuoEnergy enelgreenpower EdpRenewables Enapter FirstSola...   \n",
       "3                                                                FSLR sector move confirmed httpstcohDwnCIF   \n",
       "4       FSLR NovaSource Power Services is Worlds Largest Solar OampM Provider with Acquisition of First ...   \n",
       "...                                                                                                     ...   \n",
       "157159  womarmd  Just watching right now as I am not convinced yet on solar  FSLR needs to hold above MA...   \n",
       "157160  SHORT BUSt  Scope L entries on high SS interest names ADS  BBBB  CIEN  CTCT  FSLR  PWER  RBCN  T...   \n",
       "157161  SOLARS  Auriga USA research on sector is very good Top FA names SOLR  TSL may not be top ST trad...   \n",
       "157162  Stochastic Crossover this stock may rally  FSLR  httpwwwdojispacecomstockpicksfirstsolarstockpri...   \n",
       "157163              Someone just got a simple quote on FSLR simplestockqtes httpwwwsimplestockquotescomFSLR   \n",
       "\n",
       "                                                                                            Tweet_tokenized  \\\n",
       "0       ['first', 'solar', 'completes', 'sale', 'of', 'north', 'american', 'oampm', 'business', 'to', 'n...   \n",
       "1       ['alyi', 'to', 'reveal', 'new', 'significant', 'investment', 'in', 'company', 'from', 'leading',...   \n",
       "2       ['solarpowereu', 'renewableheu', 'eucommission', 'akuoenergy', 'enelgreenpower', 'edprenewables'...   \n",
       "3                                                ['fslr', 'sector', 'move', 'confirmed', 'httpstcohdwncif']   \n",
       "4       ['fslr', 'novasource', 'power', 'services', 'is', 'worlds', 'largest', 'solar', 'oampm', 'provid...   \n",
       "...                                                                                                     ...   \n",
       "157159  ['womarmd', 'just', 'watching', 'right', 'now', 'as', 'i', 'am', 'not', 'convinced', 'yet', 'on'...   \n",
       "157160  ['short', 'bust', 'scope', 'l', 'entries', 'on', 'high', 'ss', 'interest', 'names', 'ads', 'bbbb...   \n",
       "157161  ['solars', 'auriga', 'usa', 'research', 'on', 'sector', 'is', 'very', 'good', 'top', 'fa', 'name...   \n",
       "157162  ['stochastic', 'crossover', 'this', 'stock', 'may', 'rally', 'fslr', 'httpwwwdojispacecomstockpi...   \n",
       "157163  ['someone', 'just', 'got', 'a', 'simple', 'quote', 'on', 'fslr', 'simplestockqtes', 'httpwwwsimp...   \n",
       "\n",
       "                                                                                              Tweet_nonstop  \\\n",
       "0       ['first', 'solar', 'completes', 'sale', 'north', 'american', 'oampm', 'business', 'novasource', ...   \n",
       "1       ['alyi', 'reveal', 'new', 'significant', 'investment', 'company', 'leading', 'texas', 'based', '...   \n",
       "2       ['solarpowereu', 'renewableheu', 'eucommission', 'akuoenergy', 'enelgreenpower', 'edprenewables'...   \n",
       "3                                                ['fslr', 'sector', 'move', 'confirmed', 'httpstcohdwncif']   \n",
       "4       ['fslr', 'novasource', 'power', 'services', 'worlds', 'largest', 'solar', 'oampm', 'provider', '...   \n",
       "...                                                                                                     ...   \n",
       "157159  ['womarmd', 'watching', 'right', 'convinced', 'yet', 'solar', 'fslr', 'needs', 'hold', 'jaso', '...   \n",
       "157160  ['short', 'bust', 'scope', 'l', 'entries', 'high', 'ss', 'interest', 'names', 'ads', 'bbbb', 'ci...   \n",
       "157161  ['solars', 'auriga', 'usa', 'research', 'sector', 'good', 'top', 'fa', 'names', 'solr', 'tsl', '...   \n",
       "157162  ['stochastic', 'crossover', 'stock', 'may', 'rally', 'fslr', 'httpwwwdojispacecomstockpicksfirst...   \n",
       "157163  ['someone', 'got', 'simple', 'quote', 'fslr', 'simplestockqtes', 'httpwwwsimplestockquotescomfslr']   \n",
       "\n",
       "                                                                                              Tweet_stemmed  \\\n",
       "0       ['first', 'solar', 'complet', 'sale', 'north', 'american', 'oampm', 'busi', 'novasourc', 'fslr',...   \n",
       "1       ['alyi', 'reveal', 'new', 'signific', 'invest', 'compani', 'lead', 'texa', 'base', 'privat', 'eq...   \n",
       "2       ['solarpowereu', 'renewableheu', 'eucommiss', 'akuoenergi', 'enelgreenpow', 'edprenew', 'enapt',...   \n",
       "3                                                  ['fslr', 'sector', 'move', 'confirm', 'httpstcohdwncif']   \n",
       "4       ['fslr', 'novasourc', 'power', 'servic', 'world', 'largest', 'solar', 'oampm', 'provid', 'acquis...   \n",
       "...                                                                                                     ...   \n",
       "157159  ['womarmd', 'watch', 'right', 'convinc', 'yet', 'solar', 'fslr', 'need', 'hold', 'jaso', 'break'...   \n",
       "157160  ['short', 'bust', 'scope', 'l', 'entri', 'high', 'ss', 'interest', 'name', 'ad', 'bbbb', 'cien',...   \n",
       "157161  ['solar', 'auriga', 'usa', 'research', 'sector', 'good', 'top', 'fa', 'name', 'solr', 'tsl', 'ma...   \n",
       "157162  ['stochast', 'crossov', 'stock', 'may', 'ralli', 'fslr', 'httpwwwdojispacecomstockpicksfirstsola...   \n",
       "157163       ['someon', 'got', 'simpl', 'quot', 'fslr', 'simplestockqt', 'httpwwwsimplestockquotescomfslr']   \n",
       "\n",
       "                                                                                           Tweet_lemmatized  \n",
       "0       ['first', 'solar', 'completes', 'sale', 'north', 'american', 'oampm', 'business', 'novasource', ...  \n",
       "1       ['alyi', 'reveal', 'new', 'significant', 'investment', 'company', 'leading', 'texas', 'based', '...  \n",
       "2       ['solarpowereu', 'renewableheu', 'eucommission', 'akuoenergy', 'enelgreenpower', 'edprenewables'...  \n",
       "3                                                ['fslr', 'sector', 'move', 'confirmed', 'httpstcohdwncif']  \n",
       "4       ['fslr', 'novasource', 'power', 'service', 'world', 'largest', 'solar', 'oampm', 'provider', 'ac...  \n",
       "...                                                                                                     ...  \n",
       "157159  ['womarmd', 'watching', 'right', 'convinced', 'yet', 'solar', 'fslr', 'need', 'hold', 'jaso', 'b...  \n",
       "157160  ['short', 'bust', 'scope', 'l', 'entry', 'high', 's', 'interest', 'name', 'ad', 'bbbb', 'cien', ...  \n",
       "157161  ['solars', 'auriga', 'usa', 'research', 'sector', 'good', 'top', 'fa', 'name', 'solr', 'tsl', 'm...  \n",
       "157162  ['stochastic', 'crossover', 'stock', 'may', 'rally', 'fslr', 'httpwwwdojispacecomstockpicksfirst...  \n",
       "157163  ['someone', 'got', 'simple', 'quote', 'fslr', 'simplestockqtes', 'httpwwwsimplestockquotescomfslr']  \n",
       "\n",
       "[157164 rows x 9 columns]"
      ]
     },
     "execution_count": 55,
     "metadata": {},
     "output_type": "execute_result"
    }
   ],
   "source": [
    "tweets_first_solar"
   ]
  },
  {
   "cell_type": "code",
   "execution_count": 58,
   "metadata": {},
   "outputs": [
    {
     "name": "stdout",
     "output_type": "stream",
     "text": [
      "<class 'pandas.core.frame.DataFrame'>\n",
      "Int64Index: 156812 entries, 0 to 157163\n",
      "Data columns (total 9 columns):\n",
      " #   Column            Non-Null Count   Dtype \n",
      "---  ------            --------------   ----- \n",
      " 0   CreatedAt         156812 non-null  object\n",
      " 1   TweetId           156812 non-null  object\n",
      " 2   AuthorId          156812 non-null  object\n",
      " 3   TweetText         156812 non-null  object\n",
      " 4   Tweet_punct       156812 non-null  object\n",
      " 5   Tweet_tokenized   156812 non-null  object\n",
      " 6   Tweet_nonstop     156812 non-null  object\n",
      " 7   Tweet_stemmed     156812 non-null  object\n",
      " 8   Tweet_lemmatized  156812 non-null  object\n",
      "dtypes: object(9)\n",
      "memory usage: 12.0+ MB\n"
     ]
    },
    {
     "ename": "KeyError",
     "evalue": "'CreatedAt'",
     "output_type": "error",
     "traceback": [
      "\u001b[0;31m---------------------------------------------------------------------------\u001b[0m",
      "\u001b[0;31mKeyError\u001b[0m                                  Traceback (most recent call last)",
      "\u001b[0;32m/opt/anaconda3/lib/python3.8/site-packages/pandas/core/indexes/base.py\u001b[0m in \u001b[0;36mget_loc\u001b[0;34m(self, key, method, tolerance)\u001b[0m\n\u001b[1;32m   2894\u001b[0m             \u001b[0;32mtry\u001b[0m\u001b[0;34m:\u001b[0m\u001b[0;34m\u001b[0m\u001b[0;34m\u001b[0m\u001b[0m\n\u001b[0;32m-> 2895\u001b[0;31m                 \u001b[0;32mreturn\u001b[0m \u001b[0mself\u001b[0m\u001b[0;34m.\u001b[0m\u001b[0m_engine\u001b[0m\u001b[0;34m.\u001b[0m\u001b[0mget_loc\u001b[0m\u001b[0;34m(\u001b[0m\u001b[0mcasted_key\u001b[0m\u001b[0;34m)\u001b[0m\u001b[0;34m\u001b[0m\u001b[0;34m\u001b[0m\u001b[0m\n\u001b[0m\u001b[1;32m   2896\u001b[0m             \u001b[0;32mexcept\u001b[0m \u001b[0mKeyError\u001b[0m \u001b[0;32mas\u001b[0m \u001b[0merr\u001b[0m\u001b[0;34m:\u001b[0m\u001b[0;34m\u001b[0m\u001b[0;34m\u001b[0m\u001b[0m\n",
      "\u001b[0;32mpandas/_libs/index.pyx\u001b[0m in \u001b[0;36mpandas._libs.index.IndexEngine.get_loc\u001b[0;34m()\u001b[0m\n",
      "\u001b[0;32mpandas/_libs/index.pyx\u001b[0m in \u001b[0;36mpandas._libs.index.IndexEngine.get_loc\u001b[0;34m()\u001b[0m\n",
      "\u001b[0;32mpandas/_libs/hashtable_class_helper.pxi\u001b[0m in \u001b[0;36mpandas._libs.hashtable.PyObjectHashTable.get_item\u001b[0;34m()\u001b[0m\n",
      "\u001b[0;32mpandas/_libs/hashtable_class_helper.pxi\u001b[0m in \u001b[0;36mpandas._libs.hashtable.PyObjectHashTable.get_item\u001b[0;34m()\u001b[0m\n",
      "\u001b[0;31mKeyError\u001b[0m: 'CreatedAt'",
      "\nThe above exception was the direct cause of the following exception:\n",
      "\u001b[0;31mKeyError\u001b[0m                                  Traceback (most recent call last)",
      "\u001b[0;32m<ipython-input-58-d76b61a2977e>\u001b[0m in \u001b[0;36m<module>\u001b[0;34m\u001b[0m\n\u001b[0;32m----> 1\u001b[0;31m \u001b[0mweekly_tweets_first_solar_v2\u001b[0m \u001b[0;34m=\u001b[0m \u001b[0mgenerate_weekly_counts\u001b[0m\u001b[0;34m(\u001b[0m\u001b[0mtweets_first_solar\u001b[0m\u001b[0;34m)\u001b[0m\u001b[0;34m\u001b[0m\u001b[0;34m\u001b[0m\u001b[0m\n\u001b[0m",
      "\u001b[0;32m<ipython-input-45-8868ad085f15>\u001b[0m in \u001b[0;36mgenerate_weekly_counts\u001b[0;34m(tweets_all)\u001b[0m\n\u001b[1;32m      8\u001b[0m \u001b[0;34m\u001b[0m\u001b[0m\n\u001b[1;32m      9\u001b[0m     \u001b[0;31m# created datetime as index\u001b[0m\u001b[0;34m\u001b[0m\u001b[0;34m\u001b[0m\u001b[0;34m\u001b[0m\u001b[0m\n\u001b[0;32m---> 10\u001b[0;31m     \u001b[0mtweets\u001b[0m \u001b[0;34m=\u001b[0m \u001b[0mcreate_date_time_index\u001b[0m\u001b[0;34m(\u001b[0m\u001b[0mtwitter_data\u001b[0m\u001b[0;34m)\u001b[0m\u001b[0;34m\u001b[0m\u001b[0;34m\u001b[0m\u001b[0m\n\u001b[0m\u001b[1;32m     11\u001b[0m \u001b[0;34m\u001b[0m\u001b[0m\n\u001b[1;32m     12\u001b[0m     \u001b[0;31m# counts tweets by week and create new dataframe\u001b[0m\u001b[0;34m\u001b[0m\u001b[0;34m\u001b[0m\u001b[0;34m\u001b[0m\u001b[0m\n",
      "\u001b[0;32m<ipython-input-10-edb5ec205e5c>\u001b[0m in \u001b[0;36mcreate_date_time_index\u001b[0;34m(df)\u001b[0m\n\u001b[1;32m      1\u001b[0m \u001b[0;32mdef\u001b[0m \u001b[0mcreate_date_time_index\u001b[0m\u001b[0;34m(\u001b[0m\u001b[0mdf\u001b[0m\u001b[0;34m)\u001b[0m\u001b[0;34m:\u001b[0m\u001b[0;34m\u001b[0m\u001b[0;34m\u001b[0m\u001b[0m\n\u001b[0;32m----> 2\u001b[0;31m     \u001b[0mdf\u001b[0m\u001b[0;34m.\u001b[0m\u001b[0mindex\u001b[0m \u001b[0;34m=\u001b[0m \u001b[0mpd\u001b[0m\u001b[0;34m.\u001b[0m\u001b[0mto_datetime\u001b[0m\u001b[0;34m(\u001b[0m\u001b[0mdf\u001b[0m\u001b[0;34m[\u001b[0m\u001b[0;34m'CreatedAt'\u001b[0m\u001b[0;34m]\u001b[0m\u001b[0;34m)\u001b[0m\u001b[0;34m\u001b[0m\u001b[0;34m\u001b[0m\u001b[0m\n\u001b[0m\u001b[1;32m      3\u001b[0m     \u001b[0mdf\u001b[0m\u001b[0;34m.\u001b[0m\u001b[0mrename\u001b[0m\u001b[0;34m(\u001b[0m\u001b[0mindex\u001b[0m\u001b[0;34m=\u001b[0m\u001b[0;34m{\u001b[0m\u001b[0;34m'CreatedAt'\u001b[0m\u001b[0;34m:\u001b[0m\u001b[0;34m'CreatedAtDateTime'\u001b[0m\u001b[0;34m}\u001b[0m\u001b[0;34m)\u001b[0m\u001b[0;34m\u001b[0m\u001b[0;34m\u001b[0m\u001b[0m\n\u001b[1;32m      4\u001b[0m     \u001b[0mdf\u001b[0m\u001b[0;34m.\u001b[0m\u001b[0mdrop\u001b[0m\u001b[0;34m(\u001b[0m\u001b[0;34m'CreatedAt'\u001b[0m\u001b[0;34m,\u001b[0m \u001b[0maxis\u001b[0m\u001b[0;34m=\u001b[0m\u001b[0;36m1\u001b[0m\u001b[0;34m,\u001b[0m \u001b[0minplace\u001b[0m\u001b[0;34m=\u001b[0m\u001b[0;32mTrue\u001b[0m\u001b[0;34m)\u001b[0m\u001b[0;34m\u001b[0m\u001b[0;34m\u001b[0m\u001b[0m\n\u001b[1;32m      5\u001b[0m     \u001b[0;32mreturn\u001b[0m \u001b[0mdf\u001b[0m\u001b[0;34m\u001b[0m\u001b[0;34m\u001b[0m\u001b[0m\n",
      "\u001b[0;32m/opt/anaconda3/lib/python3.8/site-packages/pandas/core/frame.py\u001b[0m in \u001b[0;36m__getitem__\u001b[0;34m(self, key)\u001b[0m\n\u001b[1;32m   2900\u001b[0m             \u001b[0;32mif\u001b[0m \u001b[0mself\u001b[0m\u001b[0;34m.\u001b[0m\u001b[0mcolumns\u001b[0m\u001b[0;34m.\u001b[0m\u001b[0mnlevels\u001b[0m \u001b[0;34m>\u001b[0m \u001b[0;36m1\u001b[0m\u001b[0;34m:\u001b[0m\u001b[0;34m\u001b[0m\u001b[0;34m\u001b[0m\u001b[0m\n\u001b[1;32m   2901\u001b[0m                 \u001b[0;32mreturn\u001b[0m \u001b[0mself\u001b[0m\u001b[0;34m.\u001b[0m\u001b[0m_getitem_multilevel\u001b[0m\u001b[0;34m(\u001b[0m\u001b[0mkey\u001b[0m\u001b[0;34m)\u001b[0m\u001b[0;34m\u001b[0m\u001b[0;34m\u001b[0m\u001b[0m\n\u001b[0;32m-> 2902\u001b[0;31m             \u001b[0mindexer\u001b[0m \u001b[0;34m=\u001b[0m \u001b[0mself\u001b[0m\u001b[0;34m.\u001b[0m\u001b[0mcolumns\u001b[0m\u001b[0;34m.\u001b[0m\u001b[0mget_loc\u001b[0m\u001b[0;34m(\u001b[0m\u001b[0mkey\u001b[0m\u001b[0;34m)\u001b[0m\u001b[0;34m\u001b[0m\u001b[0;34m\u001b[0m\u001b[0m\n\u001b[0m\u001b[1;32m   2903\u001b[0m             \u001b[0;32mif\u001b[0m \u001b[0mis_integer\u001b[0m\u001b[0;34m(\u001b[0m\u001b[0mindexer\u001b[0m\u001b[0;34m)\u001b[0m\u001b[0;34m:\u001b[0m\u001b[0;34m\u001b[0m\u001b[0;34m\u001b[0m\u001b[0m\n\u001b[1;32m   2904\u001b[0m                 \u001b[0mindexer\u001b[0m \u001b[0;34m=\u001b[0m \u001b[0;34m[\u001b[0m\u001b[0mindexer\u001b[0m\u001b[0;34m]\u001b[0m\u001b[0;34m\u001b[0m\u001b[0;34m\u001b[0m\u001b[0m\n",
      "\u001b[0;32m/opt/anaconda3/lib/python3.8/site-packages/pandas/core/indexes/base.py\u001b[0m in \u001b[0;36mget_loc\u001b[0;34m(self, key, method, tolerance)\u001b[0m\n\u001b[1;32m   2895\u001b[0m                 \u001b[0;32mreturn\u001b[0m \u001b[0mself\u001b[0m\u001b[0;34m.\u001b[0m\u001b[0m_engine\u001b[0m\u001b[0;34m.\u001b[0m\u001b[0mget_loc\u001b[0m\u001b[0;34m(\u001b[0m\u001b[0mcasted_key\u001b[0m\u001b[0;34m)\u001b[0m\u001b[0;34m\u001b[0m\u001b[0;34m\u001b[0m\u001b[0m\n\u001b[1;32m   2896\u001b[0m             \u001b[0;32mexcept\u001b[0m \u001b[0mKeyError\u001b[0m \u001b[0;32mas\u001b[0m \u001b[0merr\u001b[0m\u001b[0;34m:\u001b[0m\u001b[0;34m\u001b[0m\u001b[0;34m\u001b[0m\u001b[0m\n\u001b[0;32m-> 2897\u001b[0;31m                 \u001b[0;32mraise\u001b[0m \u001b[0mKeyError\u001b[0m\u001b[0;34m(\u001b[0m\u001b[0mkey\u001b[0m\u001b[0;34m)\u001b[0m \u001b[0;32mfrom\u001b[0m \u001b[0merr\u001b[0m\u001b[0;34m\u001b[0m\u001b[0;34m\u001b[0m\u001b[0m\n\u001b[0m\u001b[1;32m   2898\u001b[0m \u001b[0;34m\u001b[0m\u001b[0m\n\u001b[1;32m   2899\u001b[0m         \u001b[0;32mif\u001b[0m \u001b[0mtolerance\u001b[0m \u001b[0;32mis\u001b[0m \u001b[0;32mnot\u001b[0m \u001b[0;32mNone\u001b[0m\u001b[0;34m:\u001b[0m\u001b[0;34m\u001b[0m\u001b[0;34m\u001b[0m\u001b[0m\n",
      "\u001b[0;31mKeyError\u001b[0m: 'CreatedAt'"
     ]
    }
   ],
   "source": [
    "weekly_tweets_first_solar_v2 = generate_weekly_counts(tweets_first_solar)"
   ]
  },
  {
   "cell_type": "code",
   "execution_count": null,
   "metadata": {},
   "outputs": [],
   "source": []
  }
 ],
 "metadata": {
  "kernelspec": {
   "display_name": "Python 3",
   "language": "python",
   "name": "python3"
  },
  "language_info": {
   "codemirror_mode": {
    "name": "ipython",
    "version": 3
   },
   "file_extension": ".py",
   "mimetype": "text/x-python",
   "name": "python",
   "nbconvert_exporter": "python",
   "pygments_lexer": "ipython3",
   "version": "3.8.5"
  }
 },
 "nbformat": 4,
 "nbformat_minor": 4
}

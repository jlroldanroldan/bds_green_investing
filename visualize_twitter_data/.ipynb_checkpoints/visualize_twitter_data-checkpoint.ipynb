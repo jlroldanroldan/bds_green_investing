{
 "cells": [
  {
   "cell_type": "code",
   "execution_count": 1,
   "metadata": {},
   "outputs": [],
   "source": [
    "# Import libraries\n",
    "import pandas as pd\n",
    "import numpy as np\n",
    "import seaborn as sns\n",
    "import matplotlib.pyplot as plt\n",
    "from sklearn.feature_extraction.text import CountVectorizer\n",
    "import nltk \n",
    "import string\n",
    "import re\n",
    "import dateutil.parser\n",
    "%matplotlib inline\n",
    "pd.set_option('display.max_colwidth', 100)"
   ]
  },
  {
   "cell_type": "markdown",
   "metadata": {},
   "source": [
    "## Load data"
   ]
  },
  {
   "cell_type": "code",
   "execution_count": 2,
   "metadata": {},
   "outputs": [],
   "source": [
    "# Load dataset\n",
    "twitter_data_all = pd.read_csv('../../data/data_collected_ref_cleaned/2_first_solar_tweets_cleaned_v2.csv')"
   ]
  },
  {
   "cell_type": "code",
   "execution_count": 3,
   "metadata": {},
   "outputs": [],
   "source": [
    "# twitter_data_all.head()"
   ]
  },
  {
   "cell_type": "code",
   "execution_count": 4,
   "metadata": {},
   "outputs": [],
   "source": [
    "# twitter_data_all.info()"
   ]
  },
  {
   "cell_type": "code",
   "execution_count": 5,
   "metadata": {},
   "outputs": [],
   "source": [
    "# datetime = pd.to_datetime(twitter_data['CreatedAt'])"
   ]
  },
  {
   "cell_type": "markdown",
   "metadata": {},
   "source": [
    "## Delete header rows"
   ]
  },
  {
   "cell_type": "code",
   "execution_count": 6,
   "metadata": {},
   "outputs": [
    {
     "data": {
      "text/plain": [
       "Int64Index([   492,    989,   1208,   1704,   2196,   2665,   3163,   3664,\n",
       "              4163,   4540,\n",
       "            ...\n",
       "            152624, 153118, 153617, 154117, 154615, 155113, 155609, 156105,\n",
       "            156600, 157096],\n",
       "           dtype='int64', length=352)"
      ]
     },
     "execution_count": 6,
     "metadata": {},
     "output_type": "execute_result"
    }
   ],
   "source": [
    "index_names = twitter_data_all[ twitter_data_all['CreatedAt'] == 'CreatedAt' ].index\n",
    "index_names"
   ]
  },
  {
   "cell_type": "code",
   "execution_count": 7,
   "metadata": {},
   "outputs": [],
   "source": [
    "twitter_data_all.drop(index_names, inplace = True)"
   ]
  },
  {
   "cell_type": "code",
   "execution_count": 8,
   "metadata": {},
   "outputs": [
    {
     "name": "stdout",
     "output_type": "stream",
     "text": [
      "<class 'pandas.core.frame.DataFrame'>\n",
      "Int64Index: 156812 entries, 0 to 157163\n",
      "Data columns (total 9 columns):\n",
      " #   Column            Non-Null Count   Dtype \n",
      "---  ------            --------------   ----- \n",
      " 0   CreatedAt         156812 non-null  object\n",
      " 1   TweetId           156812 non-null  object\n",
      " 2   AuthorId          156812 non-null  object\n",
      " 3   TweetText         156812 non-null  object\n",
      " 4   Tweet_punct       156812 non-null  object\n",
      " 5   Tweet_tokenized   156812 non-null  object\n",
      " 6   Tweet_nonstop     156812 non-null  object\n",
      " 7   Tweet_stemmed     156812 non-null  object\n",
      " 8   Tweet_lemmatized  156812 non-null  object\n",
      "dtypes: object(9)\n",
      "memory usage: 12.0+ MB\n"
     ]
    }
   ],
   "source": [
    "twitter_data_all.info()"
   ]
  },
  {
   "cell_type": "markdown",
   "metadata": {},
   "source": [
    "## Select Columns "
   ]
  },
  {
   "cell_type": "code",
   "execution_count": 9,
   "metadata": {},
   "outputs": [
    {
     "data": {
      "text/html": [
       "<div>\n",
       "<style scoped>\n",
       "    .dataframe tbody tr th:only-of-type {\n",
       "        vertical-align: middle;\n",
       "    }\n",
       "\n",
       "    .dataframe tbody tr th {\n",
       "        vertical-align: top;\n",
       "    }\n",
       "\n",
       "    .dataframe thead th {\n",
       "        text-align: right;\n",
       "    }\n",
       "</style>\n",
       "<table border=\"1\" class=\"dataframe\">\n",
       "  <thead>\n",
       "    <tr style=\"text-align: right;\">\n",
       "      <th></th>\n",
       "      <th>CreatedAt</th>\n",
       "      <th>TweetId</th>\n",
       "      <th>AuthorId</th>\n",
       "      <th>TweetText</th>\n",
       "      <th>Tweet_stemmed</th>\n",
       "    </tr>\n",
       "  </thead>\n",
       "  <tbody>\n",
       "    <tr>\n",
       "      <th>0</th>\n",
       "      <td>2021-04-01T00:50:05.000Z</td>\n",
       "      <td>1377422984751775755</td>\n",
       "      <td>1134049078424162304</td>\n",
       "      <td>First Solar Completes Sale of North American O&amp;amp;M Business to NovaSource $FSLR https://t.co/j...</td>\n",
       "      <td>['first', 'solar', 'complet', 'sale', 'north', 'american', 'oampm', 'busi', 'novasourc', 'fslr',...</td>\n",
       "    </tr>\n",
       "    <tr>\n",
       "      <th>1</th>\n",
       "      <td>2021-03-31T23:54:00.000Z</td>\n",
       "      <td>1377408871212351489</td>\n",
       "      <td>586116334</td>\n",
       "      <td>$ALYI To Reveal New Significant Investment In Company From Leading Texas Based Private Equity Fu...</td>\n",
       "      <td>['alyi', 'reveal', 'new', 'signific', 'invest', 'compani', 'lead', 'texa', 'base', 'privat', 'eq...</td>\n",
       "    </tr>\n",
       "    <tr>\n",
       "      <th>2</th>\n",
       "      <td>2021-03-31T23:47:40.000Z</td>\n",
       "      <td>1377407278056230912</td>\n",
       "      <td>1313171678625701889</td>\n",
       "      <td>@SolarPowerEU @renewableH2EU @EU_Commission @Akuo_Energy @enelgreenpower @EdpRenewables @Enapter...</td>\n",
       "      <td>['solarpowereu', 'renewableheu', 'eucommiss', 'akuoenergi', 'enelgreenpow', 'edprenew', 'enapt',...</td>\n",
       "    </tr>\n",
       "    <tr>\n",
       "      <th>3</th>\n",
       "      <td>2021-03-31T23:31:00.000Z</td>\n",
       "      <td>1377403081005150211</td>\n",
       "      <td>831801503694336000</td>\n",
       "      <td>$FSLR sector move confirmed https://t.co/h08Dwn5CIF</td>\n",
       "      <td>['fslr', 'sector', 'move', 'confirm', 'httpstcohdwncif']</td>\n",
       "    </tr>\n",
       "    <tr>\n",
       "      <th>4</th>\n",
       "      <td>2021-03-31T23:29:07.000Z</td>\n",
       "      <td>1377402607010902019</td>\n",
       "      <td>1355194932445786112</td>\n",
       "      <td>$FSLR NovaSource Power Services is World's Largest Solar O&amp;amp;M Provider with Acquisition of Fi...</td>\n",
       "      <td>['fslr', 'novasourc', 'power', 'servic', 'world', 'largest', 'solar', 'oampm', 'provid', 'acquis...</td>\n",
       "    </tr>\n",
       "  </tbody>\n",
       "</table>\n",
       "</div>"
      ],
      "text/plain": [
       "                  CreatedAt              TweetId             AuthorId  \\\n",
       "0  2021-04-01T00:50:05.000Z  1377422984751775755  1134049078424162304   \n",
       "1  2021-03-31T23:54:00.000Z  1377408871212351489            586116334   \n",
       "2  2021-03-31T23:47:40.000Z  1377407278056230912  1313171678625701889   \n",
       "3  2021-03-31T23:31:00.000Z  1377403081005150211   831801503694336000   \n",
       "4  2021-03-31T23:29:07.000Z  1377402607010902019  1355194932445786112   \n",
       "\n",
       "                                                                                             TweetText  \\\n",
       "0  First Solar Completes Sale of North American O&amp;M Business to NovaSource $FSLR https://t.co/j...   \n",
       "1  $ALYI To Reveal New Significant Investment In Company From Leading Texas Based Private Equity Fu...   \n",
       "2  @SolarPowerEU @renewableH2EU @EU_Commission @Akuo_Energy @enelgreenpower @EdpRenewables @Enapter...   \n",
       "3                                                  $FSLR sector move confirmed https://t.co/h08Dwn5CIF   \n",
       "4  $FSLR NovaSource Power Services is World's Largest Solar O&amp;M Provider with Acquisition of Fi...   \n",
       "\n",
       "                                                                                         Tweet_stemmed  \n",
       "0  ['first', 'solar', 'complet', 'sale', 'north', 'american', 'oampm', 'busi', 'novasourc', 'fslr',...  \n",
       "1  ['alyi', 'reveal', 'new', 'signific', 'invest', 'compani', 'lead', 'texa', 'base', 'privat', 'eq...  \n",
       "2  ['solarpowereu', 'renewableheu', 'eucommiss', 'akuoenergi', 'enelgreenpow', 'edprenew', 'enapt',...  \n",
       "3                                             ['fslr', 'sector', 'move', 'confirm', 'httpstcohdwncif']  \n",
       "4  ['fslr', 'novasourc', 'power', 'servic', 'world', 'largest', 'solar', 'oampm', 'provid', 'acquis...  "
      ]
     },
     "execution_count": 9,
     "metadata": {},
     "output_type": "execute_result"
    }
   ],
   "source": [
    "columns = ['CreatedAt',  'TweetId', 'AuthorId', 'TweetText', 'Tweet_stemmed']\n",
    "twitter_data = twitter_data_all[columns]\n",
    "twitter_data.head()"
   ]
  },
  {
   "cell_type": "code",
   "execution_count": 10,
   "metadata": {},
   "outputs": [
    {
     "name": "stdout",
     "output_type": "stream",
     "text": [
      "2008-09-03 20:56:35.450686+00:00\n"
     ]
    }
   ],
   "source": [
    "print(dateutil.parser.isoparse('2008-09-03T20:56:35.450686Z'))"
   ]
  },
  {
   "cell_type": "code",
   "execution_count": 11,
   "metadata": {},
   "outputs": [],
   "source": [
    "# twitter_data.head()\n",
    "def change_time_type(createdAtAtribute):\n",
    "    changed_time = dateutil.parser.isoparse(createdAtAtribute)\n",
    "    return changed_time"
   ]
  },
  {
   "cell_type": "code",
   "execution_count": 12,
   "metadata": {},
   "outputs": [],
   "source": [
    "# twitter_data['datetest'] = dateutil.parser.isoparse((twitter_data['CreatedAt']))\n",
    "# twitter_data_date_test = twitter_data['CreatedAt'][0]\n",
    "# twitter_data_date_test\n",
    "# print(dateutil.parser.isoparse(twitter_data_date_test))\n",
    "# # testing = change_time_type(twitter_data['CreatedAt'][0])\n",
    "# print(twitter_data['CreatedAt'])\n",
    "# print(change_time_type(twitter_data['CreatedAt'][0]))"
   ]
  },
  {
   "cell_type": "code",
   "execution_count": 13,
   "metadata": {},
   "outputs": [
    {
     "name": "stderr",
     "output_type": "stream",
     "text": [
      "<ipython-input-13-02a89fb700ea>:1: SettingWithCopyWarning: \n",
      "A value is trying to be set on a copy of a slice from a DataFrame.\n",
      "Try using .loc[row_indexer,col_indexer] = value instead\n",
      "\n",
      "See the caveats in the documentation: https://pandas.pydata.org/pandas-docs/stable/user_guide/indexing.html#returning-a-view-versus-a-copy\n",
      "  twitter_data['created_datetime'] = twitter_data['CreatedAt'].apply(lambda x: change_time_type(x))\n"
     ]
    }
   ],
   "source": [
    "twitter_data['created_datetime'] = twitter_data['CreatedAt'].apply(lambda x: change_time_type(x))\n",
    "# print(type(twitter_data['CreatedAt'][0]))"
   ]
  },
  {
   "cell_type": "code",
   "execution_count": 14,
   "metadata": {},
   "outputs": [
    {
     "data": {
      "text/html": [
       "<div>\n",
       "<style scoped>\n",
       "    .dataframe tbody tr th:only-of-type {\n",
       "        vertical-align: middle;\n",
       "    }\n",
       "\n",
       "    .dataframe tbody tr th {\n",
       "        vertical-align: top;\n",
       "    }\n",
       "\n",
       "    .dataframe thead th {\n",
       "        text-align: right;\n",
       "    }\n",
       "</style>\n",
       "<table border=\"1\" class=\"dataframe\">\n",
       "  <thead>\n",
       "    <tr style=\"text-align: right;\">\n",
       "      <th></th>\n",
       "      <th>CreatedAt</th>\n",
       "      <th>TweetId</th>\n",
       "      <th>AuthorId</th>\n",
       "      <th>TweetText</th>\n",
       "      <th>Tweet_stemmed</th>\n",
       "      <th>created_datetime</th>\n",
       "    </tr>\n",
       "  </thead>\n",
       "  <tbody>\n",
       "    <tr>\n",
       "      <th>0</th>\n",
       "      <td>2021-04-01T00:50:05.000Z</td>\n",
       "      <td>1377422984751775755</td>\n",
       "      <td>1134049078424162304</td>\n",
       "      <td>First Solar Completes Sale of North American O&amp;amp;M Business to NovaSource $FSLR https://t.co/j...</td>\n",
       "      <td>['first', 'solar', 'complet', 'sale', 'north', 'american', 'oampm', 'busi', 'novasourc', 'fslr',...</td>\n",
       "      <td>2021-04-01 00:50:05+00:00</td>\n",
       "    </tr>\n",
       "    <tr>\n",
       "      <th>1</th>\n",
       "      <td>2021-03-31T23:54:00.000Z</td>\n",
       "      <td>1377408871212351489</td>\n",
       "      <td>586116334</td>\n",
       "      <td>$ALYI To Reveal New Significant Investment In Company From Leading Texas Based Private Equity Fu...</td>\n",
       "      <td>['alyi', 'reveal', 'new', 'signific', 'invest', 'compani', 'lead', 'texa', 'base', 'privat', 'eq...</td>\n",
       "      <td>2021-03-31 23:54:00+00:00</td>\n",
       "    </tr>\n",
       "    <tr>\n",
       "      <th>2</th>\n",
       "      <td>2021-03-31T23:47:40.000Z</td>\n",
       "      <td>1377407278056230912</td>\n",
       "      <td>1313171678625701889</td>\n",
       "      <td>@SolarPowerEU @renewableH2EU @EU_Commission @Akuo_Energy @enelgreenpower @EdpRenewables @Enapter...</td>\n",
       "      <td>['solarpowereu', 'renewableheu', 'eucommiss', 'akuoenergi', 'enelgreenpow', 'edprenew', 'enapt',...</td>\n",
       "      <td>2021-03-31 23:47:40+00:00</td>\n",
       "    </tr>\n",
       "    <tr>\n",
       "      <th>3</th>\n",
       "      <td>2021-03-31T23:31:00.000Z</td>\n",
       "      <td>1377403081005150211</td>\n",
       "      <td>831801503694336000</td>\n",
       "      <td>$FSLR sector move confirmed https://t.co/h08Dwn5CIF</td>\n",
       "      <td>['fslr', 'sector', 'move', 'confirm', 'httpstcohdwncif']</td>\n",
       "      <td>2021-03-31 23:31:00+00:00</td>\n",
       "    </tr>\n",
       "    <tr>\n",
       "      <th>4</th>\n",
       "      <td>2021-03-31T23:29:07.000Z</td>\n",
       "      <td>1377402607010902019</td>\n",
       "      <td>1355194932445786112</td>\n",
       "      <td>$FSLR NovaSource Power Services is World's Largest Solar O&amp;amp;M Provider with Acquisition of Fi...</td>\n",
       "      <td>['fslr', 'novasourc', 'power', 'servic', 'world', 'largest', 'solar', 'oampm', 'provid', 'acquis...</td>\n",
       "      <td>2021-03-31 23:29:07+00:00</td>\n",
       "    </tr>\n",
       "  </tbody>\n",
       "</table>\n",
       "</div>"
      ],
      "text/plain": [
       "                  CreatedAt              TweetId             AuthorId  \\\n",
       "0  2021-04-01T00:50:05.000Z  1377422984751775755  1134049078424162304   \n",
       "1  2021-03-31T23:54:00.000Z  1377408871212351489            586116334   \n",
       "2  2021-03-31T23:47:40.000Z  1377407278056230912  1313171678625701889   \n",
       "3  2021-03-31T23:31:00.000Z  1377403081005150211   831801503694336000   \n",
       "4  2021-03-31T23:29:07.000Z  1377402607010902019  1355194932445786112   \n",
       "\n",
       "                                                                                             TweetText  \\\n",
       "0  First Solar Completes Sale of North American O&amp;M Business to NovaSource $FSLR https://t.co/j...   \n",
       "1  $ALYI To Reveal New Significant Investment In Company From Leading Texas Based Private Equity Fu...   \n",
       "2  @SolarPowerEU @renewableH2EU @EU_Commission @Akuo_Energy @enelgreenpower @EdpRenewables @Enapter...   \n",
       "3                                                  $FSLR sector move confirmed https://t.co/h08Dwn5CIF   \n",
       "4  $FSLR NovaSource Power Services is World's Largest Solar O&amp;M Provider with Acquisition of Fi...   \n",
       "\n",
       "                                                                                         Tweet_stemmed  \\\n",
       "0  ['first', 'solar', 'complet', 'sale', 'north', 'american', 'oampm', 'busi', 'novasourc', 'fslr',...   \n",
       "1  ['alyi', 'reveal', 'new', 'signific', 'invest', 'compani', 'lead', 'texa', 'base', 'privat', 'eq...   \n",
       "2  ['solarpowereu', 'renewableheu', 'eucommiss', 'akuoenergi', 'enelgreenpow', 'edprenew', 'enapt',...   \n",
       "3                                             ['fslr', 'sector', 'move', 'confirm', 'httpstcohdwncif']   \n",
       "4  ['fslr', 'novasourc', 'power', 'servic', 'world', 'largest', 'solar', 'oampm', 'provid', 'acquis...   \n",
       "\n",
       "           created_datetime  \n",
       "0 2021-04-01 00:50:05+00:00  \n",
       "1 2021-03-31 23:54:00+00:00  \n",
       "2 2021-03-31 23:47:40+00:00  \n",
       "3 2021-03-31 23:31:00+00:00  \n",
       "4 2021-03-31 23:29:07+00:00  "
      ]
     },
     "execution_count": 14,
     "metadata": {},
     "output_type": "execute_result"
    }
   ],
   "source": [
    "twitter_data.head()"
   ]
  },
  {
   "cell_type": "code",
   "execution_count": 15,
   "metadata": {},
   "outputs": [
    {
     "name": "stderr",
     "output_type": "stream",
     "text": [
      "<ipython-input-15-cac6ce402a0b>:1: SettingWithCopyWarning: \n",
      "A value is trying to be set on a copy of a slice from a DataFrame.\n",
      "Try using .loc[row_indexer,col_indexer] = value instead\n",
      "\n",
      "See the caveats in the documentation: https://pandas.pydata.org/pandas-docs/stable/user_guide/indexing.html#returning-a-view-versus-a-copy\n",
      "  twitter_data['day'] = twitter_data['created_datetime'].apply(lambda x: \"%d/%d/%d\" % (x.month, x.day , x.year))\n"
     ]
    }
   ],
   "source": [
    "twitter_data['day'] = twitter_data['created_datetime'].apply(lambda x: \"%d/%d/%d\" % (x.month, x.day , x.year))"
   ]
  },
  {
   "cell_type": "code",
   "execution_count": 16,
   "metadata": {},
   "outputs": [
    {
     "data": {
      "text/html": [
       "<div>\n",
       "<style scoped>\n",
       "    .dataframe tbody tr th:only-of-type {\n",
       "        vertical-align: middle;\n",
       "    }\n",
       "\n",
       "    .dataframe tbody tr th {\n",
       "        vertical-align: top;\n",
       "    }\n",
       "\n",
       "    .dataframe thead th {\n",
       "        text-align: right;\n",
       "    }\n",
       "</style>\n",
       "<table border=\"1\" class=\"dataframe\">\n",
       "  <thead>\n",
       "    <tr style=\"text-align: right;\">\n",
       "      <th></th>\n",
       "      <th>CreatedAt</th>\n",
       "      <th>TweetId</th>\n",
       "      <th>AuthorId</th>\n",
       "      <th>TweetText</th>\n",
       "      <th>Tweet_stemmed</th>\n",
       "      <th>created_datetime</th>\n",
       "      <th>day</th>\n",
       "    </tr>\n",
       "  </thead>\n",
       "  <tbody>\n",
       "    <tr>\n",
       "      <th>0</th>\n",
       "      <td>2021-04-01T00:50:05.000Z</td>\n",
       "      <td>1377422984751775755</td>\n",
       "      <td>1134049078424162304</td>\n",
       "      <td>First Solar Completes Sale of North American O&amp;amp;M Business to NovaSource $FSLR https://t.co/j...</td>\n",
       "      <td>['first', 'solar', 'complet', 'sale', 'north', 'american', 'oampm', 'busi', 'novasourc', 'fslr',...</td>\n",
       "      <td>2021-04-01 00:50:05+00:00</td>\n",
       "      <td>4/1/2021</td>\n",
       "    </tr>\n",
       "    <tr>\n",
       "      <th>1</th>\n",
       "      <td>2021-03-31T23:54:00.000Z</td>\n",
       "      <td>1377408871212351489</td>\n",
       "      <td>586116334</td>\n",
       "      <td>$ALYI To Reveal New Significant Investment In Company From Leading Texas Based Private Equity Fu...</td>\n",
       "      <td>['alyi', 'reveal', 'new', 'signific', 'invest', 'compani', 'lead', 'texa', 'base', 'privat', 'eq...</td>\n",
       "      <td>2021-03-31 23:54:00+00:00</td>\n",
       "      <td>3/31/2021</td>\n",
       "    </tr>\n",
       "    <tr>\n",
       "      <th>2</th>\n",
       "      <td>2021-03-31T23:47:40.000Z</td>\n",
       "      <td>1377407278056230912</td>\n",
       "      <td>1313171678625701889</td>\n",
       "      <td>@SolarPowerEU @renewableH2EU @EU_Commission @Akuo_Energy @enelgreenpower @EdpRenewables @Enapter...</td>\n",
       "      <td>['solarpowereu', 'renewableheu', 'eucommiss', 'akuoenergi', 'enelgreenpow', 'edprenew', 'enapt',...</td>\n",
       "      <td>2021-03-31 23:47:40+00:00</td>\n",
       "      <td>3/31/2021</td>\n",
       "    </tr>\n",
       "    <tr>\n",
       "      <th>3</th>\n",
       "      <td>2021-03-31T23:31:00.000Z</td>\n",
       "      <td>1377403081005150211</td>\n",
       "      <td>831801503694336000</td>\n",
       "      <td>$FSLR sector move confirmed https://t.co/h08Dwn5CIF</td>\n",
       "      <td>['fslr', 'sector', 'move', 'confirm', 'httpstcohdwncif']</td>\n",
       "      <td>2021-03-31 23:31:00+00:00</td>\n",
       "      <td>3/31/2021</td>\n",
       "    </tr>\n",
       "    <tr>\n",
       "      <th>4</th>\n",
       "      <td>2021-03-31T23:29:07.000Z</td>\n",
       "      <td>1377402607010902019</td>\n",
       "      <td>1355194932445786112</td>\n",
       "      <td>$FSLR NovaSource Power Services is World's Largest Solar O&amp;amp;M Provider with Acquisition of Fi...</td>\n",
       "      <td>['fslr', 'novasourc', 'power', 'servic', 'world', 'largest', 'solar', 'oampm', 'provid', 'acquis...</td>\n",
       "      <td>2021-03-31 23:29:07+00:00</td>\n",
       "      <td>3/31/2021</td>\n",
       "    </tr>\n",
       "  </tbody>\n",
       "</table>\n",
       "</div>"
      ],
      "text/plain": [
       "                  CreatedAt              TweetId             AuthorId  \\\n",
       "0  2021-04-01T00:50:05.000Z  1377422984751775755  1134049078424162304   \n",
       "1  2021-03-31T23:54:00.000Z  1377408871212351489            586116334   \n",
       "2  2021-03-31T23:47:40.000Z  1377407278056230912  1313171678625701889   \n",
       "3  2021-03-31T23:31:00.000Z  1377403081005150211   831801503694336000   \n",
       "4  2021-03-31T23:29:07.000Z  1377402607010902019  1355194932445786112   \n",
       "\n",
       "                                                                                             TweetText  \\\n",
       "0  First Solar Completes Sale of North American O&amp;M Business to NovaSource $FSLR https://t.co/j...   \n",
       "1  $ALYI To Reveal New Significant Investment In Company From Leading Texas Based Private Equity Fu...   \n",
       "2  @SolarPowerEU @renewableH2EU @EU_Commission @Akuo_Energy @enelgreenpower @EdpRenewables @Enapter...   \n",
       "3                                                  $FSLR sector move confirmed https://t.co/h08Dwn5CIF   \n",
       "4  $FSLR NovaSource Power Services is World's Largest Solar O&amp;M Provider with Acquisition of Fi...   \n",
       "\n",
       "                                                                                         Tweet_stemmed  \\\n",
       "0  ['first', 'solar', 'complet', 'sale', 'north', 'american', 'oampm', 'busi', 'novasourc', 'fslr',...   \n",
       "1  ['alyi', 'reveal', 'new', 'signific', 'invest', 'compani', 'lead', 'texa', 'base', 'privat', 'eq...   \n",
       "2  ['solarpowereu', 'renewableheu', 'eucommiss', 'akuoenergi', 'enelgreenpow', 'edprenew', 'enapt',...   \n",
       "3                                             ['fslr', 'sector', 'move', 'confirm', 'httpstcohdwncif']   \n",
       "4  ['fslr', 'novasourc', 'power', 'servic', 'world', 'largest', 'solar', 'oampm', 'provid', 'acquis...   \n",
       "\n",
       "           created_datetime        day  \n",
       "0 2021-04-01 00:50:05+00:00   4/1/2021  \n",
       "1 2021-03-31 23:54:00+00:00  3/31/2021  \n",
       "2 2021-03-31 23:47:40+00:00  3/31/2021  \n",
       "3 2021-03-31 23:31:00+00:00  3/31/2021  \n",
       "4 2021-03-31 23:29:07+00:00  3/31/2021  "
      ]
     },
     "execution_count": 16,
     "metadata": {},
     "output_type": "execute_result"
    }
   ],
   "source": [
    "twitter_data.head()"
   ]
  },
  {
   "cell_type": "markdown",
   "metadata": {},
   "source": [
    "# Group By Date"
   ]
  },
  {
   "cell_type": "code",
   "execution_count": 20,
   "metadata": {},
   "outputs": [
    {
     "data": {
      "text/plain": [
       "Index(['CreatedAt', 'TweetId', 'AuthorId', 'TweetText', 'Tweet_stemmed',\n",
       "       'created_datetime', 'day'],\n",
       "      dtype='object')"
      ]
     },
     "execution_count": 20,
     "metadata": {},
     "output_type": "execute_result"
    }
   ],
   "source": [
    "twitter_data.columns"
   ]
  },
  {
   "cell_type": "code",
   "execution_count": 27,
   "metadata": {},
   "outputs": [],
   "source": [
    "twitter_data.index = pd.to_datetime(twitter_data['CreatedAt'])"
   ]
  },
  {
   "cell_type": "code",
   "execution_count": 35,
   "metadata": {},
   "outputs": [],
   "source": [
    "df_1 = twitter_data.resample('W').count()"
   ]
  },
  {
   "cell_type": "code",
   "execution_count": 36,
   "metadata": {},
   "outputs": [
    {
     "data": {
      "text/html": [
       "<div>\n",
       "<style scoped>\n",
       "    .dataframe tbody tr th:only-of-type {\n",
       "        vertical-align: middle;\n",
       "    }\n",
       "\n",
       "    .dataframe tbody tr th {\n",
       "        vertical-align: top;\n",
       "    }\n",
       "\n",
       "    .dataframe thead th {\n",
       "        text-align: right;\n",
       "    }\n",
       "</style>\n",
       "<table border=\"1\" class=\"dataframe\">\n",
       "  <thead>\n",
       "    <tr style=\"text-align: right;\">\n",
       "      <th></th>\n",
       "      <th>CreatedAt</th>\n",
       "      <th>TweetId</th>\n",
       "      <th>AuthorId</th>\n",
       "      <th>TweetText</th>\n",
       "      <th>Tweet_stemmed</th>\n",
       "      <th>created_datetime</th>\n",
       "      <th>day</th>\n",
       "    </tr>\n",
       "    <tr>\n",
       "      <th>CreatedAt</th>\n",
       "      <th></th>\n",
       "      <th></th>\n",
       "      <th></th>\n",
       "      <th></th>\n",
       "      <th></th>\n",
       "      <th></th>\n",
       "      <th></th>\n",
       "    </tr>\n",
       "  </thead>\n",
       "  <tbody>\n",
       "    <tr>\n",
       "      <th>2011-01-02 00:00:00+00:00</th>\n",
       "      <td>5</td>\n",
       "      <td>5</td>\n",
       "      <td>5</td>\n",
       "      <td>5</td>\n",
       "      <td>5</td>\n",
       "      <td>5</td>\n",
       "      <td>5</td>\n",
       "    </tr>\n",
       "    <tr>\n",
       "      <th>2011-01-09 00:00:00+00:00</th>\n",
       "      <td>80</td>\n",
       "      <td>80</td>\n",
       "      <td>80</td>\n",
       "      <td>80</td>\n",
       "      <td>80</td>\n",
       "      <td>80</td>\n",
       "      <td>80</td>\n",
       "    </tr>\n",
       "    <tr>\n",
       "      <th>2011-01-16 00:00:00+00:00</th>\n",
       "      <td>75</td>\n",
       "      <td>75</td>\n",
       "      <td>75</td>\n",
       "      <td>75</td>\n",
       "      <td>75</td>\n",
       "      <td>75</td>\n",
       "      <td>75</td>\n",
       "    </tr>\n",
       "    <tr>\n",
       "      <th>2011-01-23 00:00:00+00:00</th>\n",
       "      <td>93</td>\n",
       "      <td>93</td>\n",
       "      <td>93</td>\n",
       "      <td>93</td>\n",
       "      <td>93</td>\n",
       "      <td>93</td>\n",
       "      <td>93</td>\n",
       "    </tr>\n",
       "    <tr>\n",
       "      <th>2011-01-30 00:00:00+00:00</th>\n",
       "      <td>142</td>\n",
       "      <td>142</td>\n",
       "      <td>142</td>\n",
       "      <td>142</td>\n",
       "      <td>142</td>\n",
       "      <td>142</td>\n",
       "      <td>142</td>\n",
       "    </tr>\n",
       "    <tr>\n",
       "      <th>...</th>\n",
       "      <td>...</td>\n",
       "      <td>...</td>\n",
       "      <td>...</td>\n",
       "      <td>...</td>\n",
       "      <td>...</td>\n",
       "      <td>...</td>\n",
       "      <td>...</td>\n",
       "    </tr>\n",
       "    <tr>\n",
       "      <th>2021-03-07 00:00:00+00:00</th>\n",
       "      <td>232</td>\n",
       "      <td>232</td>\n",
       "      <td>232</td>\n",
       "      <td>232</td>\n",
       "      <td>232</td>\n",
       "      <td>232</td>\n",
       "      <td>232</td>\n",
       "    </tr>\n",
       "    <tr>\n",
       "      <th>2021-03-14 00:00:00+00:00</th>\n",
       "      <td>375</td>\n",
       "      <td>375</td>\n",
       "      <td>375</td>\n",
       "      <td>375</td>\n",
       "      <td>375</td>\n",
       "      <td>375</td>\n",
       "      <td>375</td>\n",
       "    </tr>\n",
       "    <tr>\n",
       "      <th>2021-03-21 00:00:00+00:00</th>\n",
       "      <td>169</td>\n",
       "      <td>169</td>\n",
       "      <td>169</td>\n",
       "      <td>169</td>\n",
       "      <td>169</td>\n",
       "      <td>169</td>\n",
       "      <td>169</td>\n",
       "    </tr>\n",
       "    <tr>\n",
       "      <th>2021-03-28 00:00:00+00:00</th>\n",
       "      <td>250</td>\n",
       "      <td>250</td>\n",
       "      <td>250</td>\n",
       "      <td>250</td>\n",
       "      <td>250</td>\n",
       "      <td>250</td>\n",
       "      <td>250</td>\n",
       "    </tr>\n",
       "    <tr>\n",
       "      <th>2021-04-04 00:00:00+00:00</th>\n",
       "      <td>181</td>\n",
       "      <td>181</td>\n",
       "      <td>181</td>\n",
       "      <td>181</td>\n",
       "      <td>181</td>\n",
       "      <td>181</td>\n",
       "      <td>181</td>\n",
       "    </tr>\n",
       "  </tbody>\n",
       "</table>\n",
       "<p>536 rows × 7 columns</p>\n",
       "</div>"
      ],
      "text/plain": [
       "                           CreatedAt  TweetId  AuthorId  TweetText  \\\n",
       "CreatedAt                                                            \n",
       "2011-01-02 00:00:00+00:00          5        5         5          5   \n",
       "2011-01-09 00:00:00+00:00         80       80        80         80   \n",
       "2011-01-16 00:00:00+00:00         75       75        75         75   \n",
       "2011-01-23 00:00:00+00:00         93       93        93         93   \n",
       "2011-01-30 00:00:00+00:00        142      142       142        142   \n",
       "...                              ...      ...       ...        ...   \n",
       "2021-03-07 00:00:00+00:00        232      232       232        232   \n",
       "2021-03-14 00:00:00+00:00        375      375       375        375   \n",
       "2021-03-21 00:00:00+00:00        169      169       169        169   \n",
       "2021-03-28 00:00:00+00:00        250      250       250        250   \n",
       "2021-04-04 00:00:00+00:00        181      181       181        181   \n",
       "\n",
       "                           Tweet_stemmed  created_datetime  day  \n",
       "CreatedAt                                                        \n",
       "2011-01-02 00:00:00+00:00              5                 5    5  \n",
       "2011-01-09 00:00:00+00:00             80                80   80  \n",
       "2011-01-16 00:00:00+00:00             75                75   75  \n",
       "2011-01-23 00:00:00+00:00             93                93   93  \n",
       "2011-01-30 00:00:00+00:00            142               142  142  \n",
       "...                                  ...               ...  ...  \n",
       "2021-03-07 00:00:00+00:00            232               232  232  \n",
       "2021-03-14 00:00:00+00:00            375               375  375  \n",
       "2021-03-21 00:00:00+00:00            169               169  169  \n",
       "2021-03-28 00:00:00+00:00            250               250  250  \n",
       "2021-04-04 00:00:00+00:00            181               181  181  \n",
       "\n",
       "[536 rows x 7 columns]"
      ]
     },
     "execution_count": 36,
     "metadata": {},
     "output_type": "execute_result"
    }
   ],
   "source": [
    "df_1"
   ]
  },
  {
   "cell_type": "code",
   "execution_count": 38,
   "metadata": {},
   "outputs": [],
   "source": [
    "weekly_pop = df_1['day']"
   ]
  },
  {
   "cell_type": "code",
   "execution_count": 42,
   "metadata": {},
   "outputs": [],
   "source": [
    "weekly_pop_df = pd.DataFrame(weekly_pop)"
   ]
  },
  {
   "cell_type": "code",
   "execution_count": null,
   "metadata": {},
   "outputs": [],
   "source": [
    "# plt.figure(figsize=(15,6))\n",
    "# df1 = twitter_data_by_week_df.set_index('w') # setting \"Years\" as index\n",
    "# fig,ax = plt.subplots(figsize=(15,6))\n",
    "# df1.plot(kind='line',ax=ax)\n",
    "# plt.title(\"First Solar Tweet Time Series\")\n",
    "# plt.show()"
   ]
  },
  {
   "cell_type": "code",
   "execution_count": 49,
   "metadata": {},
   "outputs": [
    {
     "data": {
      "text/html": [
       "<div>\n",
       "<style scoped>\n",
       "    .dataframe tbody tr th:only-of-type {\n",
       "        vertical-align: middle;\n",
       "    }\n",
       "\n",
       "    .dataframe tbody tr th {\n",
       "        vertical-align: top;\n",
       "    }\n",
       "\n",
       "    .dataframe thead th {\n",
       "        text-align: right;\n",
       "    }\n",
       "</style>\n",
       "<table border=\"1\" class=\"dataframe\">\n",
       "  <thead>\n",
       "    <tr style=\"text-align: right;\">\n",
       "      <th></th>\n",
       "      <th>day</th>\n",
       "    </tr>\n",
       "    <tr>\n",
       "      <th>CreatedAt</th>\n",
       "      <th></th>\n",
       "    </tr>\n",
       "  </thead>\n",
       "  <tbody>\n",
       "    <tr>\n",
       "      <th>2011-01-02 00:00:00+00:00</th>\n",
       "      <td>5</td>\n",
       "    </tr>\n",
       "    <tr>\n",
       "      <th>2011-01-09 00:00:00+00:00</th>\n",
       "      <td>80</td>\n",
       "    </tr>\n",
       "    <tr>\n",
       "      <th>2011-01-16 00:00:00+00:00</th>\n",
       "      <td>75</td>\n",
       "    </tr>\n",
       "    <tr>\n",
       "      <th>2011-01-23 00:00:00+00:00</th>\n",
       "      <td>93</td>\n",
       "    </tr>\n",
       "    <tr>\n",
       "      <th>2011-01-30 00:00:00+00:00</th>\n",
       "      <td>142</td>\n",
       "    </tr>\n",
       "    <tr>\n",
       "      <th>...</th>\n",
       "      <td>...</td>\n",
       "    </tr>\n",
       "    <tr>\n",
       "      <th>2021-03-07 00:00:00+00:00</th>\n",
       "      <td>232</td>\n",
       "    </tr>\n",
       "    <tr>\n",
       "      <th>2021-03-14 00:00:00+00:00</th>\n",
       "      <td>375</td>\n",
       "    </tr>\n",
       "    <tr>\n",
       "      <th>2021-03-21 00:00:00+00:00</th>\n",
       "      <td>169</td>\n",
       "    </tr>\n",
       "    <tr>\n",
       "      <th>2021-03-28 00:00:00+00:00</th>\n",
       "      <td>250</td>\n",
       "    </tr>\n",
       "    <tr>\n",
       "      <th>2021-04-04 00:00:00+00:00</th>\n",
       "      <td>181</td>\n",
       "    </tr>\n",
       "  </tbody>\n",
       "</table>\n",
       "<p>536 rows × 1 columns</p>\n",
       "</div>"
      ],
      "text/plain": [
       "                           day\n",
       "CreatedAt                     \n",
       "2011-01-02 00:00:00+00:00    5\n",
       "2011-01-09 00:00:00+00:00   80\n",
       "2011-01-16 00:00:00+00:00   75\n",
       "2011-01-23 00:00:00+00:00   93\n",
       "2011-01-30 00:00:00+00:00  142\n",
       "...                        ...\n",
       "2021-03-07 00:00:00+00:00  232\n",
       "2021-03-14 00:00:00+00:00  375\n",
       "2021-03-21 00:00:00+00:00  169\n",
       "2021-03-28 00:00:00+00:00  250\n",
       "2021-04-04 00:00:00+00:00  181\n",
       "\n",
       "[536 rows x 1 columns]"
      ]
     },
     "execution_count": 49,
     "metadata": {},
     "output_type": "execute_result"
    }
   ],
   "source": [
    "weekly_pop_df.rename(columns = {\"day\":\"count\"})\n",
    "weekly_pop_df.rename(columns = {\"CreatedAt\":\"week\"})\n",
    "# df.rename(columns={\"A\": \"a\", \"B\": \"c\"})"
   ]
  },
  {
   "cell_type": "code",
   "execution_count": 51,
   "metadata": {},
   "outputs": [
    {
     "data": {
      "text/html": [
       "<div>\n",
       "<style scoped>\n",
       "    .dataframe tbody tr th:only-of-type {\n",
       "        vertical-align: middle;\n",
       "    }\n",
       "\n",
       "    .dataframe tbody tr th {\n",
       "        vertical-align: top;\n",
       "    }\n",
       "\n",
       "    .dataframe thead th {\n",
       "        text-align: right;\n",
       "    }\n",
       "</style>\n",
       "<table border=\"1\" class=\"dataframe\">\n",
       "  <thead>\n",
       "    <tr style=\"text-align: right;\">\n",
       "      <th></th>\n",
       "      <th>day</th>\n",
       "    </tr>\n",
       "    <tr>\n",
       "      <th>CreatedAt</th>\n",
       "      <th></th>\n",
       "    </tr>\n",
       "  </thead>\n",
       "  <tbody>\n",
       "    <tr>\n",
       "      <th>2011-01-02 00:00:00+00:00</th>\n",
       "      <td>5</td>\n",
       "    </tr>\n",
       "    <tr>\n",
       "      <th>2011-01-09 00:00:00+00:00</th>\n",
       "      <td>80</td>\n",
       "    </tr>\n",
       "    <tr>\n",
       "      <th>2011-01-16 00:00:00+00:00</th>\n",
       "      <td>75</td>\n",
       "    </tr>\n",
       "    <tr>\n",
       "      <th>2011-01-23 00:00:00+00:00</th>\n",
       "      <td>93</td>\n",
       "    </tr>\n",
       "    <tr>\n",
       "      <th>2011-01-30 00:00:00+00:00</th>\n",
       "      <td>142</td>\n",
       "    </tr>\n",
       "    <tr>\n",
       "      <th>...</th>\n",
       "      <td>...</td>\n",
       "    </tr>\n",
       "    <tr>\n",
       "      <th>2021-03-07 00:00:00+00:00</th>\n",
       "      <td>232</td>\n",
       "    </tr>\n",
       "    <tr>\n",
       "      <th>2021-03-14 00:00:00+00:00</th>\n",
       "      <td>375</td>\n",
       "    </tr>\n",
       "    <tr>\n",
       "      <th>2021-03-21 00:00:00+00:00</th>\n",
       "      <td>169</td>\n",
       "    </tr>\n",
       "    <tr>\n",
       "      <th>2021-03-28 00:00:00+00:00</th>\n",
       "      <td>250</td>\n",
       "    </tr>\n",
       "    <tr>\n",
       "      <th>2021-04-04 00:00:00+00:00</th>\n",
       "      <td>181</td>\n",
       "    </tr>\n",
       "  </tbody>\n",
       "</table>\n",
       "<p>536 rows × 1 columns</p>\n",
       "</div>"
      ],
      "text/plain": [
       "                           day\n",
       "CreatedAt                     \n",
       "2011-01-02 00:00:00+00:00    5\n",
       "2011-01-09 00:00:00+00:00   80\n",
       "2011-01-16 00:00:00+00:00   75\n",
       "2011-01-23 00:00:00+00:00   93\n",
       "2011-01-30 00:00:00+00:00  142\n",
       "...                        ...\n",
       "2021-03-07 00:00:00+00:00  232\n",
       "2021-03-14 00:00:00+00:00  375\n",
       "2021-03-21 00:00:00+00:00  169\n",
       "2021-03-28 00:00:00+00:00  250\n",
       "2021-04-04 00:00:00+00:00  181\n",
       "\n",
       "[536 rows x 1 columns]"
      ]
     },
     "execution_count": 51,
     "metadata": {},
     "output_type": "execute_result"
    }
   ],
   "source": [
    "weekly_pop_df"
   ]
  },
  {
   "cell_type": "code",
   "execution_count": 55,
   "metadata": {},
   "outputs": [
    {
     "ename": "TypeError",
     "evalue": "no numeric data to plot",
     "output_type": "error",
     "traceback": [
      "\u001b[0;31m---------------------------------------------------------------------------\u001b[0m",
      "\u001b[0;31mTypeError\u001b[0m                                 Traceback (most recent call last)",
      "\u001b[0;32m<ipython-input-55-6a47c36da7cc>\u001b[0m in \u001b[0;36m<module>\u001b[0;34m\u001b[0m\n\u001b[1;32m      2\u001b[0m \u001b[0mdf1\u001b[0m \u001b[0;34m=\u001b[0m \u001b[0mweekly_pop_df\u001b[0m\u001b[0;34m.\u001b[0m\u001b[0mset_index\u001b[0m\u001b[0;34m(\u001b[0m\u001b[0;34m'day'\u001b[0m\u001b[0;34m)\u001b[0m \u001b[0;31m# setting \"Years\" as index\u001b[0m\u001b[0;34m\u001b[0m\u001b[0;34m\u001b[0m\u001b[0m\n\u001b[1;32m      3\u001b[0m \u001b[0mfig\u001b[0m\u001b[0;34m,\u001b[0m\u001b[0max\u001b[0m \u001b[0;34m=\u001b[0m \u001b[0mplt\u001b[0m\u001b[0;34m.\u001b[0m\u001b[0msubplots\u001b[0m\u001b[0;34m(\u001b[0m\u001b[0mfigsize\u001b[0m\u001b[0;34m=\u001b[0m\u001b[0;34m(\u001b[0m\u001b[0;36m15\u001b[0m\u001b[0;34m,\u001b[0m\u001b[0;36m6\u001b[0m\u001b[0;34m)\u001b[0m\u001b[0;34m)\u001b[0m\u001b[0;34m\u001b[0m\u001b[0;34m\u001b[0m\u001b[0m\n\u001b[0;32m----> 4\u001b[0;31m \u001b[0mdf1\u001b[0m\u001b[0;34m.\u001b[0m\u001b[0mplot\u001b[0m\u001b[0;34m(\u001b[0m\u001b[0mkind\u001b[0m\u001b[0;34m=\u001b[0m\u001b[0;34m'line'\u001b[0m\u001b[0;34m,\u001b[0m\u001b[0max\u001b[0m\u001b[0;34m=\u001b[0m\u001b[0max\u001b[0m\u001b[0;34m)\u001b[0m\u001b[0;34m\u001b[0m\u001b[0;34m\u001b[0m\u001b[0m\n\u001b[0m\u001b[1;32m      5\u001b[0m \u001b[0mplt\u001b[0m\u001b[0;34m.\u001b[0m\u001b[0mtitle\u001b[0m\u001b[0;34m(\u001b[0m\u001b[0;34m\"First Solar Tweet Time Series\"\u001b[0m\u001b[0;34m)\u001b[0m\u001b[0;34m\u001b[0m\u001b[0;34m\u001b[0m\u001b[0m\n\u001b[1;32m      6\u001b[0m \u001b[0mplt\u001b[0m\u001b[0;34m.\u001b[0m\u001b[0mshow\u001b[0m\u001b[0;34m(\u001b[0m\u001b[0;34m)\u001b[0m\u001b[0;34m\u001b[0m\u001b[0;34m\u001b[0m\u001b[0m\n",
      "\u001b[0;32m/opt/anaconda3/lib/python3.8/site-packages/pandas/plotting/_core.py\u001b[0m in \u001b[0;36m__call__\u001b[0;34m(self, *args, **kwargs)\u001b[0m\n\u001b[1;32m    947\u001b[0m                     \u001b[0mdata\u001b[0m\u001b[0;34m.\u001b[0m\u001b[0mcolumns\u001b[0m \u001b[0;34m=\u001b[0m \u001b[0mlabel_name\u001b[0m\u001b[0;34m\u001b[0m\u001b[0;34m\u001b[0m\u001b[0m\n\u001b[1;32m    948\u001b[0m \u001b[0;34m\u001b[0m\u001b[0m\n\u001b[0;32m--> 949\u001b[0;31m         \u001b[0;32mreturn\u001b[0m \u001b[0mplot_backend\u001b[0m\u001b[0;34m.\u001b[0m\u001b[0mplot\u001b[0m\u001b[0;34m(\u001b[0m\u001b[0mdata\u001b[0m\u001b[0;34m,\u001b[0m \u001b[0mkind\u001b[0m\u001b[0;34m=\u001b[0m\u001b[0mkind\u001b[0m\u001b[0;34m,\u001b[0m \u001b[0;34m**\u001b[0m\u001b[0mkwargs\u001b[0m\u001b[0;34m)\u001b[0m\u001b[0;34m\u001b[0m\u001b[0;34m\u001b[0m\u001b[0m\n\u001b[0m\u001b[1;32m    950\u001b[0m \u001b[0;34m\u001b[0m\u001b[0m\n\u001b[1;32m    951\u001b[0m     \u001b[0m__call__\u001b[0m\u001b[0;34m.\u001b[0m\u001b[0m__doc__\u001b[0m \u001b[0;34m=\u001b[0m \u001b[0m__doc__\u001b[0m\u001b[0;34m\u001b[0m\u001b[0;34m\u001b[0m\u001b[0m\n",
      "\u001b[0;32m/opt/anaconda3/lib/python3.8/site-packages/pandas/plotting/_matplotlib/__init__.py\u001b[0m in \u001b[0;36mplot\u001b[0;34m(data, kind, **kwargs)\u001b[0m\n\u001b[1;32m     59\u001b[0m             \u001b[0mkwargs\u001b[0m\u001b[0;34m[\u001b[0m\u001b[0;34m\"ax\"\u001b[0m\u001b[0;34m]\u001b[0m \u001b[0;34m=\u001b[0m \u001b[0mgetattr\u001b[0m\u001b[0;34m(\u001b[0m\u001b[0max\u001b[0m\u001b[0;34m,\u001b[0m \u001b[0;34m\"left_ax\"\u001b[0m\u001b[0;34m,\u001b[0m \u001b[0max\u001b[0m\u001b[0;34m)\u001b[0m\u001b[0;34m\u001b[0m\u001b[0;34m\u001b[0m\u001b[0m\n\u001b[1;32m     60\u001b[0m     \u001b[0mplot_obj\u001b[0m \u001b[0;34m=\u001b[0m \u001b[0mPLOT_CLASSES\u001b[0m\u001b[0;34m[\u001b[0m\u001b[0mkind\u001b[0m\u001b[0;34m]\u001b[0m\u001b[0;34m(\u001b[0m\u001b[0mdata\u001b[0m\u001b[0;34m,\u001b[0m \u001b[0;34m**\u001b[0m\u001b[0mkwargs\u001b[0m\u001b[0;34m)\u001b[0m\u001b[0;34m\u001b[0m\u001b[0;34m\u001b[0m\u001b[0m\n\u001b[0;32m---> 61\u001b[0;31m     \u001b[0mplot_obj\u001b[0m\u001b[0;34m.\u001b[0m\u001b[0mgenerate\u001b[0m\u001b[0;34m(\u001b[0m\u001b[0;34m)\u001b[0m\u001b[0;34m\u001b[0m\u001b[0;34m\u001b[0m\u001b[0m\n\u001b[0m\u001b[1;32m     62\u001b[0m     \u001b[0mplot_obj\u001b[0m\u001b[0;34m.\u001b[0m\u001b[0mdraw\u001b[0m\u001b[0;34m(\u001b[0m\u001b[0;34m)\u001b[0m\u001b[0;34m\u001b[0m\u001b[0;34m\u001b[0m\u001b[0m\n\u001b[1;32m     63\u001b[0m     \u001b[0;32mreturn\u001b[0m \u001b[0mplot_obj\u001b[0m\u001b[0;34m.\u001b[0m\u001b[0mresult\u001b[0m\u001b[0;34m\u001b[0m\u001b[0;34m\u001b[0m\u001b[0m\n",
      "\u001b[0;32m/opt/anaconda3/lib/python3.8/site-packages/pandas/plotting/_matplotlib/core.py\u001b[0m in \u001b[0;36mgenerate\u001b[0;34m(self)\u001b[0m\n\u001b[1;32m    267\u001b[0m     \u001b[0;32mdef\u001b[0m \u001b[0mgenerate\u001b[0m\u001b[0;34m(\u001b[0m\u001b[0mself\u001b[0m\u001b[0;34m)\u001b[0m\u001b[0;34m:\u001b[0m\u001b[0;34m\u001b[0m\u001b[0;34m\u001b[0m\u001b[0m\n\u001b[1;32m    268\u001b[0m         \u001b[0mself\u001b[0m\u001b[0;34m.\u001b[0m\u001b[0m_args_adjust\u001b[0m\u001b[0;34m(\u001b[0m\u001b[0;34m)\u001b[0m\u001b[0;34m\u001b[0m\u001b[0;34m\u001b[0m\u001b[0m\n\u001b[0;32m--> 269\u001b[0;31m         \u001b[0mself\u001b[0m\u001b[0;34m.\u001b[0m\u001b[0m_compute_plot_data\u001b[0m\u001b[0;34m(\u001b[0m\u001b[0;34m)\u001b[0m\u001b[0;34m\u001b[0m\u001b[0;34m\u001b[0m\u001b[0m\n\u001b[0m\u001b[1;32m    270\u001b[0m         \u001b[0mself\u001b[0m\u001b[0;34m.\u001b[0m\u001b[0m_setup_subplots\u001b[0m\u001b[0;34m(\u001b[0m\u001b[0;34m)\u001b[0m\u001b[0;34m\u001b[0m\u001b[0;34m\u001b[0m\u001b[0m\n\u001b[1;32m    271\u001b[0m         \u001b[0mself\u001b[0m\u001b[0;34m.\u001b[0m\u001b[0m_make_plot\u001b[0m\u001b[0;34m(\u001b[0m\u001b[0;34m)\u001b[0m\u001b[0;34m\u001b[0m\u001b[0;34m\u001b[0m\u001b[0m\n",
      "\u001b[0;32m/opt/anaconda3/lib/python3.8/site-packages/pandas/plotting/_matplotlib/core.py\u001b[0m in \u001b[0;36m_compute_plot_data\u001b[0;34m(self)\u001b[0m\n\u001b[1;32m    416\u001b[0m         \u001b[0;31m# no non-numeric frames or series allowed\u001b[0m\u001b[0;34m\u001b[0m\u001b[0;34m\u001b[0m\u001b[0;34m\u001b[0m\u001b[0m\n\u001b[1;32m    417\u001b[0m         \u001b[0;32mif\u001b[0m \u001b[0mis_empty\u001b[0m\u001b[0;34m:\u001b[0m\u001b[0;34m\u001b[0m\u001b[0;34m\u001b[0m\u001b[0m\n\u001b[0;32m--> 418\u001b[0;31m             \u001b[0;32mraise\u001b[0m \u001b[0mTypeError\u001b[0m\u001b[0;34m(\u001b[0m\u001b[0;34m\"no numeric data to plot\"\u001b[0m\u001b[0;34m)\u001b[0m\u001b[0;34m\u001b[0m\u001b[0;34m\u001b[0m\u001b[0m\n\u001b[0m\u001b[1;32m    419\u001b[0m \u001b[0;34m\u001b[0m\u001b[0m\n\u001b[1;32m    420\u001b[0m         \u001b[0;31m# GH25587: cast ExtensionArray of pandas (IntegerArray, etc.) to\u001b[0m\u001b[0;34m\u001b[0m\u001b[0;34m\u001b[0m\u001b[0;34m\u001b[0m\u001b[0m\n",
      "\u001b[0;31mTypeError\u001b[0m: no numeric data to plot"
     ]
    },
    {
     "data": {
      "text/plain": [
       "<Figure size 1080x432 with 0 Axes>"
      ]
     },
     "metadata": {},
     "output_type": "display_data"
    },
    {
     "data": {
      "image/png": "[encoded data removed]",
      "text/plain": [
       "<Figure size 1080x432 with 1 Axes>"
      ]
     },
     "metadata": {
      "needs_background": "light"
     },
     "output_type": "display_data"
    }
   ],
   "source": [
    "plt.figure(figsize=(15,6))\n",
    "df1 = weekly_pop_df.set_index('day') # setting \"Years\" as index\n",
    "fig,ax = plt.subplots(figsize=(15,6))\n",
    "df1.plot(kind='line',ax=ax)\n",
    "plt.title(\"First Solar Tweet Time Series\")\n",
    "plt.show()"
   ]
  },
  {
   "cell_type": "code",
   "execution_count": null,
   "metadata": {},
   "outputs": [],
   "source": []
  }
 ],
 "metadata": {
  "kernelspec": {
   "display_name": "Python 3",
   "language": "python",
   "name": "python3"
  },
  "language_info": {
   "codemirror_mode": {
    "name": "ipython",
    "version": 3
   },
   "file_extension": ".py",
   "mimetype": "text/x-python",
   "name": "python",
   "nbconvert_exporter": "python",
   "pygments_lexer": "ipython3",
   "version": "3.8.5"
  }
 },
 "nbformat": 4,
 "nbformat_minor": 4
}

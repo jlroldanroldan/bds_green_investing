{
 "cells": [
  {
   "cell_type": "code",
   "execution_count": 4,
   "metadata": {},
   "outputs": [],
   "source": [
    "# Import libraries\n",
    "import pandas as pd\n",
    "import numpy as np\n",
    "import seaborn as sns\n",
    "import matplotlib.pyplot as plt\n",
    "%matplotlib inline\n",
    "pd.set_option('display.max_colwidth', 100)\n",
    "\n",
    "from statsmodels.tsa.stattools import grangercausalitytests"
   ]
  },
  {
   "cell_type": "markdown",
   "metadata": {},
   "source": [
    "# Import Data"
   ]
  },
  {
   "cell_type": "markdown",
   "metadata": {},
   "source": [
    "## Import Stock Data"
   ]
  },
  {
   "cell_type": "code",
   "execution_count": 27,
   "metadata": {},
   "outputs": [],
   "source": [
    "stock_prices = pd.read_csv('../download_stock_data/RUN.csv')\n",
    "stock_prices['Date'] = pd.to_datetime(stock_prices['timestamp'], errors='coerce');\n",
    "stock_prices.set_index('Date', inplace=True);\n",
    "stock_prices.drop(['timestamp'],axis=1, inplace=True)"
   ]
  },
  {
   "cell_type": "code",
   "execution_count": 28,
   "metadata": {},
   "outputs": [
    {
     "data": {
      "text/html": [
       "<div>\n",
       "<style scoped>\n",
       "    .dataframe tbody tr th:only-of-type {\n",
       "        vertical-align: middle;\n",
       "    }\n",
       "\n",
       "    .dataframe tbody tr th {\n",
       "        vertical-align: top;\n",
       "    }\n",
       "\n",
       "    .dataframe thead th {\n",
       "        text-align: right;\n",
       "    }\n",
       "</style>\n",
       "<table border=\"1\" class=\"dataframe\">\n",
       "  <thead>\n",
       "    <tr style=\"text-align: right;\">\n",
       "      <th></th>\n",
       "      <th>open</th>\n",
       "      <th>high</th>\n",
       "      <th>low</th>\n",
       "      <th>close</th>\n",
       "      <th>volume</th>\n",
       "    </tr>\n",
       "    <tr>\n",
       "      <th>Date</th>\n",
       "      <th></th>\n",
       "      <th></th>\n",
       "      <th></th>\n",
       "      <th></th>\n",
       "      <th></th>\n",
       "    </tr>\n",
       "  </thead>\n",
       "  <tbody>\n",
       "    <tr>\n",
       "      <th>2021-05-18</th>\n",
       "      <td>40.40</td>\n",
       "      <td>41.2394</td>\n",
       "      <td>38.940</td>\n",
       "      <td>40.11</td>\n",
       "      <td>5485380</td>\n",
       "    </tr>\n",
       "    <tr>\n",
       "      <th>2021-05-17</th>\n",
       "      <td>40.44</td>\n",
       "      <td>41.0173</td>\n",
       "      <td>38.702</td>\n",
       "      <td>40.00</td>\n",
       "      <td>5130438</td>\n",
       "    </tr>\n",
       "    <tr>\n",
       "      <th>2021-05-14</th>\n",
       "      <td>40.58</td>\n",
       "      <td>42.1000</td>\n",
       "      <td>40.220</td>\n",
       "      <td>41.42</td>\n",
       "      <td>5396315</td>\n",
       "    </tr>\n",
       "    <tr>\n",
       "      <th>2021-05-13</th>\n",
       "      <td>40.18</td>\n",
       "      <td>41.3600</td>\n",
       "      <td>38.110</td>\n",
       "      <td>39.45</td>\n",
       "      <td>6998628</td>\n",
       "    </tr>\n",
       "    <tr>\n",
       "      <th>2021-05-12</th>\n",
       "      <td>40.81</td>\n",
       "      <td>41.9800</td>\n",
       "      <td>39.150</td>\n",
       "      <td>39.63</td>\n",
       "      <td>9449415</td>\n",
       "    </tr>\n",
       "    <tr>\n",
       "      <th>...</th>\n",
       "      <td>...</td>\n",
       "      <td>...</td>\n",
       "      <td>...</td>\n",
       "      <td>...</td>\n",
       "      <td>...</td>\n",
       "    </tr>\n",
       "    <tr>\n",
       "      <th>2015-08-11</th>\n",
       "      <td>10.00</td>\n",
       "      <td>10.0300</td>\n",
       "      <td>9.500</td>\n",
       "      <td>9.79</td>\n",
       "      <td>349732</td>\n",
       "    </tr>\n",
       "    <tr>\n",
       "      <th>2015-08-10</th>\n",
       "      <td>10.73</td>\n",
       "      <td>10.7300</td>\n",
       "      <td>10.000</td>\n",
       "      <td>10.12</td>\n",
       "      <td>435917</td>\n",
       "    </tr>\n",
       "    <tr>\n",
       "      <th>2015-08-07</th>\n",
       "      <td>9.19</td>\n",
       "      <td>10.2000</td>\n",
       "      <td>8.770</td>\n",
       "      <td>10.14</td>\n",
       "      <td>1624299</td>\n",
       "    </tr>\n",
       "    <tr>\n",
       "      <th>2015-08-06</th>\n",
       "      <td>11.00</td>\n",
       "      <td>11.2000</td>\n",
       "      <td>8.230</td>\n",
       "      <td>8.77</td>\n",
       "      <td>3570430</td>\n",
       "    </tr>\n",
       "    <tr>\n",
       "      <th>2015-08-05</th>\n",
       "      <td>13.06</td>\n",
       "      <td>13.3100</td>\n",
       "      <td>10.400</td>\n",
       "      <td>10.77</td>\n",
       "      <td>14096975</td>\n",
       "    </tr>\n",
       "  </tbody>\n",
       "</table>\n",
       "<p>1457 rows × 5 columns</p>\n",
       "</div>"
      ],
      "text/plain": [
       "             open     high     low   close    volume\n",
       "Date                                                \n",
       "2021-05-18  40.40  41.2394  38.940   40.11   5485380\n",
       "2021-05-17  40.44  41.0173  38.702   40.00   5130438\n",
       "2021-05-14  40.58  42.1000  40.220   41.42   5396315\n",
       "2021-05-13  40.18  41.3600  38.110   39.45   6998628\n",
       "2021-05-12  40.81  41.9800  39.150   39.63   9449415\n",
       "...           ...      ...     ...     ...       ...\n",
       "2015-08-11  10.00  10.0300   9.500    9.79    349732\n",
       "2015-08-10  10.73  10.7300  10.000   10.12    435917\n",
       "2015-08-07   9.19  10.2000   8.770   10.14   1624299\n",
       "2015-08-06  11.00  11.2000   8.230    8.77   3570430\n",
       "2015-08-05  13.06  13.3100  10.400   10.77  14096975\n",
       "\n",
       "[1457 rows x 5 columns]"
      ]
     },
     "execution_count": 28,
     "metadata": {},
     "output_type": "execute_result"
    }
   ],
   "source": [
    "stock_prices"
   ]
  },
  {
   "cell_type": "code",
   "execution_count": 29,
   "metadata": {},
   "outputs": [],
   "source": [
    "# Restrict the time range\n",
    "# stock_prices = stock_prices['2015-08-01':'2021-04-01']"
   ]
  },
  {
   "cell_type": "code",
   "execution_count": 30,
   "metadata": {},
   "outputs": [
    {
     "data": {
      "text/html": [
       "<div>\n",
       "<style scoped>\n",
       "    .dataframe tbody tr th:only-of-type {\n",
       "        vertical-align: middle;\n",
       "    }\n",
       "\n",
       "    .dataframe tbody tr th {\n",
       "        vertical-align: top;\n",
       "    }\n",
       "\n",
       "    .dataframe thead th {\n",
       "        text-align: right;\n",
       "    }\n",
       "</style>\n",
       "<table border=\"1\" class=\"dataframe\">\n",
       "  <thead>\n",
       "    <tr style=\"text-align: right;\">\n",
       "      <th></th>\n",
       "      <th>open</th>\n",
       "      <th>high</th>\n",
       "      <th>low</th>\n",
       "      <th>close</th>\n",
       "      <th>volume</th>\n",
       "    </tr>\n",
       "    <tr>\n",
       "      <th>Date</th>\n",
       "      <th></th>\n",
       "      <th></th>\n",
       "      <th></th>\n",
       "      <th></th>\n",
       "      <th></th>\n",
       "    </tr>\n",
       "  </thead>\n",
       "  <tbody>\n",
       "  </tbody>\n",
       "</table>\n",
       "</div>"
      ],
      "text/plain": [
       "Empty DataFrame\n",
       "Columns: [ open,  high,  low,  close,  volume]\n",
       "Index: []"
      ]
     },
     "execution_count": 30,
     "metadata": {},
     "output_type": "execute_result"
    }
   ],
   "source": [
    "stock_prices"
   ]
  },
  {
   "cell_type": "code",
   "execution_count": null,
   "metadata": {},
   "outputs": [],
   "source": []
  },
  {
   "cell_type": "code",
   "execution_count": null,
   "metadata": {},
   "outputs": [],
   "source": []
  }
 ],
 "metadata": {
  "kernelspec": {
   "display_name": "Python 3",
   "language": "python",
   "name": "python3"
  },
  "language_info": {
   "codemirror_mode": {
    "name": "ipython",
    "version": 3
   },
   "file_extension": ".py",
   "mimetype": "text/x-python",
   "name": "python",
   "nbconvert_exporter": "python",
   "pygments_lexer": "ipython3",
   "version": "3.8.5"
  }
 },
 "nbformat": 4,
 "nbformat_minor": 4
}

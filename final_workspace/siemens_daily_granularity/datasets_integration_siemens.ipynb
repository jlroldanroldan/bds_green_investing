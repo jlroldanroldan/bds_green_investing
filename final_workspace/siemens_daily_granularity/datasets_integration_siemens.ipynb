{
 "cells": [
  {
   "cell_type": "code",
   "execution_count": 1,
   "metadata": {},
   "outputs": [],
   "source": [
    "# Import libraries\n",
    "import pandas as pd\n",
    "import numpy as np\n",
    "import seaborn as sns\n",
    "import matplotlib.pyplot as plt\n",
    "%matplotlib inline\n",
    "pd.set_option('display.max_colwidth', 100)"
   ]
  },
  {
   "cell_type": "markdown",
   "metadata": {},
   "source": [
    "# Stock prices"
   ]
  },
  {
   "cell_type": "markdown",
   "metadata": {},
   "source": [
    "## Import Stock prices"
   ]
  },
  {
   "cell_type": "code",
   "execution_count": 2,
   "metadata": {},
   "outputs": [],
   "source": [
    "stock_prices = pd.read_csv('../../../data/team/Stock Price Time Series/stock_prices_time_series_converged.csv')"
   ]
  },
  {
   "cell_type": "code",
   "execution_count": 3,
   "metadata": {},
   "outputs": [],
   "source": [
    "stock_prices['Date'] = pd.to_datetime(stock_prices['timestamp'], errors='coerce')"
   ]
  },
  {
   "cell_type": "code",
   "execution_count": 4,
   "metadata": {},
   "outputs": [],
   "source": [
    "stock_prices.drop(columns=['Unnamed: 9','Unnamed: 10'], inplace=True)\n",
    "stock_prices.drop(columns=['mean delta', '-0.073169045'], inplace=True)"
   ]
  },
  {
   "cell_type": "code",
   "execution_count": 5,
   "metadata": {},
   "outputs": [],
   "source": [
    "stock_prices.set_index('Date', inplace=True);"
   ]
  },
  {
   "cell_type": "code",
   "execution_count": 6,
   "metadata": {},
   "outputs": [],
   "source": [
    "stock_prices.drop(['timestamp'],axis=1, inplace=True)"
   ]
  },
  {
   "cell_type": "markdown",
   "metadata": {},
   "source": [
    "## Export GCTAY close prices"
   ]
  },
  {
   "cell_type": "code",
   "execution_count": 7,
   "metadata": {},
   "outputs": [
    {
     "data": {
      "text/plain": [
       "array(['SPWR', 'COENF', 'DNNGY', 'DQ', 'ENPH', 'FSLR', 'GCTAY', 'ORA',\n",
       "       'RUN', 'SCTY', 'TSLA', 'VWDRY'], dtype=object)"
      ]
     },
     "execution_count": 7,
     "metadata": {},
     "output_type": "execute_result"
    }
   ],
   "source": [
    "stock_prices['Ticker'].unique()"
   ]
  },
  {
   "cell_type": "code",
   "execution_count": 8,
   "metadata": {},
   "outputs": [],
   "source": [
    "stock_prices_gctay = stock_prices[stock_prices['Ticker'] == 'GCTAY'].copy()"
   ]
  },
  {
   "cell_type": "code",
   "execution_count": 9,
   "metadata": {},
   "outputs": [],
   "source": [
    "stock_prices_gctay.sort_index(ascending=True, inplace=True)"
   ]
  },
  {
   "cell_type": "code",
   "execution_count": 10,
   "metadata": {},
   "outputs": [],
   "source": [
    "gctay_closing_daily = pd.DataFrame(stock_prices_gctay['close'])"
   ]
  },
  {
   "cell_type": "code",
   "execution_count": 11,
   "metadata": {},
   "outputs": [
    {
     "data": {
      "text/html": [
       "<div>\n",
       "<style scoped>\n",
       "    .dataframe tbody tr th:only-of-type {\n",
       "        vertical-align: middle;\n",
       "    }\n",
       "\n",
       "    .dataframe tbody tr th {\n",
       "        vertical-align: top;\n",
       "    }\n",
       "\n",
       "    .dataframe thead th {\n",
       "        text-align: right;\n",
       "    }\n",
       "</style>\n",
       "<table border=\"1\" class=\"dataframe\">\n",
       "  <thead>\n",
       "    <tr style=\"text-align: right;\">\n",
       "      <th></th>\n",
       "      <th>close</th>\n",
       "    </tr>\n",
       "    <tr>\n",
       "      <th>Date</th>\n",
       "      <th></th>\n",
       "    </tr>\n",
       "  </thead>\n",
       "  <tbody>\n",
       "    <tr>\n",
       "      <th>2009-02-05</th>\n",
       "      <td>3.290</td>\n",
       "    </tr>\n",
       "    <tr>\n",
       "      <th>2009-02-06</th>\n",
       "      <td>3.290</td>\n",
       "    </tr>\n",
       "    <tr>\n",
       "      <th>2009-02-09</th>\n",
       "      <td>3.290</td>\n",
       "    </tr>\n",
       "    <tr>\n",
       "      <th>2009-02-10</th>\n",
       "      <td>3.500</td>\n",
       "    </tr>\n",
       "    <tr>\n",
       "      <th>2009-02-11</th>\n",
       "      <td>3.500</td>\n",
       "    </tr>\n",
       "    <tr>\n",
       "      <th>...</th>\n",
       "      <td>...</td>\n",
       "    </tr>\n",
       "    <tr>\n",
       "      <th>2021-04-19</th>\n",
       "      <td>7.150</td>\n",
       "    </tr>\n",
       "    <tr>\n",
       "      <th>2021-04-20</th>\n",
       "      <td>6.990</td>\n",
       "    </tr>\n",
       "    <tr>\n",
       "      <th>2021-04-21</th>\n",
       "      <td>7.272</td>\n",
       "    </tr>\n",
       "    <tr>\n",
       "      <th>2021-04-22</th>\n",
       "      <td>7.670</td>\n",
       "    </tr>\n",
       "    <tr>\n",
       "      <th>2021-04-23</th>\n",
       "      <td>7.630</td>\n",
       "    </tr>\n",
       "  </tbody>\n",
       "</table>\n",
       "<p>3061 rows × 1 columns</p>\n",
       "</div>"
      ],
      "text/plain": [
       "            close\n",
       "Date             \n",
       "2009-02-05  3.290\n",
       "2009-02-06  3.290\n",
       "2009-02-09  3.290\n",
       "2009-02-10  3.500\n",
       "2009-02-11  3.500\n",
       "...           ...\n",
       "2021-04-19  7.150\n",
       "2021-04-20  6.990\n",
       "2021-04-21  7.272\n",
       "2021-04-22  7.670\n",
       "2021-04-23  7.630\n",
       "\n",
       "[3061 rows x 1 columns]"
      ]
     },
     "execution_count": 11,
     "metadata": {},
     "output_type": "execute_result"
    }
   ],
   "source": [
    "gctay_closing_daily"
   ]
  },
  {
   "cell_type": "markdown",
   "metadata": {},
   "source": [
    "# Import Sentiment "
   ]
  },
  {
   "cell_type": "code",
   "execution_count": 12,
   "metadata": {},
   "outputs": [],
   "source": [
    "sentiment = pd.read_csv('../../../data/team/NLTK Time Series/sentiment_nltk_fixed_final.csv')"
   ]
  },
  {
   "cell_type": "code",
   "execution_count": 13,
   "metadata": {},
   "outputs": [],
   "source": [
    "sentiment.drop('Unnamed: 0', axis=1, inplace=True)"
   ]
  },
  {
   "cell_type": "code",
   "execution_count": 14,
   "metadata": {
    "scrolled": true
   },
   "outputs": [],
   "source": [
    "sentiment['Date'] = pd.to_datetime(sentiment['CreatedAt'].str[:10], errors='coerce')"
   ]
  },
  {
   "cell_type": "code",
   "execution_count": 15,
   "metadata": {},
   "outputs": [],
   "source": [
    "sentiment.set_index('Date',inplace=True);"
   ]
  },
  {
   "cell_type": "code",
   "execution_count": 16,
   "metadata": {},
   "outputs": [],
   "source": [
    "sentiment.drop('CreatedAt', axis=1, inplace=True)"
   ]
  },
  {
   "cell_type": "code",
   "execution_count": 17,
   "metadata": {},
   "outputs": [
    {
     "data": {
      "text/html": [
       "<div>\n",
       "<style scoped>\n",
       "    .dataframe tbody tr th:only-of-type {\n",
       "        vertical-align: middle;\n",
       "    }\n",
       "\n",
       "    .dataframe tbody tr th {\n",
       "        vertical-align: top;\n",
       "    }\n",
       "\n",
       "    .dataframe thead th {\n",
       "        text-align: right;\n",
       "    }\n",
       "</style>\n",
       "<table border=\"1\" class=\"dataframe\">\n",
       "  <thead>\n",
       "    <tr style=\"text-align: right;\">\n",
       "      <th></th>\n",
       "      <th>company</th>\n",
       "      <th>TweetText</th>\n",
       "      <th>Tweet_lemmatized</th>\n",
       "      <th>neg</th>\n",
       "      <th>neu</th>\n",
       "      <th>pos</th>\n",
       "      <th>compound</th>\n",
       "    </tr>\n",
       "    <tr>\n",
       "      <th>Date</th>\n",
       "      <th></th>\n",
       "      <th></th>\n",
       "      <th></th>\n",
       "      <th></th>\n",
       "      <th></th>\n",
       "      <th></th>\n",
       "      <th></th>\n",
       "    </tr>\n",
       "  </thead>\n",
       "  <tbody>\n",
       "    <tr>\n",
       "      <th>2021-04-01</th>\n",
       "      <td>first_solar</td>\n",
       "      <td>First Solar Completes Sale of North American O&amp;amp;M Business to NovaSource $FSLR https://t.co/j...</td>\n",
       "      <td>['first', 'solar', 'completes', 'sale', 'north', 'american', 'oampm', 'business', 'novasource', ...</td>\n",
       "      <td>0.000</td>\n",
       "      <td>0.000</td>\n",
       "      <td>0.000</td>\n",
       "      <td>0.0000</td>\n",
       "    </tr>\n",
       "    <tr>\n",
       "      <th>2021-03-31</th>\n",
       "      <td>first_solar</td>\n",
       "      <td>$ALYI To Reveal New Significant Investment In Company From Leading Texas Based Private Equity Fu...</td>\n",
       "      <td>['alyi', 'reveal', 'new', 'significant', 'investment', 'company', 'leading', 'texas', 'based', '...</td>\n",
       "      <td>0.000</td>\n",
       "      <td>1.000</td>\n",
       "      <td>0.000</td>\n",
       "      <td>0.0000</td>\n",
       "    </tr>\n",
       "    <tr>\n",
       "      <th>2021-03-31</th>\n",
       "      <td>first_solar</td>\n",
       "      <td>@SolarPowerEU @renewableH2EU @EU_Commission @Akuo_Energy @enelgreenpower @EdpRenewables @Enapter...</td>\n",
       "      <td>['solarpowereu', 'renewableheu', 'eucommission', 'akuoenergy', 'enelgreenpower', 'edprenewables'...</td>\n",
       "      <td>0.000</td>\n",
       "      <td>0.927</td>\n",
       "      <td>0.073</td>\n",
       "      <td>0.2023</td>\n",
       "    </tr>\n",
       "    <tr>\n",
       "      <th>2021-03-31</th>\n",
       "      <td>first_solar</td>\n",
       "      <td>$FSLR sector move confirmed https://t.co/h08Dwn5CIF</td>\n",
       "      <td>['fslr', 'sector', 'move', 'confirmed', 'httpstcohdwncif']</td>\n",
       "      <td>0.081</td>\n",
       "      <td>0.848</td>\n",
       "      <td>0.071</td>\n",
       "      <td>-0.0754</td>\n",
       "    </tr>\n",
       "    <tr>\n",
       "      <th>2021-03-31</th>\n",
       "      <td>first_solar</td>\n",
       "      <td>$FSLR NovaSource Power Services is World's Largest Solar O&amp;amp;M Provider with Acquisition of Fi...</td>\n",
       "      <td>['fslr', 'novasource', 'power', 'service', 'world', 'largest', 'solar', 'oampm', 'provider', 'ac...</td>\n",
       "      <td>0.000</td>\n",
       "      <td>1.000</td>\n",
       "      <td>0.000</td>\n",
       "      <td>0.0000</td>\n",
       "    </tr>\n",
       "    <tr>\n",
       "      <th>...</th>\n",
       "      <td>...</td>\n",
       "      <td>...</td>\n",
       "      <td>...</td>\n",
       "      <td>...</td>\n",
       "      <td>...</td>\n",
       "      <td>...</td>\n",
       "      <td>...</td>\n",
       "    </tr>\n",
       "    <tr>\n",
       "      <th>2011-01-10</th>\n",
       "      <td>meridian_energy</td>\n",
       "      <td>Panic Attacks Cure: Anxiety And Panic Attacks Cure - Energy Healing - Meridian Energy Therapy - ...</td>\n",
       "      <td>['panic', 'attack', 'cure', 'anxiety', 'panic', 'attack', 'cure', 'energy', 'healing', 'meridian...</td>\n",
       "      <td>0.537</td>\n",
       "      <td>0.222</td>\n",
       "      <td>0.241</td>\n",
       "      <td>-0.8402</td>\n",
       "    </tr>\n",
       "    <tr>\n",
       "      <th>2011-01-07</th>\n",
       "      <td>meridian_energy</td>\n",
       "      <td>Just had some Meridian Energy guys come around saying they could save me a lot money. Said I was...</td>\n",
       "      <td>['meridian', 'energy', 'guy', 'come', 'around', 'saying', 'could', 'save', 'lot', 'money', 'said...</td>\n",
       "      <td>0.537</td>\n",
       "      <td>0.222</td>\n",
       "      <td>0.241</td>\n",
       "      <td>-0.8402</td>\n",
       "    </tr>\n",
       "    <tr>\n",
       "      <th>2011-01-06</th>\n",
       "      <td>meridian_energy</td>\n",
       "      <td>EFT Cafe - Gratitude Tapping: AAMET - Association for the Advancement of Meridian Energy Techniq...</td>\n",
       "      <td>['eft', 'cafe', 'gratitude', 'tapping', 'aamet', 'association', 'advancement', 'meridian', 'ener...</td>\n",
       "      <td>0.122</td>\n",
       "      <td>0.609</td>\n",
       "      <td>0.269</td>\n",
       "      <td>0.4393</td>\n",
       "    </tr>\n",
       "    <tr>\n",
       "      <th>2011-01-02</th>\n",
       "      <td>meridian_energy</td>\n",
       "      <td>Anxiety and Panic Attacks Cure - Energy Healing - Meridian Energy Therapy - Quantum Solutions ht...</td>\n",
       "      <td>['anxiety', 'panic', 'attack', 'cure', 'energy', 'healing', 'meridian', 'energy', 'therapy', 'qu...</td>\n",
       "      <td>0.000</td>\n",
       "      <td>0.649</td>\n",
       "      <td>0.351</td>\n",
       "      <td>0.6597</td>\n",
       "    </tr>\n",
       "    <tr>\n",
       "      <th>NaT</th>\n",
       "      <td>NaN</td>\n",
       "      <td>NaN</td>\n",
       "      <td>NaN</td>\n",
       "      <td>0.413</td>\n",
       "      <td>0.255</td>\n",
       "      <td>0.332</td>\n",
       "      <td>-0.3818</td>\n",
       "    </tr>\n",
       "  </tbody>\n",
       "</table>\n",
       "<p>775143 rows × 7 columns</p>\n",
       "</div>"
      ],
      "text/plain": [
       "                    company  \\\n",
       "Date                          \n",
       "2021-04-01      first_solar   \n",
       "2021-03-31      first_solar   \n",
       "2021-03-31      first_solar   \n",
       "2021-03-31      first_solar   \n",
       "2021-03-31      first_solar   \n",
       "...                     ...   \n",
       "2011-01-10  meridian_energy   \n",
       "2011-01-07  meridian_energy   \n",
       "2011-01-06  meridian_energy   \n",
       "2011-01-02  meridian_energy   \n",
       "NaT                     NaN   \n",
       "\n",
       "                                                                                                      TweetText  \\\n",
       "Date                                                                                                              \n",
       "2021-04-01  First Solar Completes Sale of North American O&amp;M Business to NovaSource $FSLR https://t.co/j...   \n",
       "2021-03-31  $ALYI To Reveal New Significant Investment In Company From Leading Texas Based Private Equity Fu...   \n",
       "2021-03-31  @SolarPowerEU @renewableH2EU @EU_Commission @Akuo_Energy @enelgreenpower @EdpRenewables @Enapter...   \n",
       "2021-03-31                                                  $FSLR sector move confirmed https://t.co/h08Dwn5CIF   \n",
       "2021-03-31  $FSLR NovaSource Power Services is World's Largest Solar O&amp;M Provider with Acquisition of Fi...   \n",
       "...                                                                                                         ...   \n",
       "2011-01-10  Panic Attacks Cure: Anxiety And Panic Attacks Cure - Energy Healing - Meridian Energy Therapy - ...   \n",
       "2011-01-07  Just had some Meridian Energy guys come around saying they could save me a lot money. Said I was...   \n",
       "2011-01-06  EFT Cafe - Gratitude Tapping: AAMET - Association for the Advancement of Meridian Energy Techniq...   \n",
       "2011-01-02  Anxiety and Panic Attacks Cure - Energy Healing - Meridian Energy Therapy - Quantum Solutions ht...   \n",
       "NaT                                                                                                         NaN   \n",
       "\n",
       "                                                                                               Tweet_lemmatized  \\\n",
       "Date                                                                                                              \n",
       "2021-04-01  ['first', 'solar', 'completes', 'sale', 'north', 'american', 'oampm', 'business', 'novasource', ...   \n",
       "2021-03-31  ['alyi', 'reveal', 'new', 'significant', 'investment', 'company', 'leading', 'texas', 'based', '...   \n",
       "2021-03-31  ['solarpowereu', 'renewableheu', 'eucommission', 'akuoenergy', 'enelgreenpower', 'edprenewables'...   \n",
       "2021-03-31                                           ['fslr', 'sector', 'move', 'confirmed', 'httpstcohdwncif']   \n",
       "2021-03-31  ['fslr', 'novasource', 'power', 'service', 'world', 'largest', 'solar', 'oampm', 'provider', 'ac...   \n",
       "...                                                                                                         ...   \n",
       "2011-01-10  ['panic', 'attack', 'cure', 'anxiety', 'panic', 'attack', 'cure', 'energy', 'healing', 'meridian...   \n",
       "2011-01-07  ['meridian', 'energy', 'guy', 'come', 'around', 'saying', 'could', 'save', 'lot', 'money', 'said...   \n",
       "2011-01-06  ['eft', 'cafe', 'gratitude', 'tapping', 'aamet', 'association', 'advancement', 'meridian', 'ener...   \n",
       "2011-01-02  ['anxiety', 'panic', 'attack', 'cure', 'energy', 'healing', 'meridian', 'energy', 'therapy', 'qu...   \n",
       "NaT                                                                                                         NaN   \n",
       "\n",
       "              neg    neu    pos  compound  \n",
       "Date                                       \n",
       "2021-04-01  0.000  0.000  0.000    0.0000  \n",
       "2021-03-31  0.000  1.000  0.000    0.0000  \n",
       "2021-03-31  0.000  0.927  0.073    0.2023  \n",
       "2021-03-31  0.081  0.848  0.071   -0.0754  \n",
       "2021-03-31  0.000  1.000  0.000    0.0000  \n",
       "...           ...    ...    ...       ...  \n",
       "2011-01-10  0.537  0.222  0.241   -0.8402  \n",
       "2011-01-07  0.537  0.222  0.241   -0.8402  \n",
       "2011-01-06  0.122  0.609  0.269    0.4393  \n",
       "2011-01-02  0.000  0.649  0.351    0.6597  \n",
       "NaT         0.413  0.255  0.332   -0.3818  \n",
       "\n",
       "[775143 rows x 7 columns]"
      ]
     },
     "execution_count": 17,
     "metadata": {},
     "output_type": "execute_result"
    }
   ],
   "source": [
    "sentiment"
   ]
  },
  {
   "cell_type": "markdown",
   "metadata": {},
   "source": [
    "## Create daily tweet count "
   ]
  },
  {
   "cell_type": "code",
   "execution_count": 18,
   "metadata": {},
   "outputs": [
    {
     "data": {
      "text/plain": [
       "array(['first_solar', 'siemens_gamesa', 'plug_power', 'tesla', 'sunrun',\n",
       "       'sunpower', 'meridian_energy', nan], dtype=object)"
      ]
     },
     "execution_count": 18,
     "metadata": {},
     "output_type": "execute_result"
    }
   ],
   "source": [
    "sentiment['company'].unique()"
   ]
  },
  {
   "cell_type": "code",
   "execution_count": 19,
   "metadata": {},
   "outputs": [],
   "source": [
    "gctay_tweets = sentiment[sentiment['company'] == 'siemens_gamesa']"
   ]
  },
  {
   "cell_type": "code",
   "execution_count": 20,
   "metadata": {},
   "outputs": [],
   "source": [
    "gctay_tweets_daily = gctay_tweets.groupby(['Date']).count()"
   ]
  },
  {
   "cell_type": "code",
   "execution_count": 21,
   "metadata": {},
   "outputs": [],
   "source": [
    "gctay_tweets_daily = pd.DataFrame(gctay_tweets_daily['compound'])"
   ]
  },
  {
   "cell_type": "code",
   "execution_count": 22,
   "metadata": {},
   "outputs": [],
   "source": [
    "gctay_tweets_daily.rename(columns={'compound':'Daily Tweets'},inplace=True)"
   ]
  },
  {
   "cell_type": "code",
   "execution_count": 23,
   "metadata": {},
   "outputs": [
    {
     "data": {
      "text/html": [
       "<div>\n",
       "<style scoped>\n",
       "    .dataframe tbody tr th:only-of-type {\n",
       "        vertical-align: middle;\n",
       "    }\n",
       "\n",
       "    .dataframe tbody tr th {\n",
       "        vertical-align: top;\n",
       "    }\n",
       "\n",
       "    .dataframe thead th {\n",
       "        text-align: right;\n",
       "    }\n",
       "</style>\n",
       "<table border=\"1\" class=\"dataframe\">\n",
       "  <thead>\n",
       "    <tr style=\"text-align: right;\">\n",
       "      <th></th>\n",
       "      <th>Daily Tweets</th>\n",
       "    </tr>\n",
       "    <tr>\n",
       "      <th>Date</th>\n",
       "      <th></th>\n",
       "    </tr>\n",
       "  </thead>\n",
       "  <tbody>\n",
       "    <tr>\n",
       "      <th>2011-01-01</th>\n",
       "      <td>2</td>\n",
       "    </tr>\n",
       "    <tr>\n",
       "      <th>2011-01-02</th>\n",
       "      <td>2</td>\n",
       "    </tr>\n",
       "    <tr>\n",
       "      <th>2011-01-03</th>\n",
       "      <td>5</td>\n",
       "    </tr>\n",
       "    <tr>\n",
       "      <th>2011-01-04</th>\n",
       "      <td>6</td>\n",
       "    </tr>\n",
       "    <tr>\n",
       "      <th>2011-01-05</th>\n",
       "      <td>5</td>\n",
       "    </tr>\n",
       "    <tr>\n",
       "      <th>...</th>\n",
       "      <td>...</td>\n",
       "    </tr>\n",
       "    <tr>\n",
       "      <th>2021-03-28</th>\n",
       "      <td>51</td>\n",
       "    </tr>\n",
       "    <tr>\n",
       "      <th>2021-03-29</th>\n",
       "      <td>118</td>\n",
       "    </tr>\n",
       "    <tr>\n",
       "      <th>2021-03-30</th>\n",
       "      <td>129</td>\n",
       "    </tr>\n",
       "    <tr>\n",
       "      <th>2021-03-31</th>\n",
       "      <td>129</td>\n",
       "    </tr>\n",
       "    <tr>\n",
       "      <th>2021-04-01</th>\n",
       "      <td>3</td>\n",
       "    </tr>\n",
       "  </tbody>\n",
       "</table>\n",
       "<p>3699 rows × 1 columns</p>\n",
       "</div>"
      ],
      "text/plain": [
       "            Daily Tweets\n",
       "Date                    \n",
       "2011-01-01             2\n",
       "2011-01-02             2\n",
       "2011-01-03             5\n",
       "2011-01-04             6\n",
       "2011-01-05             5\n",
       "...                  ...\n",
       "2021-03-28            51\n",
       "2021-03-29           118\n",
       "2021-03-30           129\n",
       "2021-03-31           129\n",
       "2021-04-01             3\n",
       "\n",
       "[3699 rows x 1 columns]"
      ]
     },
     "execution_count": 23,
     "metadata": {},
     "output_type": "execute_result"
    }
   ],
   "source": [
    "gctay_tweets_daily"
   ]
  },
  {
   "cell_type": "markdown",
   "metadata": {},
   "source": [
    "## Create compount sentiment mean"
   ]
  },
  {
   "cell_type": "code",
   "execution_count": 24,
   "metadata": {},
   "outputs": [],
   "source": [
    "gctay_sentiment = sentiment[sentiment['company'] == 'siemens_gamesa']"
   ]
  },
  {
   "cell_type": "code",
   "execution_count": 25,
   "metadata": {},
   "outputs": [],
   "source": [
    "gctay_sentiment = pd.DataFrame(gctay_sentiment['compound'])"
   ]
  },
  {
   "cell_type": "code",
   "execution_count": 26,
   "metadata": {},
   "outputs": [],
   "source": [
    "gctay_sentiment_daily = gctay_sentiment.groupby(['Date']).mean()"
   ]
  },
  {
   "cell_type": "code",
   "execution_count": 27,
   "metadata": {},
   "outputs": [
    {
     "data": {
      "text/html": [
       "<div>\n",
       "<style scoped>\n",
       "    .dataframe tbody tr th:only-of-type {\n",
       "        vertical-align: middle;\n",
       "    }\n",
       "\n",
       "    .dataframe tbody tr th {\n",
       "        vertical-align: top;\n",
       "    }\n",
       "\n",
       "    .dataframe thead th {\n",
       "        text-align: right;\n",
       "    }\n",
       "</style>\n",
       "<table border=\"1\" class=\"dataframe\">\n",
       "  <thead>\n",
       "    <tr style=\"text-align: right;\">\n",
       "      <th></th>\n",
       "      <th>compound</th>\n",
       "    </tr>\n",
       "    <tr>\n",
       "      <th>Date</th>\n",
       "      <th></th>\n",
       "    </tr>\n",
       "  </thead>\n",
       "  <tbody>\n",
       "    <tr>\n",
       "      <th>2011-01-01</th>\n",
       "      <td>0.660500</td>\n",
       "    </tr>\n",
       "    <tr>\n",
       "      <th>2011-01-02</th>\n",
       "      <td>0.273200</td>\n",
       "    </tr>\n",
       "    <tr>\n",
       "      <th>2011-01-03</th>\n",
       "      <td>0.470360</td>\n",
       "    </tr>\n",
       "    <tr>\n",
       "      <th>2011-01-04</th>\n",
       "      <td>0.322400</td>\n",
       "    </tr>\n",
       "    <tr>\n",
       "      <th>2011-01-05</th>\n",
       "      <td>0.477660</td>\n",
       "    </tr>\n",
       "    <tr>\n",
       "      <th>...</th>\n",
       "      <td>...</td>\n",
       "    </tr>\n",
       "    <tr>\n",
       "      <th>2021-03-28</th>\n",
       "      <td>0.480627</td>\n",
       "    </tr>\n",
       "    <tr>\n",
       "      <th>2021-03-29</th>\n",
       "      <td>0.280736</td>\n",
       "    </tr>\n",
       "    <tr>\n",
       "      <th>2021-03-30</th>\n",
       "      <td>0.430319</td>\n",
       "    </tr>\n",
       "    <tr>\n",
       "      <th>2021-03-31</th>\n",
       "      <td>0.327564</td>\n",
       "    </tr>\n",
       "    <tr>\n",
       "      <th>2021-04-01</th>\n",
       "      <td>0.133433</td>\n",
       "    </tr>\n",
       "  </tbody>\n",
       "</table>\n",
       "<p>3699 rows × 1 columns</p>\n",
       "</div>"
      ],
      "text/plain": [
       "            compound\n",
       "Date                \n",
       "2011-01-01  0.660500\n",
       "2011-01-02  0.273200\n",
       "2011-01-03  0.470360\n",
       "2011-01-04  0.322400\n",
       "2011-01-05  0.477660\n",
       "...              ...\n",
       "2021-03-28  0.480627\n",
       "2021-03-29  0.280736\n",
       "2021-03-30  0.430319\n",
       "2021-03-31  0.327564\n",
       "2021-04-01  0.133433\n",
       "\n",
       "[3699 rows x 1 columns]"
      ]
     },
     "execution_count": 27,
     "metadata": {},
     "output_type": "execute_result"
    }
   ],
   "source": [
    "gctay_sentiment_daily"
   ]
  },
  {
   "cell_type": "markdown",
   "metadata": {},
   "source": [
    "# Merge SPWR datasets"
   ]
  },
  {
   "cell_type": "code",
   "execution_count": 28,
   "metadata": {},
   "outputs": [],
   "source": [
    "gctay = pd.merge(gctay_closing_daily, gctay_tweets_daily, how='left', left_on=['Date'], right_on=['Date'] )"
   ]
  },
  {
   "cell_type": "code",
   "execution_count": 29,
   "metadata": {},
   "outputs": [],
   "source": [
    "gctay.dropna(inplace=True)"
   ]
  },
  {
   "cell_type": "code",
   "execution_count": 30,
   "metadata": {},
   "outputs": [],
   "source": [
    "gctay = pd.merge(gctay, gctay_sentiment_daily,how='left', left_on=['Date'], right_on=['Date'] )"
   ]
  },
  {
   "cell_type": "code",
   "execution_count": 31,
   "metadata": {},
   "outputs": [
    {
     "data": {
      "text/html": [
       "<div>\n",
       "<style scoped>\n",
       "    .dataframe tbody tr th:only-of-type {\n",
       "        vertical-align: middle;\n",
       "    }\n",
       "\n",
       "    .dataframe tbody tr th {\n",
       "        vertical-align: top;\n",
       "    }\n",
       "\n",
       "    .dataframe thead th {\n",
       "        text-align: right;\n",
       "    }\n",
       "</style>\n",
       "<table border=\"1\" class=\"dataframe\">\n",
       "  <thead>\n",
       "    <tr style=\"text-align: right;\">\n",
       "      <th></th>\n",
       "      <th>close</th>\n",
       "      <th>Daily Tweets</th>\n",
       "      <th>compound</th>\n",
       "    </tr>\n",
       "    <tr>\n",
       "      <th>Date</th>\n",
       "      <th></th>\n",
       "      <th></th>\n",
       "      <th></th>\n",
       "    </tr>\n",
       "  </thead>\n",
       "  <tbody>\n",
       "    <tr>\n",
       "      <th>2011-01-03</th>\n",
       "      <td>1.6900</td>\n",
       "      <td>5.0</td>\n",
       "      <td>0.470360</td>\n",
       "    </tr>\n",
       "    <tr>\n",
       "      <th>2011-01-04</th>\n",
       "      <td>1.6900</td>\n",
       "      <td>6.0</td>\n",
       "      <td>0.322400</td>\n",
       "    </tr>\n",
       "    <tr>\n",
       "      <th>2011-01-05</th>\n",
       "      <td>1.6900</td>\n",
       "      <td>5.0</td>\n",
       "      <td>0.477660</td>\n",
       "    </tr>\n",
       "    <tr>\n",
       "      <th>2011-01-06</th>\n",
       "      <td>1.6900</td>\n",
       "      <td>3.0</td>\n",
       "      <td>0.391933</td>\n",
       "    </tr>\n",
       "    <tr>\n",
       "      <th>2011-01-07</th>\n",
       "      <td>1.6900</td>\n",
       "      <td>4.0</td>\n",
       "      <td>0.241975</td>\n",
       "    </tr>\n",
       "    <tr>\n",
       "      <th>...</th>\n",
       "      <td>...</td>\n",
       "      <td>...</td>\n",
       "      <td>...</td>\n",
       "    </tr>\n",
       "    <tr>\n",
       "      <th>2021-03-26</th>\n",
       "      <td>6.8900</td>\n",
       "      <td>95.0</td>\n",
       "      <td>0.331604</td>\n",
       "    </tr>\n",
       "    <tr>\n",
       "      <th>2021-03-29</th>\n",
       "      <td>6.9400</td>\n",
       "      <td>118.0</td>\n",
       "      <td>0.280736</td>\n",
       "    </tr>\n",
       "    <tr>\n",
       "      <th>2021-03-30</th>\n",
       "      <td>7.3225</td>\n",
       "      <td>129.0</td>\n",
       "      <td>0.430319</td>\n",
       "    </tr>\n",
       "    <tr>\n",
       "      <th>2021-03-31</th>\n",
       "      <td>7.7400</td>\n",
       "      <td>129.0</td>\n",
       "      <td>0.327564</td>\n",
       "    </tr>\n",
       "    <tr>\n",
       "      <th>2021-04-01</th>\n",
       "      <td>7.6550</td>\n",
       "      <td>3.0</td>\n",
       "      <td>0.133433</td>\n",
       "    </tr>\n",
       "  </tbody>\n",
       "</table>\n",
       "<p>2551 rows × 3 columns</p>\n",
       "</div>"
      ],
      "text/plain": [
       "             close  Daily Tweets  compound\n",
       "Date                                      \n",
       "2011-01-03  1.6900           5.0  0.470360\n",
       "2011-01-04  1.6900           6.0  0.322400\n",
       "2011-01-05  1.6900           5.0  0.477660\n",
       "2011-01-06  1.6900           3.0  0.391933\n",
       "2011-01-07  1.6900           4.0  0.241975\n",
       "...            ...           ...       ...\n",
       "2021-03-26  6.8900          95.0  0.331604\n",
       "2021-03-29  6.9400         118.0  0.280736\n",
       "2021-03-30  7.3225         129.0  0.430319\n",
       "2021-03-31  7.7400         129.0  0.327564\n",
       "2021-04-01  7.6550           3.0  0.133433\n",
       "\n",
       "[2551 rows x 3 columns]"
      ]
     },
     "execution_count": 31,
     "metadata": {},
     "output_type": "execute_result"
    }
   ],
   "source": [
    "gctay"
   ]
  },
  {
   "cell_type": "code",
   "execution_count": 32,
   "metadata": {},
   "outputs": [],
   "source": [
    "gctay.rename(columns={'close':'Closing Price', 'compound':'Sentiment Score'}, inplace=True)"
   ]
  },
  {
   "cell_type": "code",
   "execution_count": 33,
   "metadata": {},
   "outputs": [
    {
     "data": {
      "text/html": [
       "<div>\n",
       "<style scoped>\n",
       "    .dataframe tbody tr th:only-of-type {\n",
       "        vertical-align: middle;\n",
       "    }\n",
       "\n",
       "    .dataframe tbody tr th {\n",
       "        vertical-align: top;\n",
       "    }\n",
       "\n",
       "    .dataframe thead th {\n",
       "        text-align: right;\n",
       "    }\n",
       "</style>\n",
       "<table border=\"1\" class=\"dataframe\">\n",
       "  <thead>\n",
       "    <tr style=\"text-align: right;\">\n",
       "      <th></th>\n",
       "      <th>Closing Price</th>\n",
       "      <th>Daily Tweets</th>\n",
       "      <th>Sentiment Score</th>\n",
       "    </tr>\n",
       "    <tr>\n",
       "      <th>Date</th>\n",
       "      <th></th>\n",
       "      <th></th>\n",
       "      <th></th>\n",
       "    </tr>\n",
       "  </thead>\n",
       "  <tbody>\n",
       "    <tr>\n",
       "      <th>2011-01-03</th>\n",
       "      <td>1.6900</td>\n",
       "      <td>5.0</td>\n",
       "      <td>0.470360</td>\n",
       "    </tr>\n",
       "    <tr>\n",
       "      <th>2011-01-04</th>\n",
       "      <td>1.6900</td>\n",
       "      <td>6.0</td>\n",
       "      <td>0.322400</td>\n",
       "    </tr>\n",
       "    <tr>\n",
       "      <th>2011-01-05</th>\n",
       "      <td>1.6900</td>\n",
       "      <td>5.0</td>\n",
       "      <td>0.477660</td>\n",
       "    </tr>\n",
       "    <tr>\n",
       "      <th>2011-01-06</th>\n",
       "      <td>1.6900</td>\n",
       "      <td>3.0</td>\n",
       "      <td>0.391933</td>\n",
       "    </tr>\n",
       "    <tr>\n",
       "      <th>2011-01-07</th>\n",
       "      <td>1.6900</td>\n",
       "      <td>4.0</td>\n",
       "      <td>0.241975</td>\n",
       "    </tr>\n",
       "    <tr>\n",
       "      <th>...</th>\n",
       "      <td>...</td>\n",
       "      <td>...</td>\n",
       "      <td>...</td>\n",
       "    </tr>\n",
       "    <tr>\n",
       "      <th>2021-03-26</th>\n",
       "      <td>6.8900</td>\n",
       "      <td>95.0</td>\n",
       "      <td>0.331604</td>\n",
       "    </tr>\n",
       "    <tr>\n",
       "      <th>2021-03-29</th>\n",
       "      <td>6.9400</td>\n",
       "      <td>118.0</td>\n",
       "      <td>0.280736</td>\n",
       "    </tr>\n",
       "    <tr>\n",
       "      <th>2021-03-30</th>\n",
       "      <td>7.3225</td>\n",
       "      <td>129.0</td>\n",
       "      <td>0.430319</td>\n",
       "    </tr>\n",
       "    <tr>\n",
       "      <th>2021-03-31</th>\n",
       "      <td>7.7400</td>\n",
       "      <td>129.0</td>\n",
       "      <td>0.327564</td>\n",
       "    </tr>\n",
       "    <tr>\n",
       "      <th>2021-04-01</th>\n",
       "      <td>7.6550</td>\n",
       "      <td>3.0</td>\n",
       "      <td>0.133433</td>\n",
       "    </tr>\n",
       "  </tbody>\n",
       "</table>\n",
       "<p>2551 rows × 3 columns</p>\n",
       "</div>"
      ],
      "text/plain": [
       "            Closing Price  Daily Tweets  Sentiment Score\n",
       "Date                                                    \n",
       "2011-01-03         1.6900           5.0         0.470360\n",
       "2011-01-04         1.6900           6.0         0.322400\n",
       "2011-01-05         1.6900           5.0         0.477660\n",
       "2011-01-06         1.6900           3.0         0.391933\n",
       "2011-01-07         1.6900           4.0         0.241975\n",
       "...                   ...           ...              ...\n",
       "2021-03-26         6.8900          95.0         0.331604\n",
       "2021-03-29         6.9400         118.0         0.280736\n",
       "2021-03-30         7.3225         129.0         0.430319\n",
       "2021-03-31         7.7400         129.0         0.327564\n",
       "2021-04-01         7.6550           3.0         0.133433\n",
       "\n",
       "[2551 rows x 3 columns]"
      ]
     },
     "execution_count": 33,
     "metadata": {},
     "output_type": "execute_result"
    }
   ],
   "source": [
    "gctay"
   ]
  },
  {
   "cell_type": "code",
   "execution_count": 35,
   "metadata": {},
   "outputs": [],
   "source": [
    "# gctay.to_csv('./gctay_closing_popularity_sentiment.csv')"
   ]
  },
  {
   "cell_type": "markdown",
   "metadata": {},
   "source": [
    "# Normalized SPWR data"
   ]
  },
  {
   "cell_type": "code",
   "execution_count": null,
   "metadata": {},
   "outputs": [],
   "source": [
    "gctay_normalized = gctay.copy()"
   ]
  },
  {
   "cell_type": "code",
   "execution_count": null,
   "metadata": {},
   "outputs": [],
   "source": [
    "gctay_normalized"
   ]
  },
  {
   "cell_type": "code",
   "execution_count": null,
   "metadata": {},
   "outputs": [],
   "source": [
    "def normalize_daily_tweets(df):\n",
    "    max_count = df['Daily Tweets'].max()\n",
    "    min_count = df['Daily Tweets'].min()\n",
    "    df['Daily Tweets'] = (df['Daily Tweets'] - min_count) / (max_count - min_count)\n",
    "    return df\n",
    "\n",
    "def normalize_sentiment_score(df):\n",
    "    max_count = df['Sentiment Score'].max()\n",
    "    min_count = df['Sentiment Score'].min()\n",
    "    df['Sentiment Score'] = (df['Sentiment Score'] - min_count) / (max_count - min_count)\n",
    "    return df\n",
    "\n",
    "def normalize_closing_price(df):\n",
    "    max_count = df['Closing Price'].max()\n",
    "    min_count = df['Closing Price'].min()\n",
    "    df['Closing Price'] = (df['Closing Price'] - min_count) / (max_count - min_count)\n",
    "    return df"
   ]
  },
  {
   "cell_type": "code",
   "execution_count": null,
   "metadata": {},
   "outputs": [],
   "source": [
    "gctay_normalized = normalize_daily_tweets(gctay_normalized)"
   ]
  },
  {
   "cell_type": "code",
   "execution_count": null,
   "metadata": {},
   "outputs": [],
   "source": [
    "gctay_normalized = normalize_sentiment_score(gctay_normalized)"
   ]
  },
  {
   "cell_type": "code",
   "execution_count": null,
   "metadata": {},
   "outputs": [],
   "source": [
    "gctay_normalized =  normalize_closing_price(gctay_normalized)"
   ]
  },
  {
   "cell_type": "code",
   "execution_count": null,
   "metadata": {},
   "outputs": [],
   "source": [
    "gctay_normalized"
   ]
  },
  {
   "cell_type": "code",
   "execution_count": null,
   "metadata": {},
   "outputs": [],
   "source": [
    "gctay_normalized.to_csv('./gctay_normalized_closing_popularity_sentiment.csv')"
   ]
  },
  {
   "cell_type": "code",
   "execution_count": null,
   "metadata": {},
   "outputs": [],
   "source": [
    "gctay_normalized[['Sentiment Score','Closing Price']]['2020-12-01':'2021-04-01'].plot(figsize=(18,5))"
   ]
  },
  {
   "cell_type": "code",
   "execution_count": null,
   "metadata": {},
   "outputs": [],
   "source": [
    "gctay_normalized[['Daily Tweets','Closing Price']]['2020-03-01':'2021-04-01'].plot(figsize=(12,8));"
   ]
  },
  {
   "cell_type": "code",
   "execution_count": null,
   "metadata": {},
   "outputs": [],
   "source": []
  }
 ],
 "metadata": {
  "kernelspec": {
   "display_name": "Python 3",
   "language": "python",
   "name": "python3"
  },
  "language_info": {
   "codemirror_mode": {
    "name": "ipython",
    "version": 3
   },
   "file_extension": ".py",
   "mimetype": "text/x-python",
   "name": "python",
   "nbconvert_exporter": "python",
   "pygments_lexer": "ipython3",
   "version": "3.8.5"
  }
 },
 "nbformat": 4,
 "nbformat_minor": 4
}

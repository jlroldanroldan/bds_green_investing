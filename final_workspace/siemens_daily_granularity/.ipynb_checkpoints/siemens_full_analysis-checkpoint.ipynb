{
 "cells": [
  {
   "cell_type": "code",
   "execution_count": 89,
   "metadata": {},
   "outputs": [],
   "source": [
    "# Import libraries\n",
    "import pandas as pd\n",
    "import numpy as np\n",
    "import seaborn as sns\n",
    "import matplotlib.pyplot as plt\n",
    "%matplotlib inline\n",
    "pd.set_option('display.max_colwidth', 100)\n",
    "\n",
    "from statsmodels.tsa.stattools import grangercausalitytests"
   ]
  },
  {
   "cell_type": "markdown",
   "metadata": {},
   "source": [
    "# Stock prices"
   ]
  },
  {
   "cell_type": "markdown",
   "metadata": {},
   "source": [
    "## Import Stock prices"
   ]
  },
  {
   "cell_type": "code",
   "execution_count": 2,
   "metadata": {},
   "outputs": [],
   "source": [
    "stock_prices = pd.read_csv('../../../data/team/Stock Price Time Series/stock_prices_time_series_converged.csv')"
   ]
  },
  {
   "cell_type": "code",
   "execution_count": 3,
   "metadata": {},
   "outputs": [],
   "source": [
    "stock_prices['Date'] = pd.to_datetime(stock_prices['timestamp'], errors='coerce')"
   ]
  },
  {
   "cell_type": "code",
   "execution_count": 4,
   "metadata": {},
   "outputs": [],
   "source": [
    "stock_prices.drop(columns=['Unnamed: 9','Unnamed: 10'], inplace=True)\n",
    "stock_prices.drop(columns=['mean delta', '-0.073169045'], inplace=True)"
   ]
  },
  {
   "cell_type": "code",
   "execution_count": 5,
   "metadata": {},
   "outputs": [],
   "source": [
    "stock_prices.set_index('Date', inplace=True);"
   ]
  },
  {
   "cell_type": "code",
   "execution_count": 6,
   "metadata": {},
   "outputs": [],
   "source": [
    "stock_prices.drop(['timestamp'],axis=1, inplace=True)"
   ]
  },
  {
   "cell_type": "markdown",
   "metadata": {},
   "source": [
    "## Export GCTAY close prices"
   ]
  },
  {
   "cell_type": "code",
   "execution_count": 7,
   "metadata": {},
   "outputs": [
    {
     "data": {
      "text/plain": [
       "array(['SPWR', 'COENF', 'DNNGY', 'DQ', 'ENPH', 'FSLR', 'GCTAY', 'ORA',\n",
       "       'RUN', 'SCTY', 'TSLA', 'VWDRY'], dtype=object)"
      ]
     },
     "execution_count": 7,
     "metadata": {},
     "output_type": "execute_result"
    }
   ],
   "source": [
    "stock_prices['Ticker'].unique()"
   ]
  },
  {
   "cell_type": "code",
   "execution_count": 8,
   "metadata": {},
   "outputs": [],
   "source": [
    "stock_prices_gctay = stock_prices[stock_prices['Ticker'] == 'GCTAY'].copy()"
   ]
  },
  {
   "cell_type": "code",
   "execution_count": 9,
   "metadata": {},
   "outputs": [],
   "source": [
    "stock_prices_gctay.sort_index(ascending=True, inplace=True)"
   ]
  },
  {
   "cell_type": "code",
   "execution_count": 10,
   "metadata": {},
   "outputs": [],
   "source": [
    "gctay_closing_daily = pd.DataFrame(stock_prices_gctay['close'])"
   ]
  },
  {
   "cell_type": "code",
   "execution_count": 11,
   "metadata": {},
   "outputs": [
    {
     "data": {
      "text/html": [
       "<div>\n",
       "<style scoped>\n",
       "    .dataframe tbody tr th:only-of-type {\n",
       "        vertical-align: middle;\n",
       "    }\n",
       "\n",
       "    .dataframe tbody tr th {\n",
       "        vertical-align: top;\n",
       "    }\n",
       "\n",
       "    .dataframe thead th {\n",
       "        text-align: right;\n",
       "    }\n",
       "</style>\n",
       "<table border=\"1\" class=\"dataframe\">\n",
       "  <thead>\n",
       "    <tr style=\"text-align: right;\">\n",
       "      <th></th>\n",
       "      <th>close</th>\n",
       "    </tr>\n",
       "    <tr>\n",
       "      <th>Date</th>\n",
       "      <th></th>\n",
       "    </tr>\n",
       "  </thead>\n",
       "  <tbody>\n",
       "    <tr>\n",
       "      <th>2009-02-05</th>\n",
       "      <td>3.290</td>\n",
       "    </tr>\n",
       "    <tr>\n",
       "      <th>2009-02-06</th>\n",
       "      <td>3.290</td>\n",
       "    </tr>\n",
       "    <tr>\n",
       "      <th>2009-02-09</th>\n",
       "      <td>3.290</td>\n",
       "    </tr>\n",
       "    <tr>\n",
       "      <th>2009-02-10</th>\n",
       "      <td>3.500</td>\n",
       "    </tr>\n",
       "    <tr>\n",
       "      <th>2009-02-11</th>\n",
       "      <td>3.500</td>\n",
       "    </tr>\n",
       "    <tr>\n",
       "      <th>...</th>\n",
       "      <td>...</td>\n",
       "    </tr>\n",
       "    <tr>\n",
       "      <th>2021-04-19</th>\n",
       "      <td>7.150</td>\n",
       "    </tr>\n",
       "    <tr>\n",
       "      <th>2021-04-20</th>\n",
       "      <td>6.990</td>\n",
       "    </tr>\n",
       "    <tr>\n",
       "      <th>2021-04-21</th>\n",
       "      <td>7.272</td>\n",
       "    </tr>\n",
       "    <tr>\n",
       "      <th>2021-04-22</th>\n",
       "      <td>7.670</td>\n",
       "    </tr>\n",
       "    <tr>\n",
       "      <th>2021-04-23</th>\n",
       "      <td>7.630</td>\n",
       "    </tr>\n",
       "  </tbody>\n",
       "</table>\n",
       "<p>3061 rows × 1 columns</p>\n",
       "</div>"
      ],
      "text/plain": [
       "            close\n",
       "Date             \n",
       "2009-02-05  3.290\n",
       "2009-02-06  3.290\n",
       "2009-02-09  3.290\n",
       "2009-02-10  3.500\n",
       "2009-02-11  3.500\n",
       "...           ...\n",
       "2021-04-19  7.150\n",
       "2021-04-20  6.990\n",
       "2021-04-21  7.272\n",
       "2021-04-22  7.670\n",
       "2021-04-23  7.630\n",
       "\n",
       "[3061 rows x 1 columns]"
      ]
     },
     "execution_count": 11,
     "metadata": {},
     "output_type": "execute_result"
    }
   ],
   "source": [
    "gctay_closing_daily"
   ]
  },
  {
   "cell_type": "markdown",
   "metadata": {},
   "source": [
    "# Import Sentiment "
   ]
  },
  {
   "cell_type": "code",
   "execution_count": 12,
   "metadata": {},
   "outputs": [],
   "source": [
    "sentiment = pd.read_csv('../../../data/team/NLTK Time Series/sentiment_nltk_fixed_final.csv')"
   ]
  },
  {
   "cell_type": "code",
   "execution_count": 13,
   "metadata": {},
   "outputs": [],
   "source": [
    "sentiment.drop('Unnamed: 0', axis=1, inplace=True)"
   ]
  },
  {
   "cell_type": "code",
   "execution_count": 14,
   "metadata": {
    "scrolled": true
   },
   "outputs": [],
   "source": [
    "sentiment['Date'] = pd.to_datetime(sentiment['CreatedAt'].str[:10], errors='coerce')"
   ]
  },
  {
   "cell_type": "code",
   "execution_count": 15,
   "metadata": {},
   "outputs": [],
   "source": [
    "sentiment.set_index('Date',inplace=True);"
   ]
  },
  {
   "cell_type": "code",
   "execution_count": 16,
   "metadata": {},
   "outputs": [],
   "source": [
    "sentiment.drop('CreatedAt', axis=1, inplace=True)"
   ]
  },
  {
   "cell_type": "code",
   "execution_count": 17,
   "metadata": {},
   "outputs": [
    {
     "data": {
      "text/html": [
       "<div>\n",
       "<style scoped>\n",
       "    .dataframe tbody tr th:only-of-type {\n",
       "        vertical-align: middle;\n",
       "    }\n",
       "\n",
       "    .dataframe tbody tr th {\n",
       "        vertical-align: top;\n",
       "    }\n",
       "\n",
       "    .dataframe thead th {\n",
       "        text-align: right;\n",
       "    }\n",
       "</style>\n",
       "<table border=\"1\" class=\"dataframe\">\n",
       "  <thead>\n",
       "    <tr style=\"text-align: right;\">\n",
       "      <th></th>\n",
       "      <th>company</th>\n",
       "      <th>TweetText</th>\n",
       "      <th>Tweet_lemmatized</th>\n",
       "      <th>neg</th>\n",
       "      <th>neu</th>\n",
       "      <th>pos</th>\n",
       "      <th>compound</th>\n",
       "    </tr>\n",
       "    <tr>\n",
       "      <th>Date</th>\n",
       "      <th></th>\n",
       "      <th></th>\n",
       "      <th></th>\n",
       "      <th></th>\n",
       "      <th></th>\n",
       "      <th></th>\n",
       "      <th></th>\n",
       "    </tr>\n",
       "  </thead>\n",
       "  <tbody>\n",
       "    <tr>\n",
       "      <th>2021-04-01</th>\n",
       "      <td>first_solar</td>\n",
       "      <td>First Solar Completes Sale of North American O&amp;amp;M Business to NovaSource $FSLR https://t.co/j...</td>\n",
       "      <td>['first', 'solar', 'completes', 'sale', 'north', 'american', 'oampm', 'business', 'novasource', ...</td>\n",
       "      <td>0.000</td>\n",
       "      <td>0.000</td>\n",
       "      <td>0.000</td>\n",
       "      <td>0.0000</td>\n",
       "    </tr>\n",
       "    <tr>\n",
       "      <th>2021-03-31</th>\n",
       "      <td>first_solar</td>\n",
       "      <td>$ALYI To Reveal New Significant Investment In Company From Leading Texas Based Private Equity Fu...</td>\n",
       "      <td>['alyi', 'reveal', 'new', 'significant', 'investment', 'company', 'leading', 'texas', 'based', '...</td>\n",
       "      <td>0.000</td>\n",
       "      <td>1.000</td>\n",
       "      <td>0.000</td>\n",
       "      <td>0.0000</td>\n",
       "    </tr>\n",
       "    <tr>\n",
       "      <th>2021-03-31</th>\n",
       "      <td>first_solar</td>\n",
       "      <td>@SolarPowerEU @renewableH2EU @EU_Commission @Akuo_Energy @enelgreenpower @EdpRenewables @Enapter...</td>\n",
       "      <td>['solarpowereu', 'renewableheu', 'eucommission', 'akuoenergy', 'enelgreenpower', 'edprenewables'...</td>\n",
       "      <td>0.000</td>\n",
       "      <td>0.927</td>\n",
       "      <td>0.073</td>\n",
       "      <td>0.2023</td>\n",
       "    </tr>\n",
       "    <tr>\n",
       "      <th>2021-03-31</th>\n",
       "      <td>first_solar</td>\n",
       "      <td>$FSLR sector move confirmed https://t.co/h08Dwn5CIF</td>\n",
       "      <td>['fslr', 'sector', 'move', 'confirmed', 'httpstcohdwncif']</td>\n",
       "      <td>0.081</td>\n",
       "      <td>0.848</td>\n",
       "      <td>0.071</td>\n",
       "      <td>-0.0754</td>\n",
       "    </tr>\n",
       "    <tr>\n",
       "      <th>2021-03-31</th>\n",
       "      <td>first_solar</td>\n",
       "      <td>$FSLR NovaSource Power Services is World's Largest Solar O&amp;amp;M Provider with Acquisition of Fi...</td>\n",
       "      <td>['fslr', 'novasource', 'power', 'service', 'world', 'largest', 'solar', 'oampm', 'provider', 'ac...</td>\n",
       "      <td>0.000</td>\n",
       "      <td>1.000</td>\n",
       "      <td>0.000</td>\n",
       "      <td>0.0000</td>\n",
       "    </tr>\n",
       "    <tr>\n",
       "      <th>...</th>\n",
       "      <td>...</td>\n",
       "      <td>...</td>\n",
       "      <td>...</td>\n",
       "      <td>...</td>\n",
       "      <td>...</td>\n",
       "      <td>...</td>\n",
       "      <td>...</td>\n",
       "    </tr>\n",
       "    <tr>\n",
       "      <th>2011-01-10</th>\n",
       "      <td>meridian_energy</td>\n",
       "      <td>Panic Attacks Cure: Anxiety And Panic Attacks Cure - Energy Healing - Meridian Energy Therapy - ...</td>\n",
       "      <td>['panic', 'attack', 'cure', 'anxiety', 'panic', 'attack', 'cure', 'energy', 'healing', 'meridian...</td>\n",
       "      <td>0.537</td>\n",
       "      <td>0.222</td>\n",
       "      <td>0.241</td>\n",
       "      <td>-0.8402</td>\n",
       "    </tr>\n",
       "    <tr>\n",
       "      <th>2011-01-07</th>\n",
       "      <td>meridian_energy</td>\n",
       "      <td>Just had some Meridian Energy guys come around saying they could save me a lot money. Said I was...</td>\n",
       "      <td>['meridian', 'energy', 'guy', 'come', 'around', 'saying', 'could', 'save', 'lot', 'money', 'said...</td>\n",
       "      <td>0.537</td>\n",
       "      <td>0.222</td>\n",
       "      <td>0.241</td>\n",
       "      <td>-0.8402</td>\n",
       "    </tr>\n",
       "    <tr>\n",
       "      <th>2011-01-06</th>\n",
       "      <td>meridian_energy</td>\n",
       "      <td>EFT Cafe - Gratitude Tapping: AAMET - Association for the Advancement of Meridian Energy Techniq...</td>\n",
       "      <td>['eft', 'cafe', 'gratitude', 'tapping', 'aamet', 'association', 'advancement', 'meridian', 'ener...</td>\n",
       "      <td>0.122</td>\n",
       "      <td>0.609</td>\n",
       "      <td>0.269</td>\n",
       "      <td>0.4393</td>\n",
       "    </tr>\n",
       "    <tr>\n",
       "      <th>2011-01-02</th>\n",
       "      <td>meridian_energy</td>\n",
       "      <td>Anxiety and Panic Attacks Cure - Energy Healing - Meridian Energy Therapy - Quantum Solutions ht...</td>\n",
       "      <td>['anxiety', 'panic', 'attack', 'cure', 'energy', 'healing', 'meridian', 'energy', 'therapy', 'qu...</td>\n",
       "      <td>0.000</td>\n",
       "      <td>0.649</td>\n",
       "      <td>0.351</td>\n",
       "      <td>0.6597</td>\n",
       "    </tr>\n",
       "    <tr>\n",
       "      <th>NaT</th>\n",
       "      <td>NaN</td>\n",
       "      <td>NaN</td>\n",
       "      <td>NaN</td>\n",
       "      <td>0.413</td>\n",
       "      <td>0.255</td>\n",
       "      <td>0.332</td>\n",
       "      <td>-0.3818</td>\n",
       "    </tr>\n",
       "  </tbody>\n",
       "</table>\n",
       "<p>775143 rows × 7 columns</p>\n",
       "</div>"
      ],
      "text/plain": [
       "                    company  \\\n",
       "Date                          \n",
       "2021-04-01      first_solar   \n",
       "2021-03-31      first_solar   \n",
       "2021-03-31      first_solar   \n",
       "2021-03-31      first_solar   \n",
       "2021-03-31      first_solar   \n",
       "...                     ...   \n",
       "2011-01-10  meridian_energy   \n",
       "2011-01-07  meridian_energy   \n",
       "2011-01-06  meridian_energy   \n",
       "2011-01-02  meridian_energy   \n",
       "NaT                     NaN   \n",
       "\n",
       "                                                                                                      TweetText  \\\n",
       "Date                                                                                                              \n",
       "2021-04-01  First Solar Completes Sale of North American O&amp;M Business to NovaSource $FSLR https://t.co/j...   \n",
       "2021-03-31  $ALYI To Reveal New Significant Investment In Company From Leading Texas Based Private Equity Fu...   \n",
       "2021-03-31  @SolarPowerEU @renewableH2EU @EU_Commission @Akuo_Energy @enelgreenpower @EdpRenewables @Enapter...   \n",
       "2021-03-31                                                  $FSLR sector move confirmed https://t.co/h08Dwn5CIF   \n",
       "2021-03-31  $FSLR NovaSource Power Services is World's Largest Solar O&amp;M Provider with Acquisition of Fi...   \n",
       "...                                                                                                         ...   \n",
       "2011-01-10  Panic Attacks Cure: Anxiety And Panic Attacks Cure - Energy Healing - Meridian Energy Therapy - ...   \n",
       "2011-01-07  Just had some Meridian Energy guys come around saying they could save me a lot money. Said I was...   \n",
       "2011-01-06  EFT Cafe - Gratitude Tapping: AAMET - Association for the Advancement of Meridian Energy Techniq...   \n",
       "2011-01-02  Anxiety and Panic Attacks Cure - Energy Healing - Meridian Energy Therapy - Quantum Solutions ht...   \n",
       "NaT                                                                                                         NaN   \n",
       "\n",
       "                                                                                               Tweet_lemmatized  \\\n",
       "Date                                                                                                              \n",
       "2021-04-01  ['first', 'solar', 'completes', 'sale', 'north', 'american', 'oampm', 'business', 'novasource', ...   \n",
       "2021-03-31  ['alyi', 'reveal', 'new', 'significant', 'investment', 'company', 'leading', 'texas', 'based', '...   \n",
       "2021-03-31  ['solarpowereu', 'renewableheu', 'eucommission', 'akuoenergy', 'enelgreenpower', 'edprenewables'...   \n",
       "2021-03-31                                           ['fslr', 'sector', 'move', 'confirmed', 'httpstcohdwncif']   \n",
       "2021-03-31  ['fslr', 'novasource', 'power', 'service', 'world', 'largest', 'solar', 'oampm', 'provider', 'ac...   \n",
       "...                                                                                                         ...   \n",
       "2011-01-10  ['panic', 'attack', 'cure', 'anxiety', 'panic', 'attack', 'cure', 'energy', 'healing', 'meridian...   \n",
       "2011-01-07  ['meridian', 'energy', 'guy', 'come', 'around', 'saying', 'could', 'save', 'lot', 'money', 'said...   \n",
       "2011-01-06  ['eft', 'cafe', 'gratitude', 'tapping', 'aamet', 'association', 'advancement', 'meridian', 'ener...   \n",
       "2011-01-02  ['anxiety', 'panic', 'attack', 'cure', 'energy', 'healing', 'meridian', 'energy', 'therapy', 'qu...   \n",
       "NaT                                                                                                         NaN   \n",
       "\n",
       "              neg    neu    pos  compound  \n",
       "Date                                       \n",
       "2021-04-01  0.000  0.000  0.000    0.0000  \n",
       "2021-03-31  0.000  1.000  0.000    0.0000  \n",
       "2021-03-31  0.000  0.927  0.073    0.2023  \n",
       "2021-03-31  0.081  0.848  0.071   -0.0754  \n",
       "2021-03-31  0.000  1.000  0.000    0.0000  \n",
       "...           ...    ...    ...       ...  \n",
       "2011-01-10  0.537  0.222  0.241   -0.8402  \n",
       "2011-01-07  0.537  0.222  0.241   -0.8402  \n",
       "2011-01-06  0.122  0.609  0.269    0.4393  \n",
       "2011-01-02  0.000  0.649  0.351    0.6597  \n",
       "NaT         0.413  0.255  0.332   -0.3818  \n",
       "\n",
       "[775143 rows x 7 columns]"
      ]
     },
     "execution_count": 17,
     "metadata": {},
     "output_type": "execute_result"
    }
   ],
   "source": [
    "sentiment"
   ]
  },
  {
   "cell_type": "markdown",
   "metadata": {},
   "source": [
    "## Create daily tweet count "
   ]
  },
  {
   "cell_type": "code",
   "execution_count": 23,
   "metadata": {},
   "outputs": [
    {
     "data": {
      "text/plain": [
       "array(['first_solar', 'siemens_gamesa', 'plug_power', 'tesla', 'sunrun',\n",
       "       'sunpower', 'meridian_energy', nan], dtype=object)"
      ]
     },
     "execution_count": 23,
     "metadata": {},
     "output_type": "execute_result"
    }
   ],
   "source": [
    "sentiment['company'].unique()"
   ]
  },
  {
   "cell_type": "code",
   "execution_count": 24,
   "metadata": {},
   "outputs": [],
   "source": [
    "gctay_tweets = sentiment[sentiment['company'] == 'siemens_gamesa']"
   ]
  },
  {
   "cell_type": "code",
   "execution_count": 25,
   "metadata": {},
   "outputs": [],
   "source": [
    "gctay_tweets_daily = gctay_tweets.groupby(['Date']).count()"
   ]
  },
  {
   "cell_type": "code",
   "execution_count": 26,
   "metadata": {},
   "outputs": [],
   "source": [
    "gctay_tweets_daily = pd.DataFrame(gctay_tweets_daily['compound'])"
   ]
  },
  {
   "cell_type": "code",
   "execution_count": 27,
   "metadata": {},
   "outputs": [],
   "source": [
    "gctay_tweets_daily.rename(columns={'compound':'Daily Tweets'},inplace=True)"
   ]
  },
  {
   "cell_type": "code",
   "execution_count": 28,
   "metadata": {},
   "outputs": [
    {
     "data": {
      "text/html": [
       "<div>\n",
       "<style scoped>\n",
       "    .dataframe tbody tr th:only-of-type {\n",
       "        vertical-align: middle;\n",
       "    }\n",
       "\n",
       "    .dataframe tbody tr th {\n",
       "        vertical-align: top;\n",
       "    }\n",
       "\n",
       "    .dataframe thead th {\n",
       "        text-align: right;\n",
       "    }\n",
       "</style>\n",
       "<table border=\"1\" class=\"dataframe\">\n",
       "  <thead>\n",
       "    <tr style=\"text-align: right;\">\n",
       "      <th></th>\n",
       "      <th>Daily Tweets</th>\n",
       "    </tr>\n",
       "    <tr>\n",
       "      <th>Date</th>\n",
       "      <th></th>\n",
       "    </tr>\n",
       "  </thead>\n",
       "  <tbody>\n",
       "    <tr>\n",
       "      <th>2011-01-01</th>\n",
       "      <td>2</td>\n",
       "    </tr>\n",
       "    <tr>\n",
       "      <th>2011-01-02</th>\n",
       "      <td>2</td>\n",
       "    </tr>\n",
       "    <tr>\n",
       "      <th>2011-01-03</th>\n",
       "      <td>5</td>\n",
       "    </tr>\n",
       "    <tr>\n",
       "      <th>2011-01-04</th>\n",
       "      <td>6</td>\n",
       "    </tr>\n",
       "    <tr>\n",
       "      <th>2011-01-05</th>\n",
       "      <td>5</td>\n",
       "    </tr>\n",
       "    <tr>\n",
       "      <th>...</th>\n",
       "      <td>...</td>\n",
       "    </tr>\n",
       "    <tr>\n",
       "      <th>2021-03-28</th>\n",
       "      <td>51</td>\n",
       "    </tr>\n",
       "    <tr>\n",
       "      <th>2021-03-29</th>\n",
       "      <td>118</td>\n",
       "    </tr>\n",
       "    <tr>\n",
       "      <th>2021-03-30</th>\n",
       "      <td>129</td>\n",
       "    </tr>\n",
       "    <tr>\n",
       "      <th>2021-03-31</th>\n",
       "      <td>129</td>\n",
       "    </tr>\n",
       "    <tr>\n",
       "      <th>2021-04-01</th>\n",
       "      <td>3</td>\n",
       "    </tr>\n",
       "  </tbody>\n",
       "</table>\n",
       "<p>3699 rows × 1 columns</p>\n",
       "</div>"
      ],
      "text/plain": [
       "            Daily Tweets\n",
       "Date                    \n",
       "2011-01-01             2\n",
       "2011-01-02             2\n",
       "2011-01-03             5\n",
       "2011-01-04             6\n",
       "2011-01-05             5\n",
       "...                  ...\n",
       "2021-03-28            51\n",
       "2021-03-29           118\n",
       "2021-03-30           129\n",
       "2021-03-31           129\n",
       "2021-04-01             3\n",
       "\n",
       "[3699 rows x 1 columns]"
      ]
     },
     "execution_count": 28,
     "metadata": {},
     "output_type": "execute_result"
    }
   ],
   "source": [
    "gctay_tweets_daily"
   ]
  },
  {
   "cell_type": "markdown",
   "metadata": {},
   "source": [
    "## Create pos sentiment mean"
   ]
  },
  {
   "cell_type": "code",
   "execution_count": 29,
   "metadata": {},
   "outputs": [],
   "source": [
    "gctay_sentiment = sentiment[sentiment['company'] == 'siemens_gamesa']"
   ]
  },
  {
   "cell_type": "code",
   "execution_count": 31,
   "metadata": {},
   "outputs": [],
   "source": [
    "gctay_sentiment = pd.DataFrame(gctay_sentiment['pos'])"
   ]
  },
  {
   "cell_type": "code",
   "execution_count": 32,
   "metadata": {},
   "outputs": [],
   "source": [
    "gctay_sentiment_daily = gctay_sentiment.groupby(['Date']).mean()"
   ]
  },
  {
   "cell_type": "code",
   "execution_count": 33,
   "metadata": {},
   "outputs": [
    {
     "data": {
      "text/html": [
       "<div>\n",
       "<style scoped>\n",
       "    .dataframe tbody tr th:only-of-type {\n",
       "        vertical-align: middle;\n",
       "    }\n",
       "\n",
       "    .dataframe tbody tr th {\n",
       "        vertical-align: top;\n",
       "    }\n",
       "\n",
       "    .dataframe thead th {\n",
       "        text-align: right;\n",
       "    }\n",
       "</style>\n",
       "<table border=\"1\" class=\"dataframe\">\n",
       "  <thead>\n",
       "    <tr style=\"text-align: right;\">\n",
       "      <th></th>\n",
       "      <th>pos</th>\n",
       "    </tr>\n",
       "    <tr>\n",
       "      <th>Date</th>\n",
       "      <th></th>\n",
       "    </tr>\n",
       "  </thead>\n",
       "  <tbody>\n",
       "    <tr>\n",
       "      <th>2011-01-01</th>\n",
       "      <td>0.425000</td>\n",
       "    </tr>\n",
       "    <tr>\n",
       "      <th>2011-01-02</th>\n",
       "      <td>0.241500</td>\n",
       "    </tr>\n",
       "    <tr>\n",
       "      <th>2011-01-03</th>\n",
       "      <td>0.255800</td>\n",
       "    </tr>\n",
       "    <tr>\n",
       "      <th>2011-01-04</th>\n",
       "      <td>0.209000</td>\n",
       "    </tr>\n",
       "    <tr>\n",
       "      <th>2011-01-05</th>\n",
       "      <td>0.298200</td>\n",
       "    </tr>\n",
       "    <tr>\n",
       "      <th>...</th>\n",
       "      <td>...</td>\n",
       "    </tr>\n",
       "    <tr>\n",
       "      <th>2021-03-28</th>\n",
       "      <td>0.227216</td>\n",
       "    </tr>\n",
       "    <tr>\n",
       "      <th>2021-03-29</th>\n",
       "      <td>0.164941</td>\n",
       "    </tr>\n",
       "    <tr>\n",
       "      <th>2021-03-30</th>\n",
       "      <td>0.231884</td>\n",
       "    </tr>\n",
       "    <tr>\n",
       "      <th>2021-03-31</th>\n",
       "      <td>0.207147</td>\n",
       "    </tr>\n",
       "    <tr>\n",
       "      <th>2021-04-01</th>\n",
       "      <td>0.157000</td>\n",
       "    </tr>\n",
       "  </tbody>\n",
       "</table>\n",
       "<p>3699 rows × 1 columns</p>\n",
       "</div>"
      ],
      "text/plain": [
       "                 pos\n",
       "Date                \n",
       "2011-01-01  0.425000\n",
       "2011-01-02  0.241500\n",
       "2011-01-03  0.255800\n",
       "2011-01-04  0.209000\n",
       "2011-01-05  0.298200\n",
       "...              ...\n",
       "2021-03-28  0.227216\n",
       "2021-03-29  0.164941\n",
       "2021-03-30  0.231884\n",
       "2021-03-31  0.207147\n",
       "2021-04-01  0.157000\n",
       "\n",
       "[3699 rows x 1 columns]"
      ]
     },
     "execution_count": 33,
     "metadata": {},
     "output_type": "execute_result"
    }
   ],
   "source": [
    "gctay_sentiment_daily"
   ]
  },
  {
   "cell_type": "markdown",
   "metadata": {},
   "source": [
    "## Create pos sentiment mean"
   ]
  },
  {
   "cell_type": "code",
   "execution_count": 230,
   "metadata": {},
   "outputs": [],
   "source": [
    "gctay_sentiment_compound = pd.DataFrame(sentiment[sentiment['company'] == 'siemens_gamesa']['compound']).groupby(['Date']).mean()"
   ]
  },
  {
   "cell_type": "code",
   "execution_count": 232,
   "metadata": {},
   "outputs": [
    {
     "data": {
      "text/html": [
       "<div>\n",
       "<style scoped>\n",
       "    .dataframe tbody tr th:only-of-type {\n",
       "        vertical-align: middle;\n",
       "    }\n",
       "\n",
       "    .dataframe tbody tr th {\n",
       "        vertical-align: top;\n",
       "    }\n",
       "\n",
       "    .dataframe thead th {\n",
       "        text-align: right;\n",
       "    }\n",
       "</style>\n",
       "<table border=\"1\" class=\"dataframe\">\n",
       "  <thead>\n",
       "    <tr style=\"text-align: right;\">\n",
       "      <th></th>\n",
       "      <th>compound</th>\n",
       "    </tr>\n",
       "    <tr>\n",
       "      <th>Date</th>\n",
       "      <th></th>\n",
       "    </tr>\n",
       "  </thead>\n",
       "  <tbody>\n",
       "    <tr>\n",
       "      <th>2011-01-01</th>\n",
       "      <td>0.660500</td>\n",
       "    </tr>\n",
       "    <tr>\n",
       "      <th>2011-01-02</th>\n",
       "      <td>0.273200</td>\n",
       "    </tr>\n",
       "    <tr>\n",
       "      <th>2011-01-03</th>\n",
       "      <td>0.470360</td>\n",
       "    </tr>\n",
       "    <tr>\n",
       "      <th>2011-01-04</th>\n",
       "      <td>0.322400</td>\n",
       "    </tr>\n",
       "    <tr>\n",
       "      <th>2011-01-05</th>\n",
       "      <td>0.477660</td>\n",
       "    </tr>\n",
       "    <tr>\n",
       "      <th>...</th>\n",
       "      <td>...</td>\n",
       "    </tr>\n",
       "    <tr>\n",
       "      <th>2021-03-28</th>\n",
       "      <td>0.480627</td>\n",
       "    </tr>\n",
       "    <tr>\n",
       "      <th>2021-03-29</th>\n",
       "      <td>0.280736</td>\n",
       "    </tr>\n",
       "    <tr>\n",
       "      <th>2021-03-30</th>\n",
       "      <td>0.430319</td>\n",
       "    </tr>\n",
       "    <tr>\n",
       "      <th>2021-03-31</th>\n",
       "      <td>0.327564</td>\n",
       "    </tr>\n",
       "    <tr>\n",
       "      <th>2021-04-01</th>\n",
       "      <td>0.133433</td>\n",
       "    </tr>\n",
       "  </tbody>\n",
       "</table>\n",
       "<p>3699 rows × 1 columns</p>\n",
       "</div>"
      ],
      "text/plain": [
       "            compound\n",
       "Date                \n",
       "2011-01-01  0.660500\n",
       "2011-01-02  0.273200\n",
       "2011-01-03  0.470360\n",
       "2011-01-04  0.322400\n",
       "2011-01-05  0.477660\n",
       "...              ...\n",
       "2021-03-28  0.480627\n",
       "2021-03-29  0.280736\n",
       "2021-03-30  0.430319\n",
       "2021-03-31  0.327564\n",
       "2021-04-01  0.133433\n",
       "\n",
       "[3699 rows x 1 columns]"
      ]
     },
     "execution_count": 232,
     "metadata": {},
     "output_type": "execute_result"
    }
   ],
   "source": [
    "gctay_sentiment_compound"
   ]
  },
  {
   "cell_type": "markdown",
   "metadata": {},
   "source": [
    "# Merge SPWR datasets"
   ]
  },
  {
   "cell_type": "code",
   "execution_count": 233,
   "metadata": {},
   "outputs": [],
   "source": [
    "gctay = pd.merge(gctay_closing_daily, gctay_tweets_daily, how='left', left_on=['Date'], right_on=['Date'] )"
   ]
  },
  {
   "cell_type": "code",
   "execution_count": 234,
   "metadata": {},
   "outputs": [],
   "source": [
    "gctay.dropna(inplace=True)"
   ]
  },
  {
   "cell_type": "code",
   "execution_count": 235,
   "metadata": {},
   "outputs": [],
   "source": [
    "gctay = pd.merge(gctay, gctay_sentiment_daily,how='left', left_on=['Date'], right_on=['Date'] )"
   ]
  },
  {
   "cell_type": "code",
   "execution_count": 236,
   "metadata": {},
   "outputs": [
    {
     "data": {
      "text/html": [
       "<div>\n",
       "<style scoped>\n",
       "    .dataframe tbody tr th:only-of-type {\n",
       "        vertical-align: middle;\n",
       "    }\n",
       "\n",
       "    .dataframe tbody tr th {\n",
       "        vertical-align: top;\n",
       "    }\n",
       "\n",
       "    .dataframe thead th {\n",
       "        text-align: right;\n",
       "    }\n",
       "</style>\n",
       "<table border=\"1\" class=\"dataframe\">\n",
       "  <thead>\n",
       "    <tr style=\"text-align: right;\">\n",
       "      <th></th>\n",
       "      <th>close</th>\n",
       "      <th>Daily Tweets</th>\n",
       "      <th>pos</th>\n",
       "    </tr>\n",
       "    <tr>\n",
       "      <th>Date</th>\n",
       "      <th></th>\n",
       "      <th></th>\n",
       "      <th></th>\n",
       "    </tr>\n",
       "  </thead>\n",
       "  <tbody>\n",
       "    <tr>\n",
       "      <th>2011-01-03</th>\n",
       "      <td>1.6900</td>\n",
       "      <td>5.0</td>\n",
       "      <td>0.255800</td>\n",
       "    </tr>\n",
       "    <tr>\n",
       "      <th>2011-01-04</th>\n",
       "      <td>1.6900</td>\n",
       "      <td>6.0</td>\n",
       "      <td>0.209000</td>\n",
       "    </tr>\n",
       "    <tr>\n",
       "      <th>2011-01-05</th>\n",
       "      <td>1.6900</td>\n",
       "      <td>5.0</td>\n",
       "      <td>0.298200</td>\n",
       "    </tr>\n",
       "    <tr>\n",
       "      <th>2011-01-06</th>\n",
       "      <td>1.6900</td>\n",
       "      <td>3.0</td>\n",
       "      <td>0.232667</td>\n",
       "    </tr>\n",
       "    <tr>\n",
       "      <th>2011-01-07</th>\n",
       "      <td>1.6900</td>\n",
       "      <td>4.0</td>\n",
       "      <td>0.138250</td>\n",
       "    </tr>\n",
       "    <tr>\n",
       "      <th>...</th>\n",
       "      <td>...</td>\n",
       "      <td>...</td>\n",
       "      <td>...</td>\n",
       "    </tr>\n",
       "    <tr>\n",
       "      <th>2021-03-26</th>\n",
       "      <td>6.8900</td>\n",
       "      <td>95.0</td>\n",
       "      <td>0.182453</td>\n",
       "    </tr>\n",
       "    <tr>\n",
       "      <th>2021-03-29</th>\n",
       "      <td>6.9400</td>\n",
       "      <td>118.0</td>\n",
       "      <td>0.164941</td>\n",
       "    </tr>\n",
       "    <tr>\n",
       "      <th>2021-03-30</th>\n",
       "      <td>7.3225</td>\n",
       "      <td>129.0</td>\n",
       "      <td>0.231884</td>\n",
       "    </tr>\n",
       "    <tr>\n",
       "      <th>2021-03-31</th>\n",
       "      <td>7.7400</td>\n",
       "      <td>129.0</td>\n",
       "      <td>0.207147</td>\n",
       "    </tr>\n",
       "    <tr>\n",
       "      <th>2021-04-01</th>\n",
       "      <td>7.6550</td>\n",
       "      <td>3.0</td>\n",
       "      <td>0.157000</td>\n",
       "    </tr>\n",
       "  </tbody>\n",
       "</table>\n",
       "<p>2551 rows × 3 columns</p>\n",
       "</div>"
      ],
      "text/plain": [
       "             close  Daily Tweets       pos\n",
       "Date                                      \n",
       "2011-01-03  1.6900           5.0  0.255800\n",
       "2011-01-04  1.6900           6.0  0.209000\n",
       "2011-01-05  1.6900           5.0  0.298200\n",
       "2011-01-06  1.6900           3.0  0.232667\n",
       "2011-01-07  1.6900           4.0  0.138250\n",
       "...            ...           ...       ...\n",
       "2021-03-26  6.8900          95.0  0.182453\n",
       "2021-03-29  6.9400         118.0  0.164941\n",
       "2021-03-30  7.3225         129.0  0.231884\n",
       "2021-03-31  7.7400         129.0  0.207147\n",
       "2021-04-01  7.6550           3.0  0.157000\n",
       "\n",
       "[2551 rows x 3 columns]"
      ]
     },
     "execution_count": 236,
     "metadata": {},
     "output_type": "execute_result"
    }
   ],
   "source": [
    "gctay"
   ]
  },
  {
   "cell_type": "code",
   "execution_count": 237,
   "metadata": {},
   "outputs": [],
   "source": [
    "gctay = pd.merge(gctay, gctay_sentiment_compound ,how='left', left_on=['Date'], right_on=['Date'])"
   ]
  },
  {
   "cell_type": "code",
   "execution_count": 238,
   "metadata": {},
   "outputs": [
    {
     "data": {
      "text/html": [
       "<div>\n",
       "<style scoped>\n",
       "    .dataframe tbody tr th:only-of-type {\n",
       "        vertical-align: middle;\n",
       "    }\n",
       "\n",
       "    .dataframe tbody tr th {\n",
       "        vertical-align: top;\n",
       "    }\n",
       "\n",
       "    .dataframe thead th {\n",
       "        text-align: right;\n",
       "    }\n",
       "</style>\n",
       "<table border=\"1\" class=\"dataframe\">\n",
       "  <thead>\n",
       "    <tr style=\"text-align: right;\">\n",
       "      <th></th>\n",
       "      <th>close</th>\n",
       "      <th>Daily Tweets</th>\n",
       "      <th>pos</th>\n",
       "      <th>compound</th>\n",
       "    </tr>\n",
       "    <tr>\n",
       "      <th>Date</th>\n",
       "      <th></th>\n",
       "      <th></th>\n",
       "      <th></th>\n",
       "      <th></th>\n",
       "    </tr>\n",
       "  </thead>\n",
       "  <tbody>\n",
       "    <tr>\n",
       "      <th>2011-01-03</th>\n",
       "      <td>1.6900</td>\n",
       "      <td>5.0</td>\n",
       "      <td>0.255800</td>\n",
       "      <td>0.470360</td>\n",
       "    </tr>\n",
       "    <tr>\n",
       "      <th>2011-01-04</th>\n",
       "      <td>1.6900</td>\n",
       "      <td>6.0</td>\n",
       "      <td>0.209000</td>\n",
       "      <td>0.322400</td>\n",
       "    </tr>\n",
       "    <tr>\n",
       "      <th>2011-01-05</th>\n",
       "      <td>1.6900</td>\n",
       "      <td>5.0</td>\n",
       "      <td>0.298200</td>\n",
       "      <td>0.477660</td>\n",
       "    </tr>\n",
       "    <tr>\n",
       "      <th>2011-01-06</th>\n",
       "      <td>1.6900</td>\n",
       "      <td>3.0</td>\n",
       "      <td>0.232667</td>\n",
       "      <td>0.391933</td>\n",
       "    </tr>\n",
       "    <tr>\n",
       "      <th>2011-01-07</th>\n",
       "      <td>1.6900</td>\n",
       "      <td>4.0</td>\n",
       "      <td>0.138250</td>\n",
       "      <td>0.241975</td>\n",
       "    </tr>\n",
       "    <tr>\n",
       "      <th>...</th>\n",
       "      <td>...</td>\n",
       "      <td>...</td>\n",
       "      <td>...</td>\n",
       "      <td>...</td>\n",
       "    </tr>\n",
       "    <tr>\n",
       "      <th>2021-03-26</th>\n",
       "      <td>6.8900</td>\n",
       "      <td>95.0</td>\n",
       "      <td>0.182453</td>\n",
       "      <td>0.331604</td>\n",
       "    </tr>\n",
       "    <tr>\n",
       "      <th>2021-03-29</th>\n",
       "      <td>6.9400</td>\n",
       "      <td>118.0</td>\n",
       "      <td>0.164941</td>\n",
       "      <td>0.280736</td>\n",
       "    </tr>\n",
       "    <tr>\n",
       "      <th>2021-03-30</th>\n",
       "      <td>7.3225</td>\n",
       "      <td>129.0</td>\n",
       "      <td>0.231884</td>\n",
       "      <td>0.430319</td>\n",
       "    </tr>\n",
       "    <tr>\n",
       "      <th>2021-03-31</th>\n",
       "      <td>7.7400</td>\n",
       "      <td>129.0</td>\n",
       "      <td>0.207147</td>\n",
       "      <td>0.327564</td>\n",
       "    </tr>\n",
       "    <tr>\n",
       "      <th>2021-04-01</th>\n",
       "      <td>7.6550</td>\n",
       "      <td>3.0</td>\n",
       "      <td>0.157000</td>\n",
       "      <td>0.133433</td>\n",
       "    </tr>\n",
       "  </tbody>\n",
       "</table>\n",
       "<p>2551 rows × 4 columns</p>\n",
       "</div>"
      ],
      "text/plain": [
       "             close  Daily Tweets       pos  compound\n",
       "Date                                                \n",
       "2011-01-03  1.6900           5.0  0.255800  0.470360\n",
       "2011-01-04  1.6900           6.0  0.209000  0.322400\n",
       "2011-01-05  1.6900           5.0  0.298200  0.477660\n",
       "2011-01-06  1.6900           3.0  0.232667  0.391933\n",
       "2011-01-07  1.6900           4.0  0.138250  0.241975\n",
       "...            ...           ...       ...       ...\n",
       "2021-03-26  6.8900          95.0  0.182453  0.331604\n",
       "2021-03-29  6.9400         118.0  0.164941  0.280736\n",
       "2021-03-30  7.3225         129.0  0.231884  0.430319\n",
       "2021-03-31  7.7400         129.0  0.207147  0.327564\n",
       "2021-04-01  7.6550           3.0  0.157000  0.133433\n",
       "\n",
       "[2551 rows x 4 columns]"
      ]
     },
     "execution_count": 238,
     "metadata": {},
     "output_type": "execute_result"
    }
   ],
   "source": [
    "gctay"
   ]
  },
  {
   "cell_type": "code",
   "execution_count": 239,
   "metadata": {},
   "outputs": [],
   "source": [
    "gctay.rename(columns={'close':'Closing Price', 'pos':'Pos Sentiment','compound':'Compound Sentiment'}, inplace=True)"
   ]
  },
  {
   "cell_type": "code",
   "execution_count": 240,
   "metadata": {},
   "outputs": [
    {
     "data": {
      "text/html": [
       "<div>\n",
       "<style scoped>\n",
       "    .dataframe tbody tr th:only-of-type {\n",
       "        vertical-align: middle;\n",
       "    }\n",
       "\n",
       "    .dataframe tbody tr th {\n",
       "        vertical-align: top;\n",
       "    }\n",
       "\n",
       "    .dataframe thead th {\n",
       "        text-align: right;\n",
       "    }\n",
       "</style>\n",
       "<table border=\"1\" class=\"dataframe\">\n",
       "  <thead>\n",
       "    <tr style=\"text-align: right;\">\n",
       "      <th></th>\n",
       "      <th>Closing Price</th>\n",
       "      <th>Daily Tweets</th>\n",
       "      <th>Pos Sentiment</th>\n",
       "      <th>Compound Sentiment</th>\n",
       "    </tr>\n",
       "    <tr>\n",
       "      <th>Date</th>\n",
       "      <th></th>\n",
       "      <th></th>\n",
       "      <th></th>\n",
       "      <th></th>\n",
       "    </tr>\n",
       "  </thead>\n",
       "  <tbody>\n",
       "    <tr>\n",
       "      <th>2011-01-03</th>\n",
       "      <td>1.6900</td>\n",
       "      <td>5.0</td>\n",
       "      <td>0.255800</td>\n",
       "      <td>0.470360</td>\n",
       "    </tr>\n",
       "    <tr>\n",
       "      <th>2011-01-04</th>\n",
       "      <td>1.6900</td>\n",
       "      <td>6.0</td>\n",
       "      <td>0.209000</td>\n",
       "      <td>0.322400</td>\n",
       "    </tr>\n",
       "    <tr>\n",
       "      <th>2011-01-05</th>\n",
       "      <td>1.6900</td>\n",
       "      <td>5.0</td>\n",
       "      <td>0.298200</td>\n",
       "      <td>0.477660</td>\n",
       "    </tr>\n",
       "    <tr>\n",
       "      <th>2011-01-06</th>\n",
       "      <td>1.6900</td>\n",
       "      <td>3.0</td>\n",
       "      <td>0.232667</td>\n",
       "      <td>0.391933</td>\n",
       "    </tr>\n",
       "    <tr>\n",
       "      <th>2011-01-07</th>\n",
       "      <td>1.6900</td>\n",
       "      <td>4.0</td>\n",
       "      <td>0.138250</td>\n",
       "      <td>0.241975</td>\n",
       "    </tr>\n",
       "    <tr>\n",
       "      <th>...</th>\n",
       "      <td>...</td>\n",
       "      <td>...</td>\n",
       "      <td>...</td>\n",
       "      <td>...</td>\n",
       "    </tr>\n",
       "    <tr>\n",
       "      <th>2021-03-26</th>\n",
       "      <td>6.8900</td>\n",
       "      <td>95.0</td>\n",
       "      <td>0.182453</td>\n",
       "      <td>0.331604</td>\n",
       "    </tr>\n",
       "    <tr>\n",
       "      <th>2021-03-29</th>\n",
       "      <td>6.9400</td>\n",
       "      <td>118.0</td>\n",
       "      <td>0.164941</td>\n",
       "      <td>0.280736</td>\n",
       "    </tr>\n",
       "    <tr>\n",
       "      <th>2021-03-30</th>\n",
       "      <td>7.3225</td>\n",
       "      <td>129.0</td>\n",
       "      <td>0.231884</td>\n",
       "      <td>0.430319</td>\n",
       "    </tr>\n",
       "    <tr>\n",
       "      <th>2021-03-31</th>\n",
       "      <td>7.7400</td>\n",
       "      <td>129.0</td>\n",
       "      <td>0.207147</td>\n",
       "      <td>0.327564</td>\n",
       "    </tr>\n",
       "    <tr>\n",
       "      <th>2021-04-01</th>\n",
       "      <td>7.6550</td>\n",
       "      <td>3.0</td>\n",
       "      <td>0.157000</td>\n",
       "      <td>0.133433</td>\n",
       "    </tr>\n",
       "  </tbody>\n",
       "</table>\n",
       "<p>2551 rows × 4 columns</p>\n",
       "</div>"
      ],
      "text/plain": [
       "            Closing Price  Daily Tweets  Pos Sentiment  Compound Sentiment\n",
       "Date                                                                      \n",
       "2011-01-03         1.6900           5.0       0.255800            0.470360\n",
       "2011-01-04         1.6900           6.0       0.209000            0.322400\n",
       "2011-01-05         1.6900           5.0       0.298200            0.477660\n",
       "2011-01-06         1.6900           3.0       0.232667            0.391933\n",
       "2011-01-07         1.6900           4.0       0.138250            0.241975\n",
       "...                   ...           ...            ...                 ...\n",
       "2021-03-26         6.8900          95.0       0.182453            0.331604\n",
       "2021-03-29         6.9400         118.0       0.164941            0.280736\n",
       "2021-03-30         7.3225         129.0       0.231884            0.430319\n",
       "2021-03-31         7.7400         129.0       0.207147            0.327564\n",
       "2021-04-01         7.6550           3.0       0.157000            0.133433\n",
       "\n",
       "[2551 rows x 4 columns]"
      ]
     },
     "execution_count": 240,
     "metadata": {},
     "output_type": "execute_result"
    }
   ],
   "source": [
    "gctay"
   ]
  },
  {
   "cell_type": "code",
   "execution_count": 241,
   "metadata": {},
   "outputs": [],
   "source": [
    "# gctay.to_csv('./gctay_closing_popularity_sentiment_pos.csv')"
   ]
  },
  {
   "cell_type": "markdown",
   "metadata": {},
   "source": [
    "# Normalized SPWR data"
   ]
  },
  {
   "cell_type": "code",
   "execution_count": 242,
   "metadata": {},
   "outputs": [],
   "source": [
    "gctay_normalized = gctay.copy()"
   ]
  },
  {
   "cell_type": "code",
   "execution_count": 243,
   "metadata": {},
   "outputs": [
    {
     "data": {
      "text/html": [
       "<div>\n",
       "<style scoped>\n",
       "    .dataframe tbody tr th:only-of-type {\n",
       "        vertical-align: middle;\n",
       "    }\n",
       "\n",
       "    .dataframe tbody tr th {\n",
       "        vertical-align: top;\n",
       "    }\n",
       "\n",
       "    .dataframe thead th {\n",
       "        text-align: right;\n",
       "    }\n",
       "</style>\n",
       "<table border=\"1\" class=\"dataframe\">\n",
       "  <thead>\n",
       "    <tr style=\"text-align: right;\">\n",
       "      <th></th>\n",
       "      <th>Closing Price</th>\n",
       "      <th>Daily Tweets</th>\n",
       "      <th>Pos Sentiment</th>\n",
       "      <th>Compound Sentiment</th>\n",
       "    </tr>\n",
       "    <tr>\n",
       "      <th>Date</th>\n",
       "      <th></th>\n",
       "      <th></th>\n",
       "      <th></th>\n",
       "      <th></th>\n",
       "    </tr>\n",
       "  </thead>\n",
       "  <tbody>\n",
       "    <tr>\n",
       "      <th>2011-01-03</th>\n",
       "      <td>1.6900</td>\n",
       "      <td>5.0</td>\n",
       "      <td>0.255800</td>\n",
       "      <td>0.470360</td>\n",
       "    </tr>\n",
       "    <tr>\n",
       "      <th>2011-01-04</th>\n",
       "      <td>1.6900</td>\n",
       "      <td>6.0</td>\n",
       "      <td>0.209000</td>\n",
       "      <td>0.322400</td>\n",
       "    </tr>\n",
       "    <tr>\n",
       "      <th>2011-01-05</th>\n",
       "      <td>1.6900</td>\n",
       "      <td>5.0</td>\n",
       "      <td>0.298200</td>\n",
       "      <td>0.477660</td>\n",
       "    </tr>\n",
       "    <tr>\n",
       "      <th>2011-01-06</th>\n",
       "      <td>1.6900</td>\n",
       "      <td>3.0</td>\n",
       "      <td>0.232667</td>\n",
       "      <td>0.391933</td>\n",
       "    </tr>\n",
       "    <tr>\n",
       "      <th>2011-01-07</th>\n",
       "      <td>1.6900</td>\n",
       "      <td>4.0</td>\n",
       "      <td>0.138250</td>\n",
       "      <td>0.241975</td>\n",
       "    </tr>\n",
       "    <tr>\n",
       "      <th>...</th>\n",
       "      <td>...</td>\n",
       "      <td>...</td>\n",
       "      <td>...</td>\n",
       "      <td>...</td>\n",
       "    </tr>\n",
       "    <tr>\n",
       "      <th>2021-03-26</th>\n",
       "      <td>6.8900</td>\n",
       "      <td>95.0</td>\n",
       "      <td>0.182453</td>\n",
       "      <td>0.331604</td>\n",
       "    </tr>\n",
       "    <tr>\n",
       "      <th>2021-03-29</th>\n",
       "      <td>6.9400</td>\n",
       "      <td>118.0</td>\n",
       "      <td>0.164941</td>\n",
       "      <td>0.280736</td>\n",
       "    </tr>\n",
       "    <tr>\n",
       "      <th>2021-03-30</th>\n",
       "      <td>7.3225</td>\n",
       "      <td>129.0</td>\n",
       "      <td>0.231884</td>\n",
       "      <td>0.430319</td>\n",
       "    </tr>\n",
       "    <tr>\n",
       "      <th>2021-03-31</th>\n",
       "      <td>7.7400</td>\n",
       "      <td>129.0</td>\n",
       "      <td>0.207147</td>\n",
       "      <td>0.327564</td>\n",
       "    </tr>\n",
       "    <tr>\n",
       "      <th>2021-04-01</th>\n",
       "      <td>7.6550</td>\n",
       "      <td>3.0</td>\n",
       "      <td>0.157000</td>\n",
       "      <td>0.133433</td>\n",
       "    </tr>\n",
       "  </tbody>\n",
       "</table>\n",
       "<p>2551 rows × 4 columns</p>\n",
       "</div>"
      ],
      "text/plain": [
       "            Closing Price  Daily Tweets  Pos Sentiment  Compound Sentiment\n",
       "Date                                                                      \n",
       "2011-01-03         1.6900           5.0       0.255800            0.470360\n",
       "2011-01-04         1.6900           6.0       0.209000            0.322400\n",
       "2011-01-05         1.6900           5.0       0.298200            0.477660\n",
       "2011-01-06         1.6900           3.0       0.232667            0.391933\n",
       "2011-01-07         1.6900           4.0       0.138250            0.241975\n",
       "...                   ...           ...            ...                 ...\n",
       "2021-03-26         6.8900          95.0       0.182453            0.331604\n",
       "2021-03-29         6.9400         118.0       0.164941            0.280736\n",
       "2021-03-30         7.3225         129.0       0.231884            0.430319\n",
       "2021-03-31         7.7400         129.0       0.207147            0.327564\n",
       "2021-04-01         7.6550           3.0       0.157000            0.133433\n",
       "\n",
       "[2551 rows x 4 columns]"
      ]
     },
     "execution_count": 243,
     "metadata": {},
     "output_type": "execute_result"
    }
   ],
   "source": [
    "gctay_normalized"
   ]
  },
  {
   "cell_type": "code",
   "execution_count": 80,
   "metadata": {},
   "outputs": [],
   "source": [
    "def normalize_daily_tweets(df):\n",
    "    max_count = df['Daily Tweets'].max()\n",
    "    min_count = df['Daily Tweets'].min()\n",
    "    df['Daily Tweets'] = (df['Daily Tweets'] - min_count) / (max_count - min_count)\n",
    "    return df\n",
    "\n",
    "def normalize_pos_sentiment(df):\n",
    "    max_count = df['Pos Sentiment'].max()\n",
    "    min_count = df['Pos Sentiment'].min()\n",
    "    df['Pos Sentiment'] = (df['Pos Sentiment'] - min_count) / (max_count - min_count)\n",
    "    return df\n",
    "\n",
    "\n",
    "def normalize_compound_score(df):\n",
    "    max_count = df['Pos Sentiment'].max()\n",
    "    min_count = df['Pos Sentiment'].min()\n",
    "    df['Pos Sentiment'] = (df['Pos Sentiment'] - min_count) / (max_count - min_count)\n",
    "    return df\n",
    "\n",
    "\n",
    "def normalize_closing_price(df):\n",
    "    max_count = df['Closing Price'].max()\n",
    "    min_count = df['Closing Price'].min()\n",
    "    df['Closing Price'] = (df['Closing Price'] - min_count) / (max_count - min_count)\n",
    "    return df"
   ]
  },
  {
   "cell_type": "code",
   "execution_count": 81,
   "metadata": {},
   "outputs": [],
   "source": [
    "gctay_normalized = normalize_daily_tweets(gctay_normalized)"
   ]
  },
  {
   "cell_type": "code",
   "execution_count": 82,
   "metadata": {},
   "outputs": [],
   "source": [
    "gctay_normalized = normalize_sentiment_score(gctay_normalized)"
   ]
  },
  {
   "cell_type": "code",
   "execution_count": 83,
   "metadata": {},
   "outputs": [],
   "source": [
    "gctay_normalized =  normalize_closing_price(gctay_normalized)"
   ]
  },
  {
   "cell_type": "code",
   "execution_count": 84,
   "metadata": {},
   "outputs": [
    {
     "data": {
      "text/html": [
       "<div>\n",
       "<style scoped>\n",
       "    .dataframe tbody tr th:only-of-type {\n",
       "        vertical-align: middle;\n",
       "    }\n",
       "\n",
       "    .dataframe tbody tr th {\n",
       "        vertical-align: top;\n",
       "    }\n",
       "\n",
       "    .dataframe thead th {\n",
       "        text-align: right;\n",
       "    }\n",
       "</style>\n",
       "<table border=\"1\" class=\"dataframe\">\n",
       "  <thead>\n",
       "    <tr style=\"text-align: right;\">\n",
       "      <th></th>\n",
       "      <th>Closing Price</th>\n",
       "      <th>Daily Tweets</th>\n",
       "      <th>Pos Sentiment</th>\n",
       "    </tr>\n",
       "    <tr>\n",
       "      <th>Date</th>\n",
       "      <th></th>\n",
       "      <th></th>\n",
       "      <th></th>\n",
       "    </tr>\n",
       "  </thead>\n",
       "  <tbody>\n",
       "    <tr>\n",
       "      <th>2011-01-03</th>\n",
       "      <td>0.151872</td>\n",
       "      <td>0.010076</td>\n",
       "      <td>0.397514</td>\n",
       "    </tr>\n",
       "    <tr>\n",
       "      <th>2011-01-04</th>\n",
       "      <td>0.151872</td>\n",
       "      <td>0.012594</td>\n",
       "      <td>0.324786</td>\n",
       "    </tr>\n",
       "    <tr>\n",
       "      <th>2011-01-05</th>\n",
       "      <td>0.151872</td>\n",
       "      <td>0.010076</td>\n",
       "      <td>0.463403</td>\n",
       "    </tr>\n",
       "    <tr>\n",
       "      <th>2011-01-06</th>\n",
       "      <td>0.151872</td>\n",
       "      <td>0.005038</td>\n",
       "      <td>0.361564</td>\n",
       "    </tr>\n",
       "    <tr>\n",
       "      <th>2011-01-07</th>\n",
       "      <td>0.151872</td>\n",
       "      <td>0.007557</td>\n",
       "      <td>0.214841</td>\n",
       "    </tr>\n",
       "    <tr>\n",
       "      <th>...</th>\n",
       "      <td>...</td>\n",
       "      <td>...</td>\n",
       "      <td>...</td>\n",
       "    </tr>\n",
       "    <tr>\n",
       "      <th>2021-03-26</th>\n",
       "      <td>0.708021</td>\n",
       "      <td>0.236776</td>\n",
       "      <td>0.283532</td>\n",
       "    </tr>\n",
       "    <tr>\n",
       "      <th>2021-03-29</th>\n",
       "      <td>0.713369</td>\n",
       "      <td>0.294710</td>\n",
       "      <td>0.256318</td>\n",
       "    </tr>\n",
       "    <tr>\n",
       "      <th>2021-03-30</th>\n",
       "      <td>0.754278</td>\n",
       "      <td>0.322418</td>\n",
       "      <td>0.360348</td>\n",
       "    </tr>\n",
       "    <tr>\n",
       "      <th>2021-03-31</th>\n",
       "      <td>0.798930</td>\n",
       "      <td>0.322418</td>\n",
       "      <td>0.321907</td>\n",
       "    </tr>\n",
       "    <tr>\n",
       "      <th>2021-04-01</th>\n",
       "      <td>0.789840</td>\n",
       "      <td>0.005038</td>\n",
       "      <td>0.243978</td>\n",
       "    </tr>\n",
       "  </tbody>\n",
       "</table>\n",
       "<p>2551 rows × 3 columns</p>\n",
       "</div>"
      ],
      "text/plain": [
       "            Closing Price  Daily Tweets  Pos Sentiment\n",
       "Date                                                  \n",
       "2011-01-03       0.151872      0.010076       0.397514\n",
       "2011-01-04       0.151872      0.012594       0.324786\n",
       "2011-01-05       0.151872      0.010076       0.463403\n",
       "2011-01-06       0.151872      0.005038       0.361564\n",
       "2011-01-07       0.151872      0.007557       0.214841\n",
       "...                   ...           ...            ...\n",
       "2021-03-26       0.708021      0.236776       0.283532\n",
       "2021-03-29       0.713369      0.294710       0.256318\n",
       "2021-03-30       0.754278      0.322418       0.360348\n",
       "2021-03-31       0.798930      0.322418       0.321907\n",
       "2021-04-01       0.789840      0.005038       0.243978\n",
       "\n",
       "[2551 rows x 3 columns]"
      ]
     },
     "execution_count": 84,
     "metadata": {},
     "output_type": "execute_result"
    }
   ],
   "source": [
    "gctay_normalized"
   ]
  },
  {
   "cell_type": "code",
   "execution_count": 85,
   "metadata": {},
   "outputs": [],
   "source": [
    "gctay_normalized.to_csv('./gctay_normalized_closing_popularity_sentiment_pos.csv')"
   ]
  },
  {
   "cell_type": "code",
   "execution_count": 87,
   "metadata": {},
   "outputs": [
    {
     "data": {
      "text/plain": [
       "<AxesSubplot:xlabel='Date'>"
      ]
     },
     "execution_count": 87,
     "metadata": {},
     "output_type": "execute_result"
    },
    {
     "data": {
      "image/png": "[encoded data removed]",
      "text/plain": [
       "<Figure size 1296x360 with 1 Axes>"
      ]
     },
     "metadata": {
      "needs_background": "light"
     },
     "output_type": "display_data"
    }
   ],
   "source": [
    "gctay_normalized[['Pos Sentiment','Closing Price']]['2020-12-01':'2021-04-01'].plot(figsize=(18,5))"
   ]
  },
  {
   "cell_type": "code",
   "execution_count": 185,
   "metadata": {},
   "outputs": [
    {
     "data": {
      "image/png": "[encoded data removed]",
      "text/plain": [
       "<Figure size 1080x1080 with 1 Axes>"
      ]
     },
     "metadata": {
      "needs_background": "light"
     },
     "output_type": "display_data"
    }
   ],
   "source": [
    "gctay_normalized[['Daily Tweets','Closing Price']]['2021-02-01':'2021-04-01'].plot(figsize=(15,15));"
   ]
  },
  {
   "cell_type": "markdown",
   "metadata": {},
   "source": [
    "# Lag Analysis"
   ]
  },
  {
   "cell_type": "code",
   "execution_count": 186,
   "metadata": {},
   "outputs": [
    {
     "data": {
      "text/html": [
       "<div>\n",
       "<style scoped>\n",
       "    .dataframe tbody tr th:only-of-type {\n",
       "        vertical-align: middle;\n",
       "    }\n",
       "\n",
       "    .dataframe tbody tr th {\n",
       "        vertical-align: top;\n",
       "    }\n",
       "\n",
       "    .dataframe thead th {\n",
       "        text-align: right;\n",
       "    }\n",
       "</style>\n",
       "<table border=\"1\" class=\"dataframe\">\n",
       "  <thead>\n",
       "    <tr style=\"text-align: right;\">\n",
       "      <th></th>\n",
       "      <th>Closing Price</th>\n",
       "      <th>Daily Tweets</th>\n",
       "      <th>Pos Sentiment</th>\n",
       "    </tr>\n",
       "    <tr>\n",
       "      <th>Date</th>\n",
       "      <th></th>\n",
       "      <th></th>\n",
       "      <th></th>\n",
       "    </tr>\n",
       "  </thead>\n",
       "  <tbody>\n",
       "    <tr>\n",
       "      <th>2011-01-03</th>\n",
       "      <td>0.151872</td>\n",
       "      <td>0.010076</td>\n",
       "      <td>0.397514</td>\n",
       "    </tr>\n",
       "    <tr>\n",
       "      <th>2011-01-04</th>\n",
       "      <td>0.151872</td>\n",
       "      <td>0.012594</td>\n",
       "      <td>0.324786</td>\n",
       "    </tr>\n",
       "    <tr>\n",
       "      <th>2011-01-05</th>\n",
       "      <td>0.151872</td>\n",
       "      <td>0.010076</td>\n",
       "      <td>0.463403</td>\n",
       "    </tr>\n",
       "    <tr>\n",
       "      <th>2011-01-06</th>\n",
       "      <td>0.151872</td>\n",
       "      <td>0.005038</td>\n",
       "      <td>0.361564</td>\n",
       "    </tr>\n",
       "    <tr>\n",
       "      <th>2011-01-07</th>\n",
       "      <td>0.151872</td>\n",
       "      <td>0.007557</td>\n",
       "      <td>0.214841</td>\n",
       "    </tr>\n",
       "    <tr>\n",
       "      <th>...</th>\n",
       "      <td>...</td>\n",
       "      <td>...</td>\n",
       "      <td>...</td>\n",
       "    </tr>\n",
       "    <tr>\n",
       "      <th>2021-03-26</th>\n",
       "      <td>0.708021</td>\n",
       "      <td>0.236776</td>\n",
       "      <td>0.283532</td>\n",
       "    </tr>\n",
       "    <tr>\n",
       "      <th>2021-03-29</th>\n",
       "      <td>0.713369</td>\n",
       "      <td>0.294710</td>\n",
       "      <td>0.256318</td>\n",
       "    </tr>\n",
       "    <tr>\n",
       "      <th>2021-03-30</th>\n",
       "      <td>0.754278</td>\n",
       "      <td>0.322418</td>\n",
       "      <td>0.360348</td>\n",
       "    </tr>\n",
       "    <tr>\n",
       "      <th>2021-03-31</th>\n",
       "      <td>0.798930</td>\n",
       "      <td>0.322418</td>\n",
       "      <td>0.321907</td>\n",
       "    </tr>\n",
       "    <tr>\n",
       "      <th>2021-04-01</th>\n",
       "      <td>0.789840</td>\n",
       "      <td>0.005038</td>\n",
       "      <td>0.243978</td>\n",
       "    </tr>\n",
       "  </tbody>\n",
       "</table>\n",
       "<p>2551 rows × 3 columns</p>\n",
       "</div>"
      ],
      "text/plain": [
       "            Closing Price  Daily Tweets  Pos Sentiment\n",
       "Date                                                  \n",
       "2011-01-03       0.151872      0.010076       0.397514\n",
       "2011-01-04       0.151872      0.012594       0.324786\n",
       "2011-01-05       0.151872      0.010076       0.463403\n",
       "2011-01-06       0.151872      0.005038       0.361564\n",
       "2011-01-07       0.151872      0.007557       0.214841\n",
       "...                   ...           ...            ...\n",
       "2021-03-26       0.708021      0.236776       0.283532\n",
       "2021-03-29       0.713369      0.294710       0.256318\n",
       "2021-03-30       0.754278      0.322418       0.360348\n",
       "2021-03-31       0.798930      0.322418       0.321907\n",
       "2021-04-01       0.789840      0.005038       0.243978\n",
       "\n",
       "[2551 rows x 3 columns]"
      ]
     },
     "execution_count": 186,
     "metadata": {},
     "output_type": "execute_result"
    }
   ],
   "source": [
    "gctay_normalized"
   ]
  },
  {
   "cell_type": "code",
   "execution_count": 206,
   "metadata": {},
   "outputs": [],
   "source": [
    "def plot_cross_correlation(df):\n",
    "    fig, ax1 = plt.subplots(figsize=(18,5))\n",
    "    ax1.xcorr(df['Daily Tweets']['2020-01-01':'2021-01-01'].to_numpy().flatten(), df['Closing Price']['2020-01-01':'2021-01-01'].to_numpy().flatten(), usevlines=True, maxlags=100, normed=True)\n",
    "    ax1.grid(True)\n",
    "    plt.show()"
   ]
  },
  {
   "cell_type": "code",
   "execution_count": 207,
   "metadata": {
    "scrolled": true
   },
   "outputs": [
    {
     "data": {
      "image/png": "[encoded data removed]",
      "text/plain": [
       "<Figure size 1296x360 with 1 Axes>"
      ]
     },
     "metadata": {
      "needs_background": "light"
     },
     "output_type": "display_data"
    }
   ],
   "source": [
    "plot_cross_correlation(gctay)"
   ]
  },
  {
   "cell_type": "code",
   "execution_count": 189,
   "metadata": {},
   "outputs": [
    {
     "data": {
      "text/plain": [
       "Date\n",
       "2011-01-03    1.6900\n",
       "2011-01-04    1.6900\n",
       "2011-01-05    1.6900\n",
       "2011-01-06    1.6900\n",
       "2011-01-07    1.6900\n",
       "               ...  \n",
       "2021-03-26    6.8900\n",
       "2021-03-29    6.9400\n",
       "2021-03-30    7.3225\n",
       "2021-03-31    7.7400\n",
       "2021-04-01    7.6550\n",
       "Name: Closing Price, Length: 2551, dtype: float64"
      ]
     },
     "execution_count": 189,
     "metadata": {},
     "output_type": "execute_result"
    }
   ],
   "source": [
    "gctay['Closing Price']"
   ]
  },
  {
   "cell_type": "markdown",
   "metadata": {},
   "source": [
    "# Granger Causality "
   ]
  },
  {
   "cell_type": "code",
   "execution_count": 219,
   "metadata": {},
   "outputs": [
    {
     "data": {
      "text/plain": [
       "Index(['Closing Price', 'Daily Tweets', 'Pos Sentiment'], dtype='object')"
      ]
     },
     "execution_count": 219,
     "metadata": {},
     "output_type": "execute_result"
    }
   ],
   "source": [
    "gctay.columns"
   ]
  },
  {
   "cell_type": "code",
   "execution_count": 220,
   "metadata": {},
   "outputs": [
    {
     "name": "stdout",
     "output_type": "stream",
     "text": [
      "\n",
      "Granger Causality\n",
      "number of lags (no zero) 1\n",
      "ssr based F test:         F=8.7851  , p=0.0044  , df_denom=57, df_num=1\n",
      "ssr based chi2 test:   chi2=9.2475  , p=0.0024  , df=1\n",
      "likelihood ratio test: chi2=8.6005  , p=0.0034  , df=1\n",
      "parameter F test:         F=8.7851  , p=0.0044  , df_denom=57, df_num=1\n",
      "\n",
      "Granger Causality\n",
      "number of lags (no zero) 2\n",
      "ssr based F test:         F=6.4255  , p=0.0031  , df_denom=54, df_num=2\n",
      "ssr based chi2 test:   chi2=14.0408 , p=0.0009  , df=2\n",
      "likelihood ratio test: chi2=12.5954 , p=0.0018  , df=2\n",
      "parameter F test:         F=6.4255  , p=0.0031  , df_denom=54, df_num=2\n",
      "\n",
      "Granger Causality\n",
      "number of lags (no zero) 3\n",
      "ssr based F test:         F=6.1695  , p=0.0012  , df_denom=51, df_num=3\n",
      "ssr based chi2 test:   chi2=21.0488 , p=0.0001  , df=3\n",
      "likelihood ratio test: chi2=17.9581 , p=0.0004  , df=3\n",
      "parameter F test:         F=6.1695  , p=0.0012  , df_denom=51, df_num=3\n",
      "\n",
      "Granger Causality\n",
      "number of lags (no zero) 4\n",
      "ssr based F test:         F=4.4151  , p=0.0040  , df_denom=48, df_num=4\n",
      "ssr based chi2 test:   chi2=20.9719 , p=0.0003  , df=4\n",
      "likelihood ratio test: chi2=17.8580 , p=0.0013  , df=4\n",
      "parameter F test:         F=4.4151  , p=0.0040  , df_denom=48, df_num=4\n",
      "\n",
      "Granger Causality\n",
      "number of lags (no zero) 5\n",
      "ssr based F test:         F=5.0473  , p=0.0009  , df_denom=45, df_num=5\n",
      "ssr based chi2 test:   chi2=31.4056 , p=0.0000  , df=5\n",
      "likelihood ratio test: chi2=24.9316 , p=0.0001  , df=5\n",
      "parameter F test:         F=5.0473  , p=0.0009  , df_denom=45, df_num=5\n",
      "\n",
      "Granger Causality\n",
      "number of lags (no zero) 6\n",
      "ssr based F test:         F=3.5828  , p=0.0059  , df_denom=42, df_num=6\n",
      "ssr based chi2 test:   chi2=28.1508 , p=0.0001  , df=6\n",
      "likelihood ratio test: chi2=22.7327 , p=0.0009  , df=6\n",
      "parameter F test:         F=3.5828  , p=0.0059  , df_denom=42, df_num=6\n",
      "\n",
      "Granger Causality\n",
      "number of lags (no zero) 7\n",
      "ssr based F test:         F=4.1518  , p=0.0017  , df_denom=39, df_num=7\n",
      "ssr based chi2 test:   chi2=40.2410 , p=0.0000  , df=7\n",
      "likelihood ratio test: chi2=30.0710 , p=0.0001  , df=7\n",
      "parameter F test:         F=4.1518  , p=0.0017  , df_denom=39, df_num=7\n",
      "\n",
      "Granger Causality\n",
      "number of lags (no zero) 8\n",
      "ssr based F test:         F=3.2732  , p=0.0066  , df_denom=36, df_num=8\n",
      "ssr based chi2 test:   chi2=38.5508 , p=0.0000  , df=8\n",
      "likelihood ratio test: chi2=28.9699 , p=0.0003  , df=8\n",
      "parameter F test:         F=3.2732  , p=0.0066  , df_denom=36, df_num=8\n",
      "\n",
      "Granger Causality\n",
      "number of lags (no zero) 9\n",
      "ssr based F test:         F=2.6836  , p=0.0185  , df_denom=33, df_num=9\n",
      "ssr based chi2 test:   chi2=38.0590 , p=0.0000  , df=9\n",
      "likelihood ratio test: chi2=28.5595 , p=0.0008  , df=9\n",
      "parameter F test:         F=2.6836  , p=0.0185  , df_denom=33, df_num=9\n",
      "\n",
      "Granger Causality\n",
      "number of lags (no zero) 10\n",
      "ssr based F test:         F=2.3902  , p=0.0318  , df_denom=30, df_num=10\n",
      "ssr based chi2 test:   chi2=40.6342 , p=0.0000  , df=10\n",
      "likelihood ratio test: chi2=29.8849 , p=0.0009  , df=10\n",
      "parameter F test:         F=2.3902  , p=0.0318  , df_denom=30, df_num=10\n"
     ]
    },
    {
     "data": {
      "text/plain": [
       "{1: ({'ssr_ftest': (8.785079837291551, 0.004426564454433729, 57.0, 1),\n",
       "   'ssr_chi2test': (9.247452460306896, 0.002358232597160026, 1),\n",
       "   'lrtest': (8.600507675512347, 0.003360693075284518, 1),\n",
       "   'params_ftest': (8.785079837291555, 0.004426564454433694, 57.0, 1.0)},\n",
       "  [<statsmodels.regression.linear_model.RegressionResultsWrapper at 0x7f9e01ca2c40>,\n",
       "   <statsmodels.regression.linear_model.RegressionResultsWrapper at 0x7f9e25d827c0>,\n",
       "   array([[0., 1., 0.]])]),\n",
       " 2: ({'ssr_ftest': (6.425472810923032, 0.003138539036274843, 54.0, 2),\n",
       "   'ssr_chi2test': (14.040847994239218, 0.0008934465937462324, 2),\n",
       "   'lrtest': (12.59540273637242, 0.0018405306205777328, 2),\n",
       "   'params_ftest': (6.4254728109230275, 0.0031385390362748547, 54.0, 2.0)},\n",
       "  [<statsmodels.regression.linear_model.RegressionResultsWrapper at 0x7f9e01c8e460>,\n",
       "   <statsmodels.regression.linear_model.RegressionResultsWrapper at 0x7f9e06394850>,\n",
       "   array([[0., 0., 1., 0., 0.],\n",
       "          [0., 0., 0., 1., 0.]])]),\n",
       " 3: ({'ssr_ftest': (6.169479409450612, 0.0011663839924151982, 51.0, 3),\n",
       "   'ssr_chi2test': (21.0488121028315, 0.00010284723826776113, 3),\n",
       "   'lrtest': (17.958106498371762, 0.0004486874770928802, 3),\n",
       "   'params_ftest': (6.1694794094506475, 0.0011663839924151574, 51.0, 3.0)},\n",
       "  [<statsmodels.regression.linear_model.RegressionResultsWrapper at 0x7f9e06394700>,\n",
       "   <statsmodels.regression.linear_model.RegressionResultsWrapper at 0x7f9e06394dc0>,\n",
       "   array([[0., 0., 0., 1., 0., 0., 0.],\n",
       "          [0., 0., 0., 0., 1., 0., 0.],\n",
       "          [0., 0., 0., 0., 0., 1., 0.]])]),\n",
       " 4: ({'ssr_ftest': (4.415141626646218, 0.004045193706881715, 48.0, 4),\n",
       "   'ssr_chi2test': (20.971922726569534, 0.0003207540831127923, 4),\n",
       "   'lrtest': (17.85795915346131, 0.0013155218267879895, 4),\n",
       "   'params_ftest': (4.415141626646236, 0.004045193706881621, 48.0, 4.0)},\n",
       "  [<statsmodels.regression.linear_model.RegressionResultsWrapper at 0x7f9e063948e0>,\n",
       "   <statsmodels.regression.linear_model.RegressionResultsWrapper at 0x7f9e0636e430>,\n",
       "   array([[0., 0., 0., 0., 1., 0., 0., 0., 0.],\n",
       "          [0., 0., 0., 0., 0., 1., 0., 0., 0.],\n",
       "          [0., 0., 0., 0., 0., 0., 1., 0., 0.],\n",
       "          [0., 0., 0., 0., 0., 0., 0., 1., 0.]])]),\n",
       " 5: ({'ssr_ftest': (5.0473243367279474, 0.000935351672442309, 45.0, 5),\n",
       "   'ssr_chi2test': (31.405573650751666, 7.789082596552776e-06, 5),\n",
       "   'lrtest': (24.93161225188149, 0.0001436345566664951, 5),\n",
       "   'params_ftest': (5.0473243367279625, 0.0009353516724422895, 45.0, 5.0)},\n",
       "  [<statsmodels.regression.linear_model.RegressionResultsWrapper at 0x7f9e06394e20>,\n",
       "   <statsmodels.regression.linear_model.RegressionResultsWrapper at 0x7f9e05851cd0>,\n",
       "   array([[0., 0., 0., 0., 0., 1., 0., 0., 0., 0., 0.],\n",
       "          [0., 0., 0., 0., 0., 0., 1., 0., 0., 0., 0.],\n",
       "          [0., 0., 0., 0., 0., 0., 0., 1., 0., 0., 0.],\n",
       "          [0., 0., 0., 0., 0., 0., 0., 0., 1., 0., 0.],\n",
       "          [0., 0., 0., 0., 0., 0., 0., 0., 0., 1., 0.]])]),\n",
       " 6: ({'ssr_ftest': (3.582828738431298, 0.005879263882970526, 42.0, 6),\n",
       "   'ssr_chi2test': (28.15079723053163, 8.801291607102983e-05, 6),\n",
       "   'lrtest': (22.73274345210956, 0.0008911128614358038, 6),\n",
       "   'params_ftest': (3.582828738431298, 0.005879263882970526, 42.0, 6.0)},\n",
       "  [<statsmodels.regression.linear_model.RegressionResultsWrapper at 0x7f9e01c8d490>,\n",
       "   <statsmodels.regression.linear_model.RegressionResultsWrapper at 0x7f9e06cef1f0>,\n",
       "   array([[0., 0., 0., 0., 0., 0., 1., 0., 0., 0., 0., 0., 0.],\n",
       "          [0., 0., 0., 0., 0., 0., 0., 1., 0., 0., 0., 0., 0.],\n",
       "          [0., 0., 0., 0., 0., 0., 0., 0., 1., 0., 0., 0., 0.],\n",
       "          [0., 0., 0., 0., 0., 0., 0., 0., 0., 1., 0., 0., 0.],\n",
       "          [0., 0., 0., 0., 0., 0., 0., 0., 0., 0., 1., 0., 0.],\n",
       "          [0., 0., 0., 0., 0., 0., 0., 0., 0., 0., 0., 1., 0.]])]),\n",
       " 7: ({'ssr_ftest': (4.151846585636041, 0.001690580219263413, 39.0, 7),\n",
       "   'ssr_chi2test': (40.240974599241625, 1.1319223861353961e-06, 7),\n",
       "   'lrtest': (30.071034807747935, 9.21525876050499e-05, 7),\n",
       "   'params_ftest': (4.151846585636047, 0.001690580219263396, 39.0, 7.0)},\n",
       "  [<statsmodels.regression.linear_model.RegressionResultsWrapper at 0x7f9e06cef220>,\n",
       "   <statsmodels.regression.linear_model.RegressionResultsWrapper at 0x7f9e06cef490>,\n",
       "   array([[0., 0., 0., 0., 0., 0., 0., 1., 0., 0., 0., 0., 0., 0., 0.],\n",
       "          [0., 0., 0., 0., 0., 0., 0., 0., 1., 0., 0., 0., 0., 0., 0.],\n",
       "          [0., 0., 0., 0., 0., 0., 0., 0., 0., 1., 0., 0., 0., 0., 0.],\n",
       "          [0., 0., 0., 0., 0., 0., 0., 0., 0., 0., 1., 0., 0., 0., 0.],\n",
       "          [0., 0., 0., 0., 0., 0., 0., 0., 0., 0., 0., 1., 0., 0., 0.],\n",
       "          [0., 0., 0., 0., 0., 0., 0., 0., 0., 0., 0., 0., 1., 0., 0.],\n",
       "          [0., 0., 0., 0., 0., 0., 0., 0., 0., 0., 0., 0., 0., 1., 0.]])]),\n",
       " 8: ({'ssr_ftest': (3.273181067571034, 0.006615012411086656, 36.0, 8),\n",
       "   'ssr_chi2test': (38.550799240281066, 5.954133727281162e-06, 8),\n",
       "   'lrtest': (28.96991064418893, 0.00032097654279051045, 8),\n",
       "   'params_ftest': (3.273181067571036, 0.00661501241108664, 36.0, 8.0)},\n",
       "  [<statsmodels.regression.linear_model.RegressionResultsWrapper at 0x7f9e06cef640>,\n",
       "   <statsmodels.regression.linear_model.RegressionResultsWrapper at 0x7f9e06cef520>,\n",
       "   array([[0., 0., 0., 0., 0., 0., 0., 0., 1., 0., 0., 0., 0., 0., 0., 0.,\n",
       "           0.],\n",
       "          [0., 0., 0., 0., 0., 0., 0., 0., 0., 1., 0., 0., 0., 0., 0., 0.,\n",
       "           0.],\n",
       "          [0., 0., 0., 0., 0., 0., 0., 0., 0., 0., 1., 0., 0., 0., 0., 0.,\n",
       "           0.],\n",
       "          [0., 0., 0., 0., 0., 0., 0., 0., 0., 0., 0., 1., 0., 0., 0., 0.,\n",
       "           0.],\n",
       "          [0., 0., 0., 0., 0., 0., 0., 0., 0., 0., 0., 0., 1., 0., 0., 0.,\n",
       "           0.],\n",
       "          [0., 0., 0., 0., 0., 0., 0., 0., 0., 0., 0., 0., 0., 1., 0., 0.,\n",
       "           0.],\n",
       "          [0., 0., 0., 0., 0., 0., 0., 0., 0., 0., 0., 0., 0., 0., 1., 0.,\n",
       "           0.],\n",
       "          [0., 0., 0., 0., 0., 0., 0., 0., 0., 0., 0., 0., 0., 0., 0., 1.,\n",
       "           0.]])]),\n",
       " 9: ({'ssr_ftest': (2.6836471008328213, 0.018472653941194975, 33.0, 9),\n",
       "   'ssr_chi2test': (38.05899524817456, 1.701162770342346e-05, 9),\n",
       "   'lrtest': (28.559504467428468, 0.0007686866169761126, 9),\n",
       "   'params_ftest': (2.683647100832818, 0.01847265394119509, 33.0, 9.0)},\n",
       "  [<statsmodels.regression.linear_model.RegressionResultsWrapper at 0x7f9e06cef6a0>,\n",
       "   <statsmodels.regression.linear_model.RegressionResultsWrapper at 0x7f9e06394940>,\n",
       "   array([[0., 0., 0., 0., 0., 0., 0., 0., 0., 1., 0., 0., 0., 0., 0., 0.,\n",
       "           0., 0., 0.],\n",
       "          [0., 0., 0., 0., 0., 0., 0., 0., 0., 0., 1., 0., 0., 0., 0., 0.,\n",
       "           0., 0., 0.],\n",
       "          [0., 0., 0., 0., 0., 0., 0., 0., 0., 0., 0., 1., 0., 0., 0., 0.,\n",
       "           0., 0., 0.],\n",
       "          [0., 0., 0., 0., 0., 0., 0., 0., 0., 0., 0., 0., 1., 0., 0., 0.,\n",
       "           0., 0., 0.],\n",
       "          [0., 0., 0., 0., 0., 0., 0., 0., 0., 0., 0., 0., 0., 1., 0., 0.,\n",
       "           0., 0., 0.],\n",
       "          [0., 0., 0., 0., 0., 0., 0., 0., 0., 0., 0., 0., 0., 0., 1., 0.,\n",
       "           0., 0., 0.],\n",
       "          [0., 0., 0., 0., 0., 0., 0., 0., 0., 0., 0., 0., 0., 0., 0., 1.,\n",
       "           0., 0., 0.],\n",
       "          [0., 0., 0., 0., 0., 0., 0., 0., 0., 0., 0., 0., 0., 0., 0., 0.,\n",
       "           1., 0., 0.],\n",
       "          [0., 0., 0., 0., 0., 0., 0., 0., 0., 0., 0., 0., 0., 0., 0., 0.,\n",
       "           0., 1., 0.]])]),\n",
       " 10: ({'ssr_ftest': (2.3902476227336367, 0.031808859795067666, 30.0, 10),\n",
       "   'ssr_chi2test': (40.63420958647182, 1.3096776270002005e-05, 10),\n",
       "   'lrtest': (29.884930853110518, 0.0008945600683426597, 10),\n",
       "   'params_ftest': (2.390247622733637, 0.0318088597950676, 30.0, 10.0)},\n",
       "  [<statsmodels.regression.linear_model.RegressionResultsWrapper at 0x7f9e06cef1c0>,\n",
       "   <statsmodels.regression.linear_model.RegressionResultsWrapper at 0x7f9e06cef250>,\n",
       "   array([[0., 0., 0., 0., 0., 0., 0., 0., 0., 0., 1., 0., 0., 0., 0., 0.,\n",
       "           0., 0., 0., 0., 0.],\n",
       "          [0., 0., 0., 0., 0., 0., 0., 0., 0., 0., 0., 1., 0., 0., 0., 0.,\n",
       "           0., 0., 0., 0., 0.],\n",
       "          [0., 0., 0., 0., 0., 0., 0., 0., 0., 0., 0., 0., 1., 0., 0., 0.,\n",
       "           0., 0., 0., 0., 0.],\n",
       "          [0., 0., 0., 0., 0., 0., 0., 0., 0., 0., 0., 0., 0., 1., 0., 0.,\n",
       "           0., 0., 0., 0., 0.],\n",
       "          [0., 0., 0., 0., 0., 0., 0., 0., 0., 0., 0., 0., 0., 0., 1., 0.,\n",
       "           0., 0., 0., 0., 0.],\n",
       "          [0., 0., 0., 0., 0., 0., 0., 0., 0., 0., 0., 0., 0., 0., 0., 1.,\n",
       "           0., 0., 0., 0., 0.],\n",
       "          [0., 0., 0., 0., 0., 0., 0., 0., 0., 0., 0., 0., 0., 0., 0., 0.,\n",
       "           1., 0., 0., 0., 0.],\n",
       "          [0., 0., 0., 0., 0., 0., 0., 0., 0., 0., 0., 0., 0., 0., 0., 0.,\n",
       "           0., 1., 0., 0., 0.],\n",
       "          [0., 0., 0., 0., 0., 0., 0., 0., 0., 0., 0., 0., 0., 0., 0., 0.,\n",
       "           0., 0., 1., 0., 0.],\n",
       "          [0., 0., 0., 0., 0., 0., 0., 0., 0., 0., 0., 0., 0., 0., 0., 0.,\n",
       "           0., 0., 0., 1., 0.]])])}"
      ]
     },
     "execution_count": 220,
     "metadata": {},
     "output_type": "execute_result"
    }
   ],
   "source": [
    "data = np.asarray(gctay_normalized[['Pos Sentiment', 'Closing Price']]['2021-01-01':])\n",
    "maxlag = 10\n",
    "grangercausalitytests(data, maxlag, addconst=True, verbose=True)"
   ]
  },
  {
   "cell_type": "code",
   "execution_count": 218,
   "metadata": {},
   "outputs": [
    {
     "data": {
      "text/plain": [
       "<AxesSubplot:xlabel='Date'>"
      ]
     },
     "execution_count": 218,
     "metadata": {},
     "output_type": "execute_result"
    },
    {
     "data": {
      "image/png": "[encoded data removed]",
      "text/plain": [
       "<Figure size 1296x360 with 1 Axes>"
      ]
     },
     "metadata": {
      "needs_background": "light"
     },
     "output_type": "display_data"
    }
   ],
   "source": [
    "gctay_normalized['2021-01-01':].plot(figsize=(18,5))"
   ]
  },
  {
   "cell_type": "code",
   "execution_count": null,
   "metadata": {},
   "outputs": [],
   "source": []
  }
 ],
 "metadata": {
  "kernelspec": {
   "display_name": "Python 3",
   "language": "python",
   "name": "python3"
  },
  "language_info": {
   "codemirror_mode": {
    "name": "ipython",
    "version": 3
   },
   "file_extension": ".py",
   "mimetype": "text/x-python",
   "name": "python",
   "nbconvert_exporter": "python",
   "pygments_lexer": "ipython3",
   "version": "3.8.5"
  }
 },
 "nbformat": 4,
 "nbformat_minor": 4
}

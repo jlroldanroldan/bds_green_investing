{
 "cells": [
  {
   "cell_type": "code",
   "execution_count": 1,
   "metadata": {},
   "outputs": [],
   "source": [
    "# Import libraries\n",
    "import pandas as pd\n",
    "import numpy as np\n",
    "import seaborn as sns\n",
    "import matplotlib.pyplot as plt\n",
    "%matplotlib inline\n",
    "pd.set_option('display.max_colwidth', 100)\n",
    "\n",
    "from statsmodels.tsa.stattools import grangercausalitytests"
   ]
  },
  {
   "cell_type": "code",
   "execution_count": 2,
   "metadata": {},
   "outputs": [],
   "source": [
    "data = pd.read_csv('./data_sunrun_RUN.csv')\n",
    "data['date'] = pd.to_datetime(data['Date'], errors='coerce')\n",
    "data.set_index('date', inplace=True)\n",
    "data.drop('Date', axis=1, inplace=True)"
   ]
  },
  {
   "cell_type": "code",
   "execution_count": 3,
   "metadata": {
    "scrolled": true
   },
   "outputs": [
    {
     "data": {
      "text/html": [
       "<div>\n",
       "<style scoped>\n",
       "    .dataframe tbody tr th:only-of-type {\n",
       "        vertical-align: middle;\n",
       "    }\n",
       "\n",
       "    .dataframe tbody tr th {\n",
       "        vertical-align: top;\n",
       "    }\n",
       "\n",
       "    .dataframe thead th {\n",
       "        text-align: right;\n",
       "    }\n",
       "</style>\n",
       "<table border=\"1\" class=\"dataframe\">\n",
       "  <thead>\n",
       "    <tr style=\"text-align: right;\">\n",
       "      <th></th>\n",
       "      <th>daily_tweets</th>\n",
       "      <th>neg_sentiment</th>\n",
       "      <th>pos_sentiment</th>\n",
       "      <th>compound_sentiment</th>\n",
       "      <th>closing_price</th>\n",
       "    </tr>\n",
       "    <tr>\n",
       "      <th>date</th>\n",
       "      <th></th>\n",
       "      <th></th>\n",
       "      <th></th>\n",
       "      <th></th>\n",
       "      <th></th>\n",
       "    </tr>\n",
       "  </thead>\n",
       "  <tbody>\n",
       "    <tr>\n",
       "      <th>2015-08-05</th>\n",
       "      <td>536</td>\n",
       "      <td>0.026535</td>\n",
       "      <td>0.131679</td>\n",
       "      <td>0.152896</td>\n",
       "      <td>10.77</td>\n",
       "    </tr>\n",
       "    <tr>\n",
       "      <th>2015-08-06</th>\n",
       "      <td>361</td>\n",
       "      <td>0.027022</td>\n",
       "      <td>0.056310</td>\n",
       "      <td>0.056473</td>\n",
       "      <td>8.77</td>\n",
       "    </tr>\n",
       "    <tr>\n",
       "      <th>2015-08-07</th>\n",
       "      <td>125</td>\n",
       "      <td>0.050128</td>\n",
       "      <td>0.100672</td>\n",
       "      <td>0.068661</td>\n",
       "      <td>10.14</td>\n",
       "    </tr>\n",
       "    <tr>\n",
       "      <th>2015-08-10</th>\n",
       "      <td>63</td>\n",
       "      <td>0.049206</td>\n",
       "      <td>0.122540</td>\n",
       "      <td>0.098798</td>\n",
       "      <td>10.12</td>\n",
       "    </tr>\n",
       "    <tr>\n",
       "      <th>2015-08-11</th>\n",
       "      <td>56</td>\n",
       "      <td>0.091375</td>\n",
       "      <td>0.129625</td>\n",
       "      <td>0.039154</td>\n",
       "      <td>9.79</td>\n",
       "    </tr>\n",
       "    <tr>\n",
       "      <th>...</th>\n",
       "      <td>...</td>\n",
       "      <td>...</td>\n",
       "      <td>...</td>\n",
       "      <td>...</td>\n",
       "      <td>...</td>\n",
       "    </tr>\n",
       "    <tr>\n",
       "      <th>2021-03-25</th>\n",
       "      <td>61</td>\n",
       "      <td>0.027705</td>\n",
       "      <td>0.125852</td>\n",
       "      <td>0.188192</td>\n",
       "      <td>53.00</td>\n",
       "    </tr>\n",
       "    <tr>\n",
       "      <th>2021-03-26</th>\n",
       "      <td>80</td>\n",
       "      <td>0.029212</td>\n",
       "      <td>0.169575</td>\n",
       "      <td>0.294971</td>\n",
       "      <td>57.09</td>\n",
       "    </tr>\n",
       "    <tr>\n",
       "      <th>2021-03-29</th>\n",
       "      <td>127</td>\n",
       "      <td>0.055646</td>\n",
       "      <td>0.157047</td>\n",
       "      <td>0.206850</td>\n",
       "      <td>51.91</td>\n",
       "    </tr>\n",
       "    <tr>\n",
       "      <th>2021-03-30</th>\n",
       "      <td>127</td>\n",
       "      <td>0.044370</td>\n",
       "      <td>0.180543</td>\n",
       "      <td>0.278541</td>\n",
       "      <td>57.92</td>\n",
       "    </tr>\n",
       "    <tr>\n",
       "      <th>2021-03-31</th>\n",
       "      <td>107</td>\n",
       "      <td>0.021383</td>\n",
       "      <td>0.158252</td>\n",
       "      <td>0.238016</td>\n",
       "      <td>60.48</td>\n",
       "    </tr>\n",
       "  </tbody>\n",
       "</table>\n",
       "<p>1411 rows × 5 columns</p>\n",
       "</div>"
      ],
      "text/plain": [
       "            daily_tweets  neg_sentiment  pos_sentiment  compound_sentiment  \\\n",
       "date                                                                         \n",
       "2015-08-05           536       0.026535       0.131679            0.152896   \n",
       "2015-08-06           361       0.027022       0.056310            0.056473   \n",
       "2015-08-07           125       0.050128       0.100672            0.068661   \n",
       "2015-08-10            63       0.049206       0.122540            0.098798   \n",
       "2015-08-11            56       0.091375       0.129625            0.039154   \n",
       "...                  ...            ...            ...                 ...   \n",
       "2021-03-25            61       0.027705       0.125852            0.188192   \n",
       "2021-03-26            80       0.029212       0.169575            0.294971   \n",
       "2021-03-29           127       0.055646       0.157047            0.206850   \n",
       "2021-03-30           127       0.044370       0.180543            0.278541   \n",
       "2021-03-31           107       0.021383       0.158252            0.238016   \n",
       "\n",
       "            closing_price  \n",
       "date                       \n",
       "2015-08-05          10.77  \n",
       "2015-08-06           8.77  \n",
       "2015-08-07          10.14  \n",
       "2015-08-10          10.12  \n",
       "2015-08-11           9.79  \n",
       "...                   ...  \n",
       "2021-03-25          53.00  \n",
       "2021-03-26          57.09  \n",
       "2021-03-29          51.91  \n",
       "2021-03-30          57.92  \n",
       "2021-03-31          60.48  \n",
       "\n",
       "[1411 rows x 5 columns]"
      ]
     },
     "execution_count": 3,
     "metadata": {},
     "output_type": "execute_result"
    }
   ],
   "source": [
    "data"
   ]
  },
  {
   "cell_type": "code",
   "execution_count": 6,
   "metadata": {
    "scrolled": true
   },
   "outputs": [
    {
     "data": {
      "text/plain": [
       "<AxesSubplot:xlabel='date'>"
      ]
     },
     "execution_count": 6,
     "metadata": {},
     "output_type": "execute_result"
    },
    {
     "data": {
      "image/png": "[encoded data removed]",
      "text/plain": [
       "<Figure size 432x288 with 1 Axes>"
      ]
     },
     "metadata": {
      "needs_background": "light"
     },
     "output_type": "display_data"
    }
   ],
   "source": [
    "data[['closing_price']].plot()"
   ]
  },
  {
   "cell_type": "code",
   "execution_count": null,
   "metadata": {},
   "outputs": [],
   "source": []
  }
 ],
 "metadata": {
  "kernelspec": {
   "display_name": "Python 3",
   "language": "python",
   "name": "python3"
  },
  "language_info": {
   "codemirror_mode": {
    "name": "ipython",
    "version": 3
   },
   "file_extension": ".py",
   "mimetype": "text/x-python",
   "name": "python",
   "nbconvert_exporter": "python",
   "pygments_lexer": "ipython3",
   "version": "3.8.5"
  }
 },
 "nbformat": 4,
 "nbformat_minor": 4
}

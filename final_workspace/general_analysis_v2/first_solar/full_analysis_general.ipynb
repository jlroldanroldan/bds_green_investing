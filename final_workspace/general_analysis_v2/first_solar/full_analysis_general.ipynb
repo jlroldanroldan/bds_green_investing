{
 "cells": [
  {
   "cell_type": "code",
   "execution_count": 11,
   "metadata": {},
   "outputs": [],
   "source": [
    "# Import libraries\n",
    "import pandas as pd\n",
    "import numpy as np\n",
    "import seaborn as sns\n",
    "import matplotlib.pyplot as plt\n",
    "%matplotlib inline\n",
    "pd.set_option('display.max_colwidth', 100)\n",
    "\n",
    "from statsmodels.tsa.stattools import grangercausalitytests"
   ]
  },
  {
   "cell_type": "markdown",
   "metadata": {},
   "source": [
    "# Import Data"
   ]
  },
  {
   "cell_type": "code",
   "execution_count": 12,
   "metadata": {},
   "outputs": [],
   "source": [
    "data = pd.read_csv('./data_first_solar_FSLR.csv')\n",
    "data['date'] = pd.to_datetime(data['Date'], errors='coerce')\n",
    "data.set_index('date', inplace=True)\n",
    "data.drop('Date', axis=1, inplace=True)"
   ]
  },
  {
   "cell_type": "code",
   "execution_count": 13,
   "metadata": {},
   "outputs": [
    {
     "data": {
      "text/html": [
       "<div>\n",
       "<style scoped>\n",
       "    .dataframe tbody tr th:only-of-type {\n",
       "        vertical-align: middle;\n",
       "    }\n",
       "\n",
       "    .dataframe tbody tr th {\n",
       "        vertical-align: top;\n",
       "    }\n",
       "\n",
       "    .dataframe thead th {\n",
       "        text-align: right;\n",
       "    }\n",
       "</style>\n",
       "<table border=\"1\" class=\"dataframe\">\n",
       "  <thead>\n",
       "    <tr style=\"text-align: right;\">\n",
       "      <th></th>\n",
       "      <th>daily_tweets</th>\n",
       "      <th>neg_sentiment</th>\n",
       "      <th>pos_sentiment</th>\n",
       "      <th>compound_sentiment</th>\n",
       "      <th>closing_price</th>\n",
       "    </tr>\n",
       "    <tr>\n",
       "      <th>date</th>\n",
       "      <th></th>\n",
       "      <th></th>\n",
       "      <th></th>\n",
       "      <th></th>\n",
       "      <th></th>\n",
       "    </tr>\n",
       "  </thead>\n",
       "  <tbody>\n",
       "    <tr>\n",
       "      <th>2011-01-03</th>\n",
       "      <td>8</td>\n",
       "      <td>0.000000</td>\n",
       "      <td>0.203625</td>\n",
       "      <td>0.278763</td>\n",
       "      <td>132.78</td>\n",
       "    </tr>\n",
       "    <tr>\n",
       "      <th>2011-01-04</th>\n",
       "      <td>3</td>\n",
       "      <td>0.176000</td>\n",
       "      <td>0.132667</td>\n",
       "      <td>0.087533</td>\n",
       "      <td>131.12</td>\n",
       "    </tr>\n",
       "    <tr>\n",
       "      <th>2011-01-05</th>\n",
       "      <td>9</td>\n",
       "      <td>0.000000</td>\n",
       "      <td>0.109556</td>\n",
       "      <td>0.220822</td>\n",
       "      <td>131.60</td>\n",
       "    </tr>\n",
       "    <tr>\n",
       "      <th>2011-01-06</th>\n",
       "      <td>16</td>\n",
       "      <td>0.091500</td>\n",
       "      <td>0.093313</td>\n",
       "      <td>0.020131</td>\n",
       "      <td>134.53</td>\n",
       "    </tr>\n",
       "    <tr>\n",
       "      <th>2011-01-07</th>\n",
       "      <td>26</td>\n",
       "      <td>0.006231</td>\n",
       "      <td>0.016885</td>\n",
       "      <td>0.014558</td>\n",
       "      <td>133.58</td>\n",
       "    </tr>\n",
       "    <tr>\n",
       "      <th>...</th>\n",
       "      <td>...</td>\n",
       "      <td>...</td>\n",
       "      <td>...</td>\n",
       "      <td>...</td>\n",
       "      <td>...</td>\n",
       "    </tr>\n",
       "    <tr>\n",
       "      <th>2021-03-26</th>\n",
       "      <td>80</td>\n",
       "      <td>0.038038</td>\n",
       "      <td>0.141800</td>\n",
       "      <td>0.218311</td>\n",
       "      <td>85.69</td>\n",
       "    </tr>\n",
       "    <tr>\n",
       "      <th>2021-03-29</th>\n",
       "      <td>38</td>\n",
       "      <td>0.041579</td>\n",
       "      <td>0.135316</td>\n",
       "      <td>0.187032</td>\n",
       "      <td>81.61</td>\n",
       "    </tr>\n",
       "    <tr>\n",
       "      <th>2021-03-30</th>\n",
       "      <td>79</td>\n",
       "      <td>0.021595</td>\n",
       "      <td>0.124456</td>\n",
       "      <td>0.185378</td>\n",
       "      <td>86.53</td>\n",
       "    </tr>\n",
       "    <tr>\n",
       "      <th>2021-03-31</th>\n",
       "      <td>63</td>\n",
       "      <td>0.017048</td>\n",
       "      <td>0.117333</td>\n",
       "      <td>0.202052</td>\n",
       "      <td>87.30</td>\n",
       "    </tr>\n",
       "    <tr>\n",
       "      <th>2021-04-01</th>\n",
       "      <td>1</td>\n",
       "      <td>0.000000</td>\n",
       "      <td>0.000000</td>\n",
       "      <td>0.000000</td>\n",
       "      <td>86.15</td>\n",
       "    </tr>\n",
       "  </tbody>\n",
       "</table>\n",
       "<p>2540 rows × 5 columns</p>\n",
       "</div>"
      ],
      "text/plain": [
       "            daily_tweets  neg_sentiment  pos_sentiment  compound_sentiment  \\\n",
       "date                                                                         \n",
       "2011-01-03             8       0.000000       0.203625            0.278763   \n",
       "2011-01-04             3       0.176000       0.132667            0.087533   \n",
       "2011-01-05             9       0.000000       0.109556            0.220822   \n",
       "2011-01-06            16       0.091500       0.093313            0.020131   \n",
       "2011-01-07            26       0.006231       0.016885            0.014558   \n",
       "...                  ...            ...            ...                 ...   \n",
       "2021-03-26            80       0.038038       0.141800            0.218311   \n",
       "2021-03-29            38       0.041579       0.135316            0.187032   \n",
       "2021-03-30            79       0.021595       0.124456            0.185378   \n",
       "2021-03-31            63       0.017048       0.117333            0.202052   \n",
       "2021-04-01             1       0.000000       0.000000            0.000000   \n",
       "\n",
       "            closing_price  \n",
       "date                       \n",
       "2011-01-03         132.78  \n",
       "2011-01-04         131.12  \n",
       "2011-01-05         131.60  \n",
       "2011-01-06         134.53  \n",
       "2011-01-07         133.58  \n",
       "...                   ...  \n",
       "2021-03-26          85.69  \n",
       "2021-03-29          81.61  \n",
       "2021-03-30          86.53  \n",
       "2021-03-31          87.30  \n",
       "2021-04-01          86.15  \n",
       "\n",
       "[2540 rows x 5 columns]"
      ]
     },
     "execution_count": 13,
     "metadata": {},
     "output_type": "execute_result"
    }
   ],
   "source": [
    "data"
   ]
  },
  {
   "cell_type": "markdown",
   "metadata": {},
   "source": [
    "# Import Data Normalized"
   ]
  },
  {
   "cell_type": "code",
   "execution_count": 16,
   "metadata": {},
   "outputs": [],
   "source": [
    "data_normalized =  pd.read_csv('./data_first_solar_FSLR_normalized.csv')"
   ]
  },
  {
   "cell_type": "code",
   "execution_count": 17,
   "metadata": {},
   "outputs": [
    {
     "data": {
      "text/html": [
       "<div>\n",
       "<style scoped>\n",
       "    .dataframe tbody tr th:only-of-type {\n",
       "        vertical-align: middle;\n",
       "    }\n",
       "\n",
       "    .dataframe tbody tr th {\n",
       "        vertical-align: top;\n",
       "    }\n",
       "\n",
       "    .dataframe thead th {\n",
       "        text-align: right;\n",
       "    }\n",
       "</style>\n",
       "<table border=\"1\" class=\"dataframe\">\n",
       "  <thead>\n",
       "    <tr style=\"text-align: right;\">\n",
       "      <th></th>\n",
       "      <th>Date</th>\n",
       "      <th>daily_tweets</th>\n",
       "      <th>neg_sentiment</th>\n",
       "      <th>pos_sentiment</th>\n",
       "      <th>compound_sentiment</th>\n",
       "      <th>closing_price</th>\n",
       "    </tr>\n",
       "  </thead>\n",
       "  <tbody>\n",
       "    <tr>\n",
       "      <th>0</th>\n",
       "      <td>2011-01-03</td>\n",
       "      <td>0.008274</td>\n",
       "      <td>0.000000</td>\n",
       "      <td>0.607965</td>\n",
       "      <td>0.674062</td>\n",
       "      <td>0.760926</td>\n",
       "    </tr>\n",
       "    <tr>\n",
       "      <th>1</th>\n",
       "      <td>2011-01-04</td>\n",
       "      <td>0.002364</td>\n",
       "      <td>0.712551</td>\n",
       "      <td>0.396104</td>\n",
       "      <td>0.458135</td>\n",
       "      <td>0.750487</td>\n",
       "    </tr>\n",
       "    <tr>\n",
       "      <th>2</th>\n",
       "      <td>2011-01-05</td>\n",
       "      <td>0.009456</td>\n",
       "      <td>0.000000</td>\n",
       "      <td>0.327101</td>\n",
       "      <td>0.608638</td>\n",
       "      <td>0.753506</td>\n",
       "    </tr>\n",
       "    <tr>\n",
       "      <th>3</th>\n",
       "      <td>2011-01-06</td>\n",
       "      <td>0.017730</td>\n",
       "      <td>0.370445</td>\n",
       "      <td>0.278604</td>\n",
       "      <td>0.382027</td>\n",
       "      <td>0.771930</td>\n",
       "    </tr>\n",
       "    <tr>\n",
       "      <th>4</th>\n",
       "      <td>2011-01-07</td>\n",
       "      <td>0.029551</td>\n",
       "      <td>0.025226</td>\n",
       "      <td>0.050413</td>\n",
       "      <td>0.375734</td>\n",
       "      <td>0.765956</td>\n",
       "    </tr>\n",
       "    <tr>\n",
       "      <th>...</th>\n",
       "      <td>...</td>\n",
       "      <td>...</td>\n",
       "      <td>...</td>\n",
       "      <td>...</td>\n",
       "      <td>...</td>\n",
       "      <td>...</td>\n",
       "    </tr>\n",
       "    <tr>\n",
       "      <th>2535</th>\n",
       "      <td>2021-03-26</td>\n",
       "      <td>0.093381</td>\n",
       "      <td>0.153998</td>\n",
       "      <td>0.423374</td>\n",
       "      <td>0.605803</td>\n",
       "      <td>0.464818</td>\n",
       "    </tr>\n",
       "    <tr>\n",
       "      <th>2536</th>\n",
       "      <td>2021-03-29</td>\n",
       "      <td>0.043735</td>\n",
       "      <td>0.168336</td>\n",
       "      <td>0.404014</td>\n",
       "      <td>0.570483</td>\n",
       "      <td>0.439162</td>\n",
       "    </tr>\n",
       "    <tr>\n",
       "      <th>2537</th>\n",
       "      <td>2021-03-30</td>\n",
       "      <td>0.092199</td>\n",
       "      <td>0.087429</td>\n",
       "      <td>0.371589</td>\n",
       "      <td>0.568617</td>\n",
       "      <td>0.470100</td>\n",
       "    </tr>\n",
       "    <tr>\n",
       "      <th>2538</th>\n",
       "      <td>2021-03-31</td>\n",
       "      <td>0.073286</td>\n",
       "      <td>0.069019</td>\n",
       "      <td>0.350323</td>\n",
       "      <td>0.587444</td>\n",
       "      <td>0.474942</td>\n",
       "    </tr>\n",
       "    <tr>\n",
       "      <th>2539</th>\n",
       "      <td>2021-04-01</td>\n",
       "      <td>0.000000</td>\n",
       "      <td>0.000000</td>\n",
       "      <td>0.000000</td>\n",
       "      <td>0.359296</td>\n",
       "      <td>0.467710</td>\n",
       "    </tr>\n",
       "  </tbody>\n",
       "</table>\n",
       "<p>2540 rows × 6 columns</p>\n",
       "</div>"
      ],
      "text/plain": [
       "            Date  daily_tweets  neg_sentiment  pos_sentiment  \\\n",
       "0     2011-01-03      0.008274       0.000000       0.607965   \n",
       "1     2011-01-04      0.002364       0.712551       0.396104   \n",
       "2     2011-01-05      0.009456       0.000000       0.327101   \n",
       "3     2011-01-06      0.017730       0.370445       0.278604   \n",
       "4     2011-01-07      0.029551       0.025226       0.050413   \n",
       "...          ...           ...            ...            ...   \n",
       "2535  2021-03-26      0.093381       0.153998       0.423374   \n",
       "2536  2021-03-29      0.043735       0.168336       0.404014   \n",
       "2537  2021-03-30      0.092199       0.087429       0.371589   \n",
       "2538  2021-03-31      0.073286       0.069019       0.350323   \n",
       "2539  2021-04-01      0.000000       0.000000       0.000000   \n",
       "\n",
       "      compound_sentiment  closing_price  \n",
       "0               0.674062       0.760926  \n",
       "1               0.458135       0.750487  \n",
       "2               0.608638       0.753506  \n",
       "3               0.382027       0.771930  \n",
       "4               0.375734       0.765956  \n",
       "...                  ...            ...  \n",
       "2535            0.605803       0.464818  \n",
       "2536            0.570483       0.439162  \n",
       "2537            0.568617       0.470100  \n",
       "2538            0.587444       0.474942  \n",
       "2539            0.359296       0.467710  \n",
       "\n",
       "[2540 rows x 6 columns]"
      ]
     },
     "execution_count": 17,
     "metadata": {},
     "output_type": "execute_result"
    }
   ],
   "source": [
    "data_normalized"
   ]
  },
  {
   "cell_type": "markdown",
   "metadata": {},
   "source": [
    "# Lag Analysis"
   ]
  },
  {
   "cell_type": "code",
   "execution_count": 24,
   "metadata": {},
   "outputs": [],
   "source": [
    "max_lag = 1000"
   ]
  },
  {
   "cell_type": "code",
   "execution_count": 19,
   "metadata": {},
   "outputs": [],
   "source": [
    "def plot_cross_correlation(series_1, series_2, max_lag):\n",
    "    fig, ax1 = plt.subplots(figsize = (18,5))\n",
    "    ax1.xcorr(series_1, series_2, usevlines = True, maxlags = max_lag, normed=True)\n",
    "    ax1.set_ylim(0,1)\n",
    "    ax1.grid(True)\n",
    "    plt.show()"
   ]
  },
  {
   "cell_type": "code",
   "execution_count": 20,
   "metadata": {},
   "outputs": [
    {
     "data": {
      "image/png": "[encoded data removed]",
      "text/plain": [
       "<Figure size 1296x360 with 1 Axes>"
      ]
     },
     "metadata": {
      "needs_background": "light"
     },
     "output_type": "display_data"
    }
   ],
   "source": [
    "series_1 = data['pos_sentiment'].to_numpy().flatten()\n",
    "series_2 = data['closing_price'].to_numpy().flatten()\n",
    "plot_cross_correlation(series_1, series_2, max_lag)"
   ]
  },
  {
   "cell_type": "code",
   "execution_count": 21,
   "metadata": {},
   "outputs": [
    {
     "data": {
      "image/png": "[encoded data removed]",
      "text/plain": [
       "<Figure size 1296x360 with 1 Axes>"
      ]
     },
     "metadata": {
      "needs_background": "light"
     },
     "output_type": "display_data"
    }
   ],
   "source": [
    "series_1 = data['neg_sentiment'].to_numpy().flatten()\n",
    "series_2 = data['closing_price'].to_numpy().flatten()\n",
    "plot_cross_correlation(series_1, series_2, max_lag)"
   ]
  },
  {
   "cell_type": "code",
   "execution_count": 22,
   "metadata": {},
   "outputs": [
    {
     "data": {
      "image/png": "[encoded data removed]",
      "text/plain": [
       "<Figure size 1296x360 with 1 Axes>"
      ]
     },
     "metadata": {
      "needs_background": "light"
     },
     "output_type": "display_data"
    }
   ],
   "source": [
    "series_1 = data['compound_sentiment'].to_numpy().flatten()\n",
    "series_2 = data['closing_price'].to_numpy().flatten()\n",
    "plot_cross_correlation(series_1, series_2, max_lag)"
   ]
  },
  {
   "cell_type": "code",
   "execution_count": 25,
   "metadata": {},
   "outputs": [
    {
     "data": {
      "image/png": "[encoded data removed]",
      "text/plain": [
       "<Figure size 1296x360 with 1 Axes>"
      ]
     },
     "metadata": {
      "needs_background": "light"
     },
     "output_type": "display_data"
    }
   ],
   "source": [
    "series_1 = data['daily_tweets'].to_numpy().flatten()\n",
    "series_2 = data['closing_price'].to_numpy().flatten()\n",
    "plot_cross_correlation(series_1, series_2, max_lag)"
   ]
  },
  {
   "cell_type": "markdown",
   "metadata": {},
   "source": [
    "# Granger Causality "
   ]
  },
  {
   "cell_type": "code",
   "execution_count": null,
   "metadata": {},
   "outputs": [],
   "source": [
    "data.columns"
   ]
  },
  {
   "cell_type": "code",
   "execution_count": null,
   "metadata": {},
   "outputs": [],
   "source": [
    "input_data = np.asarray(data[['compound_sentiment', 'closing_price']])\n",
    "maxlag = 10\n",
    "grangercausalitytests(input_data, maxlag, addconst=True, verbose=True)"
   ]
  },
  {
   "cell_type": "code",
   "execution_count": null,
   "metadata": {},
   "outputs": [],
   "source": [
    "input_data = np.asarray(data[['pos_sentiment', 'closing_price']])\n",
    "maxlag = 10\n",
    "grangercausalitytests(input_data, maxlag, addconst = True, verbose=True)"
   ]
  },
  {
   "cell_type": "code",
   "execution_count": null,
   "metadata": {},
   "outputs": [],
   "source": [
    "input_data = np.asarray(data[['daily_tweets', 'closing_price']])\n",
    "maxlag = 10\n",
    "grangercausalitytests(input_data, maxlag, addconst = True, verbose=True)"
   ]
  },
  {
   "cell_type": "code",
   "execution_count": null,
   "metadata": {},
   "outputs": [],
   "source": []
  },
  {
   "cell_type": "code",
   "execution_count": null,
   "metadata": {},
   "outputs": [],
   "source": []
  }
 ],
 "metadata": {
  "kernelspec": {
   "display_name": "Python 3",
   "language": "python",
   "name": "python3"
  },
  "language_info": {
   "codemirror_mode": {
    "name": "ipython",
    "version": 3
   },
   "file_extension": ".py",
   "mimetype": "text/x-python",
   "name": "python",
   "nbconvert_exporter": "python",
   "pygments_lexer": "ipython3",
   "version": "3.8.5"
  }
 },
 "nbformat": 4,
 "nbformat_minor": 4
}

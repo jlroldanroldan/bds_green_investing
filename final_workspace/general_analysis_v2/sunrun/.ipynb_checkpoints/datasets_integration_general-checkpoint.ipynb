{
 "cells": [
  {
   "cell_type": "code",
   "execution_count": 1,
   "metadata": {},
   "outputs": [],
   "source": [
    "# Import libraries\n",
    "import pandas as pd\n",
    "import numpy as np\n",
    "import seaborn as sns\n",
    "import matplotlib.pyplot as plt\n",
    "%matplotlib inline\n",
    "pd.set_option('display.max_colwidth', 100)\n",
    "\n",
    "from statsmodels.tsa.stattools import grangercausalitytests"
   ]
  },
  {
   "cell_type": "markdown",
   "metadata": {},
   "source": [
    "# Global variables and paths"
   ]
  },
  {
   "cell_type": "code",
   "execution_count": 2,
   "metadata": {},
   "outputs": [],
   "source": [
    "company = 'sunrun'\n",
    "ticker = 'RUN'"
   ]
  },
  {
   "cell_type": "code",
   "execution_count": 3,
   "metadata": {},
   "outputs": [],
   "source": [
    "path_stocks = '../download_stock_data/' + ticker + '.csv'\n",
    "path_twitter_sentiment = '../../../data/team/NLTK Time Series/sentiment_nltk_fixed_final.csv'"
   ]
  },
  {
   "cell_type": "markdown",
   "metadata": {},
   "source": [
    "# Import Data"
   ]
  },
  {
   "cell_type": "markdown",
   "metadata": {},
   "source": [
    "## Import Stock Data"
   ]
  },
  {
   "cell_type": "code",
   "execution_count": 4,
   "metadata": {},
   "outputs": [],
   "source": [
    "stock = pd.read_csv(path_stocks)\n",
    "stock['Date'] = pd.to_datetime(stock['timestamp'])\n",
    "stock.set_index('Date', inplace=True);\n",
    "stock.drop(['timestamp'],axis=1, inplace=True)\n",
    "stock_close_daily = pd.DataFrame(stock['close'])"
   ]
  },
  {
   "cell_type": "markdown",
   "metadata": {},
   "source": [
    "## Import Twitter Data"
   ]
  },
  {
   "cell_type": "code",
   "execution_count": 5,
   "metadata": {},
   "outputs": [],
   "source": [
    "twitter_sentiment = pd.read_csv(path_twitter_sentiment)\n",
    "twitter_sentiment.drop('Unnamed: 0', axis=1, inplace=True)\n",
    "twitter_sentiment['Date'] = pd.to_datetime(twitter_sentiment['CreatedAt'].str[:10], errors='coerce')\n",
    "twitter_sentiment.set_index('Date',inplace=True);\n",
    "twitter_sentiment.drop('CreatedAt', axis=1, inplace=True)"
   ]
  },
  {
   "cell_type": "markdown",
   "metadata": {},
   "source": [
    "# Select Company"
   ]
  },
  {
   "cell_type": "code",
   "execution_count": 6,
   "metadata": {},
   "outputs": [],
   "source": [
    "# select twitter_sentiment data based on company\n",
    "twitter_sentiment_company = twitter_sentiment[twitter_sentiment['company'] == company]"
   ]
  },
  {
   "cell_type": "markdown",
   "metadata": {},
   "source": [
    "# Create daily tweet count "
   ]
  },
  {
   "cell_type": "code",
   "execution_count": 7,
   "metadata": {},
   "outputs": [],
   "source": [
    "tweets_daily = twitter_sentiment_company.groupby(['Date']).count()\n",
    "tweets_daily = pd.DataFrame(tweets_daily['compound'])\n",
    "tweets_daily.rename(columns={'compound':'Daily Tweets'},inplace=True)"
   ]
  },
  {
   "cell_type": "markdown",
   "metadata": {},
   "source": [
    "# Create Sentiment data"
   ]
  },
  {
   "cell_type": "code",
   "execution_count": null,
   "metadata": {},
   "outputs": [],
   "source": [
    "sentiment = twitter_sentiment[['neg','pos','compound']]\n"
   ]
  },
  {
   "cell_type": "code",
   "execution_count": null,
   "metadata": {},
   "outputs": [],
   "source": [
    "# sentiment_daily = sentiment.groupby(['Date']).count()"
   ]
  },
  {
   "cell_type": "markdown",
   "metadata": {},
   "source": [
    "# Merge Data"
   ]
  },
  {
   "cell_type": "code",
   "execution_count": null,
   "metadata": {},
   "outputs": [],
   "source": [
    "data = pd.merge(tweets_daily, sentiment_daily, how='left', left_on=['Date'], right_on=['Date'] )\n",
    "data = pd.merge(data, stock_close_daily, how='left', left_on=['Date'], right_on=['Date'] )\n",
    "data.dropna(inplace=True)\n",
    "data.rename(columns={'Daily Tweets':'daily_tweets','close':'closing_price', 'compound':'compound_sentiment', 'neg':'neg_sentiment','pos':'pos_sentiment'}, inplace=True)"
   ]
  },
  {
   "cell_type": "markdown",
   "metadata": {},
   "source": [
    "# Export Data "
   ]
  },
  {
   "cell_type": "code",
   "execution_count": null,
   "metadata": {},
   "outputs": [],
   "source": [
    "# name of output csv\n",
    "output = \"./data_\" + company + \"_\"  + ticker + \".csv\""
   ]
  },
  {
   "cell_type": "code",
   "execution_count": null,
   "metadata": {},
   "outputs": [],
   "source": [
    "data.to_csv(output)"
   ]
  },
  {
   "cell_type": "code",
   "execution_count": null,
   "metadata": {},
   "outputs": [],
   "source": [
    "data"
   ]
  },
  {
   "cell_type": "markdown",
   "metadata": {},
   "source": [
    "# Normalize Data"
   ]
  },
  {
   "cell_type": "code",
   "execution_count": null,
   "metadata": {},
   "outputs": [],
   "source": [
    "def normalize_daily_tweets(df):\n",
    "    max_count = df['daily_tweets'].max()\n",
    "    min_count = df['daily_tweets'].min()\n",
    "    df['daily_tweets'] = (df['daily_tweets'] - min_count) / (max_count - min_count)\n",
    "    return df\n",
    "\n",
    "\n",
    "def normalize_neg_sentiment(df):\n",
    "    max_count = df['neg_sentiment'].max()\n",
    "    min_count = df['neg_sentiment'].min()\n",
    "    df['neg_sentiment'] = (df['neg_sentiment'] - min_count) / (max_count - min_count)\n",
    "    return df\n",
    "\n",
    "\n",
    "def normalize_pos_sentiment(df):\n",
    "    max_count = df['pos_sentiment'].max()\n",
    "    min_count = df['pos_sentiment'].min()\n",
    "    df['pos_sentiment'] = (df['pos_sentiment'] - min_count) / (max_count - min_count)\n",
    "    return df\n",
    "\n",
    "\n",
    "def normalize_compound_sentiment(df):\n",
    "    max_count = df['compound_sentiment'].max()\n",
    "    min_count = df['compound_sentiment'].min()\n",
    "    df['compound_sentiment'] = (df['compound_sentiment'] - min_count) / (max_count - min_count)\n",
    "    return df\n",
    "\n",
    "\n",
    "def normalize_closing_price(df):\n",
    "    max_count = df['closing_price'].max()\n",
    "    min_count = df['closing_price'].min()\n",
    "    df['closing_price'] = (df['closing_price'] - min_count) / (max_count - min_count)\n",
    "    return df"
   ]
  },
  {
   "cell_type": "code",
   "execution_count": null,
   "metadata": {},
   "outputs": [],
   "source": [
    "data"
   ]
  },
  {
   "cell_type": "code",
   "execution_count": null,
   "metadata": {},
   "outputs": [],
   "source": [
    "data_normalized = normalize_daily_tweets(data)"
   ]
  },
  {
   "cell_type": "code",
   "execution_count": null,
   "metadata": {},
   "outputs": [],
   "source": [
    "data_normalized = normalize_neg_sentiment(data)"
   ]
  },
  {
   "cell_type": "code",
   "execution_count": null,
   "metadata": {},
   "outputs": [],
   "source": [
    "data_normalized = normalize_pos_sentiment(data)"
   ]
  },
  {
   "cell_type": "code",
   "execution_count": null,
   "metadata": {},
   "outputs": [],
   "source": [
    "data_normalized = normalize_compound_sentiment(data)"
   ]
  },
  {
   "cell_type": "code",
   "execution_count": null,
   "metadata": {},
   "outputs": [],
   "source": [
    "data_normalized = normalize_closing_price(data)"
   ]
  },
  {
   "cell_type": "code",
   "execution_count": null,
   "metadata": {},
   "outputs": [],
   "source": [
    "data_normalized"
   ]
  },
  {
   "cell_type": "code",
   "execution_count": null,
   "metadata": {},
   "outputs": [],
   "source": [
    "output_normalized = \"./data_\" + company + \"_\"  + ticker + \"_normalized.csv\"\n",
    "data.to_csv(output_normalized)\n",
    "data_normalized"
   ]
  },
  {
   "cell_type": "code",
   "execution_count": null,
   "metadata": {},
   "outputs": [],
   "source": [
    "data"
   ]
  },
  {
   "cell_type": "code",
   "execution_count": null,
   "metadata": {},
   "outputs": [],
   "source": []
  }
 ],
 "metadata": {
  "kernelspec": {
   "display_name": "Python 3",
   "language": "python",
   "name": "python3"
  },
  "language_info": {
   "codemirror_mode": {
    "name": "ipython",
    "version": 3
   },
   "file_extension": ".py",
   "mimetype": "text/x-python",
   "name": "python",
   "nbconvert_exporter": "python",
   "pygments_lexer": "ipython3",
   "version": "3.8.5"
  }
 },
 "nbformat": 4,
 "nbformat_minor": 4
}

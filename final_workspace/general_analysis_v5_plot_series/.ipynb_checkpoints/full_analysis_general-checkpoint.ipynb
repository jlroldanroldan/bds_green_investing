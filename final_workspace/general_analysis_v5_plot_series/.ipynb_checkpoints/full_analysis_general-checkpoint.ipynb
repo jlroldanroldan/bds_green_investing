{
 "cells": [
  {
   "cell_type": "code",
   "execution_count": 1,
   "metadata": {},
   "outputs": [],
   "source": [
    "# Import libraries\n",
    "import pandas as pd\n",
    "import numpy as np\n",
    "import seaborn as sns\n",
    "import matplotlib.pyplot as plt\n",
    "%matplotlib inline\n",
    "pd.set_option('display.max_colwidth', 100)\n",
    "\n",
    "from statsmodels.tsa.stattools import grangercausalitytests"
   ]
  },
  {
   "cell_type": "markdown",
   "metadata": {},
   "source": [
    "# Import Data"
   ]
  },
  {
   "cell_type": "code",
   "execution_count": 2,
   "metadata": {},
   "outputs": [],
   "source": [
    "data = pd.read_csv('./data_sunrun_RUN.csv')\n",
    "data['date'] = pd.to_datetime(data['Date'], errors='coerce')\n",
    "data.set_index('date', inplace=True)\n",
    "data.drop('Date', axis=1, inplace=True)"
   ]
  },
  {
   "cell_type": "code",
   "execution_count": 3,
   "metadata": {},
   "outputs": [
    {
     "data": {
      "text/html": [
       "<div>\n",
       "<style scoped>\n",
       "    .dataframe tbody tr th:only-of-type {\n",
       "        vertical-align: middle;\n",
       "    }\n",
       "\n",
       "    .dataframe tbody tr th {\n",
       "        vertical-align: top;\n",
       "    }\n",
       "\n",
       "    .dataframe thead th {\n",
       "        text-align: right;\n",
       "    }\n",
       "</style>\n",
       "<table border=\"1\" class=\"dataframe\">\n",
       "  <thead>\n",
       "    <tr style=\"text-align: right;\">\n",
       "      <th></th>\n",
       "      <th>daily_tweets</th>\n",
       "      <th>neg_sentiment</th>\n",
       "      <th>pos_sentiment</th>\n",
       "      <th>compound_sentiment</th>\n",
       "      <th>closing_price</th>\n",
       "    </tr>\n",
       "    <tr>\n",
       "      <th>date</th>\n",
       "      <th></th>\n",
       "      <th></th>\n",
       "      <th></th>\n",
       "      <th></th>\n",
       "      <th></th>\n",
       "    </tr>\n",
       "  </thead>\n",
       "  <tbody>\n",
       "    <tr>\n",
       "      <th>2015-08-05</th>\n",
       "      <td>536</td>\n",
       "      <td>0.026535</td>\n",
       "      <td>0.131679</td>\n",
       "      <td>0.152896</td>\n",
       "      <td>10.77</td>\n",
       "    </tr>\n",
       "    <tr>\n",
       "      <th>2015-08-06</th>\n",
       "      <td>361</td>\n",
       "      <td>0.027022</td>\n",
       "      <td>0.056310</td>\n",
       "      <td>0.056473</td>\n",
       "      <td>8.77</td>\n",
       "    </tr>\n",
       "    <tr>\n",
       "      <th>2015-08-07</th>\n",
       "      <td>125</td>\n",
       "      <td>0.050128</td>\n",
       "      <td>0.100672</td>\n",
       "      <td>0.068661</td>\n",
       "      <td>10.14</td>\n",
       "    </tr>\n",
       "    <tr>\n",
       "      <th>2015-08-10</th>\n",
       "      <td>63</td>\n",
       "      <td>0.049206</td>\n",
       "      <td>0.122540</td>\n",
       "      <td>0.098798</td>\n",
       "      <td>10.12</td>\n",
       "    </tr>\n",
       "    <tr>\n",
       "      <th>2015-08-11</th>\n",
       "      <td>56</td>\n",
       "      <td>0.091375</td>\n",
       "      <td>0.129625</td>\n",
       "      <td>0.039154</td>\n",
       "      <td>9.79</td>\n",
       "    </tr>\n",
       "    <tr>\n",
       "      <th>...</th>\n",
       "      <td>...</td>\n",
       "      <td>...</td>\n",
       "      <td>...</td>\n",
       "      <td>...</td>\n",
       "      <td>...</td>\n",
       "    </tr>\n",
       "    <tr>\n",
       "      <th>2021-03-25</th>\n",
       "      <td>61</td>\n",
       "      <td>0.027705</td>\n",
       "      <td>0.125852</td>\n",
       "      <td>0.188192</td>\n",
       "      <td>53.00</td>\n",
       "    </tr>\n",
       "    <tr>\n",
       "      <th>2021-03-26</th>\n",
       "      <td>80</td>\n",
       "      <td>0.029212</td>\n",
       "      <td>0.169575</td>\n",
       "      <td>0.294971</td>\n",
       "      <td>57.09</td>\n",
       "    </tr>\n",
       "    <tr>\n",
       "      <th>2021-03-29</th>\n",
       "      <td>127</td>\n",
       "      <td>0.055646</td>\n",
       "      <td>0.157047</td>\n",
       "      <td>0.206850</td>\n",
       "      <td>51.91</td>\n",
       "    </tr>\n",
       "    <tr>\n",
       "      <th>2021-03-30</th>\n",
       "      <td>127</td>\n",
       "      <td>0.044370</td>\n",
       "      <td>0.180543</td>\n",
       "      <td>0.278541</td>\n",
       "      <td>57.92</td>\n",
       "    </tr>\n",
       "    <tr>\n",
       "      <th>2021-03-31</th>\n",
       "      <td>107</td>\n",
       "      <td>0.021383</td>\n",
       "      <td>0.158252</td>\n",
       "      <td>0.238016</td>\n",
       "      <td>60.48</td>\n",
       "    </tr>\n",
       "  </tbody>\n",
       "</table>\n",
       "<p>1411 rows × 5 columns</p>\n",
       "</div>"
      ],
      "text/plain": [
       "            daily_tweets  neg_sentiment  pos_sentiment  compound_sentiment  \\\n",
       "date                                                                         \n",
       "2015-08-05           536       0.026535       0.131679            0.152896   \n",
       "2015-08-06           361       0.027022       0.056310            0.056473   \n",
       "2015-08-07           125       0.050128       0.100672            0.068661   \n",
       "2015-08-10            63       0.049206       0.122540            0.098798   \n",
       "2015-08-11            56       0.091375       0.129625            0.039154   \n",
       "...                  ...            ...            ...                 ...   \n",
       "2021-03-25            61       0.027705       0.125852            0.188192   \n",
       "2021-03-26            80       0.029212       0.169575            0.294971   \n",
       "2021-03-29           127       0.055646       0.157047            0.206850   \n",
       "2021-03-30           127       0.044370       0.180543            0.278541   \n",
       "2021-03-31           107       0.021383       0.158252            0.238016   \n",
       "\n",
       "            closing_price  \n",
       "date                       \n",
       "2015-08-05          10.77  \n",
       "2015-08-06           8.77  \n",
       "2015-08-07          10.14  \n",
       "2015-08-10          10.12  \n",
       "2015-08-11           9.79  \n",
       "...                   ...  \n",
       "2021-03-25          53.00  \n",
       "2021-03-26          57.09  \n",
       "2021-03-29          51.91  \n",
       "2021-03-30          57.92  \n",
       "2021-03-31          60.48  \n",
       "\n",
       "[1411 rows x 5 columns]"
      ]
     },
     "execution_count": 3,
     "metadata": {},
     "output_type": "execute_result"
    }
   ],
   "source": [
    "data"
   ]
  },
  {
   "cell_type": "markdown",
   "metadata": {},
   "source": [
    "# Import Data Normalized"
   ]
  },
  {
   "cell_type": "code",
   "execution_count": 4,
   "metadata": {},
   "outputs": [],
   "source": [
    "data_normalized =  pd.read_csv('./data_sunrun_RUN_normalized.csv')"
   ]
  },
  {
   "cell_type": "code",
   "execution_count": 5,
   "metadata": {},
   "outputs": [
    {
     "data": {
      "text/html": [
       "<div>\n",
       "<style scoped>\n",
       "    .dataframe tbody tr th:only-of-type {\n",
       "        vertical-align: middle;\n",
       "    }\n",
       "\n",
       "    .dataframe tbody tr th {\n",
       "        vertical-align: top;\n",
       "    }\n",
       "\n",
       "    .dataframe thead th {\n",
       "        text-align: right;\n",
       "    }\n",
       "</style>\n",
       "<table border=\"1\" class=\"dataframe\">\n",
       "  <thead>\n",
       "    <tr style=\"text-align: right;\">\n",
       "      <th></th>\n",
       "      <th>Date</th>\n",
       "      <th>daily_tweets</th>\n",
       "      <th>neg_sentiment</th>\n",
       "      <th>pos_sentiment</th>\n",
       "      <th>compound_sentiment</th>\n",
       "      <th>closing_price</th>\n",
       "    </tr>\n",
       "  </thead>\n",
       "  <tbody>\n",
       "    <tr>\n",
       "      <th>0</th>\n",
       "      <td>2015-08-05</td>\n",
       "      <td>0.554404</td>\n",
       "      <td>0.136924</td>\n",
       "      <td>0.272730</td>\n",
       "      <td>0.371615</td>\n",
       "      <td>0.066834</td>\n",
       "    </tr>\n",
       "    <tr>\n",
       "      <th>1</th>\n",
       "      <td>2015-08-06</td>\n",
       "      <td>0.373057</td>\n",
       "      <td>0.139435</td>\n",
       "      <td>0.099872</td>\n",
       "      <td>0.275538</td>\n",
       "      <td>0.045064</td>\n",
       "    </tr>\n",
       "    <tr>\n",
       "      <th>2</th>\n",
       "      <td>2015-08-07</td>\n",
       "      <td>0.128497</td>\n",
       "      <td>0.258662</td>\n",
       "      <td>0.201615</td>\n",
       "      <td>0.287682</td>\n",
       "      <td>0.059976</td>\n",
       "    </tr>\n",
       "    <tr>\n",
       "      <th>3</th>\n",
       "      <td>2015-08-10</td>\n",
       "      <td>0.064249</td>\n",
       "      <td>0.253906</td>\n",
       "      <td>0.251769</td>\n",
       "      <td>0.317711</td>\n",
       "      <td>0.059758</td>\n",
       "    </tr>\n",
       "    <tr>\n",
       "      <th>4</th>\n",
       "      <td>2015-08-11</td>\n",
       "      <td>0.056995</td>\n",
       "      <td>0.471497</td>\n",
       "      <td>0.268019</td>\n",
       "      <td>0.258280</td>\n",
       "      <td>0.056166</td>\n",
       "    </tr>\n",
       "    <tr>\n",
       "      <th>...</th>\n",
       "      <td>...</td>\n",
       "      <td>...</td>\n",
       "      <td>...</td>\n",
       "      <td>...</td>\n",
       "      <td>...</td>\n",
       "      <td>...</td>\n",
       "    </tr>\n",
       "    <tr>\n",
       "      <th>1406</th>\n",
       "      <td>2021-03-25</td>\n",
       "      <td>0.062176</td>\n",
       "      <td>0.142958</td>\n",
       "      <td>0.259367</td>\n",
       "      <td>0.406784</td>\n",
       "      <td>0.526505</td>\n",
       "    </tr>\n",
       "    <tr>\n",
       "      <th>1407</th>\n",
       "      <td>2021-03-26</td>\n",
       "      <td>0.081865</td>\n",
       "      <td>0.150737</td>\n",
       "      <td>0.359644</td>\n",
       "      <td>0.513181</td>\n",
       "      <td>0.571024</td>\n",
       "    </tr>\n",
       "    <tr>\n",
       "      <th>1408</th>\n",
       "      <td>2021-03-29</td>\n",
       "      <td>0.130570</td>\n",
       "      <td>0.287133</td>\n",
       "      <td>0.330912</td>\n",
       "      <td>0.425375</td>\n",
       "      <td>0.514640</td>\n",
       "    </tr>\n",
       "    <tr>\n",
       "      <th>1409</th>\n",
       "      <td>2021-03-30</td>\n",
       "      <td>0.130570</td>\n",
       "      <td>0.228951</td>\n",
       "      <td>0.384800</td>\n",
       "      <td>0.496810</td>\n",
       "      <td>0.580059</td>\n",
       "    </tr>\n",
       "    <tr>\n",
       "      <th>1410</th>\n",
       "      <td>2021-03-31</td>\n",
       "      <td>0.109845</td>\n",
       "      <td>0.110338</td>\n",
       "      <td>0.333676</td>\n",
       "      <td>0.456430</td>\n",
       "      <td>0.607924</td>\n",
       "    </tr>\n",
       "  </tbody>\n",
       "</table>\n",
       "<p>1411 rows × 6 columns</p>\n",
       "</div>"
      ],
      "text/plain": [
       "            Date  daily_tweets  neg_sentiment  pos_sentiment  \\\n",
       "0     2015-08-05      0.554404       0.136924       0.272730   \n",
       "1     2015-08-06      0.373057       0.139435       0.099872   \n",
       "2     2015-08-07      0.128497       0.258662       0.201615   \n",
       "3     2015-08-10      0.064249       0.253906       0.251769   \n",
       "4     2015-08-11      0.056995       0.471497       0.268019   \n",
       "...          ...           ...            ...            ...   \n",
       "1406  2021-03-25      0.062176       0.142958       0.259367   \n",
       "1407  2021-03-26      0.081865       0.150737       0.359644   \n",
       "1408  2021-03-29      0.130570       0.287133       0.330912   \n",
       "1409  2021-03-30      0.130570       0.228951       0.384800   \n",
       "1410  2021-03-31      0.109845       0.110338       0.333676   \n",
       "\n",
       "      compound_sentiment  closing_price  \n",
       "0               0.371615       0.066834  \n",
       "1               0.275538       0.045064  \n",
       "2               0.287682       0.059976  \n",
       "3               0.317711       0.059758  \n",
       "4               0.258280       0.056166  \n",
       "...                  ...            ...  \n",
       "1406            0.406784       0.526505  \n",
       "1407            0.513181       0.571024  \n",
       "1408            0.425375       0.514640  \n",
       "1409            0.496810       0.580059  \n",
       "1410            0.456430       0.607924  \n",
       "\n",
       "[1411 rows x 6 columns]"
      ]
     },
     "execution_count": 5,
     "metadata": {},
     "output_type": "execute_result"
    }
   ],
   "source": [
    "data_normalized"
   ]
  },
  {
   "cell_type": "markdown",
   "metadata": {},
   "source": [
    "# Lag Analysis"
   ]
  },
  {
   "cell_type": "code",
   "execution_count": 10,
   "metadata": {},
   "outputs": [],
   "source": [
    "max_lag = 100"
   ]
  },
  {
   "cell_type": "code",
   "execution_count": 14,
   "metadata": {},
   "outputs": [],
   "source": [
    "def plot_cross_correlation(series_1, series_2, max_lag):\n",
    "    fig, ax1 = plt.subplots(figsize = (18,5))\n",
    "    ax1.xcorr(series_1, series_2, usevlines = True, maxlags = max_lag, normed=True)\n",
    "    axl.set_ylim(0,.7)\n",
    "    ax1.grid(True)\n",
    "    plt.show()"
   ]
  },
  {
   "cell_type": "code",
   "execution_count": 15,
   "metadata": {},
   "outputs": [
    {
     "ename": "NameError",
     "evalue": "name 'axl' is not defined",
     "output_type": "error",
     "traceback": [
      "\u001b[0;31m---------------------------------------------------------------------------\u001b[0m",
      "\u001b[0;31mNameError\u001b[0m                                 Traceback (most recent call last)",
      "\u001b[0;32m<ipython-input-15-5b31e226d3cb>\u001b[0m in \u001b[0;36m<module>\u001b[0;34m\u001b[0m\n\u001b[1;32m      1\u001b[0m \u001b[0mseries_1\u001b[0m \u001b[0;34m=\u001b[0m \u001b[0mdata\u001b[0m\u001b[0;34m[\u001b[0m\u001b[0;34m'pos_sentiment'\u001b[0m\u001b[0;34m]\u001b[0m\u001b[0;34m.\u001b[0m\u001b[0mto_numpy\u001b[0m\u001b[0;34m(\u001b[0m\u001b[0;34m)\u001b[0m\u001b[0;34m.\u001b[0m\u001b[0mflatten\u001b[0m\u001b[0;34m(\u001b[0m\u001b[0;34m)\u001b[0m\u001b[0;34m\u001b[0m\u001b[0;34m\u001b[0m\u001b[0m\n\u001b[1;32m      2\u001b[0m \u001b[0mseries_2\u001b[0m \u001b[0;34m=\u001b[0m \u001b[0mdata\u001b[0m\u001b[0;34m[\u001b[0m\u001b[0;34m'closing_price'\u001b[0m\u001b[0;34m]\u001b[0m\u001b[0;34m.\u001b[0m\u001b[0mto_numpy\u001b[0m\u001b[0;34m(\u001b[0m\u001b[0;34m)\u001b[0m\u001b[0;34m.\u001b[0m\u001b[0mflatten\u001b[0m\u001b[0;34m(\u001b[0m\u001b[0;34m)\u001b[0m\u001b[0;34m\u001b[0m\u001b[0;34m\u001b[0m\u001b[0m\n\u001b[0;32m----> 3\u001b[0;31m \u001b[0mplot_cross_correlation\u001b[0m\u001b[0;34m(\u001b[0m\u001b[0mseries_1\u001b[0m\u001b[0;34m,\u001b[0m \u001b[0mseries_2\u001b[0m\u001b[0;34m,\u001b[0m \u001b[0mmax_lag\u001b[0m\u001b[0;34m)\u001b[0m\u001b[0;34m\u001b[0m\u001b[0;34m\u001b[0m\u001b[0m\n\u001b[0m",
      "\u001b[0;32m<ipython-input-14-965e5a566de9>\u001b[0m in \u001b[0;36mplot_cross_correlation\u001b[0;34m(series_1, series_2, max_lag)\u001b[0m\n\u001b[1;32m      2\u001b[0m     \u001b[0mfig\u001b[0m\u001b[0;34m,\u001b[0m \u001b[0max1\u001b[0m \u001b[0;34m=\u001b[0m \u001b[0mplt\u001b[0m\u001b[0;34m.\u001b[0m\u001b[0msubplots\u001b[0m\u001b[0;34m(\u001b[0m\u001b[0mfigsize\u001b[0m \u001b[0;34m=\u001b[0m \u001b[0;34m(\u001b[0m\u001b[0;36m18\u001b[0m\u001b[0;34m,\u001b[0m\u001b[0;36m5\u001b[0m\u001b[0;34m)\u001b[0m\u001b[0;34m)\u001b[0m\u001b[0;34m\u001b[0m\u001b[0;34m\u001b[0m\u001b[0m\n\u001b[1;32m      3\u001b[0m     \u001b[0max1\u001b[0m\u001b[0;34m.\u001b[0m\u001b[0mxcorr\u001b[0m\u001b[0;34m(\u001b[0m\u001b[0mseries_1\u001b[0m\u001b[0;34m,\u001b[0m \u001b[0mseries_2\u001b[0m\u001b[0;34m,\u001b[0m \u001b[0musevlines\u001b[0m \u001b[0;34m=\u001b[0m \u001b[0;32mTrue\u001b[0m\u001b[0;34m,\u001b[0m \u001b[0mmaxlags\u001b[0m \u001b[0;34m=\u001b[0m \u001b[0mmax_lag\u001b[0m\u001b[0;34m,\u001b[0m \u001b[0mnormed\u001b[0m\u001b[0;34m=\u001b[0m\u001b[0;32mTrue\u001b[0m\u001b[0;34m)\u001b[0m\u001b[0;34m\u001b[0m\u001b[0;34m\u001b[0m\u001b[0m\n\u001b[0;32m----> 4\u001b[0;31m     \u001b[0maxl\u001b[0m\u001b[0;34m.\u001b[0m\u001b[0mset_ylim\u001b[0m\u001b[0;34m(\u001b[0m\u001b[0;36m0\u001b[0m\u001b[0;34m,\u001b[0m\u001b[0;36m.7\u001b[0m\u001b[0;34m)\u001b[0m\u001b[0;34m\u001b[0m\u001b[0;34m\u001b[0m\u001b[0m\n\u001b[0m\u001b[1;32m      5\u001b[0m     \u001b[0max1\u001b[0m\u001b[0;34m.\u001b[0m\u001b[0mgrid\u001b[0m\u001b[0;34m(\u001b[0m\u001b[0;32mTrue\u001b[0m\u001b[0;34m)\u001b[0m\u001b[0;34m\u001b[0m\u001b[0;34m\u001b[0m\u001b[0m\n\u001b[1;32m      6\u001b[0m     \u001b[0mplt\u001b[0m\u001b[0;34m.\u001b[0m\u001b[0mshow\u001b[0m\u001b[0;34m(\u001b[0m\u001b[0;34m)\u001b[0m\u001b[0;34m\u001b[0m\u001b[0;34m\u001b[0m\u001b[0m\n",
      "\u001b[0;31mNameError\u001b[0m: name 'axl' is not defined"
     ]
    },
    {
     "data": {
      "image/png": "[encoded data removed]",
      "text/plain": [
       "<Figure size 1296x360 with 1 Axes>"
      ]
     },
     "metadata": {
      "needs_background": "light"
     },
     "output_type": "display_data"
    }
   ],
   "source": [
    "series_1 = data['pos_sentiment'].to_numpy().flatten()\n",
    "series_2 = data['closing_price'].to_numpy().flatten()\n",
    "plot_cross_correlation(series_1, series_2, max_lag)"
   ]
  },
  {
   "cell_type": "code",
   "execution_count": 13,
   "metadata": {},
   "outputs": [
    {
     "data": {
      "image/png": "[encoded data removed]",
      "text/plain": [
       "<Figure size 1296x360 with 1 Axes>"
      ]
     },
     "metadata": {
      "needs_background": "light"
     },
     "output_type": "display_data"
    }
   ],
   "source": [
    "series_1 = data['neg_sentiment'].to_numpy().flatten()\n",
    "series_2 = data['closing_price'].to_numpy().flatten()\n",
    "plot_cross_correlation(series_1, series_2, max_lag)"
   ]
  },
  {
   "cell_type": "code",
   "execution_count": null,
   "metadata": {},
   "outputs": [],
   "source": [
    "series_1 = data['compound_sentiment'].to_numpy().flatten()\n",
    "series_2 = data['closing_price'].to_numpy().flatten()\n",
    "plot_cross_correlation(series_1, series_2, max_lag)"
   ]
  },
  {
   "cell_type": "markdown",
   "metadata": {},
   "source": [
    "# Granger Causality "
   ]
  },
  {
   "cell_type": "code",
   "execution_count": null,
   "metadata": {},
   "outputs": [],
   "source": [
    "data.columns"
   ]
  },
  {
   "cell_type": "code",
   "execution_count": null,
   "metadata": {},
   "outputs": [],
   "source": [
    "input_data = np.asarray(data[['compound_sentiment', 'closing_price']])\n",
    "maxlag = 10\n",
    "grangercausalitytests(input_data, maxlag, addconst=True, verbose=True)"
   ]
  },
  {
   "cell_type": "code",
   "execution_count": null,
   "metadata": {},
   "outputs": [],
   "source": [
    "input_data = np.asarray(data[['pos_sentiment', 'closing_price']])\n",
    "maxlag = 10\n",
    "grangercausalitytests(input_data, maxlag, addconst = True, verbose=True)"
   ]
  },
  {
   "cell_type": "code",
   "execution_count": null,
   "metadata": {},
   "outputs": [],
   "source": [
    "input_data = np.asarray(data[['daily_tweets', 'closing_price']])\n",
    "maxlag = 10\n",
    "grangercausalitytests(input_data, maxlag, addconst = True, verbose=True)"
   ]
  },
  {
   "cell_type": "code",
   "execution_count": null,
   "metadata": {},
   "outputs": [],
   "source": []
  },
  {
   "cell_type": "code",
   "execution_count": null,
   "metadata": {},
   "outputs": [],
   "source": []
  }
 ],
 "metadata": {
  "kernelspec": {
   "display_name": "Python 3",
   "language": "python",
   "name": "python3"
  },
  "language_info": {
   "codemirror_mode": {
    "name": "ipython",
    "version": 3
   },
   "file_extension": ".py",
   "mimetype": "text/x-python",
   "name": "python",
   "nbconvert_exporter": "python",
   "pygments_lexer": "ipython3",
   "version": "3.8.5"
  }
 },
 "nbformat": 4,
 "nbformat_minor": 4
}

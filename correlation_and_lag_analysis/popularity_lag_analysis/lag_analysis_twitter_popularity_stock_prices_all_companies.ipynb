{
 "cells": [
  {
   "cell_type": "code",
   "execution_count": 9,
   "metadata": {},
   "outputs": [],
   "source": [
    "# Import libraries\n",
    "import pandas as pd\n",
    "import numpy as np\n",
    "import seaborn as sns\n",
    "import matplotlib.pyplot as plt\n",
    "%matplotlib inline\n",
    "pd.set_option('display.max_colwidth', 100)\n"
   ]
  },
  {
   "cell_type": "markdown",
   "metadata": {},
   "source": [
    "# Import data"
   ]
  },
  {
   "cell_type": "code",
   "execution_count": 10,
   "metadata": {},
   "outputs": [],
   "source": [
    "weekly_close_price = pd.read_csv('./weekly_mean_closing_price_by_ticker_all.csv')\n",
    "weekly_tweet_count = pd.read_csv('./weekly_tweet_count_all.csv')"
   ]
  },
  {
   "cell_type": "code",
   "execution_count": 13,
   "metadata": {},
   "outputs": [
    {
     "data": {
      "text/html": [
       "<div>\n",
       "<style scoped>\n",
       "    .dataframe tbody tr th:only-of-type {\n",
       "        vertical-align: middle;\n",
       "    }\n",
       "\n",
       "    .dataframe tbody tr th {\n",
       "        vertical-align: top;\n",
       "    }\n",
       "\n",
       "    .dataframe thead th {\n",
       "        text-align: right;\n",
       "    }\n",
       "</style>\n",
       "<table border=\"1\" class=\"dataframe\">\n",
       "  <thead>\n",
       "    <tr style=\"text-align: right;\">\n",
       "      <th></th>\n",
       "      <th>Year-Week</th>\n",
       "      <th>COENF</th>\n",
       "      <th>DNNGY</th>\n",
       "      <th>DQ</th>\n",
       "      <th>ENPH</th>\n",
       "      <th>FSLR</th>\n",
       "      <th>GCTAY</th>\n",
       "      <th>ORA</th>\n",
       "      <th>RUN</th>\n",
       "      <th>SCTY</th>\n",
       "      <th>SPWR</th>\n",
       "      <th>TSLA</th>\n",
       "      <th>VWDRY</th>\n",
       "    </tr>\n",
       "  </thead>\n",
       "  <tbody>\n",
       "    <tr>\n",
       "      <th>0</th>\n",
       "      <td>2004-45</td>\n",
       "      <td>NaN</td>\n",
       "      <td>NaN</td>\n",
       "      <td>NaN</td>\n",
       "      <td>NaN</td>\n",
       "      <td>NaN</td>\n",
       "      <td>NaN</td>\n",
       "      <td>15.8600</td>\n",
       "      <td>NaN</td>\n",
       "      <td>NaN</td>\n",
       "      <td>NaN</td>\n",
       "      <td>NaN</td>\n",
       "      <td>NaN</td>\n",
       "    </tr>\n",
       "    <tr>\n",
       "      <th>1</th>\n",
       "      <td>2004-46</td>\n",
       "      <td>NaN</td>\n",
       "      <td>NaN</td>\n",
       "      <td>NaN</td>\n",
       "      <td>NaN</td>\n",
       "      <td>NaN</td>\n",
       "      <td>NaN</td>\n",
       "      <td>15.8600</td>\n",
       "      <td>NaN</td>\n",
       "      <td>NaN</td>\n",
       "      <td>NaN</td>\n",
       "      <td>NaN</td>\n",
       "      <td>NaN</td>\n",
       "    </tr>\n",
       "    <tr>\n",
       "      <th>2</th>\n",
       "      <td>2004-47</td>\n",
       "      <td>NaN</td>\n",
       "      <td>NaN</td>\n",
       "      <td>NaN</td>\n",
       "      <td>NaN</td>\n",
       "      <td>NaN</td>\n",
       "      <td>NaN</td>\n",
       "      <td>16.8200</td>\n",
       "      <td>NaN</td>\n",
       "      <td>NaN</td>\n",
       "      <td>NaN</td>\n",
       "      <td>NaN</td>\n",
       "      <td>NaN</td>\n",
       "    </tr>\n",
       "    <tr>\n",
       "      <th>3</th>\n",
       "      <td>2004-48</td>\n",
       "      <td>NaN</td>\n",
       "      <td>NaN</td>\n",
       "      <td>NaN</td>\n",
       "      <td>NaN</td>\n",
       "      <td>NaN</td>\n",
       "      <td>NaN</td>\n",
       "      <td>17.4700</td>\n",
       "      <td>NaN</td>\n",
       "      <td>NaN</td>\n",
       "      <td>NaN</td>\n",
       "      <td>NaN</td>\n",
       "      <td>NaN</td>\n",
       "    </tr>\n",
       "    <tr>\n",
       "      <th>4</th>\n",
       "      <td>2004-49</td>\n",
       "      <td>NaN</td>\n",
       "      <td>NaN</td>\n",
       "      <td>NaN</td>\n",
       "      <td>NaN</td>\n",
       "      <td>NaN</td>\n",
       "      <td>NaN</td>\n",
       "      <td>16.8900</td>\n",
       "      <td>NaN</td>\n",
       "      <td>NaN</td>\n",
       "      <td>NaN</td>\n",
       "      <td>NaN</td>\n",
       "      <td>NaN</td>\n",
       "    </tr>\n",
       "    <tr>\n",
       "      <th>...</th>\n",
       "      <td>...</td>\n",
       "      <td>...</td>\n",
       "      <td>...</td>\n",
       "      <td>...</td>\n",
       "      <td>...</td>\n",
       "      <td>...</td>\n",
       "      <td>...</td>\n",
       "      <td>...</td>\n",
       "      <td>...</td>\n",
       "      <td>...</td>\n",
       "      <td>...</td>\n",
       "      <td>...</td>\n",
       "      <td>...</td>\n",
       "    </tr>\n",
       "    <tr>\n",
       "      <th>861</th>\n",
       "      <td>2021-12</td>\n",
       "      <td>5.280</td>\n",
       "      <td>52.8650</td>\n",
       "      <td>71.8720</td>\n",
       "      <td>153.1220</td>\n",
       "      <td>81.8980</td>\n",
       "      <td>6.698000</td>\n",
       "      <td>76.3000</td>\n",
       "      <td>55.774</td>\n",
       "      <td>7.6970</td>\n",
       "      <td>32.3410</td>\n",
       "      <td>644.3060</td>\n",
       "      <td>60.800</td>\n",
       "    </tr>\n",
       "    <tr>\n",
       "      <th>862</th>\n",
       "      <td>2021-13</td>\n",
       "      <td>4.975</td>\n",
       "      <td>54.4175</td>\n",
       "      <td>70.8575</td>\n",
       "      <td>154.3975</td>\n",
       "      <td>85.3975</td>\n",
       "      <td>7.414375</td>\n",
       "      <td>77.1625</td>\n",
       "      <td>57.360</td>\n",
       "      <td>7.3400</td>\n",
       "      <td>31.8625</td>\n",
       "      <td>644.1475</td>\n",
       "      <td>67.290</td>\n",
       "    </tr>\n",
       "    <tr>\n",
       "      <th>863</th>\n",
       "      <td>2021-14</td>\n",
       "      <td>4.950</td>\n",
       "      <td>55.2425</td>\n",
       "      <td>68.9920</td>\n",
       "      <td>152.3660</td>\n",
       "      <td>81.8260</td>\n",
       "      <td>7.464000</td>\n",
       "      <td>76.5580</td>\n",
       "      <td>54.162</td>\n",
       "      <td>7.8660</td>\n",
       "      <td>30.7320</td>\n",
       "      <td>682.8920</td>\n",
       "      <td>67.114</td>\n",
       "    </tr>\n",
       "    <tr>\n",
       "      <th>864</th>\n",
       "      <td>2021-15</td>\n",
       "      <td>5.070</td>\n",
       "      <td>54.5720</td>\n",
       "      <td>67.8700</td>\n",
       "      <td>150.5340</td>\n",
       "      <td>78.7240</td>\n",
       "      <td>7.103000</td>\n",
       "      <td>78.1120</td>\n",
       "      <td>50.220</td>\n",
       "      <td>7.6110</td>\n",
       "      <td>27.7940</td>\n",
       "      <td>735.0320</td>\n",
       "      <td>64.724</td>\n",
       "    </tr>\n",
       "    <tr>\n",
       "      <th>865</th>\n",
       "      <td>2021-16</td>\n",
       "      <td>5.190</td>\n",
       "      <td>51.5660</td>\n",
       "      <td>77.1960</td>\n",
       "      <td>154.2140</td>\n",
       "      <td>83.7860</td>\n",
       "      <td>7.342400</td>\n",
       "      <td>75.9280</td>\n",
       "      <td>51.556</td>\n",
       "      <td>7.5995</td>\n",
       "      <td>27.3040</td>\n",
       "      <td>725.3660</td>\n",
       "      <td>67.784</td>\n",
       "    </tr>\n",
       "  </tbody>\n",
       "</table>\n",
       "<p>866 rows × 13 columns</p>\n",
       "</div>"
      ],
      "text/plain": [
       "    Year-Week  COENF    DNNGY       DQ      ENPH     FSLR     GCTAY      ORA  \\\n",
       "0     2004-45    NaN      NaN      NaN       NaN      NaN       NaN  15.8600   \n",
       "1     2004-46    NaN      NaN      NaN       NaN      NaN       NaN  15.8600   \n",
       "2     2004-47    NaN      NaN      NaN       NaN      NaN       NaN  16.8200   \n",
       "3     2004-48    NaN      NaN      NaN       NaN      NaN       NaN  17.4700   \n",
       "4     2004-49    NaN      NaN      NaN       NaN      NaN       NaN  16.8900   \n",
       "..        ...    ...      ...      ...       ...      ...       ...      ...   \n",
       "861   2021-12  5.280  52.8650  71.8720  153.1220  81.8980  6.698000  76.3000   \n",
       "862   2021-13  4.975  54.4175  70.8575  154.3975  85.3975  7.414375  77.1625   \n",
       "863   2021-14  4.950  55.2425  68.9920  152.3660  81.8260  7.464000  76.5580   \n",
       "864   2021-15  5.070  54.5720  67.8700  150.5340  78.7240  7.103000  78.1120   \n",
       "865   2021-16  5.190  51.5660  77.1960  154.2140  83.7860  7.342400  75.9280   \n",
       "\n",
       "        RUN    SCTY     SPWR      TSLA   VWDRY  \n",
       "0       NaN     NaN      NaN       NaN     NaN  \n",
       "1       NaN     NaN      NaN       NaN     NaN  \n",
       "2       NaN     NaN      NaN       NaN     NaN  \n",
       "3       NaN     NaN      NaN       NaN     NaN  \n",
       "4       NaN     NaN      NaN       NaN     NaN  \n",
       "..      ...     ...      ...       ...     ...  \n",
       "861  55.774  7.6970  32.3410  644.3060  60.800  \n",
       "862  57.360  7.3400  31.8625  644.1475  67.290  \n",
       "863  54.162  7.8660  30.7320  682.8920  67.114  \n",
       "864  50.220  7.6110  27.7940  735.0320  64.724  \n",
       "865  51.556  7.5995  27.3040  725.3660  67.784  \n",
       "\n",
       "[866 rows x 13 columns]"
      ]
     },
     "execution_count": 13,
     "metadata": {},
     "output_type": "execute_result"
    }
   ],
   "source": [
    "weekly_close_price"
   ]
  },
  {
   "cell_type": "markdown",
   "metadata": {},
   "source": [
    "## Select time period: 2016-01 to 2021-13 (Year-Week) "
   ]
  },
  {
   "cell_type": "markdown",
   "metadata": {},
   "source": [
    "### Close prices"
   ]
  },
  {
   "cell_type": "code",
   "execution_count": 14,
   "metadata": {},
   "outputs": [
    {
     "name": "stderr",
     "output_type": "stream",
     "text": [
      "/opt/anaconda3/lib/python3.8/site-packages/pandas/core/frame.py:4163: SettingWithCopyWarning: \n",
      "A value is trying to be set on a copy of a slice from a DataFrame\n",
      "\n",
      "See the caveats in the documentation: https://pandas.pydata.org/pandas-docs/stable/user_guide/indexing.html#returning-a-view-versus-a-copy\n",
      "  return super().drop(\n"
     ]
    }
   ],
   "source": [
    "weekly_close_price.reset_index\n",
    "weekly_close_price.set_index('Year-Week',inplace=True)\n",
    "weekly_close_price = weekly_close_price['2016-01':'2021-13']\n",
    "\n",
    "# Drop 'DNNGY' 'SCTY' to test from 2016 (have NaN values)\n",
    "weekly_close_price.drop(columns=['DNNGY','SCTY'], inplace=True)"
   ]
  },
  {
   "cell_type": "markdown",
   "metadata": {},
   "source": [
    "### Weekly Tweet Count"
   ]
  },
  {
   "cell_type": "code",
   "execution_count": 15,
   "metadata": {},
   "outputs": [],
   "source": [
    "weekly_tweet_count.set_index('Year-Week', inplace=True)\n",
    "weekly_tweet_count = weekly_tweet_count['2016-01':'2021-13']"
   ]
  },
  {
   "cell_type": "markdown",
   "metadata": {},
   "source": [
    "# Merge stock closing prices and Twitter Popularity "
   ]
  },
  {
   "cell_type": "code",
   "execution_count": 16,
   "metadata": {},
   "outputs": [
    {
     "data": {
      "text/plain": [
       "Index(['Enphase Energy', 'First Solar', 'Siemens', 'Plug Power', 'Sunrun',\n",
       "       'Sunpower', 'Meridian'],\n",
       "      dtype='object')"
      ]
     },
     "execution_count": 16,
     "metadata": {},
     "output_type": "execute_result"
    }
   ],
   "source": [
    "weekly_tweet_count.columns"
   ]
  },
  {
   "cell_type": "code",
   "execution_count": 17,
   "metadata": {},
   "outputs": [
    {
     "data": {
      "text/plain": [
       "Index(['COENF', 'DQ', 'ENPH', 'FSLR', 'GCTAY', 'ORA', 'RUN', 'SPWR', 'TSLA',\n",
       "       'VWDRY'],\n",
       "      dtype='object')"
      ]
     },
     "execution_count": 17,
     "metadata": {},
     "output_type": "execute_result"
    }
   ],
   "source": [
    "weekly_close_price.columns"
   ]
  },
  {
   "cell_type": "markdown",
   "metadata": {},
   "source": [
    "## Merge datasets of Enphase Energy"
   ]
  },
  {
   "cell_type": "code",
   "execution_count": 18,
   "metadata": {},
   "outputs": [],
   "source": [
    "enphase = pd.DataFrame(weekly_tweet_count['Enphase Energy'])\n",
    "enphase = pd.merge(enphase, weekly_close_price['ENPH'], how='left', left_on=['Year-Week'], right_on=['Year-Week'])\n",
    "enphase.rename(columns={\"Enphase Energy\":\"Weekly Tweets\",\"ENPH\":\"close\"}, inplace=True)\n",
    "enphase.dropna(inplace=True)"
   ]
  },
  {
   "cell_type": "markdown",
   "metadata": {},
   "source": [
    "## Merge datasets of First Solar"
   ]
  },
  {
   "cell_type": "code",
   "execution_count": 19,
   "metadata": {},
   "outputs": [],
   "source": [
    "first_solar = pd.DataFrame(weekly_tweet_count['First Solar'])\n",
    "first_solar = pd.merge(first_solar, weekly_close_price['FSLR'], how='left', left_on=['Year-Week'], right_on=['Year-Week'])\n",
    "first_solar.rename(columns={\"First Solar\":\"Weekly Tweets\",\"FSLR\":\"close\"}, inplace=True)\n",
    "first_solar.dropna(inplace=True)"
   ]
  },
  {
   "cell_type": "code",
   "execution_count": 20,
   "metadata": {},
   "outputs": [],
   "source": [
    "first_solar.to_csv('./first_solar_popularity_time_series.csv')"
   ]
  },
  {
   "cell_type": "markdown",
   "metadata": {},
   "source": [
    "## Merge datasets of Siemens"
   ]
  },
  {
   "cell_type": "code",
   "execution_count": 27,
   "metadata": {},
   "outputs": [],
   "source": [
    "siemens = pd.DataFrame(weekly_tweet_count['Siemens'])\n",
    "siemens = pd.merge(siemens, weekly_close_price['GCTAY'], how='left', left_on=['Year-Week'], right_on=['Year-Week'])\n",
    "siemens.rename(columns={\"Siemens\":\"Weekly Tweets\",\"GCTAY\":\"close\"}, inplace=True)\n",
    "siemens.dropna(inplace=True)"
   ]
  },
  {
   "cell_type": "markdown",
   "metadata": {},
   "source": [
    "## Merge datasets of Sunrun"
   ]
  },
  {
   "cell_type": "code",
   "execution_count": 28,
   "metadata": {},
   "outputs": [],
   "source": [
    "sunrun = pd.DataFrame(weekly_tweet_count['Sunrun'])\n",
    "sunrun = pd.merge(sunrun, weekly_close_price['RUN'], how='left', left_on=['Year-Week'], right_on=['Year-Week'])\n",
    "sunrun.rename(columns={\"Sunrun\":\"Weekly Tweets\",\"RUN\":\"close\"}, inplace=True)\n",
    "sunrun.dropna(inplace=True)"
   ]
  },
  {
   "cell_type": "markdown",
   "metadata": {},
   "source": [
    "# Lag Analysis \n",
    "----"
   ]
  },
  {
   "cell_type": "markdown",
   "metadata": {},
   "source": [
    "## Lag Analysis Enphase"
   ]
  },
  {
   "cell_type": "code",
   "execution_count": 40,
   "metadata": {},
   "outputs": [
    {
     "data": {
      "image/png": "[encoded data removed]",
      "text/plain": [
       "<Figure size 432x288 with 2 Axes>"
      ]
     },
     "metadata": {
      "needs_background": "light"
     },
     "output_type": "display_data"
    }
   ],
   "source": [
    "fig, [ax1, ax2] = plt.subplots(2, 1, sharex=True)\n",
    "ax1.xcorr(enphase['Weekly Tweets'].to_numpy().flatten(), enphase['close'].to_numpy().flatten(), usevlines=True, maxlags=50, normed=True, lw=2)\n",
    "ax1.grid(True)\n",
    "\n",
    "# ax2.acorr(enphase['Weekly Tweets'].to_numpy().flatten(), usevlines=True, normed=True, maxlags=50, lw=2)\n",
    "ax2.grid(True)\n",
    "\n",
    "plt.show()"
   ]
  },
  {
   "cell_type": "code",
   "execution_count": 41,
   "metadata": {},
   "outputs": [
    {
     "data": {
      "image/png": "[encoded data removed]",
      "text/plain": [
       "<Figure size 1296x360 with 1 Axes>"
      ]
     },
     "metadata": {
      "needs_background": "light"
     },
     "output_type": "display_data"
    }
   ],
   "source": [
    "fig, ax1 = plt.subplots(figsize=(18,5))\n",
    "ax1.xcorr(enphase['Weekly Tweets'].to_numpy().flatten(), enphase['close'].to_numpy().flatten(), usevlines=True, maxlags=50, normed=True, lw=2)\n",
    "ax1.grid(True)\n",
    "plt.show()"
   ]
  },
  {
   "cell_type": "code",
   "execution_count": 42,
   "metadata": {},
   "outputs": [],
   "source": [
    "def plot_cross_correlation(df):\n",
    "    fig, ax1 = plt.subplots(figsize=(18,5))\n",
    "    ax1.xcorr(df['Weekly Tweets'].to_numpy().flatten(), df['close'].to_numpy().flatten(), usevlines=True, maxlags=50, normed=True, lw=2)\n",
    "    ax1.grid(True)\n",
    "    plt.show()"
   ]
  },
  {
   "cell_type": "code",
   "execution_count": 39,
   "metadata": {},
   "outputs": [
    {
     "data": {
      "image/png": "[encoded data removed]",
      "text/plain": [
       "<Figure size 1296x360 with 1 Axes>"
      ]
     },
     "metadata": {
      "needs_background": "light"
     },
     "output_type": "display_data"
    }
   ],
   "source": [
    "plot_cross_correlation(first_solar)"
   ]
  },
  {
   "cell_type": "code",
   "execution_count": 43,
   "metadata": {},
   "outputs": [
    {
     "data": {
      "image/png": "[encoded data removed]",
      "text/plain": [
       "<Figure size 1296x360 with 1 Axes>"
      ]
     },
     "metadata": {
      "needs_background": "light"
     },
     "output_type": "display_data"
    }
   ],
   "source": [
    "plot_cross_correlation(siemens)"
   ]
  },
  {
   "cell_type": "code",
   "execution_count": 44,
   "metadata": {},
   "outputs": [
    {
     "data": {
      "image/png": "[encoded data removed]",
      "text/plain": [
       "<Figure size 1296x360 with 1 Axes>"
      ]
     },
     "metadata": {
      "needs_background": "light"
     },
     "output_type": "display_data"
    }
   ],
   "source": [
    "fig, ax1 = plt.subplots(figsize=(18,5))\n",
    "testing = ax1.xcorr(enphase['Weekly Tweets'].to_numpy().flatten(), enphase['close'].to_numpy().flatten(), usevlines=True, maxlags=50, normed=True, lw=2)\n"
   ]
  },
  {
   "cell_type": "code",
   "execution_count": 51,
   "metadata": {},
   "outputs": [
    {
     "data": {
      "text/plain": [
       "0.8091212518657935"
      ]
     },
     "execution_count": 51,
     "metadata": {},
     "output_type": "execute_result"
    }
   ],
   "source": [
    "testing[1].max()"
   ]
  },
  {
   "cell_type": "code",
   "execution_count": null,
   "metadata": {},
   "outputs": [],
   "source": []
  }
 ],
 "metadata": {
  "kernelspec": {
   "display_name": "Python 3",
   "language": "python",
   "name": "python3"
  },
  "language_info": {
   "codemirror_mode": {
    "name": "ipython",
    "version": 3
   },
   "file_extension": ".py",
   "mimetype": "text/x-python",
   "name": "python",
   "nbconvert_exporter": "python",
   "pygments_lexer": "ipython3",
   "version": "3.8.5"
  }
 },
 "nbformat": 4,
 "nbformat_minor": 4
}

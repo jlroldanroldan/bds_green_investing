{
 "cells": [
  {
   "cell_type": "code",
   "execution_count": 1,
   "metadata": {},
   "outputs": [],
   "source": [
    "# Import libraries\n",
    "import pandas as pd\n",
    "import numpy as np\n",
    "import seaborn as sns\n",
    "import matplotlib.pyplot as plt\n",
    "%matplotlib inline\n",
    "pd.set_option('display.max_colwidth', 100)\n"
   ]
  },
  {
   "cell_type": "markdown",
   "metadata": {},
   "source": [
    "# Import data"
   ]
  },
  {
   "cell_type": "code",
   "execution_count": 2,
   "metadata": {},
   "outputs": [],
   "source": [
    "weekly_close_price = pd.read_csv('./weekly_mean_closing_price_by_ticker_all.csv')\n",
    "weekly_tweet_count = pd.read_csv('./weekly_tweet_count_all.csv')"
   ]
  },
  {
   "cell_type": "markdown",
   "metadata": {},
   "source": [
    "## Select time period: 2016-01 to 2021-13 (Year-Week) "
   ]
  },
  {
   "cell_type": "markdown",
   "metadata": {},
   "source": [
    "### Close prices"
   ]
  },
  {
   "cell_type": "code",
   "execution_count": 3,
   "metadata": {},
   "outputs": [],
   "source": [
    "weekly_close_price.reset_index\n",
    "weekly_close_price.set_index('Year-Week',inplace=True)\n",
    "weekly_close_price = weekly_close_price['2016-01':'2021-13']\n",
    "\n",
    "# Drop 'DNNGY' 'SCTY' to test from 2016 (have NaN values)\n",
    "weekly_close_price.drop(columns=['DNNGY','SCTY'], inplace=True)"
   ]
  },
  {
   "cell_type": "markdown",
   "metadata": {},
   "source": [
    "### Weekly Tweet Count"
   ]
  },
  {
   "cell_type": "code",
   "execution_count": 4,
   "metadata": {},
   "outputs": [],
   "source": [
    "weekly_tweet_count.set_index('Year-Week', inplace=True)\n",
    "weekly_tweet_count = weekly_tweet_count['2016-01':'2021-13']"
   ]
  },
  {
   "cell_type": "markdown",
   "metadata": {},
   "source": [
    "# Merge stock closing prices and Twitter Popularity "
   ]
  },
  {
   "cell_type": "code",
   "execution_count": 5,
   "metadata": {},
   "outputs": [
    {
     "data": {
      "text/plain": [
       "Index(['Enphase Energy', 'First Solar', 'Siemens', 'Plug Power', 'Sunrun',\n",
       "       'Sunpower', 'Meridian'],\n",
       "      dtype='object')"
      ]
     },
     "execution_count": 5,
     "metadata": {},
     "output_type": "execute_result"
    }
   ],
   "source": [
    "weekly_tweet_count.columns"
   ]
  },
  {
   "cell_type": "code",
   "execution_count": 6,
   "metadata": {},
   "outputs": [
    {
     "data": {
      "text/plain": [
       "Index(['COENF', 'DQ', 'ENPH', 'FSLR', 'GCTAY', 'ORA', 'RUN', 'SPWR', 'TSLA',\n",
       "       'VWDRY'],\n",
       "      dtype='object')"
      ]
     },
     "execution_count": 6,
     "metadata": {},
     "output_type": "execute_result"
    }
   ],
   "source": [
    "weekly_close_price.columns"
   ]
  },
  {
   "cell_type": "markdown",
   "metadata": {},
   "source": [
    "## Merge datasets of Enphase Energy"
   ]
  },
  {
   "cell_type": "code",
   "execution_count": 9,
   "metadata": {},
   "outputs": [],
   "source": [
    "enphase = pd.DataFrame(weekly_tweet_count['Enphase Energy'])\n",
    "enphase = pd.merge(enphase, weekly_close_price['ENPH'], how='left', left_on=['Year-Week'], right_on=['Year-Week'])\n",
    "enphase.rename(columns={\"Enphase Energy\":\"Weekly Tweets\",\"ENPH\":\"close\"}, inplace=True)\n",
    "enphase.dropna(inplace=True)"
   ]
  },
  {
   "cell_type": "markdown",
   "metadata": {},
   "source": [
    "## Merge datasets of First Solar"
   ]
  },
  {
   "cell_type": "code",
   "execution_count": 14,
   "metadata": {},
   "outputs": [],
   "source": [
    "first_solar = pd.DataFrame(weekly_tweet_count['First Solar'])\n",
    "first_solar = pd.merge(first_solar, weekly_close_price['FSLR'], how='left', left_on=['Year-Week'], right_on=['Year-Week'])\n",
    "first_solar.rename(columns={\"First Solar\":\"Weekly Tweets\",\"FSLR\":\"close\"}, inplace=True)\n",
    "first_solar.dropna(inplace=True)"
   ]
  },
  {
   "cell_type": "markdown",
   "metadata": {},
   "source": [
    "## Merge datasets of Siemens"
   ]
  },
  {
   "cell_type": "code",
   "execution_count": 15,
   "metadata": {},
   "outputs": [],
   "source": [
    "siemens = pd.DataFrame(weekly_tweet_count['Siemens'])\n",
    "siemens = pd.merge(siemens, weekly_close_price['GCTAY'], how='left', left_on=['Year-Week'], right_on=['Year-Week'])\n",
    "siemens.rename(columns={\"Siemens\":\"Weekly Tweets\",\"GCTAY\":\"close\"}, inplace=True)\n",
    "siemens.dropna(inplace=True)"
   ]
  },
  {
   "cell_type": "code",
   "execution_count": 17,
   "metadata": {},
   "outputs": [
    {
     "data": {
      "text/html": [
       "<div>\n",
       "<style scoped>\n",
       "    .dataframe tbody tr th:only-of-type {\n",
       "        vertical-align: middle;\n",
       "    }\n",
       "\n",
       "    .dataframe tbody tr th {\n",
       "        vertical-align: top;\n",
       "    }\n",
       "\n",
       "    .dataframe thead th {\n",
       "        text-align: right;\n",
       "    }\n",
       "</style>\n",
       "<table border=\"1\" class=\"dataframe\">\n",
       "  <thead>\n",
       "    <tr style=\"text-align: right;\">\n",
       "      <th></th>\n",
       "      <th>Weekly Tweets</th>\n",
       "      <th>close</th>\n",
       "    </tr>\n",
       "    <tr>\n",
       "      <th>Year-Week</th>\n",
       "      <th></th>\n",
       "      <th></th>\n",
       "    </tr>\n",
       "  </thead>\n",
       "  <tbody>\n",
       "    <tr>\n",
       "      <th>2016-01</th>\n",
       "      <td>843.0</td>\n",
       "      <td>68.0220</td>\n",
       "    </tr>\n",
       "    <tr>\n",
       "      <th>2016-02</th>\n",
       "      <td>463.0</td>\n",
       "      <td>63.0220</td>\n",
       "    </tr>\n",
       "    <tr>\n",
       "      <th>2016-03</th>\n",
       "      <td>538.0</td>\n",
       "      <td>63.1075</td>\n",
       "    </tr>\n",
       "    <tr>\n",
       "      <th>2016-04</th>\n",
       "      <td>340.0</td>\n",
       "      <td>66.3440</td>\n",
       "    </tr>\n",
       "    <tr>\n",
       "      <th>2016-05</th>\n",
       "      <td>258.0</td>\n",
       "      <td>66.8040</td>\n",
       "    </tr>\n",
       "    <tr>\n",
       "      <th>...</th>\n",
       "      <td>...</td>\n",
       "      <td>...</td>\n",
       "    </tr>\n",
       "    <tr>\n",
       "      <th>2021-09</th>\n",
       "      <td>236.0</td>\n",
       "      <td>79.2040</td>\n",
       "    </tr>\n",
       "    <tr>\n",
       "      <th>2021-10</th>\n",
       "      <td>372.0</td>\n",
       "      <td>77.3620</td>\n",
       "    </tr>\n",
       "    <tr>\n",
       "      <th>2021-11</th>\n",
       "      <td>177.0</td>\n",
       "      <td>80.5420</td>\n",
       "    </tr>\n",
       "    <tr>\n",
       "      <th>2021-12</th>\n",
       "      <td>238.0</td>\n",
       "      <td>81.8980</td>\n",
       "    </tr>\n",
       "    <tr>\n",
       "      <th>2021-13</th>\n",
       "      <td>202.0</td>\n",
       "      <td>85.3975</td>\n",
       "    </tr>\n",
       "  </tbody>\n",
       "</table>\n",
       "<p>268 rows × 2 columns</p>\n",
       "</div>"
      ],
      "text/plain": [
       "           Weekly Tweets    close\n",
       "Year-Week                        \n",
       "2016-01            843.0  68.0220\n",
       "2016-02            463.0  63.0220\n",
       "2016-03            538.0  63.1075\n",
       "2016-04            340.0  66.3440\n",
       "2016-05            258.0  66.8040\n",
       "...                  ...      ...\n",
       "2021-09            236.0  79.2040\n",
       "2021-10            372.0  77.3620\n",
       "2021-11            177.0  80.5420\n",
       "2021-12            238.0  81.8980\n",
       "2021-13            202.0  85.3975\n",
       "\n",
       "[268 rows x 2 columns]"
      ]
     },
     "execution_count": 17,
     "metadata": {},
     "output_type": "execute_result"
    }
   ],
   "source": []
  },
  {
   "cell_type": "markdown",
   "metadata": {},
   "source": [
    "## Lag Analysis Enphase"
   ]
  },
  {
   "cell_type": "code",
   "execution_count": null,
   "metadata": {},
   "outputs": [],
   "source": [
    "fig, [ax1, ax2] = plt.subplots(2, 1, sharex=True)\n",
    "ax1.xcorr(enphase['Weekly Tweets'].to_numpy().flatten(), enphase['close'].to_numpy().flatten(), usevlines=True, maxlags=50, normed=True, lw=2)\n",
    "ax1.grid(True)\n",
    "\n",
    "# ax2.acorr(enphase['Weekly Tweets'].to_numpy().flatten(), usevlines=True, normed=True, maxlags=50, lw=2)\n",
    "ax2.grid(True)\n",
    "\n",
    "plt.show()"
   ]
  },
  {
   "cell_type": "code",
   "execution_count": null,
   "metadata": {},
   "outputs": [],
   "source": []
  },
  {
   "cell_type": "code",
   "execution_count": 8,
   "metadata": {},
   "outputs": [
    {
     "data": {
      "text/html": [
       "<div>\n",
       "<style scoped>\n",
       "    .dataframe tbody tr th:only-of-type {\n",
       "        vertical-align: middle;\n",
       "    }\n",
       "\n",
       "    .dataframe tbody tr th {\n",
       "        vertical-align: top;\n",
       "    }\n",
       "\n",
       "    .dataframe thead th {\n",
       "        text-align: right;\n",
       "    }\n",
       "</style>\n",
       "<table border=\"1\" class=\"dataframe\">\n",
       "  <thead>\n",
       "    <tr style=\"text-align: right;\">\n",
       "      <th></th>\n",
       "      <th>Weekly Tweets</th>\n",
       "      <th>close</th>\n",
       "    </tr>\n",
       "    <tr>\n",
       "      <th>Year-Week</th>\n",
       "      <th></th>\n",
       "      <th></th>\n",
       "    </tr>\n",
       "  </thead>\n",
       "  <tbody>\n",
       "    <tr>\n",
       "      <th>2016-01</th>\n",
       "      <td>327</td>\n",
       "      <td>3.1980</td>\n",
       "    </tr>\n",
       "    <tr>\n",
       "      <th>2016-02</th>\n",
       "      <td>205</td>\n",
       "      <td>2.5100</td>\n",
       "    </tr>\n",
       "    <tr>\n",
       "      <th>2016-03</th>\n",
       "      <td>252</td>\n",
       "      <td>2.2625</td>\n",
       "    </tr>\n",
       "    <tr>\n",
       "      <th>2016-04</th>\n",
       "      <td>206</td>\n",
       "      <td>2.3300</td>\n",
       "    </tr>\n",
       "    <tr>\n",
       "      <th>2016-05</th>\n",
       "      <td>218</td>\n",
       "      <td>2.2700</td>\n",
       "    </tr>\n",
       "    <tr>\n",
       "      <th>...</th>\n",
       "      <td>...</td>\n",
       "      <td>...</td>\n",
       "    </tr>\n",
       "    <tr>\n",
       "      <th>2021-09</th>\n",
       "      <td>1002</td>\n",
       "      <td>162.5380</td>\n",
       "    </tr>\n",
       "    <tr>\n",
       "      <th>2021-10</th>\n",
       "      <td>1189</td>\n",
       "      <td>152.6480</td>\n",
       "    </tr>\n",
       "    <tr>\n",
       "      <th>2021-11</th>\n",
       "      <td>634</td>\n",
       "      <td>161.5440</td>\n",
       "    </tr>\n",
       "    <tr>\n",
       "      <th>2021-12</th>\n",
       "      <td>750</td>\n",
       "      <td>153.1220</td>\n",
       "    </tr>\n",
       "    <tr>\n",
       "      <th>2021-13</th>\n",
       "      <td>546</td>\n",
       "      <td>154.3975</td>\n",
       "    </tr>\n",
       "  </tbody>\n",
       "</table>\n",
       "<p>272 rows × 2 columns</p>\n",
       "</div>"
      ],
      "text/plain": [
       "           Weekly Tweets     close\n",
       "Year-Week                         \n",
       "2016-01              327    3.1980\n",
       "2016-02              205    2.5100\n",
       "2016-03              252    2.2625\n",
       "2016-04              206    2.3300\n",
       "2016-05              218    2.2700\n",
       "...                  ...       ...\n",
       "2021-09             1002  162.5380\n",
       "2021-10             1189  152.6480\n",
       "2021-11              634  161.5440\n",
       "2021-12              750  153.1220\n",
       "2021-13              546  154.3975\n",
       "\n",
       "[272 rows x 2 columns]"
      ]
     },
     "execution_count": 8,
     "metadata": {},
     "output_type": "execute_result"
    }
   ],
   "source": [
    "enphase"
   ]
  },
  {
   "cell_type": "code",
   "execution_count": null,
   "metadata": {},
   "outputs": [],
   "source": []
  }
 ],
 "metadata": {
  "kernelspec": {
   "display_name": "Python 3",
   "language": "python",
   "name": "python3"
  },
  "language_info": {
   "codemirror_mode": {
    "name": "ipython",
    "version": 3
   },
   "file_extension": ".py",
   "mimetype": "text/x-python",
   "name": "python",
   "nbconvert_exporter": "python",
   "pygments_lexer": "ipython3",
   "version": "3.8.5"
  }
 },
 "nbformat": 4,
 "nbformat_minor": 4
}

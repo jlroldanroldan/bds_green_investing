{
 "cells": [
  {
   "cell_type": "code",
   "execution_count": 3,
   "metadata": {},
   "outputs": [],
   "source": [
    "# Import libraries\n",
    "import pandas as pd\n",
    "import numpy as np\n",
    "import seaborn as sns\n",
    "import matplotlib.pyplot as plt\n",
    "from sklearn.feature_extraction.text import CountVectorizer\n",
    "# import nltk \n",
    "# import string\n",
    "# import re\n",
    "# import dateutil.parser\n",
    "%matplotlib inline\n",
    "pd.set_option('display.max_colwidth', 100)\n"
   ]
  },
  {
   "cell_type": "markdown",
   "metadata": {},
   "source": [
    "# Import Twitter Data"
   ]
  },
  {
   "cell_type": "code",
   "execution_count": 4,
   "metadata": {},
   "outputs": [],
   "source": [
    "tweets_enphase_energy = pd.read_csv('../../preprocessing_v2/twitter_data_cleaned_04_24_21/1_enphase_energy_tweets_cleaned.csv')\n",
    "tweets_first_solar = pd.read_csv('../../preprocessing_v2/twitter_data_cleaned_04_24_21/2_first_solar_tweets_cleaned.csv')\n",
    "tweets_siemens = pd.read_csv('../../preprocessing_v2/twitter_data_cleaned_05_03_21/3_siemens_gamesa_tweets_cleaned_05_03.csv')\n",
    "tweets_plug_power = pd.read_csv('../../preprocessing_v2/twitter_data_cleaned_04_24_21/4_plug_power_tweets_cleaned.csv')\n",
    "tweets_tesla = pd.read_csv('../../preprocessing_v2/twitter_data_cleaned_04_24_21/5_tesla_tweets_cleaned.csv')\n",
    "tweets_sunrun = pd.read_csv('../../preprocessing_v2/twitter_data_cleaned_04_24_21/6_sunrun_tweets_cleaned.csv')\n",
    "tweets_sunpower = pd.read_csv('../../preprocessing_v2/twitter_data_cleaned_04_24_21/7_sunpower_tweets_cleaned.csv')\n",
    "tweets_meridian_energy = pd.read_csv('../../preprocessing_v2/twitter_data_cleaned_04_24_21/8_meridian_energy_tweets_cleaned.csv')"
   ]
  },
  {
   "cell_type": "markdown",
   "metadata": {},
   "source": [
    "# Generate weekly twitter popularity times series"
   ]
  },
  {
   "cell_type": "code",
   "execution_count": 29,
   "metadata": {},
   "outputs": [],
   "source": [
    "def delete_header_rows(df):\n",
    "    index_names = df[df['CreatedAt'] == 'CreatedAt' ].index\n",
    "    df.drop(index_names, inplace = True)\n",
    "    return df\n",
    "\n",
    "def select_columns(df, columns):\n",
    "    df = df[columns]\n",
    "    return df\n",
    "\n",
    "def create_year_week(df):\n",
    "    df['Date'] = pd.to_datetime(df['CreatedAt'], errors='coerce')\n",
    "    df['Year-Week'] = df['Date'].dt.strftime('%Y-%U')\n",
    "    return df\n",
    "\n",
    "def add_company_name(df, company):\n",
    "    df['Company'] = company\n",
    "    return df\n",
    "\n",
    "def generate_weekly_counts(tweets_all, company):\n",
    "    # delete headers on csv\n",
    "    tweets_all = delete_header_rows(tweets_all)\n",
    "    \n",
    "    # drop unwanted columns \n",
    "    columns_to_keep = ['CreatedAt','TweetText', 'Tweet_stemmed']\n",
    "    tweets = select_columns(tweets_all, columns_to_keep)\n",
    "    \n",
    "    # create year-week \n",
    "    tweets = create_year_week(tweets)\n",
    "    \n",
    "    # count popularity per week \n",
    "    tweets_count = tweets.groupby('Year-Week').count()\n",
    "    tweets_count.drop(['TweetText', 'Tweet_stemmed', 'Date'], axis=1, inplace=True)\n",
    "    \n",
    "    # create count column\n",
    "    tweets_count.rename(columns={\"CreatedAt\":company}, inplace=True)\n",
    "    tweets_count.sort_index()\n",
    "    \n",
    "    \n",
    "    # add name of company \n",
    "#     tweets_count = add_company_name(tweets_count, company)\n",
    "    \n",
    "    return tweets_count"
   ]
  },
  {
   "cell_type": "code",
   "execution_count": 30,
   "metadata": {},
   "outputs": [],
   "source": [
    "# tweets_plug_power.head(1)"
   ]
  },
  {
   "cell_type": "code",
   "execution_count": 31,
   "metadata": {},
   "outputs": [
    {
     "name": "stderr",
     "output_type": "stream",
     "text": [
      "<ipython-input-29-a9f7cd39d920>:11: SettingWithCopyWarning: \n",
      "A value is trying to be set on a copy of a slice from a DataFrame.\n",
      "Try using .loc[row_indexer,col_indexer] = value instead\n",
      "\n",
      "See the caveats in the documentation: https://pandas.pydata.org/pandas-docs/stable/user_guide/indexing.html#returning-a-view-versus-a-copy\n",
      "  df['Date'] = pd.to_datetime(df['CreatedAt'], errors='coerce')\n",
      "<ipython-input-29-a9f7cd39d920>:12: SettingWithCopyWarning: \n",
      "A value is trying to be set on a copy of a slice from a DataFrame.\n",
      "Try using .loc[row_indexer,col_indexer] = value instead\n",
      "\n",
      "See the caveats in the documentation: https://pandas.pydata.org/pandas-docs/stable/user_guide/indexing.html#returning-a-view-versus-a-copy\n",
      "  df['Year-Week'] = df['Date'].dt.strftime('%Y-%U')\n"
     ]
    }
   ],
   "source": [
    "weekly_tweet_count_plug_power = generate_weekly_counts(tweets_plug_power, 'Plug Power');"
   ]
  },
  {
   "cell_type": "code",
   "execution_count": 32,
   "metadata": {},
   "outputs": [
    {
     "name": "stderr",
     "output_type": "stream",
     "text": [
      "<ipython-input-29-a9f7cd39d920>:11: SettingWithCopyWarning: \n",
      "A value is trying to be set on a copy of a slice from a DataFrame.\n",
      "Try using .loc[row_indexer,col_indexer] = value instead\n",
      "\n",
      "See the caveats in the documentation: https://pandas.pydata.org/pandas-docs/stable/user_guide/indexing.html#returning-a-view-versus-a-copy\n",
      "  df['Date'] = pd.to_datetime(df['CreatedAt'], errors='coerce')\n",
      "<ipython-input-29-a9f7cd39d920>:12: SettingWithCopyWarning: \n",
      "A value is trying to be set on a copy of a slice from a DataFrame.\n",
      "Try using .loc[row_indexer,col_indexer] = value instead\n",
      "\n",
      "See the caveats in the documentation: https://pandas.pydata.org/pandas-docs/stable/user_guide/indexing.html#returning-a-view-versus-a-copy\n",
      "  df['Year-Week'] = df['Date'].dt.strftime('%Y-%U')\n"
     ]
    }
   ],
   "source": [
    "weekly_tweet_count_enphase_energy = generate_weekly_counts(tweets_enphase_energy, 'ENPH');"
   ]
  },
  {
   "cell_type": "code",
   "execution_count": 33,
   "metadata": {},
   "outputs": [
    {
     "data": {
      "text/html": [
       "<div>\n",
       "<style scoped>\n",
       "    .dataframe tbody tr th:only-of-type {\n",
       "        vertical-align: middle;\n",
       "    }\n",
       "\n",
       "    .dataframe tbody tr th {\n",
       "        vertical-align: top;\n",
       "    }\n",
       "\n",
       "    .dataframe thead th {\n",
       "        text-align: right;\n",
       "    }\n",
       "</style>\n",
       "<table border=\"1\" class=\"dataframe\">\n",
       "  <thead>\n",
       "    <tr style=\"text-align: right;\">\n",
       "      <th></th>\n",
       "      <th>ENPH</th>\n",
       "    </tr>\n",
       "    <tr>\n",
       "      <th>Year-Week</th>\n",
       "      <th></th>\n",
       "    </tr>\n",
       "  </thead>\n",
       "  <tbody>\n",
       "    <tr>\n",
       "      <th>2011-01</th>\n",
       "      <td>27</td>\n",
       "    </tr>\n",
       "    <tr>\n",
       "      <th>2011-02</th>\n",
       "      <td>21</td>\n",
       "    </tr>\n",
       "    <tr>\n",
       "      <th>2011-03</th>\n",
       "      <td>47</td>\n",
       "    </tr>\n",
       "    <tr>\n",
       "      <th>2011-04</th>\n",
       "      <td>21</td>\n",
       "    </tr>\n",
       "    <tr>\n",
       "      <th>2011-05</th>\n",
       "      <td>41</td>\n",
       "    </tr>\n",
       "    <tr>\n",
       "      <th>...</th>\n",
       "      <td>...</td>\n",
       "    </tr>\n",
       "    <tr>\n",
       "      <th>2021-09</th>\n",
       "      <td>1002</td>\n",
       "    </tr>\n",
       "    <tr>\n",
       "      <th>2021-10</th>\n",
       "      <td>1189</td>\n",
       "    </tr>\n",
       "    <tr>\n",
       "      <th>2021-11</th>\n",
       "      <td>634</td>\n",
       "    </tr>\n",
       "    <tr>\n",
       "      <th>2021-12</th>\n",
       "      <td>750</td>\n",
       "    </tr>\n",
       "    <tr>\n",
       "      <th>2021-13</th>\n",
       "      <td>546</td>\n",
       "    </tr>\n",
       "  </tbody>\n",
       "</table>\n",
       "<p>539 rows × 1 columns</p>\n",
       "</div>"
      ],
      "text/plain": [
       "           ENPH\n",
       "Year-Week      \n",
       "2011-01      27\n",
       "2011-02      21\n",
       "2011-03      47\n",
       "2011-04      21\n",
       "2011-05      41\n",
       "...         ...\n",
       "2021-09    1002\n",
       "2021-10    1189\n",
       "2021-11     634\n",
       "2021-12     750\n",
       "2021-13     546\n",
       "\n",
       "[539 rows x 1 columns]"
      ]
     },
     "execution_count": 33,
     "metadata": {},
     "output_type": "execute_result"
    }
   ],
   "source": [
    "weekly_tweet_count_enphase_energy"
   ]
  },
  {
   "cell_type": "code",
   "execution_count": 34,
   "metadata": {},
   "outputs": [
    {
     "data": {
      "text/html": [
       "<div>\n",
       "<style scoped>\n",
       "    .dataframe tbody tr th:only-of-type {\n",
       "        vertical-align: middle;\n",
       "    }\n",
       "\n",
       "    .dataframe tbody tr th {\n",
       "        vertical-align: top;\n",
       "    }\n",
       "\n",
       "    .dataframe thead th {\n",
       "        text-align: right;\n",
       "    }\n",
       "</style>\n",
       "<table border=\"1\" class=\"dataframe\">\n",
       "  <thead>\n",
       "    <tr style=\"text-align: right;\">\n",
       "      <th></th>\n",
       "      <th>ENPH</th>\n",
       "    </tr>\n",
       "    <tr>\n",
       "      <th>Year-Week</th>\n",
       "      <th></th>\n",
       "    </tr>\n",
       "  </thead>\n",
       "  <tbody>\n",
       "    <tr>\n",
       "      <th>2011-01</th>\n",
       "      <td>27</td>\n",
       "    </tr>\n",
       "    <tr>\n",
       "      <th>2011-02</th>\n",
       "      <td>21</td>\n",
       "    </tr>\n",
       "    <tr>\n",
       "      <th>2011-03</th>\n",
       "      <td>47</td>\n",
       "    </tr>\n",
       "    <tr>\n",
       "      <th>2011-04</th>\n",
       "      <td>21</td>\n",
       "    </tr>\n",
       "    <tr>\n",
       "      <th>2011-05</th>\n",
       "      <td>41</td>\n",
       "    </tr>\n",
       "    <tr>\n",
       "      <th>...</th>\n",
       "      <td>...</td>\n",
       "    </tr>\n",
       "    <tr>\n",
       "      <th>2021-09</th>\n",
       "      <td>1002</td>\n",
       "    </tr>\n",
       "    <tr>\n",
       "      <th>2021-10</th>\n",
       "      <td>1189</td>\n",
       "    </tr>\n",
       "    <tr>\n",
       "      <th>2021-11</th>\n",
       "      <td>634</td>\n",
       "    </tr>\n",
       "    <tr>\n",
       "      <th>2021-12</th>\n",
       "      <td>750</td>\n",
       "    </tr>\n",
       "    <tr>\n",
       "      <th>2021-13</th>\n",
       "      <td>546</td>\n",
       "    </tr>\n",
       "  </tbody>\n",
       "</table>\n",
       "<p>539 rows × 1 columns</p>\n",
       "</div>"
      ],
      "text/plain": [
       "           ENPH\n",
       "Year-Week      \n",
       "2011-01      27\n",
       "2011-02      21\n",
       "2011-03      47\n",
       "2011-04      21\n",
       "2011-05      41\n",
       "...         ...\n",
       "2021-09    1002\n",
       "2021-10    1189\n",
       "2021-11     634\n",
       "2021-12     750\n",
       "2021-13     546\n",
       "\n",
       "[539 rows x 1 columns]"
      ]
     },
     "execution_count": 34,
     "metadata": {},
     "output_type": "execute_result"
    }
   ],
   "source": [
    "weekly_tweet_count_all = pd.merge(weekly_tweet_count_enphase_energy,weekly_tweet_count_plug_power, how='left', left_on=['Year-Week','Ticker'], right_on=['Year-Week','Ticker'])"
   ]
  },
  {
   "cell_type": "code",
   "execution_count": null,
   "metadata": {},
   "outputs": [],
   "source": []
  }
 ],
 "metadata": {
  "kernelspec": {
   "display_name": "Python 3",
   "language": "python",
   "name": "python3"
  },
  "language_info": {
   "codemirror_mode": {
    "name": "ipython",
    "version": 3
   },
   "file_extension": ".py",
   "mimetype": "text/x-python",
   "name": "python",
   "nbconvert_exporter": "python",
   "pygments_lexer": "ipython3",
   "version": "3.8.5"
  }
 },
 "nbformat": 4,
 "nbformat_minor": 4
}

{
 "cells": [
  {
   "cell_type": "code",
   "execution_count": 1,
   "metadata": {},
   "outputs": [],
   "source": [
    "# Import libraries\n",
    "import pandas as pd\n",
    "import numpy as np\n",
    "import seaborn as sns\n",
    "import matplotlib.pyplot as plt\n",
    "from sklearn.feature_extraction.text import CountVectorizer\n",
    "import nltk \n",
    "import string\n",
    "import re\n",
    "import dateutil.parser\n",
    "%matplotlib inline\n",
    "pd.set_option('display.max_colwidth', 100)\n"
   ]
  },
  {
   "cell_type": "markdown",
   "metadata": {},
   "source": [
    "# Import Twitter Data"
   ]
  },
  {
   "cell_type": "code",
   "execution_count": 2,
   "metadata": {},
   "outputs": [],
   "source": [
    "tweets_enphase_energy = pd.read_csv('../../preprocessing_v2/twitter_data_cleaned_04_24_21/1_enphase_energy_tweets_cleaned.csv')\n",
    "tweets_first_solar = pd.read_csv('../../preprocessing_v2/twitter_data_cleaned_04_24_21/2_first_solar_tweets_cleaned.csv')\n",
    "tweets_siemens = pd.read_csv('../../preprocessing_v2/twitter_data_cleaned_05_03_21/3_siemens_gamesa_tweets_cleaned_05_03.csv')\n",
    "tweets_plug_power = pd.read_csv('../../preprocessing_v2/twitter_data_cleaned_04_24_21/4_plug_power_tweets_cleaned.csv')\n",
    "tweets_tesla = pd.read_csv('../../preprocessing_v2/twitter_data_cleaned_04_24_21/5_tesla_tweets_cleaned.csv')\n",
    "tweets_sunrun = pd.read_csv('../../preprocessing_v2/twitter_data_cleaned_04_24_21/6_sunrun_tweets_cleaned.csv')\n",
    "tweets_sunpower = pd.read_csv('../../preprocessing_v2/twitter_data_cleaned_04_24_21/7_sunpower_tweets_cleaned.csv')\n",
    "tweets_meridian_energy = pd.read_csv('../../preprocessing_v2/twitter_data_cleaned_04_24_21/8_meridian_energy_tweets_cleaned.csv')"
   ]
  },
  {
   "cell_type": "code",
   "execution_count": null,
   "metadata": {},
   "outputs": [],
   "source": []
  },
  {
   "cell_type": "code",
   "execution_count": 6,
   "metadata": {},
   "outputs": [],
   "source": [
    "def delete_header_rows(df):\n",
    "    index_names = df[df['CreatedAt'] == 'CreatedAt' ].index\n",
    "    df.drop(index_names, inplace = True)\n",
    "    return df\n",
    "\n",
    "def select_columns(df, columns):\n",
    "    df = df[columns]\n",
    "    return df"
   ]
  },
  {
   "cell_type": "code",
   "execution_count": null,
   "metadata": {},
   "outputs": [],
   "source": []
  }
 ],
 "metadata": {
  "kernelspec": {
   "display_name": "Python 3",
   "language": "python",
   "name": "python3"
  },
  "language_info": {
   "codemirror_mode": {
    "name": "ipython",
    "version": 3
   },
   "file_extension": ".py",
   "mimetype": "text/x-python",
   "name": "python",
   "nbconvert_exporter": "python",
   "pygments_lexer": "ipython3",
   "version": "3.8.5"
  }
 },
 "nbformat": 4,
 "nbformat_minor": 4
}

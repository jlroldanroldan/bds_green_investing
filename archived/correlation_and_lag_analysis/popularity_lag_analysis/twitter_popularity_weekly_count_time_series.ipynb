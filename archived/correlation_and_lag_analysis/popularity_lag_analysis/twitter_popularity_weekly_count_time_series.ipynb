{
 "cells": [
  {
   "cell_type": "code",
   "execution_count": 3,
   "metadata": {},
   "outputs": [],
   "source": [
    "# Import libraries\n",
    "import pandas as pd\n",
    "import numpy as np\n",
    "import seaborn as sns\n",
    "import matplotlib.pyplot as plt\n",
    "from sklearn.feature_extraction.text import CountVectorizer\n",
    "# import nltk \n",
    "# import string\n",
    "# import re\n",
    "# import dateutil.parser\n",
    "%matplotlib inline\n",
    "pd.set_option('display.max_colwidth', 100)\n"
   ]
  },
  {
   "cell_type": "markdown",
   "metadata": {},
   "source": [
    "# Import Twitter Data"
   ]
  },
  {
   "cell_type": "code",
   "execution_count": 4,
   "metadata": {},
   "outputs": [],
   "source": [
    "tweets_enphase_energy = pd.read_csv('../../preprocessing_v2/twitter_data_cleaned_04_24_21/1_enphase_energy_tweets_cleaned.csv')\n",
    "tweets_first_solar = pd.read_csv('../../preprocessing_v2/twitter_data_cleaned_04_24_21/2_first_solar_tweets_cleaned.csv')\n",
    "tweets_siemens = pd.read_csv('../../preprocessing_v2/twitter_data_cleaned_05_03_21/3_siemens_gamesa_tweets_cleaned_05_03.csv')\n",
    "tweets_plug_power = pd.read_csv('../../preprocessing_v2/twitter_data_cleaned_04_24_21/4_plug_power_tweets_cleaned.csv')\n",
    "tweets_tesla = pd.read_csv('../../preprocessing_v2/twitter_data_cleaned_04_24_21/5_tesla_tweets_cleaned.csv')\n",
    "tweets_sunrun = pd.read_csv('../../preprocessing_v2/twitter_data_cleaned_04_24_21/6_sunrun_tweets_cleaned.csv')\n",
    "tweets_sunpower = pd.read_csv('../../preprocessing_v2/twitter_data_cleaned_04_24_21/7_sunpower_tweets_cleaned.csv')\n",
    "tweets_meridian_energy = pd.read_csv('../../preprocessing_v2/twitter_data_cleaned_04_24_21/8_meridian_energy_tweets_cleaned.csv')"
   ]
  },
  {
   "cell_type": "markdown",
   "metadata": {},
   "source": [
    "# Generate weekly twitter popularity times series"
   ]
  },
  {
   "cell_type": "code",
   "execution_count": 29,
   "metadata": {},
   "outputs": [],
   "source": [
    "def delete_header_rows(df):\n",
    "    index_names = df[df['CreatedAt'] == 'CreatedAt' ].index\n",
    "    df.drop(index_names, inplace = True)\n",
    "    return df\n",
    "\n",
    "def select_columns(df, columns):\n",
    "    df = df[columns]\n",
    "    return df\n",
    "\n",
    "def create_year_week(df):\n",
    "    df['Date'] = pd.to_datetime(df['CreatedAt'], errors='coerce')\n",
    "    df['Year-Week'] = df['Date'].dt.strftime('%Y-%U')\n",
    "    return df\n",
    "\n",
    "def add_company_name(df, company):\n",
    "    df['Company'] = company\n",
    "    return df\n",
    "\n",
    "def generate_weekly_counts(tweets_all, company):\n",
    "    # delete headers on csv\n",
    "    tweets_all = delete_header_rows(tweets_all)\n",
    "    \n",
    "    # drop unwanted columns \n",
    "    columns_to_keep = ['CreatedAt','TweetText', 'Tweet_stemmed']\n",
    "    tweets = select_columns(tweets_all, columns_to_keep)\n",
    "    \n",
    "    # create year-week \n",
    "    tweets = create_year_week(tweets)\n",
    "    \n",
    "    # count popularity per week \n",
    "    tweets_count = tweets.groupby('Year-Week').count()\n",
    "    tweets_count.drop(['TweetText', 'Tweet_stemmed', 'Date'], axis=1, inplace=True)\n",
    "    \n",
    "    # create count column\n",
    "    tweets_count.rename(columns={\"CreatedAt\":company}, inplace=True)\n",
    "    tweets_count.sort_index()\n",
    "    \n",
    "    return tweets_count"
   ]
  },
  {
   "cell_type": "code",
   "execution_count": 31,
   "metadata": {},
   "outputs": [
    {
     "name": "stderr",
     "output_type": "stream",
     "text": [
      "<ipython-input-29-a9f7cd39d920>:11: SettingWithCopyWarning: \n",
      "A value is trying to be set on a copy of a slice from a DataFrame.\n",
      "Try using .loc[row_indexer,col_indexer] = value instead\n",
      "\n",
      "See the caveats in the documentation: https://pandas.pydata.org/pandas-docs/stable/user_guide/indexing.html#returning-a-view-versus-a-copy\n",
      "  df['Date'] = pd.to_datetime(df['CreatedAt'], errors='coerce')\n",
      "<ipython-input-29-a9f7cd39d920>:12: SettingWithCopyWarning: \n",
      "A value is trying to be set on a copy of a slice from a DataFrame.\n",
      "Try using .loc[row_indexer,col_indexer] = value instead\n",
      "\n",
      "See the caveats in the documentation: https://pandas.pydata.org/pandas-docs/stable/user_guide/indexing.html#returning-a-view-versus-a-copy\n",
      "  df['Year-Week'] = df['Date'].dt.strftime('%Y-%U')\n"
     ]
    }
   ],
   "source": []
  },
  {
   "cell_type": "code",
   "execution_count": 47,
   "metadata": {},
   "outputs": [
    {
     "name": "stderr",
     "output_type": "stream",
     "text": [
      "<ipython-input-29-a9f7cd39d920>:11: SettingWithCopyWarning: \n",
      "A value is trying to be set on a copy of a slice from a DataFrame.\n",
      "Try using .loc[row_indexer,col_indexer] = value instead\n",
      "\n",
      "See the caveats in the documentation: https://pandas.pydata.org/pandas-docs/stable/user_guide/indexing.html#returning-a-view-versus-a-copy\n",
      "  df['Date'] = pd.to_datetime(df['CreatedAt'], errors='coerce')\n",
      "<ipython-input-29-a9f7cd39d920>:12: SettingWithCopyWarning: \n",
      "A value is trying to be set on a copy of a slice from a DataFrame.\n",
      "Try using .loc[row_indexer,col_indexer] = value instead\n",
      "\n",
      "See the caveats in the documentation: https://pandas.pydata.org/pandas-docs/stable/user_guide/indexing.html#returning-a-view-versus-a-copy\n",
      "  df['Year-Week'] = df['Date'].dt.strftime('%Y-%U')\n"
     ]
    }
   ],
   "source": [
    "weekly_tweet_count_enphase_energy = generate_weekly_counts(tweets_enphase_energy, 'Enphase Energy');\n",
    "weekly_tweet_count_first_solar = generate_weekly_counts(tweets_first_solar, 'First Solar');\n",
    "weekly_tweet_count_siemens = generate_weekly_counts(tweets_siemens, 'Siemens');\n",
    "weekly_tweet_count_plug_power = generate_weekly_counts(tweets_siemens, 'Plug Power');\n",
    "weekly_tweet_count_tesla = generate_weekly_counts(tweets_tesla, 'Tesla');\n",
    "weekly_tweet_count_sunrun = generate_weekly_counts(tweets_sunrun, 'Sunrun');\n",
    "weekly_tweet_count_sunpower = generate_weekly_counts(tweets_sunpower, 'Sunpower');\n",
    "weekly_tweet_count_meridian_energy = generate_weekly_counts(tweets_meridian_energy, 'Meridian');\n"
   ]
  },
  {
   "cell_type": "markdown",
   "metadata": {},
   "source": [
    "# Merge Test"
   ]
  },
  {
   "cell_type": "code",
   "execution_count": 58,
   "metadata": {},
   "outputs": [],
   "source": [
    "# weekly_tweet_count_enphase_energy"
   ]
  },
  {
   "cell_type": "code",
   "execution_count": 59,
   "metadata": {},
   "outputs": [],
   "source": [
    "# weekly_tweet_count_plug_power"
   ]
  },
  {
   "cell_type": "code",
   "execution_count": 60,
   "metadata": {},
   "outputs": [],
   "source": [
    "# weekly_tweet_count_all = pd.merge(weekly_tweet_count_enphase_energy,weekly_tweet_count_plug_power, how='left', left_on=['Year-Week'], right_on=['Year-Week'])"
   ]
  },
  {
   "cell_type": "code",
   "execution_count": 61,
   "metadata": {},
   "outputs": [],
   "source": [
    "# weekly_tweet_count_all = pd.merge(weekly_tweet_count_all, how='left', left_on=['Year-Week'], right_on=['Year-Week'])"
   ]
  },
  {
   "cell_type": "code",
   "execution_count": 63,
   "metadata": {},
   "outputs": [],
   "source": [
    "# weekly_tweet_count_all"
   ]
  },
  {
   "cell_type": "markdown",
   "metadata": {},
   "source": [
    "# Merge Popularity for all companies"
   ]
  },
  {
   "cell_type": "code",
   "execution_count": 64,
   "metadata": {},
   "outputs": [],
   "source": [
    "weekly_tweet_count_all = pd.merge(weekly_tweet_count_enphase_energy,weekly_tweet_count_first_solar, how='left', left_on=['Year-Week'], right_on=['Year-Week'])"
   ]
  },
  {
   "cell_type": "code",
   "execution_count": 65,
   "metadata": {},
   "outputs": [
    {
     "data": {
      "text/html": [
       "<div>\n",
       "<style scoped>\n",
       "    .dataframe tbody tr th:only-of-type {\n",
       "        vertical-align: middle;\n",
       "    }\n",
       "\n",
       "    .dataframe tbody tr th {\n",
       "        vertical-align: top;\n",
       "    }\n",
       "\n",
       "    .dataframe thead th {\n",
       "        text-align: right;\n",
       "    }\n",
       "</style>\n",
       "<table border=\"1\" class=\"dataframe\">\n",
       "  <thead>\n",
       "    <tr style=\"text-align: right;\">\n",
       "      <th></th>\n",
       "      <th>Enphase Energy</th>\n",
       "      <th>First Solar</th>\n",
       "    </tr>\n",
       "    <tr>\n",
       "      <th>Year-Week</th>\n",
       "      <th></th>\n",
       "      <th></th>\n",
       "    </tr>\n",
       "  </thead>\n",
       "  <tbody>\n",
       "    <tr>\n",
       "      <th>2011-01</th>\n",
       "      <td>27</td>\n",
       "      <td>78.0</td>\n",
       "    </tr>\n",
       "    <tr>\n",
       "      <th>2011-02</th>\n",
       "      <td>21</td>\n",
       "      <td>79.0</td>\n",
       "    </tr>\n",
       "    <tr>\n",
       "      <th>2011-03</th>\n",
       "      <td>47</td>\n",
       "      <td>94.0</td>\n",
       "    </tr>\n",
       "    <tr>\n",
       "      <th>2011-04</th>\n",
       "      <td>21</td>\n",
       "      <td>139.0</td>\n",
       "    </tr>\n",
       "    <tr>\n",
       "      <th>2011-05</th>\n",
       "      <td>41</td>\n",
       "      <td>157.0</td>\n",
       "    </tr>\n",
       "    <tr>\n",
       "      <th>...</th>\n",
       "      <td>...</td>\n",
       "      <td>...</td>\n",
       "    </tr>\n",
       "    <tr>\n",
       "      <th>2021-09</th>\n",
       "      <td>1002</td>\n",
       "      <td>236.0</td>\n",
       "    </tr>\n",
       "    <tr>\n",
       "      <th>2021-10</th>\n",
       "      <td>1189</td>\n",
       "      <td>372.0</td>\n",
       "    </tr>\n",
       "    <tr>\n",
       "      <th>2021-11</th>\n",
       "      <td>634</td>\n",
       "      <td>177.0</td>\n",
       "    </tr>\n",
       "    <tr>\n",
       "      <th>2021-12</th>\n",
       "      <td>750</td>\n",
       "      <td>238.0</td>\n",
       "    </tr>\n",
       "    <tr>\n",
       "      <th>2021-13</th>\n",
       "      <td>546</td>\n",
       "      <td>202.0</td>\n",
       "    </tr>\n",
       "  </tbody>\n",
       "</table>\n",
       "<p>539 rows × 2 columns</p>\n",
       "</div>"
      ],
      "text/plain": [
       "           Enphase Energy  First Solar\n",
       "Year-Week                             \n",
       "2011-01                27         78.0\n",
       "2011-02                21         79.0\n",
       "2011-03                47         94.0\n",
       "2011-04                21        139.0\n",
       "2011-05                41        157.0\n",
       "...                   ...          ...\n",
       "2021-09              1002        236.0\n",
       "2021-10              1189        372.0\n",
       "2021-11               634        177.0\n",
       "2021-12               750        238.0\n",
       "2021-13               546        202.0\n",
       "\n",
       "[539 rows x 2 columns]"
      ]
     },
     "execution_count": 65,
     "metadata": {},
     "output_type": "execute_result"
    }
   ],
   "source": [
    "weekly_tweet_count_all"
   ]
  },
  {
   "cell_type": "code",
   "execution_count": 68,
   "metadata": {},
   "outputs": [],
   "source": [
    "weekly_tweet_count_all = pd.merge(weekly_tweet_count_all,weekly_tweet_count_siemens, how='left', left_on=['Year-Week'], right_on=['Year-Week'])"
   ]
  },
  {
   "cell_type": "code",
   "execution_count": 70,
   "metadata": {},
   "outputs": [],
   "source": [
    "weekly_tweet_count_all = pd.merge(weekly_tweet_count_all,weekly_tweet_count_plug_power, how='left', left_on=['Year-Week'], right_on=['Year-Week'])"
   ]
  },
  {
   "cell_type": "code",
   "execution_count": 72,
   "metadata": {},
   "outputs": [],
   "source": [
    "weekly_tweet_count_all = pd.merge(weekly_tweet_count_all,weekly_tweet_count_sunrun, how='left', left_on=['Year-Week'], right_on=['Year-Week'])"
   ]
  },
  {
   "cell_type": "code",
   "execution_count": 74,
   "metadata": {},
   "outputs": [],
   "source": [
    "weekly_tweet_count_all = pd.merge(weekly_tweet_count_all,weekly_tweet_count_sunpower, how='left', left_on=['Year-Week'], right_on=['Year-Week'])"
   ]
  },
  {
   "cell_type": "code",
   "execution_count": 76,
   "metadata": {},
   "outputs": [],
   "source": [
    "weekly_tweet_count_all = pd.merge(weekly_tweet_count_all,weekly_tweet_count_meridian_energy, how='left', left_on=['Year-Week'], right_on=['Year-Week'])"
   ]
  },
  {
   "cell_type": "code",
   "execution_count": 77,
   "metadata": {},
   "outputs": [
    {
     "data": {
      "text/html": [
       "<div>\n",
       "<style scoped>\n",
       "    .dataframe tbody tr th:only-of-type {\n",
       "        vertical-align: middle;\n",
       "    }\n",
       "\n",
       "    .dataframe tbody tr th {\n",
       "        vertical-align: top;\n",
       "    }\n",
       "\n",
       "    .dataframe thead th {\n",
       "        text-align: right;\n",
       "    }\n",
       "</style>\n",
       "<table border=\"1\" class=\"dataframe\">\n",
       "  <thead>\n",
       "    <tr style=\"text-align: right;\">\n",
       "      <th></th>\n",
       "      <th>Enphase Energy</th>\n",
       "      <th>First Solar</th>\n",
       "      <th>Siemens</th>\n",
       "      <th>Plug Power</th>\n",
       "      <th>Sunrun</th>\n",
       "      <th>Sunpower</th>\n",
       "      <th>Meridian</th>\n",
       "    </tr>\n",
       "    <tr>\n",
       "      <th>Year-Week</th>\n",
       "      <th></th>\n",
       "      <th></th>\n",
       "      <th></th>\n",
       "      <th></th>\n",
       "      <th></th>\n",
       "      <th></th>\n",
       "      <th></th>\n",
       "    </tr>\n",
       "  </thead>\n",
       "  <tbody>\n",
       "    <tr>\n",
       "      <th>2011-01</th>\n",
       "      <td>27</td>\n",
       "      <td>78.0</td>\n",
       "      <td>29</td>\n",
       "      <td>29</td>\n",
       "      <td>45.0</td>\n",
       "      <td>46</td>\n",
       "      <td>3.0</td>\n",
       "    </tr>\n",
       "    <tr>\n",
       "      <th>2011-02</th>\n",
       "      <td>21</td>\n",
       "      <td>79.0</td>\n",
       "      <td>95</td>\n",
       "      <td>95</td>\n",
       "      <td>60.0</td>\n",
       "      <td>37</td>\n",
       "      <td>6.0</td>\n",
       "    </tr>\n",
       "    <tr>\n",
       "      <th>2011-03</th>\n",
       "      <td>47</td>\n",
       "      <td>94.0</td>\n",
       "      <td>53</td>\n",
       "      <td>53</td>\n",
       "      <td>136.0</td>\n",
       "      <td>41</td>\n",
       "      <td>10.0</td>\n",
       "    </tr>\n",
       "    <tr>\n",
       "      <th>2011-04</th>\n",
       "      <td>21</td>\n",
       "      <td>139.0</td>\n",
       "      <td>80</td>\n",
       "      <td>80</td>\n",
       "      <td>95.0</td>\n",
       "      <td>52</td>\n",
       "      <td>5.0</td>\n",
       "    </tr>\n",
       "    <tr>\n",
       "      <th>2011-05</th>\n",
       "      <td>41</td>\n",
       "      <td>157.0</td>\n",
       "      <td>61</td>\n",
       "      <td>61</td>\n",
       "      <td>97.0</td>\n",
       "      <td>43</td>\n",
       "      <td>9.0</td>\n",
       "    </tr>\n",
       "    <tr>\n",
       "      <th>...</th>\n",
       "      <td>...</td>\n",
       "      <td>...</td>\n",
       "      <td>...</td>\n",
       "      <td>...</td>\n",
       "      <td>...</td>\n",
       "      <td>...</td>\n",
       "      <td>...</td>\n",
       "    </tr>\n",
       "    <tr>\n",
       "      <th>2021-09</th>\n",
       "      <td>1002</td>\n",
       "      <td>236.0</td>\n",
       "      <td>723</td>\n",
       "      <td>723</td>\n",
       "      <td>424.0</td>\n",
       "      <td>267</td>\n",
       "      <td>40.0</td>\n",
       "    </tr>\n",
       "    <tr>\n",
       "      <th>2021-10</th>\n",
       "      <td>1189</td>\n",
       "      <td>372.0</td>\n",
       "      <td>447</td>\n",
       "      <td>447</td>\n",
       "      <td>545.0</td>\n",
       "      <td>237</td>\n",
       "      <td>39.0</td>\n",
       "    </tr>\n",
       "    <tr>\n",
       "      <th>2021-11</th>\n",
       "      <td>634</td>\n",
       "      <td>177.0</td>\n",
       "      <td>377</td>\n",
       "      <td>377</td>\n",
       "      <td>353.0</td>\n",
       "      <td>208</td>\n",
       "      <td>18.0</td>\n",
       "    </tr>\n",
       "    <tr>\n",
       "      <th>2021-12</th>\n",
       "      <td>750</td>\n",
       "      <td>238.0</td>\n",
       "      <td>586</td>\n",
       "      <td>586</td>\n",
       "      <td>672.0</td>\n",
       "      <td>289</td>\n",
       "      <td>37.0</td>\n",
       "    </tr>\n",
       "    <tr>\n",
       "      <th>2021-13</th>\n",
       "      <td>546</td>\n",
       "      <td>202.0</td>\n",
       "      <td>430</td>\n",
       "      <td>430</td>\n",
       "      <td>389.0</td>\n",
       "      <td>205</td>\n",
       "      <td>25.0</td>\n",
       "    </tr>\n",
       "  </tbody>\n",
       "</table>\n",
       "<p>539 rows × 7 columns</p>\n",
       "</div>"
      ],
      "text/plain": [
       "           Enphase Energy  First Solar  Siemens  Plug Power  Sunrun  Sunpower  \\\n",
       "Year-Week                                                                       \n",
       "2011-01                27         78.0       29          29    45.0        46   \n",
       "2011-02                21         79.0       95          95    60.0        37   \n",
       "2011-03                47         94.0       53          53   136.0        41   \n",
       "2011-04                21        139.0       80          80    95.0        52   \n",
       "2011-05                41        157.0       61          61    97.0        43   \n",
       "...                   ...          ...      ...         ...     ...       ...   \n",
       "2021-09              1002        236.0      723         723   424.0       267   \n",
       "2021-10              1189        372.0      447         447   545.0       237   \n",
       "2021-11               634        177.0      377         377   353.0       208   \n",
       "2021-12               750        238.0      586         586   672.0       289   \n",
       "2021-13               546        202.0      430         430   389.0       205   \n",
       "\n",
       "           Meridian  \n",
       "Year-Week            \n",
       "2011-01         3.0  \n",
       "2011-02         6.0  \n",
       "2011-03        10.0  \n",
       "2011-04         5.0  \n",
       "2011-05         9.0  \n",
       "...             ...  \n",
       "2021-09        40.0  \n",
       "2021-10        39.0  \n",
       "2021-11        18.0  \n",
       "2021-12        37.0  \n",
       "2021-13        25.0  \n",
       "\n",
       "[539 rows x 7 columns]"
      ]
     },
     "execution_count": 77,
     "metadata": {},
     "output_type": "execute_result"
    }
   ],
   "source": [
    "weekly_tweet_count_all"
   ]
  },
  {
   "cell_type": "code",
   "execution_count": 78,
   "metadata": {},
   "outputs": [],
   "source": [
    "weekly_tweet_count_all.to_csv('./weekly_tweet_count_all.csv')"
   ]
  },
  {
   "cell_type": "code",
   "execution_count": null,
   "metadata": {},
   "outputs": [],
   "source": []
  }
 ],
 "metadata": {
  "kernelspec": {
   "display_name": "Python 3",
   "language": "python",
   "name": "python3"
  },
  "language_info": {
   "codemirror_mode": {
    "name": "ipython",
    "version": 3
   },
   "file_extension": ".py",
   "mimetype": "text/x-python",
   "name": "python",
   "nbconvert_exporter": "python",
   "pygments_lexer": "ipython3",
   "version": "3.8.5"
  }
 },
 "nbformat": 4,
 "nbformat_minor": 4
}

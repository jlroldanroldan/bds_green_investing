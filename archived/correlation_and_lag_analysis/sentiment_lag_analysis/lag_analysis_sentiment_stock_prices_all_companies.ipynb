{
 "cells": [
  {
   "cell_type": "code",
   "execution_count": 1,
   "metadata": {},
   "outputs": [],
   "source": [
    "# Import libraries\n",
    "import pandas as pd\n",
    "import numpy as np\n",
    "import seaborn as sns\n",
    "import matplotlib.pyplot as plt\n",
    "%matplotlib inline\n",
    "pd.set_option('display.max_colwidth', 100)"
   ]
  },
  {
   "cell_type": "markdown",
   "metadata": {},
   "source": [
    "# Import and Clean Data"
   ]
  },
  {
   "cell_type": "code",
   "execution_count": 19,
   "metadata": {},
   "outputs": [],
   "source": [
    "weekly_compound_sentiment = pd.read_csv('./weekly_mean_compound_sentiment_by_company.csv')"
   ]
  },
  {
   "cell_type": "code",
   "execution_count": 20,
   "metadata": {},
   "outputs": [],
   "source": [
    "weekly_close_price = pd.read_csv('./weekly_mean_closing_price_by_ticker_all.csv')"
   ]
  },
  {
   "cell_type": "code",
   "execution_count": 21,
   "metadata": {},
   "outputs": [],
   "source": [
    "weekly_compound_sentiment.set_index('Year-Week',inplace=True)"
   ]
  },
  {
   "cell_type": "code",
   "execution_count": 24,
   "metadata": {},
   "outputs": [],
   "source": [
    "weekly_close_price.set_index('Year-Week', inplace=True)"
   ]
  },
  {
   "cell_type": "code",
   "execution_count": 32,
   "metadata": {},
   "outputs": [
    {
     "data": {
      "text/html": [
       "<div>\n",
       "<style scoped>\n",
       "    .dataframe tbody tr th:only-of-type {\n",
       "        vertical-align: middle;\n",
       "    }\n",
       "\n",
       "    .dataframe tbody tr th {\n",
       "        vertical-align: top;\n",
       "    }\n",
       "\n",
       "    .dataframe thead th {\n",
       "        text-align: right;\n",
       "    }\n",
       "</style>\n",
       "<table border=\"1\" class=\"dataframe\">\n",
       "  <thead>\n",
       "    <tr style=\"text-align: right;\">\n",
       "      <th></th>\n",
       "      <th>first_solar</th>\n",
       "      <th>meridian_energy</th>\n",
       "      <th>plug_power</th>\n",
       "      <th>siemens_gamesa</th>\n",
       "      <th>sunpower</th>\n",
       "      <th>sunrun</th>\n",
       "    </tr>\n",
       "    <tr>\n",
       "      <th>Year-Week</th>\n",
       "      <th></th>\n",
       "      <th></th>\n",
       "      <th></th>\n",
       "      <th></th>\n",
       "      <th></th>\n",
       "      <th></th>\n",
       "    </tr>\n",
       "  </thead>\n",
       "  <tbody>\n",
       "    <tr>\n",
       "      <th>2011-00</th>\n",
       "      <td>0.000000</td>\n",
       "      <td>NaN</td>\n",
       "      <td>0.000000</td>\n",
       "      <td>0.660500</td>\n",
       "      <td>0.049007</td>\n",
       "      <td>0.612400</td>\n",
       "    </tr>\n",
       "    <tr>\n",
       "      <th>2011-01</th>\n",
       "      <td>0.104806</td>\n",
       "      <td>0.086267</td>\n",
       "      <td>0.411500</td>\n",
       "      <td>0.368786</td>\n",
       "      <td>0.211583</td>\n",
       "      <td>0.258227</td>\n",
       "    </tr>\n",
       "    <tr>\n",
       "      <th>2011-02</th>\n",
       "      <td>0.156867</td>\n",
       "      <td>-0.036133</td>\n",
       "      <td>0.164608</td>\n",
       "      <td>0.394021</td>\n",
       "      <td>0.293154</td>\n",
       "      <td>0.158023</td>\n",
       "    </tr>\n",
       "    <tr>\n",
       "      <th>2011-03</th>\n",
       "      <td>0.175914</td>\n",
       "      <td>0.462410</td>\n",
       "      <td>0.075040</td>\n",
       "      <td>0.433196</td>\n",
       "      <td>0.183861</td>\n",
       "      <td>0.152878</td>\n",
       "    </tr>\n",
       "    <tr>\n",
       "      <th>2011-04</th>\n",
       "      <td>0.137794</td>\n",
       "      <td>-0.112420</td>\n",
       "      <td>-0.067788</td>\n",
       "      <td>0.427480</td>\n",
       "      <td>0.212294</td>\n",
       "      <td>0.210925</td>\n",
       "    </tr>\n",
       "    <tr>\n",
       "      <th>...</th>\n",
       "      <td>...</td>\n",
       "      <td>...</td>\n",
       "      <td>...</td>\n",
       "      <td>...</td>\n",
       "      <td>...</td>\n",
       "      <td>...</td>\n",
       "    </tr>\n",
       "    <tr>\n",
       "      <th>2021-09</th>\n",
       "      <td>0.249066</td>\n",
       "      <td>0.435113</td>\n",
       "      <td>0.195052</td>\n",
       "      <td>0.399296</td>\n",
       "      <td>0.260569</td>\n",
       "      <td>0.186855</td>\n",
       "    </tr>\n",
       "    <tr>\n",
       "      <th>2021-10</th>\n",
       "      <td>0.235841</td>\n",
       "      <td>0.265605</td>\n",
       "      <td>0.150427</td>\n",
       "      <td>0.423702</td>\n",
       "      <td>0.225257</td>\n",
       "      <td>0.185681</td>\n",
       "    </tr>\n",
       "    <tr>\n",
       "      <th>2021-11</th>\n",
       "      <td>0.210958</td>\n",
       "      <td>0.298878</td>\n",
       "      <td>0.116072</td>\n",
       "      <td>0.382301</td>\n",
       "      <td>0.163135</td>\n",
       "      <td>0.168005</td>\n",
       "    </tr>\n",
       "    <tr>\n",
       "      <th>2021-12</th>\n",
       "      <td>0.208364</td>\n",
       "      <td>0.467808</td>\n",
       "      <td>0.207972</td>\n",
       "      <td>0.412120</td>\n",
       "      <td>0.224861</td>\n",
       "      <td>0.192402</td>\n",
       "    </tr>\n",
       "    <tr>\n",
       "      <th>2021-13</th>\n",
       "      <td>0.211850</td>\n",
       "      <td>0.122104</td>\n",
       "      <td>0.192144</td>\n",
       "      <td>0.362340</td>\n",
       "      <td>0.285437</td>\n",
       "      <td>0.241469</td>\n",
       "    </tr>\n",
       "  </tbody>\n",
       "</table>\n",
       "<p>544 rows × 6 columns</p>\n",
       "</div>"
      ],
      "text/plain": [
       "           first_solar  meridian_energy  plug_power  siemens_gamesa  sunpower  \\\n",
       "Year-Week                                                                       \n",
       "2011-00       0.000000              NaN    0.000000        0.660500  0.049007   \n",
       "2011-01       0.104806         0.086267    0.411500        0.368786  0.211583   \n",
       "2011-02       0.156867        -0.036133    0.164608        0.394021  0.293154   \n",
       "2011-03       0.175914         0.462410    0.075040        0.433196  0.183861   \n",
       "2011-04       0.137794        -0.112420   -0.067788        0.427480  0.212294   \n",
       "...                ...              ...         ...             ...       ...   \n",
       "2021-09       0.249066         0.435113    0.195052        0.399296  0.260569   \n",
       "2021-10       0.235841         0.265605    0.150427        0.423702  0.225257   \n",
       "2021-11       0.210958         0.298878    0.116072        0.382301  0.163135   \n",
       "2021-12       0.208364         0.467808    0.207972        0.412120  0.224861   \n",
       "2021-13       0.211850         0.122104    0.192144        0.362340  0.285437   \n",
       "\n",
       "             sunrun  \n",
       "Year-Week            \n",
       "2011-00    0.612400  \n",
       "2011-01    0.258227  \n",
       "2011-02    0.158023  \n",
       "2011-03    0.152878  \n",
       "2011-04    0.210925  \n",
       "...             ...  \n",
       "2021-09    0.186855  \n",
       "2021-10    0.185681  \n",
       "2021-11    0.168005  \n",
       "2021-12    0.192402  \n",
       "2021-13    0.241469  \n",
       "\n",
       "[544 rows x 6 columns]"
      ]
     },
     "execution_count": 32,
     "metadata": {},
     "output_type": "execute_result"
    }
   ],
   "source": [
    "weekly_compound_sentiment"
   ]
  },
  {
   "cell_type": "code",
   "execution_count": 40,
   "metadata": {},
   "outputs": [
    {
     "data": {
      "text/html": [
       "<div>\n",
       "<style scoped>\n",
       "    .dataframe tbody tr th:only-of-type {\n",
       "        vertical-align: middle;\n",
       "    }\n",
       "\n",
       "    .dataframe tbody tr th {\n",
       "        vertical-align: top;\n",
       "    }\n",
       "\n",
       "    .dataframe thead th {\n",
       "        text-align: right;\n",
       "    }\n",
       "</style>\n",
       "<table border=\"1\" class=\"dataframe\">\n",
       "  <thead>\n",
       "    <tr style=\"text-align: right;\">\n",
       "      <th></th>\n",
       "      <th>COENF</th>\n",
       "      <th>DNNGY</th>\n",
       "      <th>DQ</th>\n",
       "      <th>ENPH</th>\n",
       "      <th>FSLR</th>\n",
       "      <th>GCTAY</th>\n",
       "      <th>ORA</th>\n",
       "      <th>RUN</th>\n",
       "      <th>SCTY</th>\n",
       "      <th>SPWR</th>\n",
       "      <th>TSLA</th>\n",
       "      <th>VWDRY</th>\n",
       "    </tr>\n",
       "    <tr>\n",
       "      <th>Year-Week</th>\n",
       "      <th></th>\n",
       "      <th></th>\n",
       "      <th></th>\n",
       "      <th></th>\n",
       "      <th></th>\n",
       "      <th></th>\n",
       "      <th></th>\n",
       "      <th></th>\n",
       "      <th></th>\n",
       "      <th></th>\n",
       "      <th></th>\n",
       "      <th></th>\n",
       "    </tr>\n",
       "  </thead>\n",
       "  <tbody>\n",
       "    <tr>\n",
       "      <th>2004-45</th>\n",
       "      <td>NaN</td>\n",
       "      <td>NaN</td>\n",
       "      <td>NaN</td>\n",
       "      <td>NaN</td>\n",
       "      <td>NaN</td>\n",
       "      <td>NaN</td>\n",
       "      <td>15.8600</td>\n",
       "      <td>NaN</td>\n",
       "      <td>NaN</td>\n",
       "      <td>NaN</td>\n",
       "      <td>NaN</td>\n",
       "      <td>NaN</td>\n",
       "    </tr>\n",
       "    <tr>\n",
       "      <th>2004-46</th>\n",
       "      <td>NaN</td>\n",
       "      <td>NaN</td>\n",
       "      <td>NaN</td>\n",
       "      <td>NaN</td>\n",
       "      <td>NaN</td>\n",
       "      <td>NaN</td>\n",
       "      <td>15.8600</td>\n",
       "      <td>NaN</td>\n",
       "      <td>NaN</td>\n",
       "      <td>NaN</td>\n",
       "      <td>NaN</td>\n",
       "      <td>NaN</td>\n",
       "    </tr>\n",
       "    <tr>\n",
       "      <th>2004-47</th>\n",
       "      <td>NaN</td>\n",
       "      <td>NaN</td>\n",
       "      <td>NaN</td>\n",
       "      <td>NaN</td>\n",
       "      <td>NaN</td>\n",
       "      <td>NaN</td>\n",
       "      <td>16.8200</td>\n",
       "      <td>NaN</td>\n",
       "      <td>NaN</td>\n",
       "      <td>NaN</td>\n",
       "      <td>NaN</td>\n",
       "      <td>NaN</td>\n",
       "    </tr>\n",
       "    <tr>\n",
       "      <th>2004-48</th>\n",
       "      <td>NaN</td>\n",
       "      <td>NaN</td>\n",
       "      <td>NaN</td>\n",
       "      <td>NaN</td>\n",
       "      <td>NaN</td>\n",
       "      <td>NaN</td>\n",
       "      <td>17.4700</td>\n",
       "      <td>NaN</td>\n",
       "      <td>NaN</td>\n",
       "      <td>NaN</td>\n",
       "      <td>NaN</td>\n",
       "      <td>NaN</td>\n",
       "    </tr>\n",
       "    <tr>\n",
       "      <th>2004-49</th>\n",
       "      <td>NaN</td>\n",
       "      <td>NaN</td>\n",
       "      <td>NaN</td>\n",
       "      <td>NaN</td>\n",
       "      <td>NaN</td>\n",
       "      <td>NaN</td>\n",
       "      <td>16.8900</td>\n",
       "      <td>NaN</td>\n",
       "      <td>NaN</td>\n",
       "      <td>NaN</td>\n",
       "      <td>NaN</td>\n",
       "      <td>NaN</td>\n",
       "    </tr>\n",
       "    <tr>\n",
       "      <th>...</th>\n",
       "      <td>...</td>\n",
       "      <td>...</td>\n",
       "      <td>...</td>\n",
       "      <td>...</td>\n",
       "      <td>...</td>\n",
       "      <td>...</td>\n",
       "      <td>...</td>\n",
       "      <td>...</td>\n",
       "      <td>...</td>\n",
       "      <td>...</td>\n",
       "      <td>...</td>\n",
       "      <td>...</td>\n",
       "    </tr>\n",
       "    <tr>\n",
       "      <th>2021-12</th>\n",
       "      <td>5.280</td>\n",
       "      <td>52.8650</td>\n",
       "      <td>71.8720</td>\n",
       "      <td>153.1220</td>\n",
       "      <td>81.8980</td>\n",
       "      <td>6.698000</td>\n",
       "      <td>76.3000</td>\n",
       "      <td>55.774</td>\n",
       "      <td>7.6970</td>\n",
       "      <td>32.3410</td>\n",
       "      <td>644.3060</td>\n",
       "      <td>60.800</td>\n",
       "    </tr>\n",
       "    <tr>\n",
       "      <th>2021-13</th>\n",
       "      <td>4.975</td>\n",
       "      <td>54.4175</td>\n",
       "      <td>70.8575</td>\n",
       "      <td>154.3975</td>\n",
       "      <td>85.3975</td>\n",
       "      <td>7.414375</td>\n",
       "      <td>77.1625</td>\n",
       "      <td>57.360</td>\n",
       "      <td>7.3400</td>\n",
       "      <td>31.8625</td>\n",
       "      <td>644.1475</td>\n",
       "      <td>67.290</td>\n",
       "    </tr>\n",
       "    <tr>\n",
       "      <th>2021-14</th>\n",
       "      <td>4.950</td>\n",
       "      <td>55.2425</td>\n",
       "      <td>68.9920</td>\n",
       "      <td>152.3660</td>\n",
       "      <td>81.8260</td>\n",
       "      <td>7.464000</td>\n",
       "      <td>76.5580</td>\n",
       "      <td>54.162</td>\n",
       "      <td>7.8660</td>\n",
       "      <td>30.7320</td>\n",
       "      <td>682.8920</td>\n",
       "      <td>67.114</td>\n",
       "    </tr>\n",
       "    <tr>\n",
       "      <th>2021-15</th>\n",
       "      <td>5.070</td>\n",
       "      <td>54.5720</td>\n",
       "      <td>67.8700</td>\n",
       "      <td>150.5340</td>\n",
       "      <td>78.7240</td>\n",
       "      <td>7.103000</td>\n",
       "      <td>78.1120</td>\n",
       "      <td>50.220</td>\n",
       "      <td>7.6110</td>\n",
       "      <td>27.7940</td>\n",
       "      <td>735.0320</td>\n",
       "      <td>64.724</td>\n",
       "    </tr>\n",
       "    <tr>\n",
       "      <th>2021-16</th>\n",
       "      <td>5.190</td>\n",
       "      <td>51.5660</td>\n",
       "      <td>77.1960</td>\n",
       "      <td>154.2140</td>\n",
       "      <td>83.7860</td>\n",
       "      <td>7.342400</td>\n",
       "      <td>75.9280</td>\n",
       "      <td>51.556</td>\n",
       "      <td>7.5995</td>\n",
       "      <td>27.3040</td>\n",
       "      <td>725.3660</td>\n",
       "      <td>67.784</td>\n",
       "    </tr>\n",
       "  </tbody>\n",
       "</table>\n",
       "<p>866 rows × 12 columns</p>\n",
       "</div>"
      ],
      "text/plain": [
       "           COENF    DNNGY       DQ      ENPH     FSLR     GCTAY      ORA  \\\n",
       "Year-Week                                                                  \n",
       "2004-45      NaN      NaN      NaN       NaN      NaN       NaN  15.8600   \n",
       "2004-46      NaN      NaN      NaN       NaN      NaN       NaN  15.8600   \n",
       "2004-47      NaN      NaN      NaN       NaN      NaN       NaN  16.8200   \n",
       "2004-48      NaN      NaN      NaN       NaN      NaN       NaN  17.4700   \n",
       "2004-49      NaN      NaN      NaN       NaN      NaN       NaN  16.8900   \n",
       "...          ...      ...      ...       ...      ...       ...      ...   \n",
       "2021-12    5.280  52.8650  71.8720  153.1220  81.8980  6.698000  76.3000   \n",
       "2021-13    4.975  54.4175  70.8575  154.3975  85.3975  7.414375  77.1625   \n",
       "2021-14    4.950  55.2425  68.9920  152.3660  81.8260  7.464000  76.5580   \n",
       "2021-15    5.070  54.5720  67.8700  150.5340  78.7240  7.103000  78.1120   \n",
       "2021-16    5.190  51.5660  77.1960  154.2140  83.7860  7.342400  75.9280   \n",
       "\n",
       "              RUN    SCTY     SPWR      TSLA   VWDRY  \n",
       "Year-Week                                             \n",
       "2004-45       NaN     NaN      NaN       NaN     NaN  \n",
       "2004-46       NaN     NaN      NaN       NaN     NaN  \n",
       "2004-47       NaN     NaN      NaN       NaN     NaN  \n",
       "2004-48       NaN     NaN      NaN       NaN     NaN  \n",
       "2004-49       NaN     NaN      NaN       NaN     NaN  \n",
       "...           ...     ...      ...       ...     ...  \n",
       "2021-12    55.774  7.6970  32.3410  644.3060  60.800  \n",
       "2021-13    57.360  7.3400  31.8625  644.1475  67.290  \n",
       "2021-14    54.162  7.8660  30.7320  682.8920  67.114  \n",
       "2021-15    50.220  7.6110  27.7940  735.0320  64.724  \n",
       "2021-16    51.556  7.5995  27.3040  725.3660  67.784  \n",
       "\n",
       "[866 rows x 12 columns]"
      ]
     },
     "execution_count": 40,
     "metadata": {},
     "output_type": "execute_result"
    }
   ],
   "source": [
    "weekly_close_price"
   ]
  },
  {
   "cell_type": "markdown",
   "metadata": {},
   "source": [
    "# Merge Datasets"
   ]
  },
  {
   "cell_type": "markdown",
   "metadata": {},
   "source": [
    "## Merge datasets of First Solar"
   ]
  },
  {
   "cell_type": "code",
   "execution_count": 28,
   "metadata": {},
   "outputs": [],
   "source": [
    "first_solar = pd.DataFrame(weekly_compound_sentiment['first_solar'])\n",
    "first_solar = pd.merge(first_solar, weekly_close_price['FSLR'], how='left', left_on=['Year-Week'], right_on=['Year-Week'])\n",
    "first_solar.rename(columns={\"first_solar\":\"Compound Sentiment\",\"FSLR\":\"close\"}, inplace=True)\n",
    "first_solar.dropna(inplace=True)"
   ]
  },
  {
   "cell_type": "markdown",
   "metadata": {},
   "source": [
    "## Merge datasets of Siemens"
   ]
  },
  {
   "cell_type": "code",
   "execution_count": 35,
   "metadata": {},
   "outputs": [],
   "source": [
    "siemens = pd.DataFrame(weekly_compound_sentiment['siemens_gamesa'])\n",
    "siemens = pd.merge(siemens, weekly_close_price['GCTAY'], how='left', left_on=['Year-Week'], right_on=['Year-Week'])\n",
    "siemens.rename(columns={\"siemens_gamesa\":\"Compound Sentiment\",\"GCTAY\":\"close\"}, inplace=True)\n",
    "siemens.dropna(inplace=True)"
   ]
  },
  {
   "cell_type": "markdown",
   "metadata": {},
   "source": [
    "## Merge datasets of Sunrun"
   ]
  },
  {
   "cell_type": "code",
   "execution_count": 42,
   "metadata": {},
   "outputs": [],
   "source": [
    "sunrun = pd.DataFrame(weekly_compound_sentiment['sunrun'])\n",
    "sunrun = pd.merge(sunrun, weekly_close_price['RUN'], how='left', left_on=['Year-Week'], right_on=['Year-Week'])\n",
    "sunrun.rename(columns={\"sunrun\":\"Compound Sentiment\",\"RUN\":\"close\"}, inplace=True)\n",
    "sunrun.dropna(inplace=True)"
   ]
  },
  {
   "cell_type": "markdown",
   "metadata": {},
   "source": [
    "# Lag Analysis \n",
    "----"
   ]
  },
  {
   "cell_type": "code",
   "execution_count": 36,
   "metadata": {},
   "outputs": [],
   "source": [
    "def plot_cross_correlation(df):\n",
    "    fig, ax1 = plt.subplots(figsize=(18,5))\n",
    "    ax1.xcorr(df['Compound Sentiment'].to_numpy().flatten(), df['close'].to_numpy().flatten(), usevlines=True, maxlags=50, normed=True, lw=2)\n",
    "    ax1.grid(True)\n",
    "    plt.show()"
   ]
  },
  {
   "cell_type": "code",
   "execution_count": 37,
   "metadata": {},
   "outputs": [
    {
     "data": {
      "image/png": "[encoded data removed]",
      "text/plain": [
       "<Figure size 1296x360 with 1 Axes>"
      ]
     },
     "metadata": {
      "needs_background": "light"
     },
     "output_type": "display_data"
    }
   ],
   "source": [
    "plot_cross_correlation(first_solar)"
   ]
  },
  {
   "cell_type": "code",
   "execution_count": 38,
   "metadata": {},
   "outputs": [
    {
     "data": {
      "image/png": "[encoded data removed]",
      "text/plain": [
       "<Figure size 1296x360 with 1 Axes>"
      ]
     },
     "metadata": {
      "needs_background": "light"
     },
     "output_type": "display_data"
    }
   ],
   "source": [
    "plot_cross_correlation(siemens)"
   ]
  },
  {
   "cell_type": "code",
   "execution_count": 43,
   "metadata": {},
   "outputs": [
    {
     "data": {
      "image/png": "[encoded data removed]",
      "text/plain": [
       "<Figure size 1296x360 with 1 Axes>"
      ]
     },
     "metadata": {
      "needs_background": "light"
     },
     "output_type": "display_data"
    }
   ],
   "source": [
    "plot_cross_correlation(sunrun)"
   ]
  },
  {
   "cell_type": "code",
   "execution_count": 45,
   "metadata": {},
   "outputs": [],
   "source": [
    "first_solar.to_csv('./first_solar_compound_sentiment_close_time_series.csv')"
   ]
  },
  {
   "cell_type": "code",
   "execution_count": null,
   "metadata": {},
   "outputs": [],
   "source": []
  }
 ],
 "metadata": {
  "kernelspec": {
   "display_name": "Python 3",
   "language": "python",
   "name": "python3"
  },
  "language_info": {
   "codemirror_mode": {
    "name": "ipython",
    "version": 3
   },
   "file_extension": ".py",
   "mimetype": "text/x-python",
   "name": "python",
   "nbconvert_exporter": "python",
   "pygments_lexer": "ipython3",
   "version": "3.8.5"
  }
 },
 "nbformat": 4,
 "nbformat_minor": 4
}

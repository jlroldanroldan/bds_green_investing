{
 "cells": [
  {
   "cell_type": "code",
   "execution_count": 2,
   "metadata": {},
   "outputs": [],
   "source": [
    "# Import libraries\n",
    "import pandas as pd\n",
    "import numpy as np\n",
    "import seaborn as sns\n",
    "import matplotlib.pyplot as plt\n",
    "%matplotlib inline\n",
    "pd.set_option('display.max_colwidth', 100)\n",
    "\n",
    "from statsmodels.tsa.stattools import grangercausalitytests"
   ]
  },
  {
   "cell_type": "markdown",
   "metadata": {},
   "source": [
    "# Import data"
   ]
  },
  {
   "cell_type": "code",
   "execution_count": 3,
   "metadata": {},
   "outputs": [],
   "source": [
    "fslr = pd.read_csv('./data_first_solar_FSLR.csv')\n",
    "gctay = pd.read_csv('./data_siemens_gamesa_GCTAY.csv')\n",
    "spwr = pd.read_csv('./data_sunpower_SPWR.csv')\n",
    "run = pd.read_csv('./data_sunrun_RUN.csv')\n",
    "plug = pd.read_csv('./data_plug_power_PLUG.csv')"
   ]
  },
  {
   "cell_type": "markdown",
   "metadata": {},
   "source": [
    "## Set datatime index"
   ]
  },
  {
   "cell_type": "code",
   "execution_count": 4,
   "metadata": {},
   "outputs": [],
   "source": [
    "def set_datetime_index(df):\n",
    "    df['date'] = pd.to_datetime(df['Date'], errors='coerce')\n",
    "    df.set_index('date', inplace=True)\n",
    "    df.drop('Date', axis=1, inplace=True)\n",
    "    return df"
   ]
  },
  {
   "cell_type": "code",
   "execution_count": 5,
   "metadata": {},
   "outputs": [],
   "source": [
    "fslr = set_datetime_index(fslr)\n",
    "gctay = set_datetime_index(gctay)\n",
    "spwr = set_datetime_index(spwr)\n",
    "run = set_datetime_index(run)\n",
    "plug = set_datetime_index(plug)"
   ]
  },
  {
   "cell_type": "markdown",
   "metadata": {},
   "source": [
    "# Import data normalized"
   ]
  },
  {
   "cell_type": "code",
   "execution_count": 6,
   "metadata": {},
   "outputs": [],
   "source": [
    "fslr_normalized = pd.read_csv('./data_first_solar_FSLR_normalized.csv')\n",
    "gctay_normalized = pd.read_csv('./data_siemens_gamesa_GCTAY_normalized.csv')\n",
    "spwr_normalized = pd.read_csv('./data_sunpower_SPWR_normalized.csv')\n",
    "run_normalized = pd.read_csv('./data_sunrun_RUN_normalized.csv')\n",
    "plug_normalized = pd.read_csv('./data_plug_power_PLUG_normalized.csv')"
   ]
  },
  {
   "cell_type": "code",
   "execution_count": 7,
   "metadata": {},
   "outputs": [],
   "source": [
    "fslr_normalized = set_datetime_index(fslr_normalized)\n",
    "gctay_normalized = set_datetime_index(gctay_normalized)\n",
    "spwr_normalized = set_datetime_index(spwr_normalized)\n",
    "run_normalized = set_datetime_index(run_normalized)\n",
    "plug_normalized = set_datetime_index(plug_normalized)"
   ]
  },
  {
   "cell_type": "markdown",
   "metadata": {},
   "source": [
    "# Z-score normalization"
   ]
  },
  {
   "cell_type": "code",
   "execution_count": 41,
   "metadata": {},
   "outputs": [],
   "source": [
    "def normalize_z_score(df):\n",
    "    df_std = df.copy()\n",
    "    for column in df_std.columns:\n",
    "        df_std[column] = (df_std[column] - df_std[column].mean()) / df_std[column].std()\n",
    "        \n",
    "    return df_std"
   ]
  },
  {
   "cell_type": "code",
   "execution_count": 42,
   "metadata": {},
   "outputs": [],
   "source": [
    "fslr_z_score = normalize_z_score(fslr)\n",
    "gctay_z_score = normalize_z_score(gctay)\n",
    "spwr_z_score = normalize_z_score(spwr)\n",
    "run_z_score = normalize_z_score(run)\n",
    "plug_z_score = normalize_z_score(plug)"
   ]
  },
  {
   "cell_type": "code",
   "execution_count": 43,
   "metadata": {},
   "outputs": [
    {
     "data": {
      "text/plain": [
       "<AxesSubplot:xlabel='date'>"
      ]
     },
     "execution_count": 43,
     "metadata": {},
     "output_type": "execute_result"
    },
    {
     "data": {
      "image/png": "[encoded data removed]",
      "text/plain": [
       "<Figure size 432x288 with 1 Axes>"
      ]
     },
     "metadata": {
      "needs_background": "light"
     },
     "output_type": "display_data"
    }
   ],
   "source": []
  },
  {
   "cell_type": "code",
   "execution_count": 32,
   "metadata": {},
   "outputs": [
    {
     "data": {
      "text/html": [
       "<div>\n",
       "<style scoped>\n",
       "    .dataframe tbody tr th:only-of-type {\n",
       "        vertical-align: middle;\n",
       "    }\n",
       "\n",
       "    .dataframe tbody tr th {\n",
       "        vertical-align: top;\n",
       "    }\n",
       "\n",
       "    .dataframe thead th {\n",
       "        text-align: right;\n",
       "    }\n",
       "</style>\n",
       "<table border=\"1\" class=\"dataframe\">\n",
       "  <thead>\n",
       "    <tr style=\"text-align: right;\">\n",
       "      <th></th>\n",
       "      <th>daily_tweets</th>\n",
       "      <th>neg_sentiment</th>\n",
       "      <th>pos_sentiment</th>\n",
       "      <th>compound_sentiment</th>\n",
       "      <th>closing_price</th>\n",
       "    </tr>\n",
       "    <tr>\n",
       "      <th>date</th>\n",
       "      <th></th>\n",
       "      <th></th>\n",
       "      <th></th>\n",
       "      <th></th>\n",
       "      <th></th>\n",
       "    </tr>\n",
       "  </thead>\n",
       "  <tbody>\n",
       "    <tr>\n",
       "      <th>2011-01-03</th>\n",
       "      <td>-0.787335</td>\n",
       "      <td>-1.338100</td>\n",
       "      <td>1.858724</td>\n",
       "      <td>1.293901</td>\n",
       "      <td>2.858337</td>\n",
       "    </tr>\n",
       "    <tr>\n",
       "      <th>2011-01-04</th>\n",
       "      <td>-0.871076</td>\n",
       "      <td>5.255186</td>\n",
       "      <td>0.153285</td>\n",
       "      <td>-0.796859</td>\n",
       "      <td>2.796021</td>\n",
       "    </tr>\n",
       "    <tr>\n",
       "      <th>2011-01-05</th>\n",
       "      <td>-0.770587</td>\n",
       "      <td>-1.338100</td>\n",
       "      <td>-0.402176</td>\n",
       "      <td>0.660424</td>\n",
       "      <td>2.814040</td>\n",
       "    </tr>\n",
       "    <tr>\n",
       "      <th>2011-01-06</th>\n",
       "      <td>-0.653350</td>\n",
       "      <td>2.089659</td>\n",
       "      <td>-0.792568</td>\n",
       "      <td>-1.533785</td>\n",
       "      <td>2.924031</td>\n",
       "    </tr>\n",
       "    <tr>\n",
       "      <th>2011-01-07</th>\n",
       "      <td>-0.485868</td>\n",
       "      <td>-1.104684</td>\n",
       "      <td>-2.629464</td>\n",
       "      <td>-1.594722</td>\n",
       "      <td>2.888369</td>\n",
       "    </tr>\n",
       "    <tr>\n",
       "      <th>...</th>\n",
       "      <td>...</td>\n",
       "      <td>...</td>\n",
       "      <td>...</td>\n",
       "      <td>...</td>\n",
       "      <td>...</td>\n",
       "    </tr>\n",
       "    <tr>\n",
       "      <th>2021-03-26</th>\n",
       "      <td>0.418532</td>\n",
       "      <td>0.086855</td>\n",
       "      <td>0.372799</td>\n",
       "      <td>0.632971</td>\n",
       "      <td>1.090595</td>\n",
       "    </tr>\n",
       "    <tr>\n",
       "      <th>2021-03-29</th>\n",
       "      <td>-0.284890</td>\n",
       "      <td>0.219524</td>\n",
       "      <td>0.216955</td>\n",
       "      <td>0.290982</td>\n",
       "      <td>0.937433</td>\n",
       "    </tr>\n",
       "    <tr>\n",
       "      <th>2021-03-30</th>\n",
       "      <td>0.401784</td>\n",
       "      <td>-0.529114</td>\n",
       "      <td>-0.044060</td>\n",
       "      <td>0.272908</td>\n",
       "      <td>1.122128</td>\n",
       "    </tr>\n",
       "    <tr>\n",
       "      <th>2021-03-31</th>\n",
       "      <td>0.133814</td>\n",
       "      <td>-0.699465</td>\n",
       "      <td>-0.215242</td>\n",
       "      <td>0.455208</td>\n",
       "      <td>1.151034</td>\n",
       "    </tr>\n",
       "    <tr>\n",
       "      <th>2021-04-01</th>\n",
       "      <td>-0.904572</td>\n",
       "      <td>-1.338100</td>\n",
       "      <td>-3.035275</td>\n",
       "      <td>-1.753885</td>\n",
       "      <td>1.107863</td>\n",
       "    </tr>\n",
       "  </tbody>\n",
       "</table>\n",
       "<p>2540 rows × 5 columns</p>\n",
       "</div>"
      ],
      "text/plain": [
       "            daily_tweets  neg_sentiment  pos_sentiment  compound_sentiment  \\\n",
       "date                                                                         \n",
       "2011-01-03     -0.787335      -1.338100       1.858724            1.293901   \n",
       "2011-01-04     -0.871076       5.255186       0.153285           -0.796859   \n",
       "2011-01-05     -0.770587      -1.338100      -0.402176            0.660424   \n",
       "2011-01-06     -0.653350       2.089659      -0.792568           -1.533785   \n",
       "2011-01-07     -0.485868      -1.104684      -2.629464           -1.594722   \n",
       "...                  ...            ...            ...                 ...   \n",
       "2021-03-26      0.418532       0.086855       0.372799            0.632971   \n",
       "2021-03-29     -0.284890       0.219524       0.216955            0.290982   \n",
       "2021-03-30      0.401784      -0.529114      -0.044060            0.272908   \n",
       "2021-03-31      0.133814      -0.699465      -0.215242            0.455208   \n",
       "2021-04-01     -0.904572      -1.338100      -3.035275           -1.753885   \n",
       "\n",
       "            closing_price  \n",
       "date                       \n",
       "2011-01-03       2.858337  \n",
       "2011-01-04       2.796021  \n",
       "2011-01-05       2.814040  \n",
       "2011-01-06       2.924031  \n",
       "2011-01-07       2.888369  \n",
       "...                   ...  \n",
       "2021-03-26       1.090595  \n",
       "2021-03-29       0.937433  \n",
       "2021-03-30       1.122128  \n",
       "2021-03-31       1.151034  \n",
       "2021-04-01       1.107863  \n",
       "\n",
       "[2540 rows x 5 columns]"
      ]
     },
     "execution_count": 32,
     "metadata": {},
     "output_type": "execute_result"
    }
   ],
   "source": [
    "fslr_z_score"
   ]
  },
  {
   "cell_type": "markdown",
   "metadata": {},
   "source": [
    "# FSLR"
   ]
  },
  {
   "cell_type": "code",
   "execution_count": null,
   "metadata": {},
   "outputs": [],
   "source": [
    "def plot_popularity_closing(start, end):\n",
    "    "
   ]
  },
  {
   "cell_type": "code",
   "execution_count": null,
   "metadata": {},
   "outputs": [],
   "source": [
    "fslr_z_score['2020-01-01':'2021-01-01'][['closing_price','daily_tweets']].plot()"
   ]
  },
  {
   "cell_type": "code",
   "execution_count": 40,
   "metadata": {},
   "outputs": [
    {
     "data": {
      "image/png": "[encoded data removed]",
      "text/plain": [
       "<Figure size 576x504 with 1 Axes>"
      ]
     },
     "metadata": {
      "needs_background": "light"
     },
     "output_type": "display_data"
    }
   ],
   "source": [
    "title='Starbucks Closing Stock Prices'\n",
    "ylabel='Closing Price (USD)'\n",
    "xlabel='Closing Date'\n",
    "\n",
    "ax = fslr_z_score['2020-01-01':'2021-01-01'][['daily_tweets','closing_price']].plot(figsize=(8,7))\n"
   ]
  },
  {
   "cell_type": "code",
   "execution_count": null,
   "metadata": {},
   "outputs": [],
   "source": []
  },
  {
   "cell_type": "code",
   "execution_count": null,
   "metadata": {},
   "outputs": [],
   "source": []
  }
 ],
 "metadata": {
  "kernelspec": {
   "display_name": "Python 3",
   "language": "python",
   "name": "python3"
  },
  "language_info": {
   "codemirror_mode": {
    "name": "ipython",
    "version": 3
   },
   "file_extension": ".py",
   "mimetype": "text/x-python",
   "name": "python",
   "nbconvert_exporter": "python",
   "pygments_lexer": "ipython3",
   "version": "3.8.5"
  }
 },
 "nbformat": 4,
 "nbformat_minor": 4
}

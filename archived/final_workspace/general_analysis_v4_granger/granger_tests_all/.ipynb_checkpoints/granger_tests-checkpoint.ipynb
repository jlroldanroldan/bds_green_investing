{
 "cells": [
  {
   "cell_type": "code",
   "execution_count": 24,
   "metadata": {},
   "outputs": [],
   "source": [
    "# Import libraries\n",
    "import pandas as pd\n",
    "import numpy as np\n",
    "import seaborn as sns\n",
    "import matplotlib.pyplot as plt\n",
    "%matplotlib inline\n",
    "pd.set_option('display.max_colwidth', 100)\n",
    "\n",
    "from statsmodels.tsa.stattools import grangercausalitytests"
   ]
  },
  {
   "cell_type": "markdown",
   "metadata": {},
   "source": [
    "# Import data"
   ]
  },
  {
   "cell_type": "code",
   "execution_count": 25,
   "metadata": {},
   "outputs": [],
   "source": [
    "fslr = pd.read_csv('./data_first_solar_FSLR.csv')\n",
    "gctay = pd.read_csv('./data_siemens_gamesa_GCTAY.csv')\n",
    "spwr = pd.read_csv('./data_sunpower_SPWR.csv')\n",
    "run = pd.read_csv('./data_sunrun_RUN.csv')\n",
    "plug = pd.read_csv('./data_plug_power_PLUG.csv')"
   ]
  },
  {
   "cell_type": "markdown",
   "metadata": {},
   "source": [
    "## Set datatime index"
   ]
  },
  {
   "cell_type": "code",
   "execution_count": 26,
   "metadata": {},
   "outputs": [],
   "source": [
    "def set_datetime_index(df):\n",
    "    df['date'] = pd.to_datetime(df['Date'], errors='coerce')\n",
    "    df.set_index('date', inplace=True)\n",
    "    df.drop('Date', axis=1, inplace=True)\n",
    "    return df"
   ]
  },
  {
   "cell_type": "code",
   "execution_count": 27,
   "metadata": {},
   "outputs": [],
   "source": [
    "fslr = set_datetime_index(fslr)\n",
    "gctay = set_datetime_index(gctay)\n",
    "spwr = set_datetime_index(spwr)\n",
    "run = set_datetime_index(run)\n",
    "plug = set_datetime_index(plug)"
   ]
  },
  {
   "cell_type": "markdown",
   "metadata": {},
   "source": [
    "# Import data normalized"
   ]
  },
  {
   "cell_type": "code",
   "execution_count": 28,
   "metadata": {},
   "outputs": [],
   "source": [
    "fslr_normalized = pd.read_csv('./data_first_solar_FSLR_normalized.csv')\n",
    "gctay_normalized = pd.read_csv('./data_siemens_gamesa_GCTAY_normalized.csv')\n",
    "spwr_normalized = pd.read_csv('./data_sunpower_SPWR_normalized.csv')\n",
    "run_normalized = pd.read_csv('./data_sunrun_RUN_normalized.csv')\n",
    "plug_normalized = pd.read_csv('./data_plug_power_PLUG_normalized.csv')"
   ]
  },
  {
   "cell_type": "code",
   "execution_count": 29,
   "metadata": {},
   "outputs": [],
   "source": [
    "fslr_normalized = set_datetime_index(fslr_normalized)\n",
    "gctay_normalized = set_datetime_index(gctay_normalized)\n",
    "spwr_normalized = set_datetime_index(spwr_normalized)\n",
    "run_normalized = set_datetime_index(run_normalized)\n",
    "plug_normalized = set_datetime_index(plug_normalized)"
   ]
  },
  {
   "cell_type": "markdown",
   "metadata": {},
   "source": [
    "# Granger Tests - FSLR"
   ]
  },
  {
   "cell_type": "code",
   "execution_count": 135,
   "metadata": {},
   "outputs": [],
   "source": [
    "# column_names = [\"ticker\", \"lag\", \"F\", \"p\"]\n",
    "# granger_res_lags = pd.DataFrame(columns=column_names)"
   ]
  },
  {
   "cell_type": "code",
   "execution_count": 156,
   "metadata": {},
   "outputs": [],
   "source": [
    "def find_lags(test, ticker):\n",
    "    lag_found = False\n",
    "    lags = {}\n",
    "    \n",
    "    for i in range(1, maxlag):\n",
    "        p = test[i][0]['ssr_ftest'][1]\n",
    "        if (p < 0.05):\n",
    "            print('lag ' + str(i) +  ' with p = ' + str(p))\n",
    "            lags[i] = test[i][0]['ssr_ftest'] \n",
    "            lag_found = True\n",
    "\n",
    "    if (lag_found == True):\n",
    "        return lags\n",
    "    else:\n",
    "        print(\"lag not found\")\n",
    "    "
   ]
  },
  {
   "cell_type": "code",
   "execution_count": null,
   "metadata": {},
   "outputs": [],
   "source": []
  },
  {
   "cell_type": "code",
   "execution_count": 157,
   "metadata": {},
   "outputs": [],
   "source": [
    "maxlag = 10"
   ]
  },
  {
   "cell_type": "markdown",
   "metadata": {},
   "source": [
    "## res_fslr_1: closing_price and compound_sentiment"
   ]
  },
  {
   "cell_type": "code",
   "execution_count": 158,
   "metadata": {
    "collapsed": true
   },
   "outputs": [
    {
     "name": "stdout",
     "output_type": "stream",
     "text": [
      "\n",
      "Granger Causality\n",
      "number of lags (no zero) 1\n",
      "ssr based F test:         F=5.6362  , p=0.0177  , df_denom=2536, df_num=1\n",
      "ssr based chi2 test:   chi2=5.6428  , p=0.0175  , df=1\n",
      "likelihood ratio test: chi2=5.6366  , p=0.0176  , df=1\n",
      "parameter F test:         F=5.6362  , p=0.0177  , df_denom=2536, df_num=1\n",
      "\n",
      "Granger Causality\n",
      "number of lags (no zero) 2\n",
      "ssr based F test:         F=3.2807  , p=0.0378  , df_denom=2533, df_num=2\n",
      "ssr based chi2 test:   chi2=6.5743  , p=0.0374  , df=2\n",
      "likelihood ratio test: chi2=6.5658  , p=0.0375  , df=2\n",
      "parameter F test:         F=3.2807  , p=0.0378  , df_denom=2533, df_num=2\n",
      "\n",
      "Granger Causality\n",
      "number of lags (no zero) 3\n",
      "ssr based F test:         F=2.4702  , p=0.0602  , df_denom=2530, df_num=3\n",
      "ssr based chi2 test:   chi2=7.4310  , p=0.0594  , df=3\n",
      "likelihood ratio test: chi2=7.4201  , p=0.0596  , df=3\n",
      "parameter F test:         F=2.4702  , p=0.0602  , df_denom=2530, df_num=3\n",
      "\n",
      "Granger Causality\n",
      "number of lags (no zero) 4\n",
      "ssr based F test:         F=1.8753  , p=0.1120  , df_denom=2527, df_num=4\n",
      "ssr based chi2 test:   chi2=7.5281  , p=0.1105  , df=4\n",
      "likelihood ratio test: chi2=7.5169  , p=0.1110  , df=4\n",
      "parameter F test:         F=1.8753  , p=0.1120  , df_denom=2527, df_num=4\n",
      "\n",
      "Granger Causality\n",
      "number of lags (no zero) 5\n",
      "ssr based F test:         F=1.6991  , p=0.1314  , df_denom=2524, df_num=5\n",
      "ssr based chi2 test:   chi2=8.5323  , p=0.1292  , df=5\n",
      "likelihood ratio test: chi2=8.5180  , p=0.1299  , df=5\n",
      "parameter F test:         F=1.6991  , p=0.1314  , df_denom=2524, df_num=5\n",
      "\n",
      "Granger Causality\n",
      "number of lags (no zero) 6\n",
      "ssr based F test:         F=1.6448  , p=0.1308  , df_denom=2521, df_num=6\n",
      "ssr based chi2 test:   chi2=9.9197  , p=0.1281  , df=6\n",
      "likelihood ratio test: chi2=9.9004  , p=0.1289  , df=6\n",
      "parameter F test:         F=1.6448  , p=0.1308  , df_denom=2521, df_num=6\n",
      "\n",
      "Granger Causality\n",
      "number of lags (no zero) 7\n",
      "ssr based F test:         F=1.5152  , p=0.1573  , df_denom=2518, df_num=7\n",
      "ssr based chi2 test:   chi2=10.6698 , p=0.1537  , df=7\n",
      "likelihood ratio test: chi2=10.6474 , p=0.1548  , df=7\n",
      "parameter F test:         F=1.5152  , p=0.1573  , df_denom=2518, df_num=7\n",
      "\n",
      "Granger Causality\n",
      "number of lags (no zero) 8\n",
      "ssr based F test:         F=1.5353  , p=0.1397  , df_denom=2515, df_num=8\n",
      "ssr based chi2 test:   chi2=12.3657 , p=0.1356  , df=8\n",
      "likelihood ratio test: chi2=12.3356 , p=0.1368  , df=8\n",
      "parameter F test:         F=1.5353  , p=0.1397  , df_denom=2515, df_num=8\n",
      "\n",
      "Granger Causality\n",
      "number of lags (no zero) 9\n",
      "ssr based F test:         F=1.3811  , p=0.1908  , df_denom=2512, df_num=9\n",
      "ssr based chi2 test:   chi2=12.5243 , p=0.1853  , df=9\n",
      "likelihood ratio test: chi2=12.4934 , p=0.1869  , df=9\n",
      "parameter F test:         F=1.3811  , p=0.1908  , df_denom=2512, df_num=9\n",
      "\n",
      "Granger Causality\n",
      "number of lags (no zero) 10\n",
      "ssr based F test:         F=1.2297  , p=0.2664  , df_denom=2509, df_num=10\n",
      "ssr based chi2 test:   chi2=12.3996 , p=0.2592  , df=10\n",
      "likelihood ratio test: chi2=12.3693 , p=0.2611  , df=10\n",
      "parameter F test:         F=1.2297  , p=0.2664  , df_denom=2509, df_num=10\n"
     ]
    }
   ],
   "source": [
    "input_data = np.asarray(fslr_normalized[['closing_price','compound_sentiment']])\n",
    "res_fslr_1 = grangercausalitytests(input_data, maxlag, addconst = True, verbose=True);"
   ]
  },
  {
   "cell_type": "code",
   "execution_count": 159,
   "metadata": {},
   "outputs": [
    {
     "name": "stdout",
     "output_type": "stream",
     "text": [
      "lag 1 with p = 0.017667746271182356\n",
      "lag 2 with p = 0.03776220147425138\n"
     ]
    },
    {
     "data": {
      "text/plain": [
       "{1: (5.636161101099211, 0.017667746271182356, 2536.0, 1),\n",
       " 2: (3.2806883928127704, 0.03776220147425138, 2533.0, 2)}"
      ]
     },
     "execution_count": 159,
     "metadata": {},
     "output_type": "execute_result"
    }
   ],
   "source": [
    "find_lags(res_fslr_1, 'FSLR')"
   ]
  },
  {
   "cell_type": "markdown",
   "metadata": {},
   "source": [
    "## res_fslr_2: closing_price and pos_sentiment"
   ]
  },
  {
   "cell_type": "code",
   "execution_count": 147,
   "metadata": {
    "collapsed": true
   },
   "outputs": [
    {
     "name": "stdout",
     "output_type": "stream",
     "text": [
      "\n",
      "Granger Causality\n",
      "number of lags (no zero) 1\n",
      "ssr based F test:         F=5.6362  , p=0.0177  , df_denom=2536, df_num=1\n",
      "ssr based chi2 test:   chi2=5.6428  , p=0.0175  , df=1\n",
      "likelihood ratio test: chi2=5.6366  , p=0.0176  , df=1\n",
      "parameter F test:         F=5.6362  , p=0.0177  , df_denom=2536, df_num=1\n",
      "\n",
      "Granger Causality\n",
      "number of lags (no zero) 2\n",
      "ssr based F test:         F=3.2807  , p=0.0378  , df_denom=2533, df_num=2\n",
      "ssr based chi2 test:   chi2=6.5743  , p=0.0374  , df=2\n",
      "likelihood ratio test: chi2=6.5658  , p=0.0375  , df=2\n",
      "parameter F test:         F=3.2807  , p=0.0378  , df_denom=2533, df_num=2\n",
      "\n",
      "Granger Causality\n",
      "number of lags (no zero) 3\n",
      "ssr based F test:         F=2.4702  , p=0.0602  , df_denom=2530, df_num=3\n",
      "ssr based chi2 test:   chi2=7.4310  , p=0.0594  , df=3\n",
      "likelihood ratio test: chi2=7.4201  , p=0.0596  , df=3\n",
      "parameter F test:         F=2.4702  , p=0.0602  , df_denom=2530, df_num=3\n",
      "\n",
      "Granger Causality\n",
      "number of lags (no zero) 4\n",
      "ssr based F test:         F=1.8753  , p=0.1120  , df_denom=2527, df_num=4\n",
      "ssr based chi2 test:   chi2=7.5281  , p=0.1105  , df=4\n",
      "likelihood ratio test: chi2=7.5169  , p=0.1110  , df=4\n",
      "parameter F test:         F=1.8753  , p=0.1120  , df_denom=2527, df_num=4\n",
      "\n",
      "Granger Causality\n",
      "number of lags (no zero) 5\n",
      "ssr based F test:         F=1.6991  , p=0.1314  , df_denom=2524, df_num=5\n",
      "ssr based chi2 test:   chi2=8.5323  , p=0.1292  , df=5\n",
      "likelihood ratio test: chi2=8.5180  , p=0.1299  , df=5\n",
      "parameter F test:         F=1.6991  , p=0.1314  , df_denom=2524, df_num=5\n",
      "\n",
      "Granger Causality\n",
      "number of lags (no zero) 6\n",
      "ssr based F test:         F=1.6448  , p=0.1308  , df_denom=2521, df_num=6\n",
      "ssr based chi2 test:   chi2=9.9197  , p=0.1281  , df=6\n",
      "likelihood ratio test: chi2=9.9004  , p=0.1289  , df=6\n",
      "parameter F test:         F=1.6448  , p=0.1308  , df_denom=2521, df_num=6\n",
      "\n",
      "Granger Causality\n",
      "number of lags (no zero) 7\n",
      "ssr based F test:         F=1.5152  , p=0.1573  , df_denom=2518, df_num=7\n",
      "ssr based chi2 test:   chi2=10.6698 , p=0.1537  , df=7\n",
      "likelihood ratio test: chi2=10.6474 , p=0.1548  , df=7\n",
      "parameter F test:         F=1.5152  , p=0.1573  , df_denom=2518, df_num=7\n",
      "\n",
      "Granger Causality\n",
      "number of lags (no zero) 8\n",
      "ssr based F test:         F=1.5353  , p=0.1397  , df_denom=2515, df_num=8\n",
      "ssr based chi2 test:   chi2=12.3657 , p=0.1356  , df=8\n",
      "likelihood ratio test: chi2=12.3356 , p=0.1368  , df=8\n",
      "parameter F test:         F=1.5353  , p=0.1397  , df_denom=2515, df_num=8\n",
      "\n",
      "Granger Causality\n",
      "number of lags (no zero) 9\n",
      "ssr based F test:         F=1.3811  , p=0.1908  , df_denom=2512, df_num=9\n",
      "ssr based chi2 test:   chi2=12.5243 , p=0.1853  , df=9\n",
      "likelihood ratio test: chi2=12.4934 , p=0.1869  , df=9\n",
      "parameter F test:         F=1.3811  , p=0.1908  , df_denom=2512, df_num=9\n",
      "\n",
      "Granger Causality\n",
      "number of lags (no zero) 10\n",
      "ssr based F test:         F=1.2297  , p=0.2664  , df_denom=2509, df_num=10\n",
      "ssr based chi2 test:   chi2=12.3996 , p=0.2592  , df=10\n",
      "likelihood ratio test: chi2=12.3693 , p=0.2611  , df=10\n",
      "parameter F test:         F=1.2297  , p=0.2664  , df_denom=2509, df_num=10\n"
     ]
    }
   ],
   "source": [
    "input_data = np.asarray(fslr_normalized[['closing_price','compound_sentiment']])\n",
    "res_fslr_2 = grangercausalitytests(input_data, maxlag, addconst = True, verbose=True);"
   ]
  },
  {
   "cell_type": "code",
   "execution_count": 127,
   "metadata": {},
   "outputs": [
    {
     "name": "stdout",
     "output_type": "stream",
     "text": [
      "lag 1 with p = 0.017667746271182356\n",
      "lag 2 with p = 0.03776220147425138\n"
     ]
    }
   ],
   "source": [
    "res_fslr_2_lags = find_lags(res_fslr_2,'FSLR')"
   ]
  },
  {
   "cell_type": "code",
   "execution_count": 128,
   "metadata": {},
   "outputs": [
    {
     "data": {
      "text/html": [
       "<div>\n",
       "<style scoped>\n",
       "    .dataframe tbody tr th:only-of-type {\n",
       "        vertical-align: middle;\n",
       "    }\n",
       "\n",
       "    .dataframe tbody tr th {\n",
       "        vertical-align: top;\n",
       "    }\n",
       "\n",
       "    .dataframe thead th {\n",
       "        text-align: right;\n",
       "    }\n",
       "</style>\n",
       "<table border=\"1\" class=\"dataframe\">\n",
       "  <thead>\n",
       "    <tr style=\"text-align: right;\">\n",
       "      <th></th>\n",
       "      <th>ticker</th>\n",
       "      <th>lag</th>\n",
       "      <th>F</th>\n",
       "      <th>p</th>\n",
       "    </tr>\n",
       "  </thead>\n",
       "  <tbody>\n",
       "  </tbody>\n",
       "</table>\n",
       "</div>"
      ],
      "text/plain": [
       "Empty DataFrame\n",
       "Columns: [ticker, lag, F, p]\n",
       "Index: []"
      ]
     },
     "execution_count": 128,
     "metadata": {},
     "output_type": "execute_result"
    }
   ],
   "source": [
    "res_fslr_2_lags"
   ]
  },
  {
   "cell_type": "markdown",
   "metadata": {},
   "source": [
    "# f-tests"
   ]
  },
  {
   "cell_type": "code",
   "execution_count": null,
   "metadata": {},
   "outputs": [],
   "source": [
    "input_data = np.asarray(fslr_normalized[['closing_price','compound_sentiment']])\n",
    "test = grangercausalitytests(input_data, maxlag, addconst = True, verbose=True);"
   ]
  },
  {
   "cell_type": "code",
   "execution_count": 182,
   "metadata": {
    "collapsed": true
   },
   "outputs": [
    {
     "data": {
      "text/plain": [
       "{1: ({'ssr_ftest': (5.636161101099211, 0.017667746271182356, 2536.0, 1),\n",
       "   'ssr_chi2test': (5.642828484105243, 0.017526909328234485, 1),\n",
       "   'lrtest': (5.636567276123969, 0.01758961339359395, 1),\n",
       "   'params_ftest': (5.636161101098851, 0.017667746271182984, 2536.0, 1.0)},\n",
       "  [<statsmodels.regression.linear_model.RegressionResultsWrapper at 0x7ff6a5a8fa00>,\n",
       "   <statsmodels.regression.linear_model.RegressionResultsWrapper at 0x7ff6a5a8fac0>,\n",
       "   array([[0., 1., 0.]])]),\n",
       " 2: ({'ssr_ftest': (3.2806883928127704, 0.03776220147425138, 2533.0, 2),\n",
       "   'ssr_chi2test': (6.574328575569532, 0.0373596405177097, 2),\n",
       "   'lrtest': (6.565828319267894, 0.03751876168072078, 2),\n",
       "   'params_ftest': (3.280688392812215, 0.037762201474274136, 2533.0, 2.0)},\n",
       "  [<statsmodels.regression.linear_model.RegressionResultsWrapper at 0x7ff6a5a8fd00>,\n",
       "   <statsmodels.regression.linear_model.RegressionResultsWrapper at 0x7ff6a5a92550>,\n",
       "   array([[0., 0., 1., 0., 0.],\n",
       "          [0., 0., 0., 1., 0.]])]),\n",
       " 3: ({'ssr_ftest': (2.4701680384459936, 0.06015390044680566, 2530.0, 3),\n",
       "   'ssr_chi2test': (7.431007486408086, 0.05935791708269377, 3),\n",
       "   'lrtest': (7.420145783486078, 0.05964614097571676, 3),\n",
       "   'params_ftest': (2.47016803844565, 0.06015390044683253, 2530.0, 3.0)},\n",
       "  [<statsmodels.regression.linear_model.RegressionResultsWrapper at 0x7ff6a5a920a0>,\n",
       "   <statsmodels.regression.linear_model.RegressionResultsWrapper at 0x7ff6a5a925b0>,\n",
       "   array([[0., 0., 0., 1., 0., 0., 0.],\n",
       "          [0., 0., 0., 0., 1., 0., 0.],\n",
       "          [0., 0., 0., 0., 0., 1., 0.]])]),\n",
       " 4: ({'ssr_ftest': (1.8753454324685632, 0.11200807738113124, 2527.0, 4),\n",
       "   'ssr_chi2test': (7.528098166585321, 0.11047664598710938, 4),\n",
       "   'lrtest': (7.516946676645603, 0.11096433353965125, 4),\n",
       "   'params_ftest': (1.8753454324683099, 0.11200807738117054, 2527.0, 4.0)},\n",
       "  [<statsmodels.regression.linear_model.RegressionResultsWrapper at 0x7ff6a24cd8e0>,\n",
       "   <statsmodels.regression.linear_model.RegressionResultsWrapper at 0x7ff6a24cdeb0>,\n",
       "   array([[0., 0., 0., 0., 1., 0., 0., 0., 0.],\n",
       "          [0., 0., 0., 0., 0., 1., 0., 0., 0.],\n",
       "          [0., 0., 0., 0., 0., 0., 1., 0., 0.],\n",
       "          [0., 0., 0., 0., 0., 0., 0., 1., 0.]])]),\n",
       " 5: ({'ssr_ftest': (1.6990520393238344, 0.13140581696825984, 2524.0, 5),\n",
       "   'ssr_chi2test': (8.532283913799368, 0.12923811175861252, 5),\n",
       "   'lrtest': (8.51795710370061, 0.12990612184768444, 5),\n",
       "   'params_ftest': (1.6990520393236306, 0.1314058169682818, 2524.0, 5.0)},\n",
       "  [<statsmodels.regression.linear_model.RegressionResultsWrapper at 0x7ff6a24c0280>,\n",
       "   <statsmodels.regression.linear_model.RegressionResultsWrapper at 0x7ff6a24c0130>,\n",
       "   array([[0., 0., 0., 0., 0., 1., 0., 0., 0., 0., 0.],\n",
       "          [0., 0., 0., 0., 0., 0., 1., 0., 0., 0., 0.],\n",
       "          [0., 0., 0., 0., 0., 0., 0., 1., 0., 0., 0.],\n",
       "          [0., 0., 0., 0., 0., 0., 0., 0., 1., 0., 0.],\n",
       "          [0., 0., 0., 0., 0., 0., 0., 0., 0., 1., 0.]])]),\n",
       " 6: ({'ssr_ftest': (1.6448077075371983, 0.13078756154191398, 2521.0, 6),\n",
       "   'ssr_chi2test': (9.919736765329457, 0.12807302693095218, 6),\n",
       "   'lrtest': (9.900371113268193, 0.12891079494166596, 6),\n",
       "   'params_ftest': (1.6448077075371328, 0.1307875615419407, 2521.0, 6.0)},\n",
       "  [<statsmodels.regression.linear_model.RegressionResultsWrapper at 0x7ff6a5a64970>,\n",
       "   <statsmodels.regression.linear_model.RegressionResultsWrapper at 0x7ff6a5a64940>,\n",
       "   array([[0., 0., 0., 0., 0., 0., 1., 0., 0., 0., 0., 0., 0.],\n",
       "          [0., 0., 0., 0., 0., 0., 0., 1., 0., 0., 0., 0., 0.],\n",
       "          [0., 0., 0., 0., 0., 0., 0., 0., 1., 0., 0., 0., 0.],\n",
       "          [0., 0., 0., 0., 0., 0., 0., 0., 0., 1., 0., 0., 0.],\n",
       "          [0., 0., 0., 0., 0., 0., 0., 0., 0., 0., 1., 0., 0.],\n",
       "          [0., 0., 0., 0., 0., 0., 0., 0., 0., 0., 0., 1., 0.]])]),\n",
       " 7: ({'ssr_ftest': (1.5152291181835817, 0.15729477257001387, 2518.0, 7),\n",
       "   'ssr_chi2test': (10.669788520457937, 0.1536853093522966, 7),\n",
       "   'lrtest': (10.647379184712918, 0.15475686546971582, 7),\n",
       "   'params_ftest': (1.5152291181832833, 0.1572947725701162, 2518.0, 7.0)},\n",
       "  [<statsmodels.regression.linear_model.RegressionResultsWrapper at 0x7ff6a5a64550>,\n",
       "   <statsmodels.regression.linear_model.RegressionResultsWrapper at 0x7ff6a5a64190>,\n",
       "   array([[0., 0., 0., 0., 0., 0., 0., 1., 0., 0., 0., 0., 0., 0., 0.],\n",
       "          [0., 0., 0., 0., 0., 0., 0., 0., 1., 0., 0., 0., 0., 0., 0.],\n",
       "          [0., 0., 0., 0., 0., 0., 0., 0., 0., 1., 0., 0., 0., 0., 0.],\n",
       "          [0., 0., 0., 0., 0., 0., 0., 0., 0., 0., 1., 0., 0., 0., 0.],\n",
       "          [0., 0., 0., 0., 0., 0., 0., 0., 0., 0., 0., 1., 0., 0., 0.],\n",
       "          [0., 0., 0., 0., 0., 0., 0., 0., 0., 0., 0., 0., 1., 0., 0.],\n",
       "          [0., 0., 0., 0., 0., 0., 0., 0., 0., 0., 0., 0., 0., 1., 0.]])]),\n",
       " 8: ({'ssr_ftest': (1.5353402073197975, 0.13966469975183618, 2515.0, 8),\n",
       "   'ssr_chi2test': (12.365746019669908, 0.13561599876551989, 8),\n",
       "   'lrtest': (12.335648145948653, 0.1368446254940689, 8),\n",
       "   'params_ftest': (1.5353402073193985, 0.13966469975194964, 2515.0, 8.0)},\n",
       "  [<statsmodels.regression.linear_model.RegressionResultsWrapper at 0x7ff6a5a5f8e0>,\n",
       "   <statsmodels.regression.linear_model.RegressionResultsWrapper at 0x7ff6a5a643a0>,\n",
       "   array([[0., 0., 0., 0., 0., 0., 0., 0., 1., 0., 0., 0., 0., 0., 0., 0.,\n",
       "           0.],\n",
       "          [0., 0., 0., 0., 0., 0., 0., 0., 0., 1., 0., 0., 0., 0., 0., 0.,\n",
       "           0.],\n",
       "          [0., 0., 0., 0., 0., 0., 0., 0., 0., 0., 1., 0., 0., 0., 0., 0.,\n",
       "           0.],\n",
       "          [0., 0., 0., 0., 0., 0., 0., 0., 0., 0., 0., 1., 0., 0., 0., 0.,\n",
       "           0.],\n",
       "          [0., 0., 0., 0., 0., 0., 0., 0., 0., 0., 0., 0., 1., 0., 0., 0.,\n",
       "           0.],\n",
       "          [0., 0., 0., 0., 0., 0., 0., 0., 0., 0., 0., 0., 0., 1., 0., 0.,\n",
       "           0.],\n",
       "          [0., 0., 0., 0., 0., 0., 0., 0., 0., 0., 0., 0., 0., 0., 1., 0.,\n",
       "           0.],\n",
       "          [0., 0., 0., 0., 0., 0., 0., 0., 0., 0., 0., 0., 0., 0., 0., 1.,\n",
       "           0.]])]),\n",
       " 9: ({'ssr_ftest': (1.3811392055658518, 0.19081538927957462, 2512.0, 9),\n",
       "   'ssr_chi2test': (12.524271482318687, 0.18533994327755637, 9),\n",
       "   'lrtest': (12.493386094665766, 0.1869012020234901, 9),\n",
       "   'params_ftest': (1.381139205565621, 0.1908153892796571, 2512.0, 9.0)},\n",
       "  [<statsmodels.regression.linear_model.RegressionResultsWrapper at 0x7ff6a5a2d9a0>,\n",
       "   <statsmodels.regression.linear_model.RegressionResultsWrapper at 0x7ff6a5a2de80>,\n",
       "   array([[0., 0., 0., 0., 0., 0., 0., 0., 0., 1., 0., 0., 0., 0., 0., 0.,\n",
       "           0., 0., 0.],\n",
       "          [0., 0., 0., 0., 0., 0., 0., 0., 0., 0., 1., 0., 0., 0., 0., 0.,\n",
       "           0., 0., 0.],\n",
       "          [0., 0., 0., 0., 0., 0., 0., 0., 0., 0., 0., 1., 0., 0., 0., 0.,\n",
       "           0., 0., 0.],\n",
       "          [0., 0., 0., 0., 0., 0., 0., 0., 0., 0., 0., 0., 1., 0., 0., 0.,\n",
       "           0., 0., 0.],\n",
       "          [0., 0., 0., 0., 0., 0., 0., 0., 0., 0., 0., 0., 0., 1., 0., 0.,\n",
       "           0., 0., 0.],\n",
       "          [0., 0., 0., 0., 0., 0., 0., 0., 0., 0., 0., 0., 0., 0., 1., 0.,\n",
       "           0., 0., 0.],\n",
       "          [0., 0., 0., 0., 0., 0., 0., 0., 0., 0., 0., 0., 0., 0., 0., 1.,\n",
       "           0., 0., 0.],\n",
       "          [0., 0., 0., 0., 0., 0., 0., 0., 0., 0., 0., 0., 0., 0., 0., 0.,\n",
       "           1., 0., 0.],\n",
       "          [0., 0., 0., 0., 0., 0., 0., 0., 0., 0., 0., 0., 0., 0., 0., 0.,\n",
       "           0., 1., 0.]])]),\n",
       " 10: ({'ssr_ftest': (1.2296648051765033, 0.2663617283617906, 2509.0, 10),\n",
       "   'ssr_chi2test': (12.399569378623173, 0.2592042725965268, 10),\n",
       "   'lrtest': (12.369283052885294, 0.2611016120292063, 10),\n",
       "   'params_ftest': (1.229664805176697, 0.2663617283616744, 2509.0, 10.0)},\n",
       "  [<statsmodels.regression.linear_model.RegressionResultsWrapper at 0x7ff6a5a1b6a0>,\n",
       "   <statsmodels.regression.linear_model.RegressionResultsWrapper at 0x7ff6a24d9340>,\n",
       "   array([[0., 0., 0., 0., 0., 0., 0., 0., 0., 0., 1., 0., 0., 0., 0., 0.,\n",
       "           0., 0., 0., 0., 0.],\n",
       "          [0., 0., 0., 0., 0., 0., 0., 0., 0., 0., 0., 1., 0., 0., 0., 0.,\n",
       "           0., 0., 0., 0., 0.],\n",
       "          [0., 0., 0., 0., 0., 0., 0., 0., 0., 0., 0., 0., 1., 0., 0., 0.,\n",
       "           0., 0., 0., 0., 0.],\n",
       "          [0., 0., 0., 0., 0., 0., 0., 0., 0., 0., 0., 0., 0., 1., 0., 0.,\n",
       "           0., 0., 0., 0., 0.],\n",
       "          [0., 0., 0., 0., 0., 0., 0., 0., 0., 0., 0., 0., 0., 0., 1., 0.,\n",
       "           0., 0., 0., 0., 0.],\n",
       "          [0., 0., 0., 0., 0., 0., 0., 0., 0., 0., 0., 0., 0., 0., 0., 1.,\n",
       "           0., 0., 0., 0., 0.],\n",
       "          [0., 0., 0., 0., 0., 0., 0., 0., 0., 0., 0., 0., 0., 0., 0., 0.,\n",
       "           1., 0., 0., 0., 0.],\n",
       "          [0., 0., 0., 0., 0., 0., 0., 0., 0., 0., 0., 0., 0., 0., 0., 0.,\n",
       "           0., 1., 0., 0., 0.],\n",
       "          [0., 0., 0., 0., 0., 0., 0., 0., 0., 0., 0., 0., 0., 0., 0., 0.,\n",
       "           0., 0., 1., 0., 0.],\n",
       "          [0., 0., 0., 0., 0., 0., 0., 0., 0., 0., 0., 0., 0., 0., 0., 0.,\n",
       "           0., 0., 0., 1., 0.]])])}"
      ]
     },
     "execution_count": 182,
     "metadata": {},
     "output_type": "execute_result"
    }
   ],
   "source": [
    "test"
   ]
  },
  {
   "cell_type": "code",
   "execution_count": 200,
   "metadata": {},
   "outputs": [],
   "source": [
    "# column_names = [\"F\", \"p\", \"lag\", \"ticker\",  \"x2\", \"x1\"]\n",
    "# granger_res_lags = pd.DataFrame(columns=column_names)"
   ]
  },
  {
   "cell_type": "code",
   "execution_count": 201,
   "metadata": {},
   "outputs": [],
   "source": [
    "# granger_res_lags = pd.DataFrame(f_tests_df, columns=column_names)"
   ]
  },
  {
   "cell_type": "code",
   "execution_count": 278,
   "metadata": {},
   "outputs": [],
   "source": [
    "def find_lags(test, ticker):\n",
    "    lag_found = False\n",
    "    lags = []\n",
    "    \n",
    "    for i in range(1, maxlag):\n",
    "        p = test[i][0]['ssr_ftest'][1]\n",
    "        if (p < 0.05):\n",
    "            print('lag ' + str(i) +  ' with p = ' + str(p))\n",
    "            lags.append(test[i][0]['ssr_ftest'])\n",
    "            lag_found = True\n",
    "\n",
    "    if (lag_found == True):\n",
    "        return lags\n",
    "    else:\n",
    "        print(\"lag not found\")"
   ]
  },
  {
   "cell_type": "code",
   "execution_count": 279,
   "metadata": {},
   "outputs": [
    {
     "name": "stdout",
     "output_type": "stream",
     "text": [
      "lag 1 with p = 0.017667746271182356\n",
      "lag 2 with p = 0.03776220147425138\n"
     ]
    }
   ],
   "source": [
    "lags = find_lags(test,'FSLR')"
   ]
  },
  {
   "cell_type": "code",
   "execution_count": 280,
   "metadata": {},
   "outputs": [
    {
     "data": {
      "text/plain": [
       "[(5.636161101099211, 0.017667746271182356, 2536.0, 1),\n",
       " (3.2806883928127704, 0.03776220147425138, 2533.0, 2)]"
      ]
     },
     "execution_count": 280,
     "metadata": {},
     "output_type": "execute_result"
    }
   ],
   "source": [
    "lags"
   ]
  },
  {
   "cell_type": "code",
   "execution_count": 281,
   "metadata": {},
   "outputs": [],
   "source": [
    "def store_lags(granger_res_lags, lags, ticker, x2, x1):\n",
    "    for i in lags:\n",
    "        F = i[0]\n",
    "        p = i[1]\n",
    "        lag = i[3]\n",
    "        new_row = pd.Series([F, p, lag, ticker, x2, x1], index=[\"F\", \"p\", \"lag\", \"ticker\",  \"x2\", \"x1\"])\n",
    "        print(new_row)\n",
    "        print(\"\\n\")\n",
    "        granger_res_lags.append(new_row, ignore_index=True)\n",
    "    \n",
    "    return granger_res_lags"
   ]
  },
  {
   "cell_type": "code",
   "execution_count": 282,
   "metadata": {},
   "outputs": [],
   "source": [
    "column_names = [\"F\", \"p\", \"lag\", \"ticker\",  \"x2\", \"x1\"]\n",
    "granger_res_lags = pd.DataFrame(columns=column_names)"
   ]
  },
  {
   "cell_type": "code",
   "execution_count": 283,
   "metadata": {},
   "outputs": [
    {
     "data": {
      "text/plain": [
       "[(5.636161101099211, 0.017667746271182356, 2536.0, 1),\n",
       " (3.2806883928127704, 0.03776220147425138, 2533.0, 2)]"
      ]
     },
     "execution_count": 283,
     "metadata": {},
     "output_type": "execute_result"
    }
   ],
   "source": [
    "lags"
   ]
  },
  {
   "cell_type": "code",
   "execution_count": 285,
   "metadata": {},
   "outputs": [
    {
     "name": "stdout",
     "output_type": "stream",
     "text": [
      "F                    5.63616\n",
      "p                  0.0176677\n",
      "lag                        1\n",
      "ticker                  FSLR\n",
      "x2             closing_price\n",
      "x1        compound_sentiment\n",
      "dtype: object\n",
      "\n",
      "\n",
      "F                    3.28069\n",
      "p                  0.0377622\n",
      "lag                        2\n",
      "ticker                  FSLR\n",
      "x2             closing_price\n",
      "x1        compound_sentiment\n",
      "dtype: object\n",
      "\n",
      "\n"
     ]
    }
   ],
   "source": [
    "store_lags(granger_res_lags, lags,'FSLR', 'closing_price', 'compound_sentiment')"
   ]
  },
  {
   "cell_type": "code",
   "execution_count": 293,
   "metadata": {},
   "outputs": [
    {
     "data": {
      "text/html": [
       "<div>\n",
       "<style scoped>\n",
       "    .dataframe tbody tr th:only-of-type {\n",
       "        vertical-align: middle;\n",
       "    }\n",
       "\n",
       "    .dataframe tbody tr th {\n",
       "        vertical-align: top;\n",
       "    }\n",
       "\n",
       "    .dataframe thead th {\n",
       "        text-align: right;\n",
       "    }\n",
       "</style>\n",
       "<table border=\"1\" class=\"dataframe\">\n",
       "  <thead>\n",
       "    <tr style=\"text-align: right;\">\n",
       "      <th></th>\n",
       "      <th>F</th>\n",
       "      <th>p</th>\n",
       "      <th>lag</th>\n",
       "      <th>ticker</th>\n",
       "      <th>x2</th>\n",
       "      <th>x1</th>\n",
       "    </tr>\n",
       "  </thead>\n",
       "  <tbody>\n",
       "  </tbody>\n",
       "</table>\n",
       "</div>"
      ],
      "text/plain": [
       "Empty DataFrame\n",
       "Columns: [F, p, lag, ticker, x2, x1]\n",
       "Index: []"
      ]
     },
     "execution_count": 293,
     "metadata": {},
     "output_type": "execute_result"
    }
   ],
   "source": [
    "granger_res_lags"
   ]
  },
  {
   "cell_type": "code",
   "execution_count": null,
   "metadata": {},
   "outputs": [],
   "source": [
    "column_names = [\"F\", \"p\", \"lag\", \"ticker\",  \"x2\", \"x1\"]\n",
    "granger_res_lags = pd.DataFrame(columns=column_names)"
   ]
  },
  {
   "cell_type": "code",
   "execution_count": 294,
   "metadata": {},
   "outputs": [
    {
     "name": "stdout",
     "output_type": "stream",
     "text": [
      "F                    5.63616\n",
      "p                  0.0176677\n",
      "lag                        1\n",
      "ticker                  FSLR\n",
      "x2             closing_price\n",
      "x1        compound_sentiment\n",
      "dtype: object\n",
      "\n",
      "\n",
      "F                    3.28069\n",
      "p                  0.0377622\n",
      "lag                        2\n",
      "ticker                  FSLR\n",
      "x2             closing_price\n",
      "x1        compound_sentiment\n",
      "dtype: object\n",
      "\n",
      "\n"
     ]
    }
   ],
   "source": [
    "# column_names = [\"F\", \"p\", \"lag\", \"ticker\",  \"x2\", \"x1\"]\n",
    "# granger_res_lags = pd.DataFrame(columns=column_names)\n",
    "ticker = 'FSLR'\n",
    "x2 = 'closing_price'\n",
    "x1 = 'compound_sentiment'\n",
    "\n",
    "for i in lags:\n",
    "    F = i[0]\n",
    "    p = i[1]\n",
    "    lag = i[3]\n",
    "    new_row = pd.Series([F, p, lag, ticker, x2, x1], index=[\"F\", \"p\", \"lag\", \"ticker\",  \"x2\", \"x1\"])\n",
    "    print(new_row)\n",
    "    print(\"\\n\")\n",
    "    granger_res_lags.append(new_row, ignore_index=True)"
   ]
  },
  {
   "cell_type": "code",
   "execution_count": 295,
   "metadata": {},
   "outputs": [
    {
     "data": {
      "text/html": [
       "<div>\n",
       "<style scoped>\n",
       "    .dataframe tbody tr th:only-of-type {\n",
       "        vertical-align: middle;\n",
       "    }\n",
       "\n",
       "    .dataframe tbody tr th {\n",
       "        vertical-align: top;\n",
       "    }\n",
       "\n",
       "    .dataframe thead th {\n",
       "        text-align: right;\n",
       "    }\n",
       "</style>\n",
       "<table border=\"1\" class=\"dataframe\">\n",
       "  <thead>\n",
       "    <tr style=\"text-align: right;\">\n",
       "      <th></th>\n",
       "      <th>F</th>\n",
       "      <th>p</th>\n",
       "      <th>lag</th>\n",
       "      <th>ticker</th>\n",
       "      <th>x2</th>\n",
       "      <th>x1</th>\n",
       "    </tr>\n",
       "  </thead>\n",
       "  <tbody>\n",
       "  </tbody>\n",
       "</table>\n",
       "</div>"
      ],
      "text/plain": [
       "Empty DataFrame\n",
       "Columns: [F, p, lag, ticker, x2, x1]\n",
       "Index: []"
      ]
     },
     "execution_count": 295,
     "metadata": {},
     "output_type": "execute_result"
    }
   ],
   "source": [
    "granger_res_lags"
   ]
  },
  {
   "cell_type": "code",
   "execution_count": null,
   "metadata": {},
   "outputs": [],
   "source": []
  },
  {
   "cell_type": "code",
   "execution_count": null,
   "metadata": {},
   "outputs": [],
   "source": []
  }
 ],
 "metadata": {
  "kernelspec": {
   "display_name": "Python 3",
   "language": "python",
   "name": "python3"
  },
  "language_info": {
   "codemirror_mode": {
    "name": "ipython",
    "version": 3
   },
   "file_extension": ".py",
   "mimetype": "text/x-python",
   "name": "python",
   "nbconvert_exporter": "python",
   "pygments_lexer": "ipython3",
   "version": "3.8.5"
  }
 },
 "nbformat": 4,
 "nbformat_minor": 4
}

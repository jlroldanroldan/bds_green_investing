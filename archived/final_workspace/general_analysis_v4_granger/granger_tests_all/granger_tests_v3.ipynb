{
 "cells": [
  {
   "cell_type": "code",
   "execution_count": 1,
   "metadata": {},
   "outputs": [],
   "source": [
    "# Import libraries\n",
    "import pandas as pd\n",
    "import numpy as np\n",
    "import seaborn as sns\n",
    "import matplotlib.pyplot as plt\n",
    "%matplotlib inline\n",
    "pd.set_option('display.max_colwidth', 100)\n",
    "\n",
    "from statsmodels.tsa.stattools import grangercausalitytests"
   ]
  },
  {
   "cell_type": "markdown",
   "metadata": {},
   "source": [
    "# Import data"
   ]
  },
  {
   "cell_type": "code",
   "execution_count": 2,
   "metadata": {},
   "outputs": [],
   "source": [
    "fslr = pd.read_csv('./data_first_solar_FSLR.csv')\n",
    "gctay = pd.read_csv('./data_siemens_gamesa_GCTAY.csv')\n",
    "spwr = pd.read_csv('./data_sunpower_SPWR.csv')\n",
    "run = pd.read_csv('./data_sunrun_RUN.csv')\n",
    "plug = pd.read_csv('./data_plug_power_PLUG.csv')"
   ]
  },
  {
   "cell_type": "markdown",
   "metadata": {},
   "source": [
    "## Set datatime index"
   ]
  },
  {
   "cell_type": "code",
   "execution_count": 3,
   "metadata": {},
   "outputs": [],
   "source": [
    "def set_datetime_index(df):\n",
    "    df['date'] = pd.to_datetime(df['Date'], errors='coerce')\n",
    "    df.set_index('date', inplace=True)\n",
    "    df.drop('Date', axis=1, inplace=True)\n",
    "    return df"
   ]
  },
  {
   "cell_type": "code",
   "execution_count": 4,
   "metadata": {},
   "outputs": [],
   "source": [
    "fslr = set_datetime_index(fslr)\n",
    "gctay = set_datetime_index(gctay)\n",
    "spwr = set_datetime_index(spwr)\n",
    "run = set_datetime_index(run)\n",
    "plug = set_datetime_index(plug)"
   ]
  },
  {
   "cell_type": "markdown",
   "metadata": {},
   "source": [
    "# Import data normalized"
   ]
  },
  {
   "cell_type": "code",
   "execution_count": 5,
   "metadata": {},
   "outputs": [],
   "source": [
    "fslr_normalized = pd.read_csv('./data_first_solar_FSLR_normalized.csv')\n",
    "gctay_normalized = pd.read_csv('./data_siemens_gamesa_GCTAY_normalized.csv')\n",
    "spwr_normalized = pd.read_csv('./data_sunpower_SPWR_normalized.csv')\n",
    "run_normalized = pd.read_csv('./data_sunrun_RUN_normalized.csv')\n",
    "plug_normalized = pd.read_csv('./data_plug_power_PLUG_normalized.csv')"
   ]
  },
  {
   "cell_type": "code",
   "execution_count": 6,
   "metadata": {},
   "outputs": [],
   "source": [
    "fslr_normalized = set_datetime_index(fslr_normalized)\n",
    "gctay_normalized = set_datetime_index(gctay_normalized)\n",
    "spwr_normalized = set_datetime_index(spwr_normalized)\n",
    "run_normalized = set_datetime_index(run_normalized)\n",
    "plug_normalized = set_datetime_index(plug_normalized)"
   ]
  },
  {
   "cell_type": "markdown",
   "metadata": {},
   "source": [
    "# Granger Tests - FSLR"
   ]
  },
  {
   "cell_type": "code",
   "execution_count": 7,
   "metadata": {},
   "outputs": [],
   "source": [
    "maxlag = 10\n",
    "ticker = 'FSLR'\n",
    "series = 'compound_sentiment'"
   ]
  },
  {
   "cell_type": "code",
   "execution_count": 8,
   "metadata": {},
   "outputs": [
    {
     "name": "stdout",
     "output_type": "stream",
     "text": [
      "\n",
      "Granger Causality\n",
      "number of lags (no zero) 1\n",
      "ssr based F test:         F=5.6362  , p=0.0177  , df_denom=2536, df_num=1\n",
      "ssr based chi2 test:   chi2=5.6428  , p=0.0175  , df=1\n",
      "likelihood ratio test: chi2=5.6366  , p=0.0176  , df=1\n",
      "parameter F test:         F=5.6362  , p=0.0177  , df_denom=2536, df_num=1\n",
      "\n",
      "Granger Causality\n",
      "number of lags (no zero) 2\n",
      "ssr based F test:         F=3.2807  , p=0.0378  , df_denom=2533, df_num=2\n",
      "ssr based chi2 test:   chi2=6.5743  , p=0.0374  , df=2\n",
      "likelihood ratio test: chi2=6.5658  , p=0.0375  , df=2\n",
      "parameter F test:         F=3.2807  , p=0.0378  , df_denom=2533, df_num=2\n",
      "\n",
      "Granger Causality\n",
      "number of lags (no zero) 3\n",
      "ssr based F test:         F=2.4702  , p=0.0602  , df_denom=2530, df_num=3\n",
      "ssr based chi2 test:   chi2=7.4310  , p=0.0594  , df=3\n",
      "likelihood ratio test: chi2=7.4201  , p=0.0596  , df=3\n",
      "parameter F test:         F=2.4702  , p=0.0602  , df_denom=2530, df_num=3\n",
      "\n",
      "Granger Causality\n",
      "number of lags (no zero) 4\n",
      "ssr based F test:         F=1.8753  , p=0.1120  , df_denom=2527, df_num=4\n",
      "ssr based chi2 test:   chi2=7.5281  , p=0.1105  , df=4\n",
      "likelihood ratio test: chi2=7.5169  , p=0.1110  , df=4\n",
      "parameter F test:         F=1.8753  , p=0.1120  , df_denom=2527, df_num=4\n",
      "\n",
      "Granger Causality\n",
      "number of lags (no zero) 5\n",
      "ssr based F test:         F=1.6991  , p=0.1314  , df_denom=2524, df_num=5\n",
      "ssr based chi2 test:   chi2=8.5323  , p=0.1292  , df=5\n",
      "likelihood ratio test: chi2=8.5180  , p=0.1299  , df=5\n",
      "parameter F test:         F=1.6991  , p=0.1314  , df_denom=2524, df_num=5\n",
      "\n",
      "Granger Causality\n",
      "number of lags (no zero) 6\n",
      "ssr based F test:         F=1.6448  , p=0.1308  , df_denom=2521, df_num=6\n",
      "ssr based chi2 test:   chi2=9.9197  , p=0.1281  , df=6\n",
      "likelihood ratio test: chi2=9.9004  , p=0.1289  , df=6\n",
      "parameter F test:         F=1.6448  , p=0.1308  , df_denom=2521, df_num=6\n",
      "\n",
      "Granger Causality\n",
      "number of lags (no zero) 7\n",
      "ssr based F test:         F=1.5152  , p=0.1573  , df_denom=2518, df_num=7\n",
      "ssr based chi2 test:   chi2=10.6698 , p=0.1537  , df=7\n",
      "likelihood ratio test: chi2=10.6474 , p=0.1548  , df=7\n",
      "parameter F test:         F=1.5152  , p=0.1573  , df_denom=2518, df_num=7\n",
      "\n",
      "Granger Causality\n",
      "number of lags (no zero) 8\n",
      "ssr based F test:         F=1.5353  , p=0.1397  , df_denom=2515, df_num=8\n",
      "ssr based chi2 test:   chi2=12.3657 , p=0.1356  , df=8\n",
      "likelihood ratio test: chi2=12.3356 , p=0.1368  , df=8\n",
      "parameter F test:         F=1.5353  , p=0.1397  , df_denom=2515, df_num=8\n",
      "\n",
      "Granger Causality\n",
      "number of lags (no zero) 9\n",
      "ssr based F test:         F=1.3811  , p=0.1908  , df_denom=2512, df_num=9\n",
      "ssr based chi2 test:   chi2=12.5243 , p=0.1853  , df=9\n",
      "likelihood ratio test: chi2=12.4934 , p=0.1869  , df=9\n",
      "parameter F test:         F=1.3811  , p=0.1908  , df_denom=2512, df_num=9\n",
      "\n",
      "Granger Causality\n",
      "number of lags (no zero) 10\n",
      "ssr based F test:         F=1.2297  , p=0.2664  , df_denom=2509, df_num=10\n",
      "ssr based chi2 test:   chi2=12.3996 , p=0.2592  , df=10\n",
      "likelihood ratio test: chi2=12.3693 , p=0.2611  , df=10\n",
      "parameter F test:         F=1.2297  , p=0.2664  , df_denom=2509, df_num=10\n"
     ]
    }
   ],
   "source": [
    "input_data = np.asarray(fslr_normalized[['closing_price', series]])\n",
    "test = grangercausalitytests(input_data, maxlag, addconst = True, verbose=True);"
   ]
  },
  {
   "cell_type": "code",
   "execution_count": 9,
   "metadata": {},
   "outputs": [],
   "source": [
    "# test[1][0]['ssr_ftest']"
   ]
  },
  {
   "cell_type": "code",
   "execution_count": 10,
   "metadata": {},
   "outputs": [],
   "source": [
    "def find_lags(test):\n",
    "    lag_found = False\n",
    "    lags = []\n",
    "    \n",
    "    for i in range(1, maxlag):\n",
    "        p = test[i][0]['ssr_ftest'][1]\n",
    "        if (p < 0.05):\n",
    "            lags.append(test[i][0]['ssr_ftest'])\n",
    "            lag_found = True\n",
    "\n",
    "    if (lag_found == True):\n",
    "        return lags\n",
    "    else:\n",
    "        print(\"lag not found\")"
   ]
  },
  {
   "cell_type": "code",
   "execution_count": 121,
   "metadata": {},
   "outputs": [],
   "source": [
    "lags_info = find_lags(test)"
   ]
  },
  {
   "cell_type": "code",
   "execution_count": 122,
   "metadata": {},
   "outputs": [
    {
     "data": {
      "text/plain": [
       "[(5.636161101099211, 0.017667746271182356, 2536.0, 1),\n",
       " (3.2806883928127704, 0.03776220147425138, 2533.0, 2)]"
      ]
     },
     "execution_count": 122,
     "metadata": {},
     "output_type": "execute_result"
    }
   ],
   "source": [
    "lags_info"
   ]
  },
  {
   "cell_type": "markdown",
   "metadata": {},
   "source": [
    "# Populate df"
   ]
  },
  {
   "cell_type": "code",
   "execution_count": 178,
   "metadata": {},
   "outputs": [],
   "source": [
    "column_names = ['F', 'p', 'lag', 'ticker', 'name_series']\n",
    "granger_res_lags = pd.DataFrame(columns=column_names)\n",
    "granger_res_list = []"
   ]
  },
  {
   "cell_type": "code",
   "execution_count": 179,
   "metadata": {},
   "outputs": [
    {
     "data": {
      "text/plain": [
       "tuple"
      ]
     },
     "execution_count": 179,
     "metadata": {},
     "output_type": "execute_result"
    }
   ],
   "source": [
    "type(lags_info[0])"
   ]
  },
  {
   "cell_type": "code",
   "execution_count": 184,
   "metadata": {},
   "outputs": [],
   "source": [
    "def populate_df(lags_info, ticker, series):\n",
    "    for index, t in enumerate(lags_info):\n",
    "        F = t[0]\n",
    "        p = t[1]\n",
    "        lag = t[3]\n",
    "        row_list = [F, p, lag, ticker, series]\n",
    "        new_row_df = pd.DataFrame(row_list, column_names)\n",
    "        \n",
    "        \n",
    "        granger_res_list.append(new_row_df.T)\n",
    "        print(granger_res_list)\n",
    "#         print(granger_res_list)\n",
    "#         print('new_row_df',new_row_df.T)\n",
    "#         print('granger_res_lags', granger_res_lags.columns)\n",
    "#         granger_res_lags.concat(new_row_df, ignore_index=True)\n",
    "#         pd.concat([granger_res_lags, new_row_df.T], ignore_index=True)\n",
    "        \n",
    "\n",
    "#         granger_res_lags.append(new_row_df.T, ignore_index=True)\n",
    "#         print('granger_res_lags=\\n',granger_res_lags)"
   ]
  },
  {
   "cell_type": "code",
   "execution_count": 183,
   "metadata": {},
   "outputs": [
    {
     "name": "stdout",
     "output_type": "stream",
     "text": [
      "[         F          p lag ticker         name_series\n",
      "0  5.63616  0.0176677   1   FSLR  compound_sentiment,          F          p lag ticker         name_series\n",
      "0  3.28069  0.0377622   2   FSLR  compound_sentiment,          F          p lag ticker         name_series\n",
      "0  5.63616  0.0176677   1   FSLR  compound_sentiment]\n",
      "[         F          p lag ticker         name_series\n",
      "0  5.63616  0.0176677   1   FSLR  compound_sentiment,          F          p lag ticker         name_series\n",
      "0  3.28069  0.0377622   2   FSLR  compound_sentiment,          F          p lag ticker         name_series\n",
      "0  5.63616  0.0176677   1   FSLR  compound_sentiment,          F          p lag ticker         name_series\n",
      "0  3.28069  0.0377622   2   FSLR  compound_sentiment]\n"
     ]
    }
   ],
   "source": [
    "populate_df(lags_info, ticker, series)"
   ]
  },
  {
   "cell_type": "code",
   "execution_count": 175,
   "metadata": {},
   "outputs": [
    {
     "data": {
      "text/html": [
       "<div>\n",
       "<style scoped>\n",
       "    .dataframe tbody tr th:only-of-type {\n",
       "        vertical-align: middle;\n",
       "    }\n",
       "\n",
       "    .dataframe tbody tr th {\n",
       "        vertical-align: top;\n",
       "    }\n",
       "\n",
       "    .dataframe thead th {\n",
       "        text-align: right;\n",
       "    }\n",
       "</style>\n",
       "<table border=\"1\" class=\"dataframe\">\n",
       "  <thead>\n",
       "    <tr style=\"text-align: right;\">\n",
       "      <th></th>\n",
       "      <th>F</th>\n",
       "      <th>p</th>\n",
       "      <th>lag</th>\n",
       "      <th>ticker</th>\n",
       "      <th>name_series</th>\n",
       "    </tr>\n",
       "  </thead>\n",
       "  <tbody>\n",
       "  </tbody>\n",
       "</table>\n",
       "</div>"
      ],
      "text/plain": [
       "Empty DataFrame\n",
       "Columns: [F, p, lag, ticker, name_series]\n",
       "Index: []"
      ]
     },
     "execution_count": 175,
     "metadata": {},
     "output_type": "execute_result"
    }
   ],
   "source": [
    "granger_res_lags"
   ]
  },
  {
   "cell_type": "code",
   "execution_count": null,
   "metadata": {},
   "outputs": [],
   "source": []
  },
  {
   "cell_type": "code",
   "execution_count": null,
   "metadata": {},
   "outputs": [],
   "source": []
  }
 ],
 "metadata": {
  "kernelspec": {
   "display_name": "Python 3",
   "language": "python",
   "name": "python3"
  },
  "language_info": {
   "codemirror_mode": {
    "name": "ipython",
    "version": 3
   },
   "file_extension": ".py",
   "mimetype": "text/x-python",
   "name": "python",
   "nbconvert_exporter": "python",
   "pygments_lexer": "ipython3",
   "version": "3.8.5"
  }
 },
 "nbformat": 4,
 "nbformat_minor": 4
}

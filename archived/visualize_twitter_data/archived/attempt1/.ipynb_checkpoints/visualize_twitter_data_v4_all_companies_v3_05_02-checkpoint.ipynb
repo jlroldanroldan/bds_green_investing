{
 "cells": [
  {
   "cell_type": "code",
   "execution_count": 1,
   "metadata": {},
   "outputs": [],
   "source": [
    "# Import libraries\n",
    "import pandas as pd\n",
    "import numpy as np\n",
    "import seaborn as sns\n",
    "import matplotlib.pyplot as plt\n",
    "from sklearn.feature_extraction.text import CountVectorizer\n",
    "import nltk \n",
    "import string\n",
    "import re\n",
    "import dateutil.parser\n",
    "%matplotlib inline\n",
    "pd.set_option('display.max_colwidth', 100)"
   ]
  },
  {
   "cell_type": "markdown",
   "metadata": {},
   "source": [
    "## Load data"
   ]
  },
  {
   "cell_type": "code",
   "execution_count": 20,
   "metadata": {},
   "outputs": [],
   "source": [
    "# Load dataset\n",
    "twitter_data_all = pd.read_csv('../../data/data_collected_ref_cleaned/2_first_solar_tweets_cleaned_v2.csv')"
   ]
  },
  {
   "cell_type": "code",
   "execution_count": 21,
   "metadata": {},
   "outputs": [],
   "source": [
    "# twitter_data_all.head()"
   ]
  },
  {
   "cell_type": "code",
   "execution_count": 22,
   "metadata": {},
   "outputs": [],
   "source": [
    "# twitter_data_all.info()"
   ]
  },
  {
   "cell_type": "code",
   "execution_count": 23,
   "metadata": {},
   "outputs": [],
   "source": [
    "# datetime = pd.to_datetime(twitter_data['CreatedAt'])"
   ]
  },
  {
   "cell_type": "markdown",
   "metadata": {},
   "source": [
    "## Delete header rows"
   ]
  },
  {
   "cell_type": "code",
   "execution_count": 25,
   "metadata": {},
   "outputs": [
    {
     "data": {
      "text/plain": [
       "Int64Index([   492,    989,   1208,   1704,   2196,   2665,   3163,   3664,\n",
       "              4163,   4540,\n",
       "            ...\n",
       "            152624, 153118, 153617, 154117, 154615, 155113, 155609, 156105,\n",
       "            156600, 157096],\n",
       "           dtype='int64', length=352)"
      ]
     },
     "execution_count": 25,
     "metadata": {},
     "output_type": "execute_result"
    }
   ],
   "source": [
    "index_names = twitter_data_all[ twitter_data_all['CreatedAt'] == 'CreatedAt' ].index\n",
    "index_names"
   ]
  },
  {
   "cell_type": "code",
   "execution_count": 26,
   "metadata": {},
   "outputs": [],
   "source": [
    "twitter_data_all.drop(index_names, inplace = True)"
   ]
  },
  {
   "cell_type": "code",
   "execution_count": 27,
   "metadata": {},
   "outputs": [
    {
     "name": "stdout",
     "output_type": "stream",
     "text": [
      "<class 'pandas.core.frame.DataFrame'>\n",
      "Int64Index: 156812 entries, 0 to 157163\n",
      "Data columns (total 9 columns):\n",
      " #   Column            Non-Null Count   Dtype \n",
      "---  ------            --------------   ----- \n",
      " 0   CreatedAt         156812 non-null  object\n",
      " 1   TweetId           156812 non-null  object\n",
      " 2   AuthorId          156812 non-null  object\n",
      " 3   TweetText         156812 non-null  object\n",
      " 4   Tweet_punct       156812 non-null  object\n",
      " 5   Tweet_tokenized   156812 non-null  object\n",
      " 6   Tweet_nonstop     156812 non-null  object\n",
      " 7   Tweet_stemmed     156812 non-null  object\n",
      " 8   Tweet_lemmatized  156812 non-null  object\n",
      "dtypes: object(9)\n",
      "memory usage: 12.0+ MB\n"
     ]
    }
   ],
   "source": [
    "twitter_data_all.info()"
   ]
  },
  {
   "cell_type": "markdown",
   "metadata": {},
   "source": [
    "## Select Columns "
   ]
  },
  {
   "cell_type": "code",
   "execution_count": 28,
   "metadata": {},
   "outputs": [
    {
     "data": {
      "text/html": [
       "<div>\n",
       "<style scoped>\n",
       "    .dataframe tbody tr th:only-of-type {\n",
       "        vertical-align: middle;\n",
       "    }\n",
       "\n",
       "    .dataframe tbody tr th {\n",
       "        vertical-align: top;\n",
       "    }\n",
       "\n",
       "    .dataframe thead th {\n",
       "        text-align: right;\n",
       "    }\n",
       "</style>\n",
       "<table border=\"1\" class=\"dataframe\">\n",
       "  <thead>\n",
       "    <tr style=\"text-align: right;\">\n",
       "      <th></th>\n",
       "      <th>CreatedAt</th>\n",
       "      <th>TweetId</th>\n",
       "      <th>AuthorId</th>\n",
       "      <th>TweetText</th>\n",
       "      <th>Tweet_stemmed</th>\n",
       "    </tr>\n",
       "  </thead>\n",
       "  <tbody>\n",
       "    <tr>\n",
       "      <th>0</th>\n",
       "      <td>2021-04-01T00:50:05.000Z</td>\n",
       "      <td>1377422984751775755</td>\n",
       "      <td>1134049078424162304</td>\n",
       "      <td>First Solar Completes Sale of North American O&amp;amp;M Business to NovaSource $FSLR https://t.co/j...</td>\n",
       "      <td>['first', 'solar', 'complet', 'sale', 'north', 'american', 'oampm', 'busi', 'novasourc', 'fslr',...</td>\n",
       "    </tr>\n",
       "    <tr>\n",
       "      <th>1</th>\n",
       "      <td>2021-03-31T23:54:00.000Z</td>\n",
       "      <td>1377408871212351489</td>\n",
       "      <td>586116334</td>\n",
       "      <td>$ALYI To Reveal New Significant Investment In Company From Leading Texas Based Private Equity Fu...</td>\n",
       "      <td>['alyi', 'reveal', 'new', 'signific', 'invest', 'compani', 'lead', 'texa', 'base', 'privat', 'eq...</td>\n",
       "    </tr>\n",
       "    <tr>\n",
       "      <th>2</th>\n",
       "      <td>2021-03-31T23:47:40.000Z</td>\n",
       "      <td>1377407278056230912</td>\n",
       "      <td>1313171678625701889</td>\n",
       "      <td>@SolarPowerEU @renewableH2EU @EU_Commission @Akuo_Energy @enelgreenpower @EdpRenewables @Enapter...</td>\n",
       "      <td>['solarpowereu', 'renewableheu', 'eucommiss', 'akuoenergi', 'enelgreenpow', 'edprenew', 'enapt',...</td>\n",
       "    </tr>\n",
       "    <tr>\n",
       "      <th>3</th>\n",
       "      <td>2021-03-31T23:31:00.000Z</td>\n",
       "      <td>1377403081005150211</td>\n",
       "      <td>831801503694336000</td>\n",
       "      <td>$FSLR sector move confirmed https://t.co/h08Dwn5CIF</td>\n",
       "      <td>['fslr', 'sector', 'move', 'confirm', 'httpstcohdwncif']</td>\n",
       "    </tr>\n",
       "    <tr>\n",
       "      <th>4</th>\n",
       "      <td>2021-03-31T23:29:07.000Z</td>\n",
       "      <td>1377402607010902019</td>\n",
       "      <td>1355194932445786112</td>\n",
       "      <td>$FSLR NovaSource Power Services is World's Largest Solar O&amp;amp;M Provider with Acquisition of Fi...</td>\n",
       "      <td>['fslr', 'novasourc', 'power', 'servic', 'world', 'largest', 'solar', 'oampm', 'provid', 'acquis...</td>\n",
       "    </tr>\n",
       "  </tbody>\n",
       "</table>\n",
       "</div>"
      ],
      "text/plain": [
       "                  CreatedAt              TweetId             AuthorId  \\\n",
       "0  2021-04-01T00:50:05.000Z  1377422984751775755  1134049078424162304   \n",
       "1  2021-03-31T23:54:00.000Z  1377408871212351489            586116334   \n",
       "2  2021-03-31T23:47:40.000Z  1377407278056230912  1313171678625701889   \n",
       "3  2021-03-31T23:31:00.000Z  1377403081005150211   831801503694336000   \n",
       "4  2021-03-31T23:29:07.000Z  1377402607010902019  1355194932445786112   \n",
       "\n",
       "                                                                                             TweetText  \\\n",
       "0  First Solar Completes Sale of North American O&amp;M Business to NovaSource $FSLR https://t.co/j...   \n",
       "1  $ALYI To Reveal New Significant Investment In Company From Leading Texas Based Private Equity Fu...   \n",
       "2  @SolarPowerEU @renewableH2EU @EU_Commission @Akuo_Energy @enelgreenpower @EdpRenewables @Enapter...   \n",
       "3                                                  $FSLR sector move confirmed https://t.co/h08Dwn5CIF   \n",
       "4  $FSLR NovaSource Power Services is World's Largest Solar O&amp;M Provider with Acquisition of Fi...   \n",
       "\n",
       "                                                                                         Tweet_stemmed  \n",
       "0  ['first', 'solar', 'complet', 'sale', 'north', 'american', 'oampm', 'busi', 'novasourc', 'fslr',...  \n",
       "1  ['alyi', 'reveal', 'new', 'signific', 'invest', 'compani', 'lead', 'texa', 'base', 'privat', 'eq...  \n",
       "2  ['solarpowereu', 'renewableheu', 'eucommiss', 'akuoenergi', 'enelgreenpow', 'edprenew', 'enapt',...  \n",
       "3                                             ['fslr', 'sector', 'move', 'confirm', 'httpstcohdwncif']  \n",
       "4  ['fslr', 'novasourc', 'power', 'servic', 'world', 'largest', 'solar', 'oampm', 'provid', 'acquis...  "
      ]
     },
     "execution_count": 28,
     "metadata": {},
     "output_type": "execute_result"
    }
   ],
   "source": [
    "columns = ['CreatedAt',  'TweetId', 'AuthorId', 'TweetText', 'Tweet_stemmed']\n",
    "twitter_data = twitter_data_all[columns]\n",
    "twitter_data.head()"
   ]
  },
  {
   "cell_type": "code",
   "execution_count": 29,
   "metadata": {},
   "outputs": [
    {
     "name": "stdout",
     "output_type": "stream",
     "text": [
      "2008-09-03 20:56:35.450686+00:00\n"
     ]
    }
   ],
   "source": [
    "print(dateutil.parser.isoparse('2008-09-03T20:56:35.450686Z'))"
   ]
  },
  {
   "cell_type": "code",
   "execution_count": 30,
   "metadata": {},
   "outputs": [],
   "source": [
    "# twitter_data.head()\n",
    "def change_time_type(createdAtAtribute):\n",
    "    changed_time = dateutil.parser.isoparse(createdAtAtribute)\n",
    "    return changed_time"
   ]
  },
  {
   "cell_type": "code",
   "execution_count": 31,
   "metadata": {},
   "outputs": [],
   "source": [
    "# twitter_data['datetest'] = dateutil.parser.isoparse((twitter_data['CreatedAt']))\n",
    "# twitter_data_date_test = twitter_data['CreatedAt'][0]\n",
    "# twitter_data_date_test\n",
    "# print(dateutil.parser.isoparse(twitter_data_date_test))\n",
    "# # testing = change_time_type(twitter_data['CreatedAt'][0])\n",
    "# print(twitter_data['CreatedAt'])\n",
    "# print(change_time_type(twitter_data['CreatedAt'][0]))"
   ]
  },
  {
   "cell_type": "code",
   "execution_count": 32,
   "metadata": {},
   "outputs": [
    {
     "name": "stdout",
     "output_type": "stream",
     "text": [
      "<class 'str'>\n"
     ]
    },
    {
     "name": "stderr",
     "output_type": "stream",
     "text": [
      "<ipython-input-32-7a8640f1f01b>:1: SettingWithCopyWarning: \n",
      "A value is trying to be set on a copy of a slice from a DataFrame.\n",
      "Try using .loc[row_indexer,col_indexer] = value instead\n",
      "\n",
      "See the caveats in the documentation: https://pandas.pydata.org/pandas-docs/stable/user_guide/indexing.html#returning-a-view-versus-a-copy\n",
      "  twitter_data['created_datetime'] = twitter_data['CreatedAt'].apply(lambda x: change_time_type(x))\n"
     ]
    }
   ],
   "source": [
    "twitter_data['created_datetime'] = twitter_data['CreatedAt'].apply(lambda x: change_time_type(x))\n",
    "print(type(twitter_data['CreatedAt'][0]))"
   ]
  },
  {
   "cell_type": "code",
   "execution_count": 34,
   "metadata": {},
   "outputs": [
    {
     "data": {
      "text/html": [
       "<div>\n",
       "<style scoped>\n",
       "    .dataframe tbody tr th:only-of-type {\n",
       "        vertical-align: middle;\n",
       "    }\n",
       "\n",
       "    .dataframe tbody tr th {\n",
       "        vertical-align: top;\n",
       "    }\n",
       "\n",
       "    .dataframe thead th {\n",
       "        text-align: right;\n",
       "    }\n",
       "</style>\n",
       "<table border=\"1\" class=\"dataframe\">\n",
       "  <thead>\n",
       "    <tr style=\"text-align: right;\">\n",
       "      <th></th>\n",
       "      <th>CreatedAt</th>\n",
       "      <th>TweetId</th>\n",
       "      <th>AuthorId</th>\n",
       "      <th>TweetText</th>\n",
       "      <th>Tweet_stemmed</th>\n",
       "      <th>created_datetime</th>\n",
       "    </tr>\n",
       "  </thead>\n",
       "  <tbody>\n",
       "    <tr>\n",
       "      <th>0</th>\n",
       "      <td>2021-04-01T00:50:05.000Z</td>\n",
       "      <td>1377422984751775755</td>\n",
       "      <td>1134049078424162304</td>\n",
       "      <td>First Solar Completes Sale of North American O&amp;amp;M Business to NovaSource $FSLR https://t.co/j...</td>\n",
       "      <td>['first', 'solar', 'complet', 'sale', 'north', 'american', 'oampm', 'busi', 'novasourc', 'fslr',...</td>\n",
       "      <td>2021-04-01 00:50:05+00:00</td>\n",
       "    </tr>\n",
       "    <tr>\n",
       "      <th>1</th>\n",
       "      <td>2021-03-31T23:54:00.000Z</td>\n",
       "      <td>1377408871212351489</td>\n",
       "      <td>586116334</td>\n",
       "      <td>$ALYI To Reveal New Significant Investment In Company From Leading Texas Based Private Equity Fu...</td>\n",
       "      <td>['alyi', 'reveal', 'new', 'signific', 'invest', 'compani', 'lead', 'texa', 'base', 'privat', 'eq...</td>\n",
       "      <td>2021-03-31 23:54:00+00:00</td>\n",
       "    </tr>\n",
       "    <tr>\n",
       "      <th>2</th>\n",
       "      <td>2021-03-31T23:47:40.000Z</td>\n",
       "      <td>1377407278056230912</td>\n",
       "      <td>1313171678625701889</td>\n",
       "      <td>@SolarPowerEU @renewableH2EU @EU_Commission @Akuo_Energy @enelgreenpower @EdpRenewables @Enapter...</td>\n",
       "      <td>['solarpowereu', 'renewableheu', 'eucommiss', 'akuoenergi', 'enelgreenpow', 'edprenew', 'enapt',...</td>\n",
       "      <td>2021-03-31 23:47:40+00:00</td>\n",
       "    </tr>\n",
       "    <tr>\n",
       "      <th>3</th>\n",
       "      <td>2021-03-31T23:31:00.000Z</td>\n",
       "      <td>1377403081005150211</td>\n",
       "      <td>831801503694336000</td>\n",
       "      <td>$FSLR sector move confirmed https://t.co/h08Dwn5CIF</td>\n",
       "      <td>['fslr', 'sector', 'move', 'confirm', 'httpstcohdwncif']</td>\n",
       "      <td>2021-03-31 23:31:00+00:00</td>\n",
       "    </tr>\n",
       "    <tr>\n",
       "      <th>4</th>\n",
       "      <td>2021-03-31T23:29:07.000Z</td>\n",
       "      <td>1377402607010902019</td>\n",
       "      <td>1355194932445786112</td>\n",
       "      <td>$FSLR NovaSource Power Services is World's Largest Solar O&amp;amp;M Provider with Acquisition of Fi...</td>\n",
       "      <td>['fslr', 'novasourc', 'power', 'servic', 'world', 'largest', 'solar', 'oampm', 'provid', 'acquis...</td>\n",
       "      <td>2021-03-31 23:29:07+00:00</td>\n",
       "    </tr>\n",
       "  </tbody>\n",
       "</table>\n",
       "</div>"
      ],
      "text/plain": [
       "                  CreatedAt              TweetId             AuthorId  \\\n",
       "0  2021-04-01T00:50:05.000Z  1377422984751775755  1134049078424162304   \n",
       "1  2021-03-31T23:54:00.000Z  1377408871212351489            586116334   \n",
       "2  2021-03-31T23:47:40.000Z  1377407278056230912  1313171678625701889   \n",
       "3  2021-03-31T23:31:00.000Z  1377403081005150211   831801503694336000   \n",
       "4  2021-03-31T23:29:07.000Z  1377402607010902019  1355194932445786112   \n",
       "\n",
       "                                                                                             TweetText  \\\n",
       "0  First Solar Completes Sale of North American O&amp;M Business to NovaSource $FSLR https://t.co/j...   \n",
       "1  $ALYI To Reveal New Significant Investment In Company From Leading Texas Based Private Equity Fu...   \n",
       "2  @SolarPowerEU @renewableH2EU @EU_Commission @Akuo_Energy @enelgreenpower @EdpRenewables @Enapter...   \n",
       "3                                                  $FSLR sector move confirmed https://t.co/h08Dwn5CIF   \n",
       "4  $FSLR NovaSource Power Services is World's Largest Solar O&amp;M Provider with Acquisition of Fi...   \n",
       "\n",
       "                                                                                         Tweet_stemmed  \\\n",
       "0  ['first', 'solar', 'complet', 'sale', 'north', 'american', 'oampm', 'busi', 'novasourc', 'fslr',...   \n",
       "1  ['alyi', 'reveal', 'new', 'signific', 'invest', 'compani', 'lead', 'texa', 'base', 'privat', 'eq...   \n",
       "2  ['solarpowereu', 'renewableheu', 'eucommiss', 'akuoenergi', 'enelgreenpow', 'edprenew', 'enapt',...   \n",
       "3                                             ['fslr', 'sector', 'move', 'confirm', 'httpstcohdwncif']   \n",
       "4  ['fslr', 'novasourc', 'power', 'servic', 'world', 'largest', 'solar', 'oampm', 'provid', 'acquis...   \n",
       "\n",
       "           created_datetime  \n",
       "0 2021-04-01 00:50:05+00:00  \n",
       "1 2021-03-31 23:54:00+00:00  \n",
       "2 2021-03-31 23:47:40+00:00  \n",
       "3 2021-03-31 23:31:00+00:00  \n",
       "4 2021-03-31 23:29:07+00:00  "
      ]
     },
     "execution_count": 34,
     "metadata": {},
     "output_type": "execute_result"
    }
   ],
   "source": [
    "twitter_data.head()"
   ]
  },
  {
   "cell_type": "code",
   "execution_count": 35,
   "metadata": {},
   "outputs": [
    {
     "name": "stderr",
     "output_type": "stream",
     "text": [
      "<ipython-input-35-cac6ce402a0b>:1: SettingWithCopyWarning: \n",
      "A value is trying to be set on a copy of a slice from a DataFrame.\n",
      "Try using .loc[row_indexer,col_indexer] = value instead\n",
      "\n",
      "See the caveats in the documentation: https://pandas.pydata.org/pandas-docs/stable/user_guide/indexing.html#returning-a-view-versus-a-copy\n",
      "  twitter_data['day'] = twitter_data['created_datetime'].apply(lambda x: \"%d/%d/%d\" % (x.month, x.day , x.year))\n"
     ]
    }
   ],
   "source": [
    "twitter_data['day'] = twitter_data['created_datetime'].apply(lambda x: \"%d/%d/%d\" % (x.month, x.day , x.year))"
   ]
  },
  {
   "cell_type": "code",
   "execution_count": 36,
   "metadata": {},
   "outputs": [
    {
     "data": {
      "text/html": [
       "<div>\n",
       "<style scoped>\n",
       "    .dataframe tbody tr th:only-of-type {\n",
       "        vertical-align: middle;\n",
       "    }\n",
       "\n",
       "    .dataframe tbody tr th {\n",
       "        vertical-align: top;\n",
       "    }\n",
       "\n",
       "    .dataframe thead th {\n",
       "        text-align: right;\n",
       "    }\n",
       "</style>\n",
       "<table border=\"1\" class=\"dataframe\">\n",
       "  <thead>\n",
       "    <tr style=\"text-align: right;\">\n",
       "      <th></th>\n",
       "      <th>CreatedAt</th>\n",
       "      <th>TweetId</th>\n",
       "      <th>AuthorId</th>\n",
       "      <th>TweetText</th>\n",
       "      <th>Tweet_stemmed</th>\n",
       "      <th>created_datetime</th>\n",
       "      <th>day</th>\n",
       "    </tr>\n",
       "  </thead>\n",
       "  <tbody>\n",
       "    <tr>\n",
       "      <th>0</th>\n",
       "      <td>2021-04-01T00:50:05.000Z</td>\n",
       "      <td>1377422984751775755</td>\n",
       "      <td>1134049078424162304</td>\n",
       "      <td>First Solar Completes Sale of North American O&amp;amp;M Business to NovaSource $FSLR https://t.co/j...</td>\n",
       "      <td>['first', 'solar', 'complet', 'sale', 'north', 'american', 'oampm', 'busi', 'novasourc', 'fslr',...</td>\n",
       "      <td>2021-04-01 00:50:05+00:00</td>\n",
       "      <td>4/1/2021</td>\n",
       "    </tr>\n",
       "    <tr>\n",
       "      <th>1</th>\n",
       "      <td>2021-03-31T23:54:00.000Z</td>\n",
       "      <td>1377408871212351489</td>\n",
       "      <td>586116334</td>\n",
       "      <td>$ALYI To Reveal New Significant Investment In Company From Leading Texas Based Private Equity Fu...</td>\n",
       "      <td>['alyi', 'reveal', 'new', 'signific', 'invest', 'compani', 'lead', 'texa', 'base', 'privat', 'eq...</td>\n",
       "      <td>2021-03-31 23:54:00+00:00</td>\n",
       "      <td>3/31/2021</td>\n",
       "    </tr>\n",
       "    <tr>\n",
       "      <th>2</th>\n",
       "      <td>2021-03-31T23:47:40.000Z</td>\n",
       "      <td>1377407278056230912</td>\n",
       "      <td>1313171678625701889</td>\n",
       "      <td>@SolarPowerEU @renewableH2EU @EU_Commission @Akuo_Energy @enelgreenpower @EdpRenewables @Enapter...</td>\n",
       "      <td>['solarpowereu', 'renewableheu', 'eucommiss', 'akuoenergi', 'enelgreenpow', 'edprenew', 'enapt',...</td>\n",
       "      <td>2021-03-31 23:47:40+00:00</td>\n",
       "      <td>3/31/2021</td>\n",
       "    </tr>\n",
       "    <tr>\n",
       "      <th>3</th>\n",
       "      <td>2021-03-31T23:31:00.000Z</td>\n",
       "      <td>1377403081005150211</td>\n",
       "      <td>831801503694336000</td>\n",
       "      <td>$FSLR sector move confirmed https://t.co/h08Dwn5CIF</td>\n",
       "      <td>['fslr', 'sector', 'move', 'confirm', 'httpstcohdwncif']</td>\n",
       "      <td>2021-03-31 23:31:00+00:00</td>\n",
       "      <td>3/31/2021</td>\n",
       "    </tr>\n",
       "    <tr>\n",
       "      <th>4</th>\n",
       "      <td>2021-03-31T23:29:07.000Z</td>\n",
       "      <td>1377402607010902019</td>\n",
       "      <td>1355194932445786112</td>\n",
       "      <td>$FSLR NovaSource Power Services is World's Largest Solar O&amp;amp;M Provider with Acquisition of Fi...</td>\n",
       "      <td>['fslr', 'novasourc', 'power', 'servic', 'world', 'largest', 'solar', 'oampm', 'provid', 'acquis...</td>\n",
       "      <td>2021-03-31 23:29:07+00:00</td>\n",
       "      <td>3/31/2021</td>\n",
       "    </tr>\n",
       "  </tbody>\n",
       "</table>\n",
       "</div>"
      ],
      "text/plain": [
       "                  CreatedAt              TweetId             AuthorId  \\\n",
       "0  2021-04-01T00:50:05.000Z  1377422984751775755  1134049078424162304   \n",
       "1  2021-03-31T23:54:00.000Z  1377408871212351489            586116334   \n",
       "2  2021-03-31T23:47:40.000Z  1377407278056230912  1313171678625701889   \n",
       "3  2021-03-31T23:31:00.000Z  1377403081005150211   831801503694336000   \n",
       "4  2021-03-31T23:29:07.000Z  1377402607010902019  1355194932445786112   \n",
       "\n",
       "                                                                                             TweetText  \\\n",
       "0  First Solar Completes Sale of North American O&amp;M Business to NovaSource $FSLR https://t.co/j...   \n",
       "1  $ALYI To Reveal New Significant Investment In Company From Leading Texas Based Private Equity Fu...   \n",
       "2  @SolarPowerEU @renewableH2EU @EU_Commission @Akuo_Energy @enelgreenpower @EdpRenewables @Enapter...   \n",
       "3                                                  $FSLR sector move confirmed https://t.co/h08Dwn5CIF   \n",
       "4  $FSLR NovaSource Power Services is World's Largest Solar O&amp;M Provider with Acquisition of Fi...   \n",
       "\n",
       "                                                                                         Tweet_stemmed  \\\n",
       "0  ['first', 'solar', 'complet', 'sale', 'north', 'american', 'oampm', 'busi', 'novasourc', 'fslr',...   \n",
       "1  ['alyi', 'reveal', 'new', 'signific', 'invest', 'compani', 'lead', 'texa', 'base', 'privat', 'eq...   \n",
       "2  ['solarpowereu', 'renewableheu', 'eucommiss', 'akuoenergi', 'enelgreenpow', 'edprenew', 'enapt',...   \n",
       "3                                             ['fslr', 'sector', 'move', 'confirm', 'httpstcohdwncif']   \n",
       "4  ['fslr', 'novasourc', 'power', 'servic', 'world', 'largest', 'solar', 'oampm', 'provid', 'acquis...   \n",
       "\n",
       "           created_datetime        day  \n",
       "0 2021-04-01 00:50:05+00:00   4/1/2021  \n",
       "1 2021-03-31 23:54:00+00:00  3/31/2021  \n",
       "2 2021-03-31 23:47:40+00:00  3/31/2021  \n",
       "3 2021-03-31 23:31:00+00:00  3/31/2021  \n",
       "4 2021-03-31 23:29:07+00:00  3/31/2021  "
      ]
     },
     "execution_count": 36,
     "metadata": {},
     "output_type": "execute_result"
    }
   ],
   "source": [
    "twitter_data.head()"
   ]
  },
  {
   "cell_type": "markdown",
   "metadata": {},
   "source": [
    "# Group By Date"
   ]
  },
  {
   "cell_type": "code",
   "execution_count": null,
   "metadata": {},
   "outputs": [],
   "source": [
    "twitter_data_sorted = twitter_data.groupby(['TweetId', pd.Grouper(key='created_datetime', freq='W-MON')])['AuthorId'].sum().reset_index().sort_values('created_datetime')\n",
    "twitter_data_by_week_df_sorted"
   ]
  },
  {
   "cell_type": "code",
   "execution_count": null,
   "metadata": {},
   "outputs": [],
   "source": [
    "twitter_data_by_week_df_sorted"
   ]
  },
  {
   "cell_type": "code",
   "execution_count": null,
   "metadata": {},
   "outputs": [],
   "source": [
    "twitter_data_sorted = twitter_data.groupby(pd.Grouper(key='created_datetime', freq='W-MON'))['TweetText'].sum().reset_index().sort_values('created_datetime')\n",
    "twitter_data_sorted"
   ]
  },
  {
   "cell_type": "code",
   "execution_count": null,
   "metadata": {},
   "outputs": [],
   "source": []
  }
 ],
 "metadata": {
  "kernelspec": {
   "display_name": "Python 3",
   "language": "python",
   "name": "python3"
  },
  "language_info": {
   "codemirror_mode": {
    "name": "ipython",
    "version": 3
   },
   "file_extension": ".py",
   "mimetype": "text/x-python",
   "name": "python",
   "nbconvert_exporter": "python",
   "pygments_lexer": "ipython3",
   "version": "3.8.5"
  }
 },
 "nbformat": 4,
 "nbformat_minor": 4
}
